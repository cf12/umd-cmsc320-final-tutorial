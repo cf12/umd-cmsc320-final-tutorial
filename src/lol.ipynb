{
 "cells": [
  {
   "cell_type": "code",
   "execution_count": 7,
   "metadata": {},
   "outputs": [
    {
     "name": "stderr",
     "output_type": "stream",
     "text": [
      "/home/cf12/code/umd-cmsc320-final-tutorial/venv/lib/python3.8/site-packages/fuzzywuzzy/fuzz.py:11: UserWarning: Using slow pure-python SequenceMatcher. Install python-Levenshtein to remove this warning\n",
      "  warnings.warn('Using slow pure-python SequenceMatcher. Install python-Levenshtein to remove this warning')\n"
     ]
    },
    {
     "name": "stdout",
     "output_type": "stream",
     "text": [
      "Eyad H Abed -> [('Masoud Hamedi', 58), ('Adi Mahalel', 55), ('Eva Hageman', 55), ('Yueyang Han', 55), ('Abbey Hedin', 55)]\n",
      "Pamela A. Abshire -> [('Pamela Grant', 64), ('Ama Law', 64), ('Pamela Armstrong', 61), ('Lan Ma', 60), ('Pamela Jakiela', 58)]\n",
      "Leigh R Abts -> [('Leigh Ryan', 73), ('Ashleigh Brown', 66), ('Ashleigh Coren', 66), ('Lei Ma', 60), ('Leigh Pilzer', 58)]\n",
      "Douglas J Adams -> [('K J Hughes', 86), ('Douglas Lashley', 67), ('Douglas Crawford', 65), ('Dong Dong', 64), ('Douglas Currivan', 61)]\n",
      "Vincent G. Adams -> [('Vincent Carretta', 62), ('Sarah Vicente', 61), ('Dawn Gavin', 60), ('Vineet Gambhir', 60), ('Tao Chen', 57)]\n",
      "Kofi Frimpong Addo -> [('Dong Dong', 64), ('Rong Ma', 64), ('Hong Jiao', 60), ('Ron Padron', 60), ('Long Doan', 60)]\n",
      "Raymond A. Adomaitis -> [('A.U. Shankar', 86), ('Raymond Smith', 86), ('Raymond H Tu', 86), ('Raymond Guiteras', 61), ('Raimonda Nuredini', 59)]\n",
      "Mohamed Sherif Aggour -> [('Mohamed Salem', 86), ('Mohammed Charifa', 70), ('Samer Charifa', 62), ('Lei Ma', 60), ('Heidi Fisher', 60)]\n",
      "Carol-Ann Wood Agustin -> [('Ann Chismar', 86), ('Carol Graham', 86), ('Tess Wood', 86), ('Lee Ann Lewis', 86), ('Justin Zachary', 61)]\n",
      "Farshad Ahdi -> [('Partha Lahiri', 64), ('Farah Farahati', 59), ('Ali Faraji-Rad', 59), ('Hamid Mahini', 58), ('Adi Mahalel', 58)]\n"
     ]
    }
   ],
   "source": [
    "import pandas as pd\n",
    "from fuzzywuzzy import process\n",
    "\n",
    "pt_df = pd.read_csv(\"./data/pt_ratings.csv\")\n",
    "salaries_df = pd.read_csv(\"./data/salaries.csv\")\n",
    "salaries_df[\"employee\"] = salaries_df[\"employee\"].str.replace(\"\\n\", \" \")\n",
    "\n",
    "for i, row in salaries_df.iterrows():\n",
    "    parts = row[\"employee\"].split(\", \")\n",
    "    # assert len(parts) == 2\n",
    "\n",
    "    salaries_df.at[i, \"name\"] = ' '.join(parts[::-1])\n",
    "\n",
    "pt_names = pt_df[\"name\"].unique()\n",
    "\n",
    "for name in salaries_df[\"name\"].unique()[:10]:\n",
    "    match = process.extract(name, pt_names)\n",
    "    print(f\"{name} -> {match}\")\n"
   ]
  }
 ],
 "metadata": {
  "kernelspec": {
   "display_name": "Python 3.9.7 64-bit",
   "language": "python",
   "name": "python3"
  },
  "language_info": {
   "codemirror_mode": {
    "name": "ipython",
    "version": 3
   },
   "file_extension": ".py",
   "mimetype": "text/x-python",
   "name": "python",
   "nbconvert_exporter": "python",
   "pygments_lexer": "ipython3",
   "version": "3.9.7"
  },
  "orig_nbformat": 4,
  "vscode": {
   "interpreter": {
    "hash": "11938c6bc6919ae2720b4d5011047913343b08a43b18698fd82dedb0d4417594"
   }
  }
 },
 "nbformat": 4,
 "nbformat_minor": 2
}
