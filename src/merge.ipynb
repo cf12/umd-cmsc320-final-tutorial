{
 "cells": [
  {
   "cell_type": "code",
   "execution_count": 1,
   "metadata": {},
   "outputs": [],
   "source": [
    "import pandas as pd\n",
    "import numpy as np\n",
    "import seaborn as sns\n",
    "import plotly.io as pio\n",
    "import plotly.express as px\n",
    "\n",
    "from ast import literal_eval\n",
    "\n",
    "try:\n",
    "    from cfuzzyset import cFuzzySet as FuzzySet\n",
    "except ImportError:\n",
    "    from fuzzyset import FuzzySet\n"
   ]
  },
  {
   "cell_type": "code",
   "execution_count": 2,
   "metadata": {},
   "outputs": [],
   "source": [
    "pt_df = pd.read_csv(\"./data/pt_ratings.csv\")\n",
    "salaries_df = pd.read_csv(\"./data/salaries.csv\")\n",
    "rmp_df = pd.read_csv(\"./data/rmp_ratings.csv\")"
   ]
  },
  {
   "cell_type": "code",
   "execution_count": 3,
   "metadata": {},
   "outputs": [
    {
     "data": {
      "text/html": [
       "<div>\n",
       "<style scoped>\n",
       "    .dataframe tbody tr th:only-of-type {\n",
       "        vertical-align: middle;\n",
       "    }\n",
       "\n",
       "    .dataframe tbody tr th {\n",
       "        vertical-align: top;\n",
       "    }\n",
       "\n",
       "    .dataframe thead th {\n",
       "        text-align: right;\n",
       "    }\n",
       "</style>\n",
       "<table border=\"1\" class=\"dataframe\">\n",
       "  <thead>\n",
       "    <tr style=\"text-align: right;\">\n",
       "      <th></th>\n",
       "      <th>courses</th>\n",
       "      <th>average_rating</th>\n",
       "      <th>type</th>\n",
       "      <th>reviews</th>\n",
       "      <th>name</th>\n",
       "      <th>slug</th>\n",
       "    </tr>\n",
       "  </thead>\n",
       "  <tbody>\n",
       "    <tr>\n",
       "      <th>0</th>\n",
       "      <td>['INST737', 'ENPM808W', 'ENPM808W', 'ENPM808W']</td>\n",
       "      <td>NaN</td>\n",
       "      <td>professor</td>\n",
       "      <td>[]</td>\n",
       "      <td>A Seyed</td>\n",
       "      <td>seyed</td>\n",
       "    </tr>\n",
       "    <tr>\n",
       "      <th>1</th>\n",
       "      <td>['MUSC800W', 'MUSC830W', 'MUSC830W']</td>\n",
       "      <td>NaN</td>\n",
       "      <td>professor</td>\n",
       "      <td>[]</td>\n",
       "      <td>Aaron Goldman</td>\n",
       "      <td>goldman_aaron</td>\n",
       "    </tr>\n",
       "    <tr>\n",
       "      <th>2</th>\n",
       "      <td>['THET678', 'THET499']</td>\n",
       "      <td>NaN</td>\n",
       "      <td>professor</td>\n",
       "      <td>[]</td>\n",
       "      <td>Aaron Posner</td>\n",
       "      <td>posner</td>\n",
       "    </tr>\n",
       "    <tr>\n",
       "      <th>3</th>\n",
       "      <td>['NFSC431', 'NFSC679R', 'NFSC112', 'HLTH672', ...</td>\n",
       "      <td>NaN</td>\n",
       "      <td>professor</td>\n",
       "      <td>[]</td>\n",
       "      <td>Abani Pradhan</td>\n",
       "      <td>pradhan</td>\n",
       "    </tr>\n",
       "    <tr>\n",
       "      <th>4</th>\n",
       "      <td>['CMLT235', 'ENGL101', 'ENGL234', 'ENGL101H', ...</td>\n",
       "      <td>NaN</td>\n",
       "      <td>professor</td>\n",
       "      <td>[]</td>\n",
       "      <td>Abbey Morgan</td>\n",
       "      <td>morgan_abbey</td>\n",
       "    </tr>\n",
       "    <tr>\n",
       "      <th>...</th>\n",
       "      <td>...</td>\n",
       "      <td>...</td>\n",
       "      <td>...</td>\n",
       "      <td>...</td>\n",
       "      <td>...</td>\n",
       "      <td>...</td>\n",
       "    </tr>\n",
       "    <tr>\n",
       "      <th>11835</th>\n",
       "      <td>[]</td>\n",
       "      <td>2.0</td>\n",
       "      <td>professor</td>\n",
       "      <td>[{'professor': 'Lance Shapiro', 'course': 'BSC...</td>\n",
       "      <td>Lance Shapiro</td>\n",
       "      <td>shapiro_lance</td>\n",
       "    </tr>\n",
       "    <tr>\n",
       "      <th>11836</th>\n",
       "      <td>[]</td>\n",
       "      <td>5.0</td>\n",
       "      <td>ta</td>\n",
       "      <td>[{'professor': 'Livingstone Imonitie', 'course...</td>\n",
       "      <td>Livingstone Imonitie</td>\n",
       "      <td>imonitie</td>\n",
       "    </tr>\n",
       "    <tr>\n",
       "      <th>11837</th>\n",
       "      <td>[]</td>\n",
       "      <td>5.0</td>\n",
       "      <td>ta</td>\n",
       "      <td>[{'professor': 'Kathryn Lawless', 'course': 'U...</td>\n",
       "      <td>Kathryn Lawless</td>\n",
       "      <td>lawless_kathryn</td>\n",
       "    </tr>\n",
       "    <tr>\n",
       "      <th>11838</th>\n",
       "      <td>[]</td>\n",
       "      <td>5.0</td>\n",
       "      <td>ta</td>\n",
       "      <td>[{'professor': 'Matt Finnan', 'course': 'ENEE1...</td>\n",
       "      <td>Matt Finnan</td>\n",
       "      <td>finnan_matt</td>\n",
       "    </tr>\n",
       "    <tr>\n",
       "      <th>11839</th>\n",
       "      <td>[]</td>\n",
       "      <td>5.0</td>\n",
       "      <td>professor</td>\n",
       "      <td>[{'professor': 'Rudy Kim', 'course': 'COMM107'...</td>\n",
       "      <td>Rudy Kim</td>\n",
       "      <td>kim_rudy</td>\n",
       "    </tr>\n",
       "  </tbody>\n",
       "</table>\n",
       "<p>11840 rows × 6 columns</p>\n",
       "</div>"
      ],
      "text/plain": [
       "                                                 courses  average_rating  \\\n",
       "0        ['INST737', 'ENPM808W', 'ENPM808W', 'ENPM808W']             NaN   \n",
       "1                   ['MUSC800W', 'MUSC830W', 'MUSC830W']             NaN   \n",
       "2                                 ['THET678', 'THET499']             NaN   \n",
       "3      ['NFSC431', 'NFSC679R', 'NFSC112', 'HLTH672', ...             NaN   \n",
       "4      ['CMLT235', 'ENGL101', 'ENGL234', 'ENGL101H', ...             NaN   \n",
       "...                                                  ...             ...   \n",
       "11835                                                 []             2.0   \n",
       "11836                                                 []             5.0   \n",
       "11837                                                 []             5.0   \n",
       "11838                                                 []             5.0   \n",
       "11839                                                 []             5.0   \n",
       "\n",
       "            type                                            reviews  \\\n",
       "0      professor                                                 []   \n",
       "1      professor                                                 []   \n",
       "2      professor                                                 []   \n",
       "3      professor                                                 []   \n",
       "4      professor                                                 []   \n",
       "...          ...                                                ...   \n",
       "11835  professor  [{'professor': 'Lance Shapiro', 'course': 'BSC...   \n",
       "11836         ta  [{'professor': 'Livingstone Imonitie', 'course...   \n",
       "11837         ta  [{'professor': 'Kathryn Lawless', 'course': 'U...   \n",
       "11838         ta  [{'professor': 'Matt Finnan', 'course': 'ENEE1...   \n",
       "11839  professor  [{'professor': 'Rudy Kim', 'course': 'COMM107'...   \n",
       "\n",
       "                       name             slug  \n",
       "0                   A Seyed            seyed  \n",
       "1             Aaron Goldman    goldman_aaron  \n",
       "2              Aaron Posner           posner  \n",
       "3             Abani Pradhan          pradhan  \n",
       "4              Abbey Morgan     morgan_abbey  \n",
       "...                     ...              ...  \n",
       "11835         Lance Shapiro    shapiro_lance  \n",
       "11836  Livingstone Imonitie         imonitie  \n",
       "11837       Kathryn Lawless  lawless_kathryn  \n",
       "11838           Matt Finnan      finnan_matt  \n",
       "11839              Rudy Kim         kim_rudy  \n",
       "\n",
       "[11840 rows x 6 columns]"
      ]
     },
     "execution_count": 3,
     "metadata": {},
     "output_type": "execute_result"
    }
   ],
   "source": [
    "pt_df"
   ]
  },
  {
   "cell_type": "code",
   "execution_count": 13,
   "metadata": {},
   "outputs": [
    {
     "data": {
      "text/plain": [
       "{'professor': 'Adam Hsieh',\n",
       " 'course': 'BIOE404',\n",
       " 'review': \"Although it is somewhat hard to stay focused in his class, Hsieh is a good professor. He is a really smart and fair guy, and wants to make sure his students do well in the class. The grading policy he has is amazing and the tests are fairly straightforward. Make sure to make awesome cheat sheets for the tests and then you don't have to worry about the biology. (I wrote in all of the biology notes in size six font on one side of my cheat sheet for each exam, didn't study it besides actually typing it out, and it worked out really well.) Also Hsieh was really approachable if you had any questions and is happy to help.\",\n",
       " 'rating': 4,\n",
       " 'expected_grade': 'A',\n",
       " 'created': '2014-12-17T23:49:00Z'}"
      ]
     },
     "execution_count": 13,
     "metadata": {},
     "output_type": "execute_result"
    }
   ],
   "source": [
    "pt_review_ex = literal_eval(pt_df.iloc[15].reviews)[0]\n",
    "pt_review_ex"
   ]
  },
  {
   "cell_type": "code",
   "execution_count": 11,
   "metadata": {},
   "outputs": [
    {
     "data": {
      "text/plain": [
       "{'professor': 'Paul Allenza',\n",
       " 'course': 'BIOT645',\n",
       " 'review': 'Lot of reading, lot of writing, lot of writing discussion posts. Have to do a LOT of research (which is a huge pain), but it pays off.',\n",
       " 'rating': 4,\n",
       " 'expected_grade': 'A',\n",
       " 'created': '2017-04-14 16:20:04 +0000 UTC'}"
      ]
     },
     "execution_count": 11,
     "metadata": {},
     "output_type": "execute_result"
    }
   ],
   "source": [
    "rmp_review_ex = literal_eval(rmp_df.iloc[rmp_df.reviews.replace(\"[]\", np.nan).first_valid_index()].reviews)[0]\n",
    "rmp_review_ex"
   ]
  },
  {
   "cell_type": "code",
   "execution_count": null,
   "metadata": {},
   "outputs": [],
   "source": [
    "def get_fl(s):\n",
    "    sl = s.split()\n",
    "    return f\"{sl[0]} {sl[-1]}\"\n",
    "\n",
    "\n",
    "salary_fuzz = FuzzySet(salaries_df[\"name\"].unique())\n",
    "salary_fl_fuzz = FuzzySet(salaries_df[\"name\"].apply(get_fl).unique())\n",
    "\n",
    "matches_salary_to_pt = {}\n",
    "\n",
    "l = len(pt_df[\"name\"].unique())\n",
    "for i, pt_name in enumerate(pt_df[\"name\"].unique()):\n",
    "    matches = salary_fuzz.get(pt_name)\n",
    "    match_conf, match_name = matches[0]\n",
    "    # print(f\"[{i + 1}/{l}] {pt_name} -> {matches}\")\n",
    "\n",
    "    if match_conf <= 0.75:\n",
    "        matches = salary_fl_fuzz.get(pt_name)\n",
    "        match_conf, match_name = matches[0]\n",
    "        # print(\"RETRY\")\n",
    "        # print(f\"[{i + 1}/{l}] {pt_name} -> {matches}\")\n",
    "\n",
    "    if match_conf >= 0.75:\n",
    "        matches_salary_to_pt[match_name] = pt_name\n",
    "\n",
    "len(matches_salary_to_pt)\n"
   ]
  }
 ],
 "metadata": {
  "kernelspec": {
   "display_name": "Python 3.10.8 ('venv': venv)",
   "language": "python",
   "name": "python3"
  },
  "language_info": {
   "codemirror_mode": {
    "name": "ipython",
    "version": 3
   },
   "file_extension": ".py",
   "mimetype": "text/x-python",
   "name": "python",
   "nbconvert_exporter": "python",
   "pygments_lexer": "ipython3",
   "version": "3.10.8"
  },
  "orig_nbformat": 4,
  "vscode": {
   "interpreter": {
    "hash": "65e3fa4d79f2fc3fc759023e9cd50c6408ede34abba6dac0d9f44942e1d8e582"
   }
  }
 },
 "nbformat": 4,
 "nbformat_minor": 2
}
