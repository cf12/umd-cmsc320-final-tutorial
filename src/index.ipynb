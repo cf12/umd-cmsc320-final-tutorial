{
 "cells": [
  {
   "cell_type": "code",
   "execution_count": null,
   "metadata": {},
   "outputs": [],
   "source": [
    "import pandas as pd\n",
    "import numpy as np\n"
   ]
  },
  {
   "cell_type": "code",
   "execution_count": 4,
   "metadata": {},
   "outputs": [
    {
     "data": {
      "text/html": [
       "<div>\n",
       "<style scoped>\n",
       "    .dataframe tbody tr th:only-of-type {\n",
       "        vertical-align: middle;\n",
       "    }\n",
       "\n",
       "    .dataframe tbody tr th {\n",
       "        vertical-align: top;\n",
       "    }\n",
       "\n",
       "    .dataframe thead th {\n",
       "        text-align: right;\n",
       "    }\n",
       "</style>\n",
       "<table border=\"1\" class=\"dataframe\">\n",
       "  <thead>\n",
       "    <tr style=\"text-align: right;\">\n",
       "      <th></th>\n",
       "      <th>year</th>\n",
       "      <th>employee</th>\n",
       "      <th>department</th>\n",
       "      <th>division</th>\n",
       "      <th>title</th>\n",
       "      <th>salary</th>\n",
       "      <th>name</th>\n",
       "    </tr>\n",
       "  </thead>\n",
       "  <tbody>\n",
       "    <tr>\n",
       "      <th>0</th>\n",
       "      <td>2013</td>\n",
       "      <td>Abed, Eyad H</td>\n",
       "      <td>ENGR-Electrical &amp; Computer Engineering</td>\n",
       "      <td>A. James Clark School of Engineering</td>\n",
       "      <td>Prof</td>\n",
       "      <td>$216,648.00</td>\n",
       "      <td>Eyad H Abed</td>\n",
       "    </tr>\n",
       "    <tr>\n",
       "      <th>1</th>\n",
       "      <td>2013</td>\n",
       "      <td>Abshire, Pamela A.</td>\n",
       "      <td>ENGR-Electrical &amp; Computer Engineering</td>\n",
       "      <td>A. James Clark School of Engineering</td>\n",
       "      <td>Assoc Prof</td>\n",
       "      <td>$82,872.96</td>\n",
       "      <td>Pamela A. Abshire</td>\n",
       "    </tr>\n",
       "    <tr>\n",
       "      <th>2</th>\n",
       "      <td>2013</td>\n",
       "      <td>Abshire, Pamela A.</td>\n",
       "      <td>ENGR-Institute for Systems Research</td>\n",
       "      <td>A. James Clark School of Engineering</td>\n",
       "      <td>Assoc Prof</td>\n",
       "      <td>$55,149.36</td>\n",
       "      <td>Pamela A. Abshire</td>\n",
       "    </tr>\n",
       "    <tr>\n",
       "      <th>3</th>\n",
       "      <td>2013</td>\n",
       "      <td>Abts, Leigh R</td>\n",
       "      <td>ENGR-Fischell Department of Bioengineering</td>\n",
       "      <td>A. James Clark School of Engineering</td>\n",
       "      <td>Res Assoc Prof</td>\n",
       "      <td>$126,334.14</td>\n",
       "      <td>Leigh R Abts</td>\n",
       "    </tr>\n",
       "    <tr>\n",
       "      <th>4</th>\n",
       "      <td>2013</td>\n",
       "      <td>Adams, Douglas J</td>\n",
       "      <td>ENGR-Continuing &amp; Distance Learning in Engr</td>\n",
       "      <td>A. James Clark School of Engineering</td>\n",
       "      <td>Engineer</td>\n",
       "      <td>$64,260.00</td>\n",
       "      <td>Douglas J Adams</td>\n",
       "    </tr>\n",
       "  </tbody>\n",
       "</table>\n",
       "</div>"
      ],
      "text/plain": [
       "   year            employee                                   department  \\\n",
       "0  2013        Abed, Eyad H       ENGR-Electrical & Computer Engineering   \n",
       "1  2013  Abshire, Pamela A.       ENGR-Electrical & Computer Engineering   \n",
       "2  2013  Abshire, Pamela A.          ENGR-Institute for Systems Research   \n",
       "3  2013       Abts, Leigh R   ENGR-Fischell Department of Bioengineering   \n",
       "4  2013    Adams, Douglas J  ENGR-Continuing & Distance Learning in Engr   \n",
       "\n",
       "                               division           title       salary  \\\n",
       "0  A. James Clark School of Engineering            Prof  $216,648.00   \n",
       "1  A. James Clark School of Engineering      Assoc Prof   $82,872.96   \n",
       "2  A. James Clark School of Engineering      Assoc Prof   $55,149.36   \n",
       "3  A. James Clark School of Engineering  Res Assoc Prof  $126,334.14   \n",
       "4  A. James Clark School of Engineering        Engineer   $64,260.00   \n",
       "\n",
       "                name  \n",
       "0        Eyad H Abed  \n",
       "1  Pamela A. Abshire  \n",
       "2  Pamela A. Abshire  \n",
       "3       Leigh R Abts  \n",
       "4    Douglas J Adams  "
      ]
     },
     "execution_count": 4,
     "metadata": {},
     "output_type": "execute_result"
    }
   ],
   "source": [
    "df = pd.read_csv('./data/pt_ratings.csv')\n",
    "df[\"employee\"] = df[\"employee\"].str.replace(\"\\n\", \" \")\n",
    "\n",
    "for i, row in df.iterrows():\n",
    "    parts = row[\"employee\"].split(\", \")\n",
    "    # assert len(parts) == 2\n",
    "\n",
    "    df.at[i, \"name\"] = ' '.join(parts[::-1])\n",
    "df.head()\n",
    "\n",
    "# df[(df[\"name\"].str.split(\" \").str.len() > 2) & (df[\"department\"].str.lower().str.contains(\"professor\"))]\n",
    "# df[(df[\"employee\"].str.split(\", \").str.len() > 2)]"
   ]
  },
  {
   "cell_type": "code",
   "execution_count": null,
   "metadata": {},
   "outputs": [],
   "source": [
    "rmp_df = pd.read_csv(\"./data/rmp_ratings.csv\")\n",
    "\n",
    "def combineNames(row):\n",
    "    if pd.isnull(row[\"tMiddlename\"]):\n",
    "        return row[\"tFname\"] + \" \" + row[\"tLname\"]\n",
    "    return row[\"tFname\"] + \" \"  + row[\"tMiddlename\"] + \" \" + row[\"tLname\"]\n",
    "\n",
    "rmp_df[\"fullname\"] = rmp_df.apply (lambda row: combineNames(row), axis=1)"
   ]
  }
 ],
 "metadata": {
  "kernelspec": {
   "display_name": "Python 3.10.4 ('venv': venv)",
   "language": "python",
   "name": "python3"
  },
  "language_info": {
   "codemirror_mode": {
    "name": "ipython",
    "version": 3
   },
   "file_extension": ".py",
   "mimetype": "text/x-python",
   "name": "python",
   "nbconvert_exporter": "python",
   "pygments_lexer": "ipython3",
   "version": "3.10.4"
  },
  "orig_nbformat": 4,
  "vscode": {
   "interpreter": {
    "hash": "13d129f0529367b43cfbaaa521e817dd7f30709f1b5d389f91861c0b0b5c7710"
   }
  }
 },
 "nbformat": 4,
 "nbformat_minor": 2
}
