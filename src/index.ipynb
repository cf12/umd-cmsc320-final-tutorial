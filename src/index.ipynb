{
 "cells": [],
 "metadata": {
  "kernelspec": {
   "display_name": "Python 3.8.10 ('venv': venv)",
   "language": "python",
   "name": "python3"
  },
  "language_info": {
   "codemirror_mode": {
    "name": "ipython",
    "version": 3
   },
   "file_extension": ".py",
   "mimetype": "text/x-python",
   "name": "python",
   "nbconvert_exporter": "python",
   "pygments_lexer": "ipython3",
   "version": "3.8.10"
  },
  "orig_nbformat": 4,
  "vscode": {
   "interpreter": {
    "hash": "a4cd16d2a781f08dbb5cff9327b4e20b07a708530171c6e113d7c280ac466f0c"
   }
  }
 },
 "nbformat": 4,
 "nbformat_minor": 2
}
