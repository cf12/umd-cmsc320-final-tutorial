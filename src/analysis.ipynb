{
 "cells": [
  {
   "cell_type": "code",
   "execution_count": null,
   "metadata": {},
   "outputs": [],
   "source": [
    "import pandas as pd\n",
    "import numpy as np\n",
    "from fuzzywuzzy import process\n",
    "\n",
    "pt_df = pd.read_csv(\"./data/pt_ratings.csv\")\n",
    "salaries_df = pd.read_csv(\"./data/salaries.csv\")\n",
    "rmp_df = pd.read_csv(\"./data/rmp_ratings.csv\")\n"
   ]
  },
  {
   "cell_type": "code",
   "execution_count": null,
   "metadata": {},
   "outputs": [],
   "source": [
    "# Drop professors w/o any ratings / reviews\n",
    "pt_df = pt_df.dropna(subset=[\"average_rating\", \"reviews\"])\n",
    "pt_df = pt_df.drop(columns=[\"slug\"])\n",
    "\n",
    "# Join names to help name search in salaries\n",
    "for i, row in salaries_df.iterrows():\n",
    "    parts = row[\"employee\"].split(\", \")\n",
    "    # assert len(parts) == 2\n",
    "\n",
    "    salaries_df.at[i, \"name\"] = \" \".join(parts[::-1])\n",
    "\n",
    "# Join names to help name search in rmp\n",
    "def combineNames(row):\n",
    "    if pd.isnull(row[\"tMiddlename\"]):\n",
    "        return row[\"tFname\"] + \" \" + row[\"tLname\"]\n",
    "    return row[\"tFname\"] + \" \" + row[\"tMiddlename\"] + \" \" + row[\"tLname\"]\n",
    "\n",
    "rmp_df[\"name\"] = rmp_df.apply(lambda row: combineNames(row), axis=1)\n"
   ]
  },
  {
   "cell_type": "code",
   "execution_count": null,
   "metadata": {},
   "outputs": [],
   "source": [
    "pt_df.head()"
   ]
  },
  {
   "cell_type": "code",
   "execution_count": null,
   "metadata": {},
   "outputs": [],
   "source": [
    "rmp_df.head()"
   ]
  },
  {
   "cell_type": "code",
   "execution_count": null,
   "metadata": {},
   "outputs": [],
   "source": [
    "salaries_df.info()"
   ]
  },
  {
   "cell_type": "code",
   "execution_count": null,
   "metadata": {},
   "outputs": [],
   "source": [
    "pt_df[\"type\"].value_counts()"
   ]
  },
  {
   "cell_type": "code",
   "execution_count": null,
   "metadata": {},
   "outputs": [],
   "source": [
    "pt_df[\"average_rating\"].describe()"
   ]
  },
  {
   "cell_type": "code",
   "execution_count": null,
   "metadata": {},
   "outputs": [],
   "source": [
    "assert len(pt_df) == len(pt_df.drop_duplicates(subset=[\"slug\"]))"
   ]
  },
  {
   "cell_type": "code",
   "execution_count": null,
   "metadata": {},
   "outputs": [],
   "source": [
    "salaries_df[\"employee\"] = salaries_df[\"employee\"].str.replace(\"\\n\", \" \")"
   ]
  },
  {
   "cell_type": "code",
   "execution_count": null,
   "metadata": {},
   "outputs": [],
   "source": [
    "try:\n",
    "    from cfuzzyset import cFuzzySet as FuzzySet\n",
    "except ImportError:\n",
    "    from fuzzyset import FuzzySet\n",
    "\n",
    "salary_fuzz = FuzzySet()\n",
    "for name in salaries_df[\"name\"].unique():\n",
    "    salary_fuzz.add(name)\n",
    "\n",
    "pt_to_salary_name_map = {}\n",
    "l =len(pt_df[\"name\"].unique())\n",
    "\n",
    "for i, name in enumerate(pt_df[\"name\"].unique()):\n",
    "    match = salary_fuzz.get(name)\n",
    "    print(f\"[{i + 1}/{l}] {name} -> {match}\")\n",
    "    pt_to_salary_name_map[name] = match"
   ]
  },
  {
   "cell_type": "code",
   "execution_count": null,
   "metadata": {},
   "outputs": [],
   "source": [
    "# pd.DataFrame.from_dict(pt_to_salary_name_map)"
   ]
  },
  {
   "cell_type": "code",
   "execution_count": null,
   "metadata": {},
   "outputs": [],
   "source": [
    "salary_names = salaries_df[\"name\"].unique()\n",
    "\n",
    "pt_to_salary_name_map = {}\n",
    "l =len(pt_df[\"name\"].unique())\n",
    "\n",
    "for i, name in enumerate(pt_df[\"name\"].unique()):\n",
    "    # match = process.extract(name, salary_names)\n",
    "    match = process.extractOne(name, salary_names, score_cutoff=90)\n",
    "    print(f\"[{i + 1}/{l}] {name} -> {match}\")\n",
    "    pt_to_salary_name_map[name] = match\n",
    "\n",
    "    # if match:\n",
    "    #     salaries = salaries_df[salaries_df[\"name\"] == match[0]]\n",
    "    #     assert len(salaries[\"name\"].unique()) == 1\n",
    "    #     display(salaries)\n",
    "\n",
    "    #     pt_entries = pt_df[pt_df[\"name\"] == name]\n",
    "    #     display(pd.concat([pt_entries, salaries]))\n",
    "\n"
   ]
  },
  {
   "cell_type": "code",
   "execution_count": null,
   "metadata": {},
   "outputs": [],
   "source": [
    "salary_names = salaries_df[\"name\"].unique()\n",
    "\n",
    "for name in np.random.choice(rmp_df[\"name\"].unique(), 10):\n",
    "    match = process.extract(name, salary_names)\n",
    "    print(f\"{name} -> {match}\")\n",
    "\n",
    "    # if match:\n",
    "    #     salaries = salaries_df[salaries_df[\"name\"] == match[0]]\n",
    "    #     assert len(salaries[\"name\"].unique()) == 1\n",
    "    #     display(salaries)\n",
    "\n",
    "    #     rmp_entries = rmp_df[rmp_df[\"name\"] == name]\n",
    "    #     display(pd.concat([rmp_entries, salaries]))\n",
    "\n"
   ]
  }
 ],
 "metadata": {
  "kernelspec": {
   "display_name": "Python 3.10.4 ('venv': venv)",
   "language": "python",
   "name": "python3"
  },
  "language_info": {
   "codemirror_mode": {
    "name": "ipython",
    "version": 3
   },
   "file_extension": ".py",
   "mimetype": "text/x-python",
   "name": "python",
   "nbconvert_exporter": "python",
   "pygments_lexer": "ipython3",
   "version": "3.8.10"
  },
  "orig_nbformat": 4,
  "vscode": {
   "interpreter": {
    "hash": "13d129f0529367b43cfbaaa521e817dd7f30709f1b5d389f91861c0b0b5c7710"
   }
  }
 },
 "nbformat": 4,
 "nbformat_minor": 2
}
