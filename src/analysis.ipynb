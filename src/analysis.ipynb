{
 "cells": [
  {
   "cell_type": "code",
   "execution_count": 1,
   "metadata": {},
   "outputs": [],
   "source": [
    "import pandas as pd\n",
    "import numpy as np\n",
    "import seaborn as sns\n",
    "from ast import literal_eval\n",
    "try:\n",
    "    from cfuzzyset import cFuzzySet as FuzzySet\n",
    "except ImportError:\n",
    "    from fuzzyset import FuzzySet\n",
    "\n",
    "\n",
    "pd.options.plotting.backend = \"plotly\""
   ]
  },
  {
   "cell_type": "code",
   "execution_count": 2,
   "metadata": {},
   "outputs": [],
   "source": [
    "pt_df = pd.read_csv(\"./data/pt_ratings.csv\")\n",
    "salaries_df = pd.read_csv(\"./data/salaries.csv\")\n",
    "rmp_df = pd.read_csv(\"./data/rmp_ratings.csv\")\n"
   ]
  },
  {
   "cell_type": "code",
   "execution_count": 3,
   "metadata": {},
   "outputs": [],
   "source": [
    "# Drop professors w/o any ratings / reviews\n",
    "pt_df = pt_df.dropna(subset=[\"average_rating\", \"reviews\"])\n",
    "# pt_df = pt_df.drop(columns=[\"slug\"])\n",
    "pt_df = pt_df.drop(10561)\n",
    "\n",
    "# Join names to help name search in salaries\n",
    "salaries_df[\"name\"] = salaries_df[\"employee\"].apply(\n",
    "    lambda x: \" \".join(x.split(\", \")[::-1])\n",
    ")\n",
    "salaries_df = salaries_df.replace(\"\\n\", \" \")\n",
    "salaries_df[\"salary\"] = salaries_df[\"salary\"].replace('[\\$,]', '', regex=True).astype(float)\n",
    "\n",
    "# Join names to help name search in rmp\n",
    "def combineNames(row):\n",
    "    if pd.isnull(row[\"tMiddlename\"]):\n",
    "        return row[\"tFname\"] + \" \" + row[\"tLname\"]\n",
    "    return row[\"tFname\"] + \" \" + row[\"tMiddlename\"] + \" \" + row[\"tLname\"]\n",
    "\n",
    "\n",
    "rmp_df[\"name\"] = rmp_df.apply(combineNames, axis=1)\n"
   ]
  },
  {
   "cell_type": "code",
   "execution_count": 4,
   "metadata": {},
   "outputs": [
    {
     "data": {
      "text/html": [
       "<div>\n",
       "<style scoped>\n",
       "    .dataframe tbody tr th:only-of-type {\n",
       "        vertical-align: middle;\n",
       "    }\n",
       "\n",
       "    .dataframe tbody tr th {\n",
       "        vertical-align: top;\n",
       "    }\n",
       "\n",
       "    .dataframe thead th {\n",
       "        text-align: right;\n",
       "    }\n",
       "</style>\n",
       "<table border=\"1\" class=\"dataframe\">\n",
       "  <thead>\n",
       "    <tr style=\"text-align: right;\">\n",
       "      <th></th>\n",
       "      <th>courses</th>\n",
       "      <th>average_rating</th>\n",
       "      <th>type</th>\n",
       "      <th>reviews</th>\n",
       "      <th>name</th>\n",
       "      <th>slug</th>\n",
       "    </tr>\n",
       "  </thead>\n",
       "  <tbody>\n",
       "    <tr>\n",
       "      <th>6</th>\n",
       "      <td>['ENME674', 'ENMA300', 'ENME684', 'ENME489Z', ...</td>\n",
       "      <td>5.0000</td>\n",
       "      <td>professor</td>\n",
       "      <td>[{'professor': 'Abhijit Dasgupta', 'course': '...</td>\n",
       "      <td>Abhijit Dasgupta</td>\n",
       "      <td>dasgupta_abhijit</td>\n",
       "    </tr>\n",
       "    <tr>\n",
       "      <th>8</th>\n",
       "      <td>['ARTH389L', 'ARTH255', 'ARTH768', 'ARTH668A',...</td>\n",
       "      <td>2.8333</td>\n",
       "      <td>professor</td>\n",
       "      <td>[{'professor': 'Abigail McEwen', 'course': Non...</td>\n",
       "      <td>Abigail McEwen</td>\n",
       "      <td>mcewen</td>\n",
       "    </tr>\n",
       "    <tr>\n",
       "      <th>11</th>\n",
       "      <td>['PHYS405', 'PHYS275', 'PHYS758E', 'PHYS273', ...</td>\n",
       "      <td>4.0000</td>\n",
       "      <td>professor</td>\n",
       "      <td>[{'professor': 'Abolhassan Jawahery', 'course'...</td>\n",
       "      <td>Abolhassan Jawahery</td>\n",
       "      <td>jawahery</td>\n",
       "    </tr>\n",
       "    <tr>\n",
       "      <th>12</th>\n",
       "      <td>['STAT701', 'STAT700', 'STAT750', 'STAT650', '...</td>\n",
       "      <td>2.7000</td>\n",
       "      <td>professor</td>\n",
       "      <td>[{'professor': 'Abram Kagan', 'course': 'STAT4...</td>\n",
       "      <td>Abram Kagan</td>\n",
       "      <td>kagan</td>\n",
       "    </tr>\n",
       "    <tr>\n",
       "      <th>14</th>\n",
       "      <td>['ENGL101', 'ENGL243', 'ENGL101S', 'PHSC497', ...</td>\n",
       "      <td>5.0000</td>\n",
       "      <td>professor</td>\n",
       "      <td>[{'professor': 'Adam Binkley', 'course': 'ENGL...</td>\n",
       "      <td>Adam Binkley</td>\n",
       "      <td>binkley</td>\n",
       "    </tr>\n",
       "  </tbody>\n",
       "</table>\n",
       "</div>"
      ],
      "text/plain": [
       "                                              courses  average_rating  \\\n",
       "6   ['ENME674', 'ENMA300', 'ENME684', 'ENME489Z', ...          5.0000   \n",
       "8   ['ARTH389L', 'ARTH255', 'ARTH768', 'ARTH668A',...          2.8333   \n",
       "11  ['PHYS405', 'PHYS275', 'PHYS758E', 'PHYS273', ...          4.0000   \n",
       "12  ['STAT701', 'STAT700', 'STAT750', 'STAT650', '...          2.7000   \n",
       "14  ['ENGL101', 'ENGL243', 'ENGL101S', 'PHSC497', ...          5.0000   \n",
       "\n",
       "         type                                            reviews  \\\n",
       "6   professor  [{'professor': 'Abhijit Dasgupta', 'course': '...   \n",
       "8   professor  [{'professor': 'Abigail McEwen', 'course': Non...   \n",
       "11  professor  [{'professor': 'Abolhassan Jawahery', 'course'...   \n",
       "12  professor  [{'professor': 'Abram Kagan', 'course': 'STAT4...   \n",
       "14  professor  [{'professor': 'Adam Binkley', 'course': 'ENGL...   \n",
       "\n",
       "                   name              slug  \n",
       "6      Abhijit Dasgupta  dasgupta_abhijit  \n",
       "8        Abigail McEwen            mcewen  \n",
       "11  Abolhassan Jawahery          jawahery  \n",
       "12          Abram Kagan             kagan  \n",
       "14         Adam Binkley           binkley  "
      ]
     },
     "execution_count": 4,
     "metadata": {},
     "output_type": "execute_result"
    }
   ],
   "source": [
    "pt_df.head()"
   ]
  },
  {
   "cell_type": "code",
   "execution_count": 5,
   "metadata": {},
   "outputs": [
    {
     "data": {
      "text/html": [
       "<div>\n",
       "<style scoped>\n",
       "    .dataframe tbody tr th:only-of-type {\n",
       "        vertical-align: middle;\n",
       "    }\n",
       "\n",
       "    .dataframe tbody tr th {\n",
       "        vertical-align: top;\n",
       "    }\n",
       "\n",
       "    .dataframe thead th {\n",
       "        text-align: right;\n",
       "    }\n",
       "</style>\n",
       "<table border=\"1\" class=\"dataframe\">\n",
       "  <thead>\n",
       "    <tr style=\"text-align: right;\">\n",
       "      <th></th>\n",
       "      <th>tDept</th>\n",
       "      <th>tSid</th>\n",
       "      <th>institution_name</th>\n",
       "      <th>tFname</th>\n",
       "      <th>tMiddlename</th>\n",
       "      <th>tLname</th>\n",
       "      <th>tid</th>\n",
       "      <th>tNumRatings</th>\n",
       "      <th>rating_class</th>\n",
       "      <th>contentType</th>\n",
       "      <th>categoryType</th>\n",
       "      <th>overall_rating</th>\n",
       "      <th>name</th>\n",
       "    </tr>\n",
       "  </thead>\n",
       "  <tbody>\n",
       "    <tr>\n",
       "      <th>0</th>\n",
       "      <td>Computer Science</td>\n",
       "      <td>1270</td>\n",
       "      <td>University of Maryland</td>\n",
       "      <td>Daniel</td>\n",
       "      <td>NaN</td>\n",
       "      <td>Abadi</td>\n",
       "      <td>2361198</td>\n",
       "      <td>1</td>\n",
       "      <td>poor</td>\n",
       "      <td>TEACHER</td>\n",
       "      <td>PROFESSOR</td>\n",
       "      <td>1.0</td>\n",
       "      <td>Daniel Abadi</td>\n",
       "    </tr>\n",
       "    <tr>\n",
       "      <th>1</th>\n",
       "      <td>Foreign Languages</td>\n",
       "      <td>1270</td>\n",
       "      <td>University of Maryland</td>\n",
       "      <td>Ali</td>\n",
       "      <td>NaN</td>\n",
       "      <td>Abasi</td>\n",
       "      <td>972417</td>\n",
       "      <td>7</td>\n",
       "      <td>poor</td>\n",
       "      <td>TEACHER</td>\n",
       "      <td>PROFESSOR</td>\n",
       "      <td>2.4</td>\n",
       "      <td>Ali Abasi</td>\n",
       "    </tr>\n",
       "    <tr>\n",
       "      <th>2</th>\n",
       "      <td>Physics</td>\n",
       "      <td>1270</td>\n",
       "      <td>University of Maryland</td>\n",
       "      <td>Kevork</td>\n",
       "      <td>NaN</td>\n",
       "      <td>Abazajian</td>\n",
       "      <td>1556681</td>\n",
       "      <td>3</td>\n",
       "      <td>good</td>\n",
       "      <td>TEACHER</td>\n",
       "      <td>PROFESSOR</td>\n",
       "      <td>5.0</td>\n",
       "      <td>Kevork Abazajian</td>\n",
       "    </tr>\n",
       "    <tr>\n",
       "      <th>3</th>\n",
       "      <td>Languages</td>\n",
       "      <td>1270</td>\n",
       "      <td>University of Maryland</td>\n",
       "      <td>Ali</td>\n",
       "      <td>NaN</td>\n",
       "      <td>Abbasi</td>\n",
       "      <td>1400739</td>\n",
       "      <td>1</td>\n",
       "      <td>good</td>\n",
       "      <td>TEACHER</td>\n",
       "      <td>PROFESSOR</td>\n",
       "      <td>5.0</td>\n",
       "      <td>Ali Abbasi</td>\n",
       "    </tr>\n",
       "    <tr>\n",
       "      <th>4</th>\n",
       "      <td>Economics</td>\n",
       "      <td>1270</td>\n",
       "      <td>University of Maryland</td>\n",
       "      <td>Hossein</td>\n",
       "      <td>NaN</td>\n",
       "      <td>Abbasi</td>\n",
       "      <td>2205764</td>\n",
       "      <td>63</td>\n",
       "      <td>average</td>\n",
       "      <td>TEACHER</td>\n",
       "      <td>PROFESSOR</td>\n",
       "      <td>2.7</td>\n",
       "      <td>Hossein Abbasi</td>\n",
       "    </tr>\n",
       "  </tbody>\n",
       "</table>\n",
       "</div>"
      ],
      "text/plain": [
       "               tDept  tSid        institution_name   tFname tMiddlename  \\\n",
       "0   Computer Science  1270  University of Maryland   Daniel         NaN   \n",
       "1  Foreign Languages  1270  University of Maryland      Ali         NaN   \n",
       "2            Physics  1270  University of Maryland   Kevork         NaN   \n",
       "3          Languages  1270  University of Maryland      Ali         NaN   \n",
       "4          Economics  1270  University of Maryland  Hossein         NaN   \n",
       "\n",
       "      tLname      tid  tNumRatings rating_class contentType categoryType  \\\n",
       "0      Abadi  2361198            1         poor     TEACHER    PROFESSOR   \n",
       "1      Abasi   972417            7         poor     TEACHER    PROFESSOR   \n",
       "2  Abazajian  1556681            3         good     TEACHER    PROFESSOR   \n",
       "3     Abbasi  1400739            1         good     TEACHER    PROFESSOR   \n",
       "4     Abbasi  2205764           63      average     TEACHER    PROFESSOR   \n",
       "\n",
       "   overall_rating              name  \n",
       "0             1.0      Daniel Abadi  \n",
       "1             2.4         Ali Abasi  \n",
       "2             5.0  Kevork Abazajian  \n",
       "3             5.0        Ali Abbasi  \n",
       "4             2.7    Hossein Abbasi  "
      ]
     },
     "execution_count": 5,
     "metadata": {},
     "output_type": "execute_result"
    }
   ],
   "source": [
    "rmp_df.head()"
   ]
  },
  {
   "cell_type": "code",
   "execution_count": 6,
   "metadata": {},
   "outputs": [
    {
     "data": {
      "text/html": [
       "<div>\n",
       "<style scoped>\n",
       "    .dataframe tbody tr th:only-of-type {\n",
       "        vertical-align: middle;\n",
       "    }\n",
       "\n",
       "    .dataframe tbody tr th {\n",
       "        vertical-align: top;\n",
       "    }\n",
       "\n",
       "    .dataframe thead th {\n",
       "        text-align: right;\n",
       "    }\n",
       "</style>\n",
       "<table border=\"1\" class=\"dataframe\">\n",
       "  <thead>\n",
       "    <tr style=\"text-align: right;\">\n",
       "      <th></th>\n",
       "      <th>year</th>\n",
       "      <th>employee</th>\n",
       "      <th>department</th>\n",
       "      <th>division</th>\n",
       "      <th>title</th>\n",
       "      <th>salary</th>\n",
       "      <th>name</th>\n",
       "    </tr>\n",
       "  </thead>\n",
       "  <tbody>\n",
       "    <tr>\n",
       "      <th>0</th>\n",
       "      <td>2013</td>\n",
       "      <td>Abed, Eyad H</td>\n",
       "      <td>ENGR-Electrical &amp; Computer Engineering</td>\n",
       "      <td>A. James Clark School of Engineering</td>\n",
       "      <td>Prof</td>\n",
       "      <td>216648.00</td>\n",
       "      <td>Eyad H Abed</td>\n",
       "    </tr>\n",
       "    <tr>\n",
       "      <th>1</th>\n",
       "      <td>2013</td>\n",
       "      <td>Abshire, Pamela A.</td>\n",
       "      <td>ENGR-Electrical &amp; Computer Engineering</td>\n",
       "      <td>A. James Clark School of Engineering</td>\n",
       "      <td>Assoc Prof</td>\n",
       "      <td>82872.96</td>\n",
       "      <td>Pamela A. Abshire</td>\n",
       "    </tr>\n",
       "    <tr>\n",
       "      <th>2</th>\n",
       "      <td>2013</td>\n",
       "      <td>Abshire, Pamela A.</td>\n",
       "      <td>ENGR-Institute for Systems Research</td>\n",
       "      <td>A. James Clark School of Engineering</td>\n",
       "      <td>Assoc Prof</td>\n",
       "      <td>55149.36</td>\n",
       "      <td>Pamela A. Abshire</td>\n",
       "    </tr>\n",
       "    <tr>\n",
       "      <th>3</th>\n",
       "      <td>2013</td>\n",
       "      <td>Abts, Leigh R</td>\n",
       "      <td>ENGR-Fischell Department of Bioengineering</td>\n",
       "      <td>A. James Clark School of Engineering</td>\n",
       "      <td>Res Assoc Prof</td>\n",
       "      <td>126334.14</td>\n",
       "      <td>Leigh R Abts</td>\n",
       "    </tr>\n",
       "    <tr>\n",
       "      <th>4</th>\n",
       "      <td>2013</td>\n",
       "      <td>Adams, Douglas J</td>\n",
       "      <td>ENGR-Continuing &amp; Distance Learning in Engr</td>\n",
       "      <td>A. James Clark School of Engineering</td>\n",
       "      <td>Engineer</td>\n",
       "      <td>64260.00</td>\n",
       "      <td>Douglas J Adams</td>\n",
       "    </tr>\n",
       "  </tbody>\n",
       "</table>\n",
       "</div>"
      ],
      "text/plain": [
       "   year            employee                                   department  \\\n",
       "0  2013        Abed, Eyad H       ENGR-Electrical & Computer Engineering   \n",
       "1  2013  Abshire, Pamela A.       ENGR-Electrical & Computer Engineering   \n",
       "2  2013  Abshire, Pamela A.          ENGR-Institute for Systems Research   \n",
       "3  2013       Abts, Leigh R   ENGR-Fischell Department of Bioengineering   \n",
       "4  2013    Adams, Douglas J  ENGR-Continuing & Distance Learning in Engr   \n",
       "\n",
       "                               division           title     salary  \\\n",
       "0  A. James Clark School of Engineering            Prof  216648.00   \n",
       "1  A. James Clark School of Engineering      Assoc Prof   82872.96   \n",
       "2  A. James Clark School of Engineering      Assoc Prof   55149.36   \n",
       "3  A. James Clark School of Engineering  Res Assoc Prof  126334.14   \n",
       "4  A. James Clark School of Engineering        Engineer   64260.00   \n",
       "\n",
       "                name  \n",
       "0        Eyad H Abed  \n",
       "1  Pamela A. Abshire  \n",
       "2  Pamela A. Abshire  \n",
       "3       Leigh R Abts  \n",
       "4    Douglas J Adams  "
      ]
     },
     "execution_count": 6,
     "metadata": {},
     "output_type": "execute_result"
    }
   ],
   "source": [
    "salaries_df.head()"
   ]
  },
  {
   "cell_type": "code",
   "execution_count": 7,
   "metadata": {},
   "outputs": [
    {
     "data": {
      "text/plain": [
       "Lecturer                        9061\n",
       "Coordinator                     8767\n",
       "Prof                            4745\n",
       "Assoc Prof                      3189\n",
       "Director                        3079\n",
       "                                ... \n",
       "Prin Agent &\\nDirector             1\n",
       "Extension\\nAssociate               1\n",
       "Prof & Acting Asst\\nDean           1\n",
       "Faculty Extension\\nAssistant       1\n",
       "Associate Program\\nDirector        1\n",
       "Name: title, Length: 822, dtype: int64"
      ]
     },
     "execution_count": 7,
     "metadata": {},
     "output_type": "execute_result"
    }
   ],
   "source": [
    "salaries_df.title.value_counts()"
   ]
  },
  {
   "cell_type": "code",
   "execution_count": 8,
   "metadata": {},
   "outputs": [
    {
     "data": {
      "text/plain": [
       "professor    2852\n",
       "ta            130\n",
       "Name: type, dtype: int64"
      ]
     },
     "execution_count": 8,
     "metadata": {},
     "output_type": "execute_result"
    }
   ],
   "source": [
    "pt_df[\"type\"].value_counts()"
   ]
  },
  {
   "cell_type": "code",
   "execution_count": 9,
   "metadata": {},
   "outputs": [],
   "source": [
    "assert len(pt_df) == len(pt_df.drop_duplicates(subset=[\"name\"]))"
   ]
  },
  {
   "cell_type": "code",
   "execution_count": 10,
   "metadata": {},
   "outputs": [
    {
     "name": "stdout",
     "output_type": "stream",
     "text": [
      "[1/2982] Abhijit Dasgupta -> [(1, 'Abhijit Dasgupta')]\n",
      "[2/2982] Abigail McEwen -> [(1, 'Abigail McEwen')]\n",
      "[3/2982] Abolhassan Jawahery -> [(1, 'Abolhassan Jawahery')]\n",
      "[4/2982] Abram Kagan -> [(1, 'Abram Kagan')]\n",
      "[5/2982] Adam Binkley -> [(0.7058823529411764, 'Adam Ross Binkley')]\n",
      "RETRY\n",
      "[5/2982] Adam Binkley -> [(1, 'Adam Binkley')]\n",
      "[6/2982] Adam Hsieh -> [(0.7692307692307692, 'Adam H. Hsieh')]\n",
      "[7/2982] Adam Porter -> [(0.7857142857142857, 'Adam A. Porter')]\n",
      "[8/2982] Adi Mahalel -> [(1, 'Adi Mahalel')]\n",
      "[9/2982] Adil Hassam -> [(1, 'Adil Hassam')]\n",
      "[10/2982] Adriane Fang -> [(1, 'Adriane Fang')]\n",
      "[11/2982] Adrianos Papamarcou -> [(1, 'Adrianos Papamarcou')]\n",
      "[12/2982] Agisilaos Iliadis -> [(1, 'Agisilaos Iliadis')]\n",
      "[13/2982] Ahmad Karimi-Hakkak -> [(1, 'Ahmad Karimi-Hakkak')]\n",
      "[14/2982] Ahmet Aydilek -> [(0.8125, 'Ahmet H. Aydilek')]\n",
      "[15/2982] Ahmet Karamustafa -> [(0.7647058823529411, 'Ali Karamustafa')]\n",
      "[16/2982] Alan Drew -> [(0.8181818181818181, 'Alan C Drew')]\n",
      "[17/2982] Alan Kaufman -> [(0.75, 'Alan Jay Kaufman')]\n",
      "RETRY\n",
      "[17/2982] Alan Kaufman -> [(1, 'Alan Kaufman')]\n",
      "[18/2982] Alan Lehman -> [(0.6363636363636364, 'Tom Lehman')]\n",
      "RETRY\n",
      "[18/2982] Alan Lehman -> [(1, 'Alan Lehman')]\n",
      "[19/2982] Alan Neustadtl -> [(1, 'Alan Neustadtl')]\n",
      "[20/2982] Alan Peel -> [(0.8181818181818181, 'Alan C Peel')]\n",
      "[21/2982] Alba Torrents -> [(1, 'Alba Torrents')]\n",
      "[22/2982] Albert Kyle -> [(0.7857142857142857, 'Albert S. Kyle')]\n",
      "[23/2982] Alberto Belloni -> [(1, 'Alberto Belloni')]\n",
      "[24/2982] Alberto Bolatto -> [(1, 'Alberto Bolatto')]\n",
      "[25/2982] Alberto Cabrera -> [(0.8333333333333335, 'Alberto F. Cabrera')]\n",
      "[26/2982] Alejandra Mercado -> [(0.7058823529411764, 'Alejandro Egido')]\n",
      "RETRY\n",
      "[26/2982] Alejandra Mercado -> [(1, 'Alejandra Mercado')]\n",
      "[27/2982] Alexander Barg -> [(1, 'Alexander Barg')]\n",
      "[28/2982] Alexander Chen -> [(1, 'Alexander Chen')]\n",
      "[29/2982] Alexander Shackman -> [(0.736842105263158, 'Alexander W. Cadman')]\n",
      "RETRY\n",
      "[29/2982] Alexander Shackman -> [(1, 'Alexander Shackman')]\n",
      "[30/2982] Alexander Williams -> [(1, 'Alexander Williams')]\n",
      "[31/2982] Alexandra Bely -> [(0.8235294117647058, 'Alexandra E. Bely')]\n",
      "[32/2982] Alexandra Calloway -> [(1, 'Alexandra Calloway')]\n",
      "[33/2982] Alexis Lothian -> [(1, 'Alexis Lothian')]\n",
      "[34/2982] Ali Haghani -> [(1, 'Ali Haghani')]\n",
      "[35/2982] Alice Mignerey -> [(0.8235294117647058, 'Alice C. Mignerey')]\n",
      "[36/2982] Alice Wang -> [(0.8181818181818181, 'Alice Chang')]\n",
      "[37/2982] Alireza Khaligh -> [(1, 'Alireza Khaligh')]\n",
      "[38/2982] Allan Drazen -> [(1, 'Allan Drazen')]\n",
      "[39/2982] Allan Wigfield -> [(0.8235294117647058, 'Allan L. Wigfield')]\n",
      "[40/2982] Allen Davis -> [(0.7857142857142857, 'Allen P. Davis')]\n",
      "[41/2982] Allen Eney -> [(0.7692307692307692, 'Allen B. Eney')]\n",
      "[42/2982] Allen Schick -> [(1, 'Allen Schick')]\n",
      "[43/2982] Allen Stairs -> [(1, 'Allen Stairs')]\n",
      "[44/2982] Allen Winkelmann -> [(0.8421052631578947, 'Allen E. Winkelmann')]\n",
      "[45/2982] Amanda Allen -> [(1, 'Amanda Allen')]\n",
      "[46/2982] Amanda Hall -> [(0.75, 'Amanda Allen'), (0.75, 'Amanda Scala')]\n",
      "RETRY\n",
      "[46/2982] Amanda Hall -> [(1, 'Amanda Hall')]\n",
      "[47/2982] Amde Amde -> [(0.75, 'Amde M. Amde')]\n",
      "RETRY\n",
      "[47/2982] Amde Amde -> [(1, 'Amde Amde')]\n",
      "[48/2982] Amin Gholampour -> [(1, 'Amin Gholampour')]\n",
      "[49/2982] Amir Riaz -> [(1, 'Amir Riaz')]\n",
      "[50/2982] Amir Sapkota -> [(1, 'Amir Sapkota')]\n",
      "[51/2982] Amol Deshpande -> [(1, 'Amol Deshpande')]\n",
      "[52/2982] Amr Baz -> [(0.7, 'Amr M. Baz')]\n",
      "RETRY\n",
      "[52/2982] Amr Baz -> [(1, 'Amr Baz')]\n",
      "[53/2982] Amy Brown -> [(1, 'Amy Brown')]\n",
      "[54/2982] Amy Burk -> [(0.7272727272727273, 'Amy O. Burk')]\n",
      "RETRY\n",
      "[54/2982] Amy Burk -> [(1, 'Amy Burk')]\n",
      "[55/2982] Amy Fisher -> [(0.7692307692307692, 'Amy L. Fisher')]\n",
      "[56/2982] Amy Karlsson -> [(0.8, 'Amy J. Karlsson')]\n",
      "[57/2982] Amy Lewin -> [(0.75, 'Amy B. Lewin')]\n",
      "RETRY\n",
      "[57/2982] Amy Lewin -> [(1, 'Amy Lewin')]\n",
      "[58/2982] Amy Mullin -> [(0.7692307692307692, 'Amy S. Mullin')]\n",
      "[59/2982] Ana Acedo Garcia -> [(0.6956521739130435, 'Ana Isabel Acedo Garcia')]\n",
      "RETRY\n",
      "[59/2982] Ana Acedo Garcia -> [(0.631578947368421, 'Sabina Trejo-Garcia')]\n",
      "[60/2982] Ana Rodriguez -> [(0.923076923076923, 'Ada Rodriguez')]\n",
      "[61/2982] Ana Sanchez-Rivera -> [(0.6111111111111112, 'Ana Maria Rivera')]\n",
      "RETRY\n",
      "[61/2982] Ana Sanchez-Rivera -> [(0.5555555555555556, 'Ana Rivera')]\n",
      "[62/2982] Andre Tits -> [(0.7692307692307692, 'Andre L. Tits')]\n",
      "[63/2982] Andrea Frisch -> [(0.7692307692307692, 'Andrea Rice')]\n",
      "[64/2982] Andrei Vedernikov -> [(1, 'Andrei Vedernikov')]\n",
      "[65/2982] Andrew Becnel -> [(1, 'Andrew Becnel')]\n",
      "[66/2982] Andrew Childs -> [(1, 'Andrew Childs')]\n",
      "[67/2982] Andrew Cissna -> [(0.6923076923076923, 'Andrew Giza'), (0.6923076923076923, 'Andrew Ross')]\n",
      "RETRY\n",
      "[67/2982] Andrew Cissna -> [(1, 'Andrew Cissna')]\n",
      "[68/2982] Andrew Delfino -> [(0.875, 'Andrew S Delfino')]\n",
      "[69/2982] Andrew Ginsberg -> [(1, 'Andrew Ginsberg')]\n",
      "[70/2982] Andrew Harris -> [(0.8125, 'Andrew I. Harris')]\n",
      "[71/2982] Andrew Schonebaum -> [(1, 'Andrew Schonebaum')]\n",
      "[72/2982] Andrew Sweeting -> [(1, 'Andrew Sweeting')]\n",
      "[73/2982] Andrew Wolvin -> [(0.8125, 'Andrew D. Wolvin')]\n",
      "[74/2982] Andris Skuja -> [(1, 'Andris Skuja')]\n",
      "[75/2982] Aneta Georgievska-Shine -> [(1, 'Aneta Georgievska-Shine')]\n",
      "[76/2982] Angela Black -> [(1, 'Angela Black')]\n",
      "[77/2982] Angela Jones -> [(0.8, 'Angela R. Jones')]\n",
      "[78/2982] Anita Sanyal -> [(1, 'Anita Sanyal')]\n",
      "[79/2982] Ankur Srivastava -> [(1, 'Ankur Srivastava')]\n",
      "[80/2982] Ann Battle -> [(0.6428571428571428, 'Leilani Battle')]\n",
      "RETRY\n",
      "[80/2982] Ann Battle -> [(1, 'Ann Battle')]\n",
      "[81/2982] Ann Mason -> [(0.6923076923076923, 'Anthony Mason')]\n",
      "RETRY\n",
      "[81/2982] Ann Mason -> [(1, 'Ann Mason')]\n",
      "[82/2982] Ann Smith -> [(0.75, 'Ann C. Smith'), (0.75, 'Jo Ann Smith')]\n",
      "RETRY\n",
      "[82/2982] Ann Smith -> [(1, 'Ann Smith')]\n",
      "[83/2982] Anna Szczepaniec-Bialas -> [(1, 'Anna Szczepaniec-Bialas')]\n",
      "[84/2982] Anne Kaiser -> [(0.7857142857142857, 'Anne R. Kaiser')]\n",
      "[85/2982] Anne Rush -> [(0.7777777777777779, 'Anne Rose')]\n",
      "[86/2982] Anne Warren -> [(0.7857142857142857, 'Anne W. Warren')]\n",
      "[87/2982] Annelies Galletta -> [(1, 'Annelies Galletta')]\n",
      "[88/2982] Anthony Banes -> [(0.6923076923076923, 'Anthony Tai'), (0.6923076923076923, 'Anthony Kyle'), (0.6923076923076923, 'Anthony Mason')]\n",
      "RETRY\n",
      "[88/2982] Anthony Banes -> [(0.8461538461538461, 'Anthony Batts')]\n",
      "[89/2982] Anthony Colantuono -> [(1, 'Anthony Colantuono')]\n",
      "[90/2982] Anthony Ephremides -> [(1, 'Anthony Ephremides')]\n",
      "[91/2982] Anthony Pagnotti -> [(0.8421052631578947, 'Anthony C. Pagnotti')]\n",
      "[92/2982] Antoine Banks -> [(0.6875, 'Antoine G Brooks')]\n",
      "RETRY\n",
      "[92/2982] Antoine Banks -> [(1, 'Antoine Banks')]\n",
      "[93/2982] Antoine Borrut -> [(1, 'Antoine Borrut')]\n",
      "[94/2982] Antoine Mellet -> [(1, 'Antoine Mellet')]\n",
      "[95/2982] Antony Jose -> [(0.6666666666666667, 'Anthony J Esser'), (0.6666666666666667, 'Anthony Kyle')]\n",
      "RETRY\n",
      "[95/2982] Antony Jose -> [(1, 'Antony Jose')]\n",
      "[96/2982] Anwar Mamat -> [(1, 'Anwar Mamat')]\n",
      "[97/2982] Aravind Srinivasan -> [(1, 'Aravind Srinivasan')]\n",
      "[98/2982] Ari Israel -> [(0.6, 'David J. Israel')]\n",
      "RETRY\n",
      "[98/2982] Ari Israel -> [(0.75, 'David Israel')]\n",
      "[99/2982] Arijit Sehanobish -> [(0.4705882352941176, 'Amit Vaish')]\n",
      "RETRY\n",
      "[99/2982] Arijit Sehanobish -> [(0.4705882352941176, 'Amit Vaish'), (0.4705882352941176, 'Ari Schloss')]\n",
      "[100/2982] Aristos Christou -> [(1, 'Aristos Christou')]\n",
      "[101/2982] Armand Makowski -> [(0.8333333333333335, 'Armand M. Makowski')]\n",
      "[102/2982] Arpita Upadhyaya -> [(1, 'Arpita Upadhyaya')]\n",
      "[103/2982] Arthur Eckstein -> [(1, 'Arthur Eckstein')]\n",
      "[104/2982] Arthur Johnson -> [(0.8235294117647058, 'Arthur T. Johnson')]\n",
      "[105/2982] Arthur Reynolds -> [(1, 'Arthur Reynolds')]\n",
      "[106/2982] Ashley Hufnagel -> [(0.6, 'Ashley Deaver'), (0.6, 'Ashley Muscadin')]\n",
      "RETRY\n",
      "[106/2982] Ashley Hufnagel -> [(0.6, 'Ashley Mena'), (0.6, 'Ashley Monroe'), (0.6, 'Ashley Luster'), (0.6, 'Ashley Deaver'), (0.6, 'Ashley Muscadin'), (0.6, 'Ashlee Haye')]\n",
      "[107/2982] Ashok Agrawala -> [(0.8235294117647058, 'Ashok K. Agrawala')]\n",
      "[108/2982] Ashwani Gupta -> [(0.8125, 'Ashwani K. Gupta')]\n",
      "[109/2982] Asim Ali -> [(0.8, 'Asim A Ali')]\n",
      "[110/2982] Audaldo Ponce -> [(1, 'Audaldo Ponce')]\n",
      "[111/2982] Augusta Bolles -> [(0.736842105263158, 'Augusta Lynn Bolles')]\n",
      "RETRY\n",
      "[111/2982] Augusta Bolles -> [(1, 'Augusta Bolles')]\n",
      "[112/2982] Ayush Gupta -> [(1, 'Ayush Gupta')]\n",
      "[113/2982] Bao Yang -> [(1, 'Bao Yang')]\n",
      "[114/2982] Barnet Corwin -> [(0.8125, 'Barnet C. Corwin')]\n",
      "[115/2982] Barton Forman -> [(1, 'Barton Forman')]\n",
      "[116/2982] Behtash Babadi -> [(1, 'Behtash Babadi')]\n",
      "[117/2982] Bei Lok Hu -> [(1, 'Bei Lok Hu')]\n"
     ]
    },
    {
     "name": "stderr",
     "output_type": "stream",
     "text": [
      "/tmp/ipykernel_29304/3370154677.py:13: DeprecationWarning: This function will be remove in v3.0.0. Use rapidfuzz.distance.Levenshtein.normalized_similarity instead.\n",
      "  matches = salary_fuzz.get(pt_name)\n",
      "/tmp/ipykernel_29304/3370154677.py:18: DeprecationWarning: This function will be remove in v3.0.0. Use rapidfuzz.distance.Levenshtein.normalized_similarity instead.\n",
      "  matches = salary_fl_fuzz.get(pt_name)\n"
     ]
    },
    {
     "name": "stdout",
     "output_type": "stream",
     "text": [
      "[118/2982] Ben Bezejouh -> [(0.6666666666666667, 'Ben Nkafu Bezejouh')]\n",
      "RETRY\n",
      "[118/2982] Ben Bezejouh -> [(1, 'Ben Bezejouh')]\n",
      "[119/2982] Ben Hurley -> [(0.7692307692307692, 'Ben F. Hurley')]\n",
      "[120/2982] Ben Shneiderman -> [(0.8333333333333335, 'Ben A. Shneiderman')]\n",
      "[121/2982] Benjamin Kedem -> [(1, 'Benjamin Kedem')]\n",
      "[122/2982] Benjamin Rosenthal -> [(0.8571428571428572, 'Benjamin M. Rosenthal')]\n",
      "[123/2982] Benjamin Shapiro -> [(1, 'Benjamin Shapiro')]\n",
      "[124/2982] Bernard Cooperman -> [(0.85, 'Bernard D. Cooperman')]\n",
      "[125/2982] Bertrand Sobesto -> [(1, 'Bertrand Sobesto')]\n",
      "[126/2982] Beryl Bland -> [(0.6470588235294117, 'Beryl Curry Bland')]\n",
      "RETRY\n",
      "[126/2982] Beryl Bland -> [(1, 'Beryl Bland')]\n",
      "[127/2982] Beth Parent -> [(1, 'Beth Parent')]\n",
      "[128/2982] Bhanu Telugu -> [(1, 'Bhanu Telugu')]\n",
      "[129/2982] Bilal Ayyub -> [(0.7857142857142857, 'Bilal M. Ayyub')]\n",
      "[130/2982] Bo Zhou -> [(1, 'Bo Zhou')]\n",
      "[131/2982] Bongtae Han -> [(1, 'Bongtae Han')]\n",
      "[132/2982] Bonnie Dixon -> [(0.7058823529411764, 'Bonnie Lynn Dixon')]\n",
      "RETRY\n",
      "[132/2982] Bonnie Dixon -> [(1, 'Bonnie Dixon')]\n",
      "[133/2982] Bonnie Richter -> [(1, 'Bonnie Richter')]\n",
      "[134/2982] Bradford Sanders -> [(0.6875, 'Taylor Sanders')]\n",
      "RETRY\n",
      "[134/2982] Bradford Sanders -> [(1, 'Bradford Sanders')]\n",
      "[135/2982] Brandon Dula -> [(0.8, 'Brandon C. Dula')]\n",
      "[136/2982] Brandon Morse -> [(1, 'Brandon Morse')]\n",
      "[137/2982] Brent Barbee -> [(0.6666666666666667, 'Brent Wagner')]\n",
      "RETRY\n",
      "[137/2982] Brent Barbee -> [(1, 'Brent Barbee')]\n",
      "[138/2982] Bretton Kent -> [(0.8, 'Bretton W. Kent')]\n",
      "[139/2982] Brian Davis -> [(0.75, 'Morgan Davis'), (0.75, 'Brian D Voss'), (0.75, 'Brian Harris')]\n",
      "RETRY\n",
      "[139/2982] Brian Davis -> [(1, 'Brian Davis')]\n",
      "[140/2982] Brian Johnson -> [(0.8666666666666667, 'Brian D Johnson')]\n",
      "[141/2982] Brian Nelson -> [(0.8, 'Brian L. Nelson')]\n",
      "[142/2982] Brian Phillips -> [(1, 'Brian Phillips')]\n",
      "[143/2982] Brian Richardson -> [(1, 'Brian Richardson')]\n",
      "[144/2982] Brittany Ginder -> [(0.6666666666666667, 'Brittany N Aley')]\n",
      "RETRY\n",
      "[144/2982] Brittany Ginder -> [(0.7333333333333334, 'Brittany Green'), (0.7333333333333334, 'Brittany Kyser'), (0.7333333333333334, 'Brittany Gordon')]\n",
      "[145/2982] Bruce Golden -> [(0.8, 'Bruce L. Golden')]\n",
      "[146/2982] Bryan Eichhorn -> [(0.8235294117647058, 'Bryan W. Eichhorn')]\n",
      "[147/2982] Burkhard Schulz -> [(1, 'Burkhard Schulz')]\n",
      "[148/2982] Byrn Quimby -> [(0.6470588235294117, 'Byrn Booth Quimby')]\n",
      "RETRY\n",
      "[148/2982] Byrn Quimby -> [(1, 'Byrn Quimby')]\n",
      "[149/2982] Calvert Jones -> [(0.8666666666666667, 'Calvert W Jones')]\n",
      "[150/2982] Cameron Mozafari -> [(0.7272727272727273, 'Cameron Nazer Mozafari')]\n",
      "RETRY\n",
      "[150/2982] Cameron Mozafari -> [(1, 'Cameron Mozafari')]\n",
      "[151/2982] Candace Turitto -> [(1, 'Candace Turitto')]\n",
      "[152/2982] Carl Stepp -> [(0.5454545454545454, 'Carlos Vegh'), (0.5454545454545454, 'Carlos Toro')]\n",
      "RETRY\n",
      "[152/2982] Carl Stepp -> [(1, 'Carl Stepp')]\n",
      "[153/2982] Carol Cron -> [(0.7692307692307692, 'Carol E. Cron')]\n",
      "[154/2982] Carole Lee -> [(0.7142857142857143, 'Caroline W Lee')]\n",
      "RETRY\n",
      "[154/2982] Carole Lee -> [(1, 'Carole Lee')]\n",
      "[155/2982] Carolina Napp-Avelli -> [(1, 'Carolina Napp-Avelli')]\n",
      "[156/2982] Caroline Eades -> [(1, 'Caroline Eades')]\n",
      "[157/2982] Caroline Wilkins -> [(0.8421052631578947, 'Caroline A. Wilkins')]\n",
      "[158/2982] Carolyn Fink -> [(0.7142857142857143, 'Carolyn Lisane')]\n",
      "RETRY\n",
      "[158/2982] Carolyn Fink -> [(1, 'Carolyn Fink')]\n",
      "[159/2982] Carter Hall -> [(1, 'Carter Hall')]\n",
      "[160/2982] Casey Cremins -> [(1, 'Casey Cremins')]\n",
      "[161/2982] Cassandra Clayton -> [(0.85, 'Cassandra L. Clayton')]\n",
      "[162/2982] Cassondra Pope -> [(0.875, 'Cassondra N Pope')]\n",
      "[163/2982] Catherine Bayly -> [(0.7647058823529411, 'Catherine Maybury')]\n",
      "[164/2982] Catherine Carr -> [(0.8125, 'Katherine Carter'), (0.8125, 'Catherine Parker')]\n",
      "[165/2982] Catherine Schuler -> [(0.85, 'Catherine A. Schuler')]\n",
      "[166/2982] Chandrasekhar Thamire -> [(1, 'Chandrasekhar Thamire')]\n",
      "[167/2982] Chantel Rodriguez -> [(1, 'Chantel Rodriguez')]\n",
      "[168/2982] Charalampos Papamanthou -> [(1, 'Charalampos Papamanthou')]\n",
      "[169/2982] Charles Alford -> [(0.6842105263157895, 'Charles F. Wellford')]\n",
      "RETRY\n",
      "[169/2982] Charles Alford -> [(1, 'Charles Alford')]\n",
      "[170/2982] Charles Delwiche -> [(0.6666666666666667, 'Charles Francis Delwiche')]\n",
      "RETRY\n",
      "[170/2982] Charles Delwiche -> [(1, 'Charles Delwiche')]\n",
      "[171/2982] Charles Gelso -> [(0.8125, 'Charles J. Gelso')]\n",
      "[172/2982] Charles Hulten -> [(0.8235294117647058, 'Charles R. Hulten')]\n",
      "[173/2982] Charles Levermore -> [(0.85, 'Charles D. Levermore')]\n",
      "[174/2982] Charles Lilley -> [(0.8235294117647058, 'Charles R. Lilley')]\n",
      "[175/2982] Charles Manekin -> [(0.8333333333333335, 'Charles H. Manekin')]\n",
      "[176/2982] Charles Olson -> [(0.8125, 'Charles E. Olson')]\n",
      "[177/2982] Charles Schwartz -> [(0.8421052631578947, 'Charles W. Schwartz')]\n",
      "[178/2982] Charles Silio -> [(0.7692307692307692, 'Charles Lin')]\n",
      "[179/2982] Charles Stangor -> [(0.8333333333333335, 'Charles G. Stangor')]\n",
      "[180/2982] Charneka Lane -> [(0.6153846153846154, 'Charles Lin')]\n",
      "RETRY\n",
      "[180/2982] Charneka Lane -> [(0.6153846153846154, 'Shaneka Maree'), (0.6153846153846154, 'Charles Lin'), (0.6153846153846154, 'Charles Lynn'), (0.6153846153846154, 'Charles Blake')]\n",
      "[181/2982] Cheng Lee -> [(0.7777777777777779, 'Cheng Lin')]\n",
      "[182/2982] Chengri Ding -> [(1, 'Chengri Ding')]\n",
      "[183/2982] Chila Hidalgo -> [(0.6190476190476191, 'Chila Beatriz Hidalgo')]\n",
      "RETRY\n",
      "[183/2982] Chila Hidalgo -> [(1, 'Chila Hidalgo')]\n",
      "[184/2982] Christian Zickert -> [(0.7058823529411764, 'Christine Nickel'), (0.7058823529411764, 'Christine Nickell')]\n",
      "RETRY\n",
      "[184/2982] Christian Zickert -> [(1, 'Christian Zickert')]\n",
      "[185/2982] Christiana Addei-Maanu -> [(0.7857142857142857, 'Christiana Adwoa Addei-Maanu')]\n",
      "[186/2982] Christina Getrich -> [(0.7083333333333333, 'Christina Marisa Getrich')]\n",
      "RETRY\n",
      "[186/2982] Christina Getrich -> [(1, 'Christina Getrich')]\n",
      "[187/2982] Christina Hanhardt -> [(0.8571428571428572, 'Christina B. Hanhardt')]\n",
      "[188/2982] Christina Walter -> [(1, 'Christina Walter')]\n",
      "[189/2982] Christine Hakenkamp -> [(0.7307692307692308, 'Christine Claire Hakenkamp')]\n",
      "RETRY\n",
      "[189/2982] Christine Hakenkamp -> [(1, 'Christine Hakenkamp')]\n",
      "[190/2982] Christine Hartzell -> [(0.9, 'Christine M Hartzell')]\n",
      "[191/2982] Christine Schull -> [(0.7647058823529411, 'Christine Nickell')]\n",
      "[192/2982] Christine White -> [(0.8823529411764706, 'Christine A White')]\n",
      "[193/2982] Christopher Capp -> [(0.8888888888888888, 'Christopher L Capp')]\n",
      "[194/2982] Christopher Chabalko -> [(0.9090909090909091, 'Christopher C Chabalko')]\n",
      "[195/2982] Christopher Crane -> [(0.8947368421052632, 'Christopher E Crane')]\n",
      "[196/2982] Christopher Davis -> [(0.85, 'Christopher C. Davis')]\n",
      "[197/2982] Christopher Ellis -> [(0.85, 'Christopher D. Ellis')]\n",
      "[198/2982] Christopher Hanson -> [(0.8888888888888888, 'Christopher Watson')]\n",
      "[199/2982] Christopher Lobb -> [(0.8421052631578947, 'Christopher J. Lobb')]\n",
      "[200/2982] Christopher Morris -> [(0.8571428571428572, 'Christopher W. Morris')]\n",
      "[201/2982] Christopher Reynolds -> [(0.8695652173913043, 'Christopher S. Reynolds')]\n",
      "[202/2982] Christopher Swift -> [(0.7727272727272727, 'Christopher Noel Swift')]\n",
      "[203/2982] Christopher Vogel -> [(1, 'Christopher Vogel')]\n",
      "[204/2982] Christopher Walsh -> [(0.85, 'Christopher S. Walsh')]\n",
      "[205/2982] Christopher Zalewski -> [(0.8, 'Christopher Karl Zalewski')]\n",
      "[206/2982] Chunsheng Wang -> [(1, 'Chunsheng Wang')]\n",
      "[207/2982] Cindy Clement -> [(1, 'Cindy Clement')]\n",
      "[208/2982] Cindy Driscoll -> [(0.5714285714285714, 'Cindy Pol'), (0.5714285714285714, 'Cindy Wright')]\n",
      "RETRY\n",
      "[208/2982] Cindy Driscoll -> [(0.5714285714285714, 'Cindy Pol'), (0.5714285714285714, 'Cindy Mason'), (0.5714285714285714, 'Cindy Wright')]\n",
      "[209/2982] Clara Hill -> [(0.8, 'Carl Hill')]\n",
      "[210/2982] Clare Parsons -> [(1, 'Clare Parsons')]\n",
      "[211/2982] Clarence Wesley -> [(0.8823529411764706, 'Clarence V Wesley')]\n",
      "[212/2982] Clyde Kruskal -> [(0.8125, 'Clyde P. Kruskal')]\n",
      "[213/2982] Colleen Farmer -> [(0.8235294117647058, 'Colleen M. Farmer')]\n",
      "[214/2982] Colleen Ho -> [(1, 'Colleen Ho')]\n",
      "[215/2982] Colleen Terpos -> [(0.7, 'Colleen Marie Terpos')]\n",
      "RETRY\n",
      "[215/2982] Colleen Terpos -> [(1, 'Colleen Terpos')]\n",
      "[216/2982] Colleen Vacelet -> [(0.75, 'Colleen Erin Vacelet')]\n",
      "RETRY\n",
      "[216/2982] Colleen Vacelet -> [(1, 'Colleen Vacelet')]\n",
      "[217/2982] Collier Cobb -> [(0.5833333333333333, 'Jodi Cobb'), (0.5833333333333333, 'Colleen Ho')]\n",
      "RETRY\n",
      "[217/2982] Collier Cobb -> [(0.5833333333333333, 'Jodi Cobb'), (0.5833333333333333, 'Colleen Ho'), (0.5833333333333333, 'Colleen Wood')]\n",
      "[218/2982] Colman McCarthy -> [(0.8333333333333335, 'Colman J. McCarthy')]\n",
      "[219/2982] Cortney Fisher -> [(1, 'Cortney Fisher')]\n",
      "[220/2982] Craig Fryer -> [(0.7272727272727273, 'Craig Kier')]\n",
      "RETRY\n",
      "[220/2982] Craig Fryer -> [(1, 'Craig Fryer')]\n",
      "[221/2982] Craig Potter -> [(0.8, 'Craig G. Potter')]\n",
      "[222/2982] Craig Slack -> [(1, 'Craig Slack')]\n",
      "[223/2982] Cristian Dezso -> [(1, 'Cristian Dezso')]\n",
      "[224/2982] Cristina Risco -> [(0.7142857142857143, 'Kristina Rubio')]\n",
      "RETRY\n",
      "[224/2982] Cristina Risco -> [(1, 'Cristina Risco')]\n",
      "[225/2982] Curtis Grimm -> [(0.8, 'Curtis M. Grimm')]\n",
      "[226/2982] Dale Hample -> [(0.7333333333333334, 'Dale Jay Hample')]\n",
      "RETRY\n",
      "[226/2982] Dale Hample -> [(1, 'Dale Hample')]\n",
      "[227/2982] Dale Johnson -> [(0.8333333333333335, 'Alex Johnson')]\n",
      "[228/2982] Dana Dachman-Soled -> [(1, 'Dana Dachman-Soled')]\n",
      "[229/2982] Dana Fisher -> [(0.8461538461538461, 'Dana R Fisher')]\n",
      "[230/2982] Dana Nau -> [(0.7272727272727273, 'Dana S. Nau')]\n",
      "RETRY\n",
      "[230/2982] Dana Nau -> [(1, 'Dana Nau')]\n",
      "[231/2982] Daniel Butts -> [(0.8, 'Daniel A. Butts')]\n",
      "[232/2982] Daniel Falvey -> [(0.8125, 'Daniel E. Falvey')]\n",
      "[233/2982] Daniel Gruner -> [(0.8125, 'Daniel S. Gruner')]\n",
      "[234/2982] Daniel Lathrop -> [(0.7, 'Daniel Perry Lathrop')]\n",
      "RETRY\n",
      "[234/2982] Daniel Lathrop -> [(1, 'Daniel Lathrop')]\n",
      "[235/2982] Daniel Saalfeld -> [(0.8823529411764706, 'Daniel A Saalfeld')]\n",
      "[236/2982] Daniel Stein -> [(0.8, 'Daniel C. Stein')]\n",
      "[237/2982] Daniel Swann -> [(0.7142857142857143, 'Daniel Serrano')]\n",
      "RETRY\n",
      "[237/2982] Daniel Swann -> [(1, 'Daniel Swann')]\n",
      "[238/2982] Daniel Vincent -> [(0.8235294117647058, 'Daniel R. Vincent')]\n",
      "[239/2982] Daniel Weinberg -> [(0.8235294117647058, 'Daniel E Feinberg')]\n",
      "[240/2982] Daniela Bulansky -> [(0.625, 'Daniel Mirsky'), (0.625, 'Danielle Burns'), (0.625, 'Daniel Klass'), (0.625, 'Daniel Klasik')]\n",
      "RETRY\n",
      "[240/2982] Daniela Bulansky -> [(0.6875, 'Daniel Bulmash')]\n",
      "[241/2982] Danielle Griffin -> [(0.8125, 'Daniel Griffie')]\n",
      "[242/2982] Danilo Romero -> [(0.8125, 'Danilo B. Romero')]\n",
      "[243/2982] Danuta Hinc -> [(1, 'Danuta Hinc')]\n",
      "[244/2982] Darryll Pines -> [(0.8125, 'Darryll J. Pines')]\n",
      "[245/2982] Daune O'Brien -> [(0.6923076923076923, \"Karen O'Brien\")]\n",
      "RETRY\n",
      "[245/2982] Daune O'Brien -> [(1, \"Daune O'Brien\")]\n",
      "[246/2982] David Akin -> [(0.7692307692307692, 'David L. Akin')]\n",
      "[247/2982] David Andrews -> [(1, 'David Andrews')]\n",
      "[248/2982] David Bigio -> [(0.7857142857142857, 'David I. Bigio')]\n",
      "[249/2982] David Brookshire -> [(0.8421052631578947, 'David J. Brookshire')]\n",
      "[250/2982] David Buehrle -> [(0.8125, 'David C. Buehrle')]\n",
      "[251/2982] David Cunningham -> [(0.8421052631578947, 'David E. Cunningham')]\n",
      "[252/2982] David Freund -> [(1, 'David Freund')]\n",
      "[253/2982] David Hawthorne -> [(0.8333333333333335, 'David J. Hawthorne')]\n",
      "[254/2982] David Karol -> [(1, 'David Karol')]\n",
      "[255/2982] David Kass -> [(0.7692307692307692, 'David I. Kass')]\n",
      "[256/2982] David Kressler -> [(0.8235294117647058, 'David J. Kressler')]\n",
      "[257/2982] David Lei -> [(0.8181818181818181, 'David Levin')]\n",
      "[258/2982] David Lightman -> [(1, 'David Lightman')]\n",
      "[259/2982] David Lovell -> [(0.8, 'David J. Lovell')]\n",
      "[260/2982] David McCandlish -> [(1, 'David McCandlish')]\n",
      "[261/2982] David Miles -> [(0.8181818181818181, 'David Malec')]\n",
      "[262/2982] David Mitchell -> [(0.7857142857142857, 'Alvin Mitchell')]\n",
      "[263/2982] David Mosser -> [(0.8, 'David M. Mosser')]\n",
      "[264/2982] David Mount -> [(1, 'David Mount')]\n",
      "[265/2982] David Myers -> [(0.7857142857142857, 'David N. Myers'), (0.7857142857142857, 'David D Meyers')]\n",
      "[266/2982] David Pincus -> [(0.6666666666666667, 'David Hynes')]\n",
      "RETRY\n",
      "[266/2982] David Pincus -> [(0.6666666666666667, 'David Pan'), (0.6666666666666667, 'David Phelps'), (0.6666666666666667, 'David King')]\n",
      "[267/2982] David Salem -> [(0.8181818181818181, 'David Malec')]\n",
      "[268/2982] David Sartorius -> [(1, 'David Sartorius')]\n",
      "[269/2982] David Sicilia -> [(0.8125, 'David B. Sicilia')]\n",
      "[270/2982] David Straney -> [(0.8125, 'David C. Straney')]\n",
      "[271/2982] David Tilley -> [(0.8, 'David R. Tilley')]\n",
      "[272/2982] David Todd -> [(0.8333333333333335, 'David Y Todd')]\n",
      "[273/2982] David Tomblin -> [(1, 'David Tomblin')]\n",
      "[274/2982] David Van Horn -> [(1, 'David Van Horn')]\n",
      "[275/2982] David Weber -> [(0.8461538461538461, 'David P Weber')]\n",
      "[276/2982] David Yager -> [(0.7857142857142857, 'David D. Yager')]\n",
      "[277/2982] Dean Hebert -> [(0.7692307692307692, 'Dylan Herbert')]\n",
      "[278/2982] Deborah Nelson -> [(0.8235294117647058, 'Deborah J. Nelson')]\n",
      "[279/2982] Deborah Rosenfelt -> [(0.85, 'Deborah S. Rosenfelt')]\n",
      "[280/2982] Debra Franklin -> [(0.736842105263158, 'Debra Gray Franklin')]\n",
      "RETRY\n",
      "[280/2982] Debra Franklin -> [(1, 'Debra Franklin')]\n",
      "[281/2982] Debra Shapiro -> [(0.8125, 'Debra L. Shapiro')]\n",
      "[282/2982] Deepa Anagondahalli -> [(1, 'Deepa Anagondahalli')]\n",
      "[283/2982] Denis Sullivan -> [(0.8235294117647058, 'Denis F. Sullivan')]\n",
      "[284/2982] Dennis Herschbach -> [(0.85, 'Dennis R. Herschbach')]\n",
      "[285/2982] Dennis Nola -> [(0.7857142857142857, 'Dennis R. Nola')]\n",
      "[286/2982] Dennis Vacante -> [(0.8235294117647058, 'Dennis F. Vacante')]\n",
      "[287/2982] Denny Gulick -> [(1, 'Denny Gulick')]\n",
      "[288/2982] Derek Iwamoto -> [(1, 'Derek Iwamoto')]\n",
      "[289/2982] Derek Paley -> [(0.7857142857142857, 'Derek A. Paley')]\n",
      "[290/2982] Derek Richardson -> [(1, 'Derek Richardson')]\n",
      "[291/2982] Derrick Yeo -> [(0.5625, 'Derrick W Bender'), (0.5625, 'Derrick Thompson'), (0.5625, 'Derrick Campbell'), (0.5625, 'Derrick D Gorham'), (0.5625, 'Derrick E Wilcox'), (0.5625, 'Derrick L Gunter'), (0.5625, 'R Derrick Thomas')]\n",
      "RETRY\n",
      "[291/2982] Derrick Yeo -> [(1, 'Derrick Yeo')]\n",
      "[292/2982] Devarajan Thirumalai -> [(1, 'Devarajan Thirumalai')]\n",
      "[293/2982] Devin Scott -> [(0.7272727272727273, 'Devin Gantt')]\n",
      "RETRY\n",
      "[293/2982] Devin Scott -> [(0.75, 'Marvin Scott')]\n",
      "[294/2982] Diane Whitney -> [(1, 'Diane Whitney')]\n",
      "[295/2982] Dimitrios Goulias -> [(1, 'Dimitrios Goulias')]\n",
      "[296/2982] Dina El-Hefnawy -> [(0.8823529411764706, 'Dina A El-Hefnawy')]\n",
      "[297/2982] Dionisios Margetis -> [(1, 'Dionisios Margetis')]\n",
      "[298/2982] Dirk Parham -> [(1, 'Dirk Parham')]\n",
      "[299/2982] Dmitry Dolgopyat -> [(1, 'Dmitry Dolgopyat')]\n",
      "[300/2982] Doireann Renzi -> [(0.7, 'Doireann Tomas Renzi')]\n",
      "RETRY\n",
      "[300/2982] Doireann Renzi -> [(1, 'Doireann Renzi')]\n",
      "[301/2982] Dominic Palumbo -> [(0.8333333333333335, 'Dominic J. Palumbo')]\n",
      "[302/2982] Don DeVoe -> [(1, 'Don DeVoe')]\n",
      "[303/2982] Donald Bolger -> [(0.7692307692307692, 'Donald Tyler')]\n",
      "[304/2982] Donald Riley -> [(0.8, 'Donald R. Riley')]\n",
      "[305/2982] Donald Sutherland -> [(1, 'Donald Sutherland')]\n",
      "[306/2982] Donald Yeung -> [(1, 'Donald Yeung')]\n",
      "[307/2982] Dongxia Liu -> [(1, 'Dongxia Liu')]\n",
      "[308/2982] Donna Howard -> [(0.8571428571428572, 'Donna E Howard')]\n",
      "[309/2982] Dorith Grant-Wisdom -> [(1, 'Dorith Grant-Wisdom')]\n",
      "[310/2982] Dorothy Beckett -> [(1, 'Dorothy Beckett')]\n",
      "[311/2982] Douglas Hamilton (Astronomy) -> [(0.5, 'Douglas Robert Stone'), (0.5, 'Douglas W. Anthony'), (0.5, 'Douglas Campbell Britton')]\n",
      "RETRY\n",
      "[311/2982] Douglas Hamilton (Astronomy) -> [(0.5714285714285714, 'Douglas Hamilton')]\n",
      "[312/2982] Douglas Julin -> [(0.8125, 'Douglas A. Julin')]\n",
      "[313/2982] Douglas Kern -> [(0.6923076923076923, 'Douglas Young'), (0.6923076923076923, 'Douglas Tiedt')]\n",
      "RETRY\n",
      "[313/2982] Douglas Kern -> [(1, 'Douglas Kern')]\n",
      "[314/2982] Douglas Oard -> [(0.6923076923076923, 'Douglas Young'), (0.6923076923076923, 'Douglas Tiedt')]\n",
      "RETRY\n",
      "[314/2982] Douglas Oard -> [(1, 'Douglas Oard')]\n",
      "[315/2982] Dylan Selterman -> [(1, 'Dylan Selterman')]\n",
      "[316/2982] Ebony Shockley -> [(0.6363636363636364, 'Ebony Terrell Shockley')]\n",
      "RETRY\n",
      "[316/2982] Ebony Shockley -> [(1, 'Ebony Shockley')]\n",
      "[317/2982] Edgar Moctezuma -> [(1, 'Edgar Moctezuma')]\n",
      "[318/2982] Edith Ching -> [(0.6363636363636364, 'Judith King'), (0.6363636363636364, 'Edith H Han')]\n",
      "RETRY\n",
      "[318/2982] Edith Ching -> [(0.7272727272727273, 'Edith Han')]\n",
      "[319/2982] Edlie Wong -> [(0.7692307692307692, 'Edlie L. Wong')]\n",
      "[320/2982] Edmond Shenassa -> [(1, 'Edmond Shenassa')]\n",
      "[321/2982] Edo Waks -> [(1, 'Edo Waks')]\n",
      "[322/2982] Edward Bernat -> [(1, 'Edward Bernat')]\n",
      "[323/2982] Edward Ott -> [(1, 'Edward Ott')]\n",
      "[324/2982] Edward Priola -> [(0.8125, 'Edward J. Priola')]\n",
      "[325/2982] Edward Redish -> [(0.8125, 'Edward F. Redish')]\n",
      "[326/2982] Efrain Rodriguez -> [(0.8421052631578947, 'Efrain E. Rodriguez')]\n",
      "[327/2982] Eitan Tadmor -> [(1, 'Eitan Tadmor')]\n",
      "[328/2982] Elaine Anderson -> [(0.8333333333333335, 'Elaine A. Anderson')]\n",
      "[329/2982] Elena Lozinsky -> [(1, 'Elena Lozinsky')]\n",
      "[330/2982] Elif Kuz -> [(1, 'Elif Kuz')]\n",
      "[331/2982] Elijah Northen -> [(0.736842105263158, 'Elijah Luke Northen')]\n",
      "RETRY\n",
      "[331/2982] Elijah Northen -> [(1, 'Elijah Northen')]\n",
      "[332/2982] Elijah Osterloh -> [(0.75, 'Elijah Rael Osterloh')]\n",
      "RETRY\n",
      "[332/2982] Elijah Osterloh -> [(1, 'Elijah Osterloh')]\n",
      "[333/2982] Elinda Kiss -> [(0.8461538461538461, 'Elinda F Kiss')]\n",
      "[334/2982] Elisa Klein -> [(0.7857142857142857, 'Elisa L. Klein')]\n",
      "[335/2982] Elisabeth Maring -> [(0.7777777777777779, 'Elizabeth Martinez')]\n",
      "[336/2982] Elise Resnick -> [(0.8666666666666667, 'Elise M Resnick')]\n",
      "[337/2982] Elizabeth Beise -> [(1, 'Elizabeth Beise')]\n",
      "[338/2982] Elizabeth Brown -> [(0.8333333333333335, 'Elizabeth Y. Brown')]\n",
      "[339/2982] Elizabeth Conner -> [(0.75, 'Elizabeth Driver'), (0.75, 'Elizabeth Pepper')]\n",
      "RETRY\n",
      "[339/2982] Elizabeth Conner -> [(1, 'Elizabeth Conner')]\n",
      "[340/2982] Elizabeth Fixsen -> [(0.7647058823529411, 'Elizabeth Friedel')]\n",
      "[341/2982] Elizabeth Griffith -> [(0.6666666666666667, 'Elizabeth Campbell Griffith'), (0.6666666666666667, 'Elizabeth Gayle Smith'), (0.6666666666666667, 'Elizabeth L. Toth'), (0.6666666666666667, 'Elizabeth R. Wise'), (0.6666666666666667, 'Elizabeth Driver'), (0.6666666666666667, 'Elizabeth Brandt'), (0.6666666666666667, 'Elizabeth Richey'), (0.6666666666666667, 'Elizabeth M. Forte'), (0.6666666666666667, 'Elizabeth Friedel')]\n",
      "RETRY\n",
      "[341/2982] Elizabeth Griffith -> [(1, 'Elizabeth Griffith')]\n",
      "[342/2982] Elizabeth McClure -> [(0.8095238095238095, 'Elizabeth Ann McClure')]\n",
      "[343/2982] Elizabeth Quinlan -> [(0.85, 'Elizabeth M. Quinlan')]\n",
      "[344/2982] Elizabeth Robertson-Tchabo -> [(0.8387096774193549, 'Elizabeth Anne Robertson-Tchabo')]\n",
      "[345/2982] Elke Frederiksen -> [(0.8421052631578947, 'Elke P. Frederiksen')]\n",
      "[346/2982] Ellen Blumner -> [(0.8125, 'Ellen L. Blumner')]\n",
      "[347/2982] Ellen Lau -> [(1, 'Ellen Lau')]\n",
      "[348/2982] Elliot Berger -> [(1, 'Elliot Berger')]\n",
      "[349/2982] Elsa Barkley Brown -> [(1, 'Elsa Barkley Brown')]\n",
      "[350/2982] Emanuel Zur -> [(1, 'Emanuel Zur')]\n",
      "[351/2982] Emilee Durand -> [(1, 'Emilee Durand')]\n",
      "[352/2982] Emily Conover -> [(0.8125, 'Emily S. Conover')]\n",
      "[353/2982] Emily Lyons -> [(0.6923076923076923, 'Emily Blevins'), (0.6923076923076923, 'Teri L. Lyons')]\n",
      "RETRY\n",
      "[353/2982] Emily Lyons -> [(1, 'Emily Lyons')]\n",
      "[354/2982] Emily Mitchell -> [(1, 'Emily Mitchell')]\n",
      "[355/2982] Eric Dunning -> [(0.8571428571428572, 'Eric M Dunning')]\n",
      "[356/2982] Eric Haag -> [(0.8181818181818181, 'Eric S Haag')]\n",
      "[357/2982] Eric Hamilton -> [(1, 'Eric Hamilton')]\n",
      "[358/2982] Eric Luedtke -> [(0.6666666666666667, 'Eric Lee')]\n",
      "RETRY\n",
      "[358/2982] Eric Luedtke -> [(1, 'Eric Luedtke')]\n",
      "[359/2982] Eric Pacuit -> [(1, 'Eric Pacuit')]\n",
      "[360/2982] Eric Slud -> [(0.6666666666666667, 'Eric Shin'), (0.6666666666666667, 'Eric Zhu'), (0.6666666666666667, 'Eric Lee')]\n",
      "RETRY\n",
      "[360/2982] Eric Slud -> [(1, 'Eric Slud')]\n",
      "[361/2982] Eric Uslaner -> [(0.8, 'Eric M. Uslaner')]\n",
      "[362/2982] Eric Walker -> [(1, 'Eric Walker')]\n",
      "[363/2982] Eric Wish -> [(0.75, 'Eric D. Wish')]\n",
      "RETRY\n",
      "[363/2982] Eric Wish -> [(1, 'Eric Wish')]\n",
      "[364/2982] Eric Zakim -> [(1, 'Eric Zakim')]\n",
      "[365/2982] Erica Ely -> [(1, 'Erica Ely')]\n",
      "[366/2982] Erica Smith -> [(0.8461538461538461, 'Erica C Smith')]\n",
      "[367/2982] Erik Lichtenberg -> [(1, 'Erik Lichtenberg')]\n",
      "[368/2982] Erin Moody -> [(0.7272727272727273, 'Erin Mosely'), (0.7272727272727273, 'Erin Molloy')]\n",
      "RETRY\n",
      "[368/2982] Erin Moody -> [(1, 'Erin Moody')]\n",
      "[369/2982] Ethan Kaplan -> [(0.631578947368421, 'Ethan Daniel Kaplan')]\n",
      "RETRY\n",
      "[369/2982] Ethan Kaplan -> [(1, 'Ethan Kaplan')]\n",
      "[370/2982] Etsuko Yamakita -> [(1, 'Etsuko Yamakita')]\n",
      "[371/2982] Eugene Cantor -> [(0.6153846153846154, 'Eugene Won')]\n",
      "RETRY\n",
      "[371/2982] Eugene Cantor -> [(1, 'Eugene Cantor')]\n",
      "[372/2982] Eugene Robinson -> [(0.8333333333333335, 'Eugene S. Robinson')]\n",
      "[373/2982] Eun-Suk Seo -> [(1, 'Eun-Suk Seo')]\n",
      "[374/2982] Evan Golub -> [(1, 'Evan Golub')]\n",
      "[375/2982] Evan Starr -> [(0.6, 'Evan Kiser')]\n",
      "RETRY\n",
      "[375/2982] Evan Starr -> [(1, 'Evan Starr')]\n",
      "[376/2982] Evelyn Canabal-Torres -> [(1, 'Evelyn Canabal-Torres')]\n",
      "[377/2982] Evelyn King-Marshall -> [(0.7407407407407408, 'Evelyn Claire King-Marshall')]\n",
      "RETRY\n",
      "[377/2982] Evelyn King-Marshall -> [(1, 'Evelyn King-Marshall')]\n",
      "[378/2982] Eyda Merediz -> [(0.8571428571428572, 'Eyda M Merediz')]\n",
      "[379/2982] Fabian Faccio -> [(1, 'Fabian Faccio')]\n",
      "[380/2982] Faedra Carpenter -> [(0.8888888888888888, 'Faedra C Carpenter')]\n",
      "[381/2982] Fawzi Emad -> [(0.7142857142857143, 'Fawzi  JR Emad')]\n",
      "RETRY\n",
      "[381/2982] Fawzi Emad -> [(1, 'Fawzi Emad')]\n",
      "[382/2982] Federica Deigan -> [(0.6521739130434783, 'Federica Brunori Deigan')]\n",
      "RETRY\n",
      "[382/2982] Federica Deigan -> [(1, 'Federica Deigan')]\n",
      "[383/2982] Fernando Rios -> [(1, 'Fernando Rios')]\n",
      "[384/2982] Foon Sham -> [(0.75, 'Foon V. Sham')]\n",
      "RETRY\n",
      "[384/2982] Foon Sham -> [(1, 'Foon Sham')]\n",
      "[385/2982] Frances Gulick -> [(0.8235294117647058, 'Frances F. Gulick')]\n",
      "[386/2982] Frances Lee -> [(1, 'Frances Lee')]\n",
      "[387/2982] Francis Alt -> [(0.7857142857142857, 'Francis B. Alt')]\n",
      "[388/2982] Francisca Saavedra -> [(1, 'Francisca Saavedra')]\n",
      "[389/2982] Frank White -> [(0.7857142857142857, 'Frank F. White')]\n",
      "[390/2982] Franklin Hildy -> [(0.8235294117647058, 'Franklin J. Hildy')]\n",
      "[391/2982] Frederick Wellstood -> [(0.8636363636363636, 'Frederick C. Wellstood')]\n",
      "[392/2982] Ganesh Sriram -> [(1, 'Ganesh Sriram')]\n",
      "[393/2982] Gang Qu -> [(1, 'Gang Qu')]\n",
      "[394/2982] Garegin Papoian -> [(1, 'Garegin Papoian')]\n",
      "[395/2982] Gary Bulmash -> [(0.8, 'Gary F. Bulmash')]\n",
      "[396/2982] Gary Cohen -> [(0.8333333333333335, 'Gary A Cohen')]\n",
      "[397/2982] Gary Coleman -> [(0.8, 'Gary D. Coleman')]\n",
      "[398/2982] Gary Pertmer -> [(0.8, 'Gary A. Pertmer')]\n",
      "[399/2982] Geetha Ramani -> [(0.8666666666666667, 'Geetha B Ramani')]\n",
      "[400/2982] Geoffrey Milsom -> [(0.6521739130434783, 'Geoffrey Nikolai Milsom')]\n",
      "RETRY\n",
      "[400/2982] Geoffrey Milsom -> [(1, 'Geoffrey Milsom')]\n",
      "[401/2982] George Dieter -> [(0.7692307692307692, 'George Ritzer')]\n",
      "[402/2982] George Hambrecht -> [(0.8421052631578947, 'George N. Hambrecht')]\n",
      "[403/2982] George Hurtt -> [(0.8, 'George C. Hurtt')]\n",
      "[404/2982] George Lanum -> [(0.6666666666666667, 'George Wake')]\n",
      "RETRY\n",
      "[404/2982] George Lanum -> [(1, 'George Lanum')]\n",
      "[405/2982] George Syrmos -> [(1, 'George Syrmos')]\n",
      "[406/2982] Georges Rey -> [(1, 'Georges Rey')]\n",
      "[407/2982] Gerald Borgia -> [(1, 'Gerald Borgia')]\n",
      "[408/2982] Gerald Wilkinson -> [(0.8421052631578947, 'Gerald S. Wilkinson')]\n",
      "[409/2982] Gerard Evans -> [(0.6153846153846154, 'Gerard Holmes')]\n",
      "RETRY\n",
      "[409/2982] Gerard Evans -> [(0.6666666666666667, 'Jean Evans'), (0.6666666666666667, 'Gerard Francois')]\n",
      "[410/2982] Gerard Kunkel -> [(0.8125, 'Gerard F. Kunkel')]\n",
      "[411/2982] Gerard Passannante -> [(1, 'Gerard Passannante')]\n",
      "[412/2982] Gerry Strumpf -> [(0.8125, 'Gerry B. Strumpf')]\n",
      "[413/2982] Gideon Mark -> [(0.7857142857142857, 'Gideon E. Mark')]\n",
      "[414/2982] Gilad Chen -> [(1, 'Gilad Chen')]\n",
      "[415/2982] Gilad Sharon -> [(1, 'Gilad Sharon')]\n",
      "[416/2982] Gilmer Blankenship -> [(0.8571428571428572, 'Gilmer L. Blankenship')]\n",
      "[417/2982] Ginette Eldredge -> [(0.6956521739130435, 'Ginette Alomar Eldredge')]\n",
      "RETRY\n",
      "[417/2982] Ginette Eldredge -> [(1, 'Ginette Eldredge')]\n",
      "[418/2982] Giovanni Forni -> [(1, 'Giovanni Forni')]\n",
      "[419/2982] Giuliano Scarcelli -> [(1, 'Giuliano Scarcelli')]\n",
      "[420/2982] Glenn Rahmoeller -> [(0.8421052631578947, 'Glenn A. Rahmoeller')]\n",
      "[421/2982] Gniesha Dinwiddie -> [(0.7083333333333333, 'Gniesha Yvonne Dinwiddie')]\n",
      "RETRY\n",
      "[421/2982] Gniesha Dinwiddie -> [(1, 'Gniesha Dinwiddie')]\n",
      "[422/2982] Gosia Langa -> [(0.6875, 'Gosia Anna Langa')]\n",
      "RETRY\n",
      "[422/2982] Gosia Langa -> [(1, 'Gosia Langa')]\n",
      "[423/2982] Gottlieb Oehrlein -> [(1, 'Gottlieb Oehrlein')]\n",
      "[424/2982] Grace Deming -> [(1, 'Grace Deming')]\n",
      "[425/2982] Gregory Baecher -> [(0.8333333333333335, 'Gregory B. Baecher')]\n",
      "[426/2982] Gregory Barr -> [(0.7692307692307692, 'Gregory Coard')]\n",
      "[427/2982] Gregory Payne -> [(0.8125, 'Gregory F. Payne')]\n",
      "[428/2982] Gregory Shaffer -> [(0.7894736842105263, 'Gregory Jay Shaffer')]\n",
      "[429/2982] Gregory Staley -> [(0.8235294117647058, 'Gregory A. Staley')]\n",
      "[430/2982] Guangming Zhang -> [(1, 'Guangming Zhang')]\n",
      "[431/2982] Guiling Hu -> [(1, 'Guiling Hu')]\n",
      "[432/2982] Gul Branco -> [(1, 'Gul Branco')]\n",
      "[433/2982] Hagar Attia -> [(1, 'Hagar Attia')]\n",
      "[434/2982] Hailu Gebremariam -> [(0.7391304347826086, 'Hailu Bantu Gebremariam')]\n",
      "RETRY\n",
      "[434/2982] Hailu Gebremariam -> [(1, 'Hailu Gebremariam')]\n",
      "[435/2982] Hal Daume -> [(0.6428571428571428, 'Hal  III Daume')]\n",
      "RETRY\n",
      "[435/2982] Hal Daume -> [(1, 'Hal Daume')]\n",
      "[436/2982] Hanan Samet -> [(1, 'Hanan Samet')]\n",
      "[437/2982] Hanna Lee -> [(1, 'Hanna Lee')]\n",
      "[438/2982] Hannah Weiser -> [(0.8666666666666667, 'Hannah R Weiser')]\n",
      "[439/2982] Harold Burgess -> [(0.7, 'Harold F. II Burgess')]\n",
      "RETRY\n",
      "[439/2982] Harold Burgess -> [(1, 'Harold Burgess')]\n",
      "[440/2982] Harry Tamvakis -> [(1, 'Harry Tamvakis')]\n",
      "[441/2982] Hasan Elahi -> [(1, 'Hasan Elahi')]\n",
      "[442/2982] Hassan Ibrahim -> [(1, 'Hassan Ibrahim')]\n",
      "[443/2982] Hayim Lapin -> [(1, 'Hayim Lapin')]\n",
      "[444/2982] Heather Adair -> [(0.7142857142857143, 'Heather Yarger')]\n",
      "RETRY\n",
      "[444/2982] Heather Adair -> [(0.7142857142857143, 'Heather Yarger')]\n",
      "[445/2982] Heather McHale -> [(0.75, 'Heather M Nalley')]\n",
      "RETRY\n",
      "[445/2982] Heather McHale -> [(1, 'Heather McHale')]\n",
      "[446/2982] Heather Mehrtens -> [(0.8421052631578947, 'Heather A. Mehrtens')]\n",
      "[447/2982] Hector Corrada Bravo -> [(1, 'Hector Corrada Bravo')]\n",
      "[448/2982] Hee-Jung Song -> [(1, 'Hee-Jung Song')]\n",
      "[449/2982] Henry Boyd -> [(0.6666666666666667, 'Henry Boothe')]\n",
      "RETRY\n",
      "[449/2982] Henry Boyd -> [(1, 'Henry Boyd')]\n",
      "[450/2982] Herman Sintim -> [(0.8666666666666667, 'Herman O Sintim')]\n",
      "[451/2982] Heyrim Cho -> [(1, 'Heyrim Cho')]\n",
      "[452/2982] Hoda Mahmoudi -> [(1, 'Hoda Mahmoudi')]\n",
      "[453/2982] Holly Brewer -> [(1, 'Holly Brewer')]\n",
      "[454/2982] Holly Smith -> [(0.7272727272727273, 'Cory Smith'), (0.7272727272727273, 'Corey Smith')]\n",
      "RETRY\n",
      "[454/2982] Holly Smith -> [(1, 'Holly Smith')]\n",
      "[455/2982] Hossein Abbasi -> [(1, 'Hossein Abbasi')]\n",
      "[456/2982] Howard Elman -> [(0.8, 'Howard C. Elman')]\n",
      "[457/2982] Howard Leathers -> [(0.8333333333333335, 'Howard D. Leathers')]\n",
      "[458/2982] Howard Milchberg -> [(0.8421052631578947, 'Howard M. Milchberg')]\n",
      "[459/2982] Howard Norman -> [(1, 'Howard Norman')]\n",
      "[460/2982] Howard Smead -> [(1, 'Howard Smead')]\n",
      "[461/2982] Huanchen Bao -> [(1, 'Huanchen Bao')]\n",
      "[462/2982] Hubert Montas -> [(0.8125, 'Hubert J. Montas')]\n",
      "[463/2982] Hugh Turner -> [(0.6153846153846154, 'Paul F Turner')]\n",
      "RETRY\n",
      "[463/2982] Hugh Turner -> [(1, 'Hugh Turner')]\n",
      "[464/2982] Humberto Coronado -> [(0.7083333333333333, 'Humberto Carlos Coronado')]\n",
      "RETRY\n",
      "[464/2982] Humberto Coronado -> [(1, 'Humberto Coronado')]\n",
      "[465/2982] I Suadin -> [(0.5714285714285714, 'I Ketut Suadin')]\n",
      "RETRY\n",
      "[465/2982] I Suadin -> [(1, 'I Suadin')]\n",
      "[466/2982] Ian Appelbaum -> [(1, 'Ian Appelbaum')]\n",
      "[467/2982] Ian Ward -> [(1, 'Ian Ward')]\n",
      "[468/2982] Ibrahim Ades -> [(0.8, 'Ibrahim Z. Ades')]\n",
      "[469/2982] Ibrahim Kargbo -> [(1, 'Ibrahim Kargbo')]\n",
      "[470/2982] Ichiro Takeuchi -> [(1, 'Ichiro Takeuchi')]\n",
      "[471/2982] Ida Meftahi -> [(1, 'Ida Meftahi')]\n",
      "[472/2982] Il-Horn Hann -> [(1, 'Il-Horn Hann')]\n",
      "[473/2982] Ingrid Satelmajer -> [(0.85, 'Ingrid I. Satelmajer')]\n",
      "[474/2982] Ira Berlin -> [(1, 'Ira Berlin')]\n",
      "[475/2982] Ira Chinoy -> [(0.7692307692307692, 'Ira H. Chinoy')]\n",
      "[476/2982] Irwin Morris -> [(0.6666666666666667, 'Fred Morris')]\n",
      "RETRY\n",
      "[476/2982] Irwin Morris -> [(1, 'Irwin Morris')]\n",
      "[477/2982] Isaak Mayergoyz -> [(1, 'Isaak Mayergoyz')]\n",
      "[478/2982] Isabel Lloyd -> [(0.8, 'Isabel K. Lloyd')]\n",
      "[479/2982] Isabelle Gournay -> [(0.8421052631578947, 'Isabelle J. Gournay')]\n",
      "[480/2982] Jack Baker -> [(0.7692307692307692, 'Jack T. Baker')]\n",
      "[481/2982] Jack Blanchard -> [(0.8235294117647058, 'Jack J. Blanchard')]\n",
      "[482/2982] Jaclyn Bruner -> [(1, 'Jaclyn Bruner')]\n",
      "[483/2982] Jacob Bedrossian -> [(0.6956521739130435, 'Jacob Philip Bedrossian')]\n",
      "RETRY\n",
      "[483/2982] Jacob Bedrossian -> [(1, 'Jacob Bedrossian')]\n",
      "[484/2982] Jacqueline Messing -> [(1, 'Jacqueline Messing')]\n",
      "[485/2982] Jacqueline Stone -> [(1, 'Jacqueline Stone')]\n",
      "[486/2982] Jade Olson -> [(1, 'Jade Olson')]\n",
      "[487/2982] Jaime Madden -> [(0.6, 'Jennifer Hadden')]\n",
      "RETRY\n",
      "[487/2982] Jaime Madden -> [(1, 'Jaime Madden')]\n",
      "[488/2982] James Baeder -> [(0.8, 'James D. Baeder')]\n",
      "[489/2982] James Bond -> [(0.7692307692307692, 'James E. Bond')]\n",
      "[490/2982] James Butler -> [(0.7058823529411764, 'James  III Butler')]\n",
      "RETRY\n",
      "[490/2982] James Butler -> [(1, 'James Butler')]\n",
      "[491/2982] James Carton -> [(0.8, 'James A. Carton')]\n",
      "[492/2982] James Culver -> [(0.8, 'James N. Culver')]\n",
      "[493/2982] James Drake -> [(0.7857142857142857, 'James F. Drake')]\n",
      "[494/2982] James Duncan -> [(0.8, 'James H. Duncan')]\n",
      "[495/2982] James Farquhar -> [(1, 'James Farquhar')]\n",
      "[496/2982] James Fry -> [(0.75, 'James H. Fry')]\n",
      "RETRY\n",
      "[496/2982] James Fry -> [(1, 'James Fry')]\n",
      "[497/2982] James Gao -> [(0.75, 'James Z. Gao')]\n",
      "RETRY\n",
      "[497/2982] James Gao -> [(1, 'James Gao')]\n",
      "[498/2982] James Gimpel -> [(0.8, 'James G. Gimpel')]\n",
      "[499/2982] James Glass -> [(0.7857142857142857, 'James M. Glass')]\n",
      "[500/2982] James Green -> [(0.7857142857142857, 'James M. Green')]\n",
      "[501/2982] James Hagberg -> [(0.8125, 'James M. Hagberg')]\n",
      "[502/2982] James Maffie -> [(1, 'James Maffie')]\n",
      "[503/2982] James McGinnis -> [(0.7142857142857143, 'James D Dennis')]\n",
      "RETRY\n",
      "[503/2982] James McGinnis -> [(1, 'James McGinnis')]\n",
      "[504/2982] James McKinney -> [(0.875, 'James J McKinney')]\n",
      "[505/2982] James Milke -> [(0.7857142857142857, 'James A. Milke')]\n",
      "[506/2982] James Purtilo -> [(0.8125, 'James M. Purtilo')]\n",
      "[507/2982] James Reggia -> [(0.8, 'James A. Reggia')]\n",
      "[508/2982] James Riker -> [(0.7857142857142857, 'James V. Riker')]\n",
      "[509/2982] James Schafer -> [(0.8125, 'James A. Schafer')]\n",
      "[510/2982] James Spina -> [(0.7857142857142857, 'James D. Spina')]\n",
      "[511/2982] James Thorpe -> [(0.8, 'James G. Thorpe')]\n",
      "[512/2982] Jamie Fry -> [(0.8181818181818181, 'Jamie L Fry')]\n",
      "[513/2982] Jandelyn Plane -> [(0.736842105263158, 'Jandelyn Dawn Plane')]\n",
      "RETRY\n",
      "[513/2982] Jandelyn Plane -> [(1, 'Jandelyn Plane')]\n",
      "[514/2982] Jane Fines -> [(0.6, 'Jane Lee')]\n",
      "RETRY\n",
      "[514/2982] Jane Fines -> [(1, 'Jane Fines')]\n",
      "[515/2982] Janelle Wong -> [(1, 'Janelle Wong')]\n",
      "[516/2982] Janet Chernela -> [(1, 'Janet Chernela')]\n",
      "[517/2982] Janet Wagner -> [(1, 'Janet Wagner')]\n",
      "[518/2982] Janna Bianchini -> [(1, 'Janna Bianchini')]\n",
      "[519/2982] Jared Kenlon -> [(0.6153846153846154, 'Jared Orwenyo')]\n",
      "RETRY\n",
      "[519/2982] Jared Kenlon -> [(1, 'Jared Kenlon')]\n",
      "[520/2982] Jared Novick -> [(0.8571428571428572, 'Jared M Novick')]\n",
      "[521/2982] Jason Farman -> [(0.8, 'Jason A. Farman')]\n",
      "[522/2982] Jason Kahn -> [(0.7692307692307692, 'Jason D. Kahn')]\n",
      "[523/2982] Jason Kuo -> [(0.75, 'Jason C. Kuo')]\n",
      "RETRY\n",
      "[523/2982] Jason Kuo -> [(1, 'Jason Kuo')]\n",
      "[524/2982] Jason Nichols -> [(0.6923076923076923, 'Larry Nichols'), (0.6923076923076923, 'Jason C Chow')]\n",
      "RETRY\n",
      "[524/2982] Jason Nichols -> [(1, 'Jason Nichols')]\n",
      "[525/2982] Jay Goldstein -> [(0.8125, 'Jay D. Goldstein')]\n",
      "[526/2982] Jay Smith -> [(0.7272727272727273, 'Barry Smith'), (0.7272727272727273, 'Larry Smith'), (0.7272727272727273, 'Darby Smith')]\n",
      "RETRY\n",
      "[526/2982] Jay Smith -> [(1, 'Jay Smith')]\n",
      "[527/2982] Jaydev Desai -> [(0.6153846153846154, 'Sonalde Desai')]\n",
      "RETRY\n",
      "[527/2982] Jaydev Desai -> [(1, 'Jaydev Desai')]\n",
      "[528/2982] Jean McGloin -> [(0.8571428571428572, 'Jean M McGloin')]\n",
      "[529/2982] Jeff Maynor -> [(0.6470588235294117, 'Jeff S. JR Maynor')]\n",
      "RETRY\n",
      "[529/2982] Jeff Maynor -> [(1, 'Jeff Maynor')]\n",
      "[530/2982] Jeff Miller -> [(1, 'Jeff Miller')]\n",
      "[531/2982] Jeffery Davis -> [(1, 'Jeffery Davis')]\n",
      "[532/2982] Jeffery Klauda -> [(0.8235294117647058, 'Jeffery B. Klauda')]\n",
      "[533/2982] Jeffrey Adams -> [(0.8125, 'Jeffrey D. Adams')]\n",
      "[534/2982] Jeffrey DeStefano -> [(0.85, 'Jeffrey J. DeStefano')]\n",
      "[535/2982] Jeffrey Foster -> [(0.8235294117647058, 'Jeffrey S. Foster')]\n",
      "[536/2982] Jeffrey Griswold -> [(1, 'Jeffrey Griswold')]\n",
      "[537/2982] Jeffrey Herf -> [(0.8571428571428572, 'Jeffrey C Herf')]\n",
      "[538/2982] Jeffrey Herrmann -> [(0.8421052631578947, 'Jeffrey W. Herrmann')]\n",
      "[539/2982] Jeffrey Kodis -> [(1, 'Jeffrey Kodis')]\n",
      "[540/2982] Jeffrey Kudisch -> [(0.8333333333333335, 'Jeffrey D. Kudisch')]\n",
      "[541/2982] Jeffrey Lidz -> [(1, 'Jeffrey Lidz')]\n",
      "[542/2982] Jeffrey Lucas -> [(0.8125, 'Jeffrey W. Lucas')]\n",
      "[543/2982] Jeffrey Milton -> [(0.875, 'Jeffrey J Milton')]\n",
      "[544/2982] Jeffrey Shultz -> [(0.8235294117647058, 'Jeffrey W. Shultz')]\n",
      "[545/2982] Jelena Srebric -> [(1, 'Jelena Srebric')]\n",
      "[546/2982] Jennie Chaplin -> [(0.6, 'Jennifer Chaves'), (0.6, 'Jennifer Hadden')]\n",
      "RETRY\n",
      "[546/2982] Jennie Chaplin -> [(0.6666666666666667, 'Jennie Schiazzi'), (0.6666666666666667, 'Jennie Phillips')]\n",
      "[547/2982] Jennie Lee-Kim -> [(0.8235294117647058, 'Jennie H. Lee-Kim')]\n",
      "[548/2982] Jennie Phillips -> [(0.8823529411764706, 'Jennie A Phillips')]\n",
      "[549/2982] Jennifer Barclay Newsham -> [(1, 'Jennifer Barclay Newsham')]\n",
      "[550/2982] Jennifer Froh -> [(0.8666666666666667, 'Jennifer C Froh')]\n",
      "[551/2982] Jennifer Gershberg -> [(0.9, 'Jennifer K Gershberg')]\n",
      "[552/2982] Jennifer Golbeck -> [(0.8, 'Jennifer Ann Golbeck')]\n",
      "[553/2982] Jennifer Wessel -> [(0.75, 'Jennifer Leah Wessel')]\n",
      "RETRY\n",
      "[553/2982] Jennifer Wessel -> [(1, 'Jennifer Wessel')]\n",
      "[554/2982] Jens Herberholz -> [(1, 'Jens Herberholz')]\n",
      "[555/2982] Jerrold Levinson -> [(1, 'Jerrold Levinson')]\n",
      "[556/2982] Jerry Semper -> [(0.8, 'Jerry L. Semper')]\n",
      "[557/2982] Jesse Brooks -> [(0.7692307692307692, 'Kelsey Brooks')]\n",
      "[558/2982] Jessica O'Hara -> [(0.8235294117647058, \"Jessica K. O'Hara\")]\n",
      "[559/2982] Jessica Sunshine -> [(0.8888888888888888, 'Jessica M Sunshine')]\n",
      "[560/2982] Jessica Vitak -> [(1, 'Jessica Vitak')]\n",
      "[561/2982] Jian Lun Xu -> [(1, 'Jian Lun Xu')]\n",
      "[562/2982] Jian Wang -> [(1, 'Jian Wang')]\n",
      "[563/2982] Jianguo Ma -> [(1, 'Jianguo Ma')]\n",
      "[564/2982] Jianhua Zhu -> [(1, 'Jianhua Zhu')]\n",
      "[565/2982] Jie Zhang -> [(1, 'Jie Zhang')]\n",
      "[566/2982] Jing Lin -> [(1, 'Jing Lin')]\n",
      "[567/2982] Jinhee Kim -> [(1, 'Jinhee Kim')]\n",
      "[568/2982] Jo Paoletti -> [(0.7857142857142857, 'Jo B. Paoletti')]\n",
      "[569/2982] Jo Ellen Barnhart -> [(0.85, 'Jo Ellen M. Barnhart')]\n",
      "[570/2982] Joan Burton -> [(0.7857142857142857, 'Joan B. Burton')]\n",
      "[571/2982] Joan Kahn -> [(0.75, 'Joan R. Kahn')]\n",
      "RETRY\n",
      "[571/2982] Joan Kahn -> [(1, 'Joan Kahn')]\n",
      "[572/2982] Joan Mooney -> [(0.8461538461538461, 'Joan H Mooney')]\n",
      "[573/2982] Joanna Goger -> [(0.8, 'Joanna B. Goger')]\n",
      "[574/2982] Joel Cohen -> [(0.8, 'Joel Chan')]\n",
      "[575/2982] Joel Simmons -> [(1, 'Joel Simmons')]\n",
      "[576/2982] Joelle Presson -> [(0.8235294117647058, 'Joelle C. Presson')]\n",
      "[577/2982] Johan Larsson -> [(1, 'Johan Larsson')]\n",
      "[578/2982] Johanna Birnir -> [(0.875, 'Johanna K Birnir')]\n",
      "[579/2982] John Aloimonos -> [(1, 'John Aloimonos')]\n",
      "[580/2982] John Auchard -> [(1, 'John Auchard')]\n",
      "[581/2982] John Baras -> [(0.7692307692307692, 'John S. Baras')]\n",
      "[582/2982] John Brown -> [(0.7, 'J Brown'), (0.7, 'John Bono')]\n",
      "RETRY\n",
      "[582/2982] John Brown -> [(1, 'John Brown')]\n",
      "[583/2982] John Buchner -> [(1, 'John Buchner')]\n",
      "[584/2982] John Cable -> [(0.75, 'John C Allen')]\n",
      "RETRY\n",
      "[584/2982] John Cable -> [(1, 'John Cable')]\n",
      "[585/2982] John Carlson -> [(0.8, 'John B. Carlson')]\n",
      "[586/2982] John Chao -> [(0.7777777777777779, 'John Ham')]\n",
      "[587/2982] John Cumings -> [(1, 'John Cumings')]\n",
      "[588/2982] John Kim -> [(0.8, 'John J Kim')]\n",
      "[589/2982] John MacIntosh -> [(0.7142857142857143, 'Ian McIntosh')]\n",
      "RETRY\n",
      "[589/2982] John MacIntosh -> [(1, 'John Macintosh')]\n",
      "[590/2982] John Matthews -> [(0.75, 'Jolinda Matthews')]\n",
      "RETRY\n",
      "[590/2982] John Matthews -> [(1, 'John Matthews')]\n",
      "[591/2982] John McCauley -> [(0.8125, 'John F. McCauley')]\n",
      "[592/2982] John Merck -> [(0.7, 'John Neri')]\n",
      "RETRY\n",
      "[592/2982] John Merck -> [(1, 'John Merck')]\n",
      "[593/2982] John Neri -> [(1, 'John Neri')]\n",
      "[594/2982] John Ondov -> [(0.7692307692307692, 'John M. Ondov')]\n",
      "[595/2982] John Pease -> [(1, 'John Pease')]\n",
      "[596/2982] John Sabelhaus -> [(1, 'John Sabelhaus')]\n",
      "[597/2982] John Shea -> [(1, 'John Shea')]\n",
      "[598/2982] John Wallis -> [(0.7857142857142857, 'John J. Wallis')]\n",
      "[599/2982] John Witzleben -> [(0.6086956521739131, 'John Lawrence Witzleben')]\n",
      "RETRY\n",
      "[599/2982] John Witzleben -> [(1, 'John Witzleben')]\n",
      "[600/2982] Johnna Schmidt -> [(0.7, 'Johnna Marie Schmidt')]\n",
      "RETRY\n",
      "[600/2982] Johnna Schmidt -> [(1, 'Johnna Schmidt')]\n",
      "[601/2982] Johnpierre Paglione -> [(1, 'Johnpierre Paglione')]\n",
      "[602/2982] Jon Sumida -> [(0.7692307692307692, 'Jon T. Sumida')]\n",
      "[603/2982] Jonathan Aberman -> [(0.7619047619047619, 'Jonathan Moss Aberman')]\n",
      "[604/2982] Jonathan Auerbach -> [(0.85, 'Jonathan D. Auerbach')]\n",
      "[605/2982] Jonathan Dinman -> [(0.8333333333333335, 'Jonathan D. Dinman')]\n",
      "[606/2982] Jonathan England -> [(0.6875, 'Jonathan Ng'), (0.6875, 'Jonathan Brande'), (0.6875, 'Jonathan Wang'), (0.6875, 'Jonathan D Lent'), (0.6875, 'Jonathan D Roane')]\n",
      "RETRY\n",
      "[606/2982] Jonathan England -> [(1, 'Jonathan England')]\n",
      "[607/2982] Jonathan Mohr -> [(0.8125, 'Jonathan J. Mohr')]\n",
      "[608/2982] Jonathan Rick -> [(1, 'Jonathan Rick')]\n",
      "[609/2982] Jonathan Simon -> [(0.9333333333333332, 'Jonathan Shimon')]\n",
      "[610/2982] Jordan Goodman -> [(0.8235294117647058, 'Jordan A. Goodman')]\n",
      "[611/2982] Jorge Holzer Bilbao -> [(0.8636363636363636, 'Jorge G. Holzer Bilbao')]\n",
      "[612/2982] Jose Aranda-Espinoza -> [(0.7692307692307692, 'Jose Helim Aranda-Espinoza')]\n",
      "[613/2982] Jose Feijo -> [(0.7692307692307692, 'Jose A. Feijo')]\n",
      "[614/2982] Jose Naharro-Calderon -> [(0.875, 'Jose M. Naharro-Calderon')]\n",
      "[615/2982] Jose Suarez -> [(0.7857142857142857, 'Jose G. Suarez')]\n",
      "[616/2982] Jose-Luis Izursa -> [(1, 'Jose-Luis Izursa')]\n",
      "[617/2982] Joseph Angelella -> [(0.7619047619047619, 'Joseph Ross Angelella')]\n",
      "[618/2982] Joseph Falvo -> [(0.8, 'Joseph D. Falvo')]\n",
      "[619/2982] Joseph JaJa -> [(0.7857142857142857, 'Joseph F. JaJa')]\n",
      "[620/2982] Joseph McCaleb -> [(0.8235294117647058, 'Joseph L. McCaleb')]\n",
      "[621/2982] Joseph Perfetti -> [(1, 'Joseph Perfetti')]\n",
      "[622/2982] Joseph Richardson -> [(0.8095238095238095, 'Joseph Richard Schoen')]\n",
      "[623/2982] Joseph Wappel -> [(0.8125, 'Joseph F. Wappel')]\n",
      "[624/2982] Joshua Buursma -> [(0.6666666666666667, 'Joshua Graham Buursma')]\n",
      "RETRY\n",
      "[624/2982] Joshua Buursma -> [(1, 'Joshua Buursma')]\n",
      "[625/2982] Joshua Davidsburg -> [(1, 'Joshua Davidsburg')]\n",
      "[626/2982] Joshua Shannon -> [(0.875, 'Joshua A Shannon')]\n",
      "[627/2982] Joshua Singer -> [(1, 'Joshua Singer')]\n",
      "[628/2982] Joshua Weiss -> [(0.8571428571428572, 'Joshua J Weiss')]\n",
      "[629/2982] Jowita Wyszomirska -> [(1, 'Jowita Wyszomirska')]\n",
      "[630/2982] Judd Nelson -> [(0.7857142857142857, 'Judd O. Nelson')]\n",
      "[631/2982] Jude Cassidy -> [(0.7058823529411764, 'Jude Anne Cassidy')]\n",
      "RETRY\n",
      "[631/2982] Jude Cassidy -> [(1, 'Jude Cassidy')]\n",
      "[632/2982] Judith Freidenberg -> [(0.8571428571428572, 'Judith N. Freidenberg')]\n",
      "[633/2982] Judith Gebhardt -> [(0.6, 'Judith Mahaffy')]\n",
      "RETRY\n",
      "[633/2982] Judith Gebhardt -> [(0.625, 'Judith Hernandez')]\n",
      "[634/2982] Judith Hallett -> [(0.8235294117647058, 'Judith P. Hallett')]\n",
      "[635/2982] Judith Hellerstein -> [(0.8571428571428572, 'Judith K. Hellerstein')]\n",
      "[636/2982] Judith Tenney -> [(1, 'Judith Tenney')]\n",
      "[637/2982] Julie Daberkow -> [(0.8235294117647058, 'Julie A. Daberkow')]\n",
      "[638/2982] Julie Gowin -> [(0.7857142857142857, 'Julie S. Gowin')]\n",
      "[639/2982] Julie Koser -> [(1, 'Julie Koser')]\n",
      "[640/2982] Julie Park -> [(1, 'Julie Park')]\n",
      "[641/2982] Julie Pavlovsky -> [(0.75, 'Julie Alex Pavlovsky')]\n",
      "RETRY\n",
      "[641/2982] Julie Pavlovsky -> [(1, 'Julie Pavlovsky')]\n",
      "[642/2982] Julie Randolph -> [(1, 'Julie Randolph')]\n",
      "[643/2982] Julie Silva -> [(0.7857142857142857, 'Julie A. Silva')]\n",
      "[644/2982] Julie Taddeo -> [(1, 'Julie Taddeo')]\n",
      "[645/2982] Julius Fleming -> [(0.736842105263158, 'Julius B JR Fleming')]\n",
      "RETRY\n",
      "[645/2982] Julius Fleming -> [(1, 'Julius Fleming')]\n",
      "[646/2982] Julius Goldhar -> [(1, 'Julius Goldhar')]\n",
      "[647/2982] June Hargrove -> [(0.8125, 'June E. Hargrove')]\n",
      "[648/2982] Jungho Kim -> [(1, 'Jungho Kim')]\n",
      "[649/2982] Jungjung Lee-Heitz -> [(1, 'Jungjung Lee-Heitz')]\n",
      "[650/2982] Justicia Opoku-Edusei -> [(1, 'Justicia Opoku-Edusei')]\n",
      "[651/2982] Justin Lohr -> [(0.75, 'Justin Moore')]\n",
      "RETRY\n",
      "[651/2982] Justin Lohr -> [(1, 'Justin Lohr')]\n",
      "[652/2982] Justin Nero -> [(0.7857142857142857, 'Justin R. Nero')]\n",
      "[653/2982] Justin Reyna -> [(0.6428571428571428, 'Justin R. Nero'), (0.6428571428571428, 'Justin D Edgar')]\n",
      "RETRY\n",
      "[653/2982] Justin Reyna -> [(1, 'Justin Reyna')]\n",
      "[654/2982] Justin Sprague -> [(0.6428571428571428, 'Justin Strom')]\n",
      "RETRY\n",
      "[654/2982] Justin Sprague -> [(0.7142857142857143, 'Justin Siraj')]\n",
      "[655/2982] Justin Strom -> [(1, 'Justin Strom')]\n",
      "[656/2982] Justin Wyss-Gallifent -> [(0.8076923076923077, 'Justin Olav Wyss-Gallifent')]\n",
      "[657/2982] Justine Madoo -> [(0.6190476190476191, 'Justine McDavid Madoo')]\n",
      "RETRY\n",
      "[657/2982] Justine Madoo -> [(1, 'Justine Madoo')]\n",
      "[658/2982] KJ Ray Liu -> [(1, 'KJ Ray Liu')]\n",
      "[659/2982] Kalyani Chadha -> [(1, 'Kalyani Chadha')]\n",
      "[660/2982] Kanisha Bond -> [(0.631578947368421, 'Kanisha De Ann Bond')]\n",
      "RETRY\n",
      "[660/2982] Kanisha Bond -> [(1, 'Kanisha Bond')]\n",
      "[661/2982] Kara Hoffman -> [(1, 'Kara Hoffman')]\n",
      "[662/2982] Karen Angeline -> [(1, 'Karen Angeline')]\n",
      "[663/2982] Karen Carleton -> [(1, 'Karen Carleton')]\n",
      "[664/2982] Karen Hallows -> [(0.6428571428571428, 'Karen E. Lewis')]\n",
      "RETRY\n",
      "[664/2982] Karen Hallows -> [(1, 'Karen Hallows')]\n",
      "[665/2982] Karen Lamb -> [(0.7272727272727273, 'Karen Ramey')]\n",
      "RETRY\n",
      "[665/2982] Karen Lamb -> [(1, 'Karen Lamb')]\n",
      "[666/2982] Karen Lips -> [(0.7692307692307692, 'Karen R. Lips')]\n",
      "[667/2982] Karen McLaren -> [(1, 'Karen McLaren')]\n",
      "[668/2982] Karen O'Brien -> [(1, \"Karen O'Brien\")]\n",
      "[669/2982] Karen Prestegaard -> [(0.85, 'Karen L. Prestegaard')]\n",
      "[670/2982] Kari Kraus -> [(1, 'Kari Kraus')]\n",
      "[671/2982] Karol Soltan -> [(0.8, 'Karol E. Soltan')]\n",
      "[672/2982] Kasso Okoudjou -> [(0.8235294117647058, 'Kasso A. Okoudjou')]\n",
      "[673/2982] Katarina Keane -> [(1, 'Katarina Keane')]\n",
      "[674/2982] Katerina Thompson -> [(0.85, 'Katerina V. Thompson')]\n",
      "[675/2982] Katherine Izsak -> [(0.7333333333333334, 'Katherine Burk'), (0.7333333333333334, 'Katherine Joshi')]\n",
      "RETRY\n",
      "[675/2982] Katherine Izsak -> [(1, 'Katherine Izsak')]\n",
      "[676/2982] Katherine Joshi -> [(1, 'Katherine Joshi')]\n",
      "[677/2982] Katherine Oneill -> [(0.7058823529411764, 'Katherine Werrell')]\n",
      "RETRY\n",
      "[677/2982] Katherine Oneill -> [(1, 'Katherine Oneill')]\n",
      "[678/2982] Katherine Robinson -> [(0.7777777777777779, 'Catherine Sorenson')]\n",
      "[679/2982] Kathleen Cunningham -> [(0.6956521739130435, 'Kathleen M. Faulkingham')]\n",
      "RETRY\n",
      "[679/2982] Kathleen Cunningham -> [(1, 'Kathleen Cunningham')]\n",
      "[680/2982] Kathleen Skinker -> [(0.75, 'Kathleen Booker'), (0.75, 'Kathleen Haines')]\n",
      "RETRY\n",
      "[680/2982] Kathleen Skinker -> [(1, 'Kathleen Skinker')]\n",
      "[681/2982] Kathryn Monzo -> [(1, 'Kathryn Monzo')]\n",
      "[682/2982] Kathryn Truman -> [(0.8235294117647058, 'Kathryn E. Truman')]\n",
      "[683/2982] Kathy Weaver -> [(1, 'Kathy Weaver')]\n",
      "[684/2982] Katy Lawley -> [(1, 'Katy Lawley')]\n",
      "[685/2982] Kawthar Zaki -> [(0.5714285714285714, 'Katharine Zang')]\n",
      "RETRY\n",
      "[685/2982] Kawthar Zaki -> [(0.5714285714285714, 'Katharine Zang')]\n",
      "[686/2982] Kaye Brubaker -> [(0.8125, 'Kaye L. Brubaker')]\n",
      "[687/2982] Kazim Ruhi -> [(1, 'Kazim Ruhi')]\n",
      "[688/2982] Kazuo Nakajima -> [(1, 'Kazuo Nakajima')]\n",
      "[689/2982] Keisha Allan -> [(0.631578947368421, 'Keisha Simone Allan')]\n",
      "RETRY\n",
      "[689/2982] Keisha Allan -> [(1, 'Keisha Allan')]\n",
      "[690/2982] Keith Herold -> [(0.8, 'Keith E. Herold')]\n",
      "[691/2982] Keith Yearwood -> [(1, 'Keith Yearwood')]\n",
      "[692/2982] Kelly Cresap -> [(0.7058823529411764, 'Kelly Mark Cresap')]\n",
      "RETRY\n",
      "[692/2982] Kelly Cresap -> [(1, 'Kelly Cresap')]\n",
      "[693/2982] Kelly Stepno -> [(0.6666666666666667, 'Kelly Marie Stepno')]\n",
      "RETRY\n",
      "[693/2982] Kelly Stepno -> [(1, 'Kelly Stepno')]\n",
      "[694/2982] Kelsey Gipe -> [(0.6875, 'Kelsey Anne Gipe')]\n",
      "RETRY\n",
      "[694/2982] Kelsey Gipe -> [(1, 'Kelsey Gipe')]\n",
      "[695/2982] Kelsey Kerr -> [(0.7333333333333334, 'Kelsey Ann Kerr')]\n",
      "RETRY\n",
      "[695/2982] Kelsey Kerr -> [(1, 'Kelsey Kerr')]\n",
      "[696/2982] Kenneth Beck -> [(0.8, 'Kenneth H. Beck')]\n",
      "[697/2982] Kenneth Berg -> [(0.75, 'Kenneth Bunn')]\n",
      "RETRY\n",
      "[697/2982] Kenneth Berg -> [(0.8333333333333335, 'Kenneth Beck'), (0.8333333333333335, 'Kenneth Bell')]\n",
      "[698/2982] Kenneth Frauwirth -> [(1, 'Kenneth Frauwirth')]\n",
      "[699/2982] Kenneth Ingram -> [(0.8235294117647058, 'Kenneth B. Ingram')]\n",
      "[700/2982] Kenneth Kiger -> [(0.8125, 'Kenneth T. Kiger')]\n",
      "[701/2982] Kenneth Klotz -> [(0.8125, 'Kenneth W. Klotz')]\n",
      "[702/2982] Kenneth Leonard -> [(0.8333333333333335, 'Kenneth L. Leonard'), (0.8333333333333335, 'Kenneth T. Leonard')]\n",
      "[703/2982] Kenneth O'Connell -> [(0.85, \"Kenneth J. O'Connell\")]\n",
      "[704/2982] Kenneth Yu -> [(0.7692307692307692, 'Kenneth H. Yu')]\n",
      "[705/2982] Kent Norman -> [(0.7857142857142857, 'Kent L. Norman')]\n",
      "[706/2982] Kerry Green -> [(0.7857142857142857, 'Kerry M. Green')]\n",
      "[707/2982] Kerry Tripp -> [(0.7857142857142857, 'Kerry W. Tripp')]\n",
      "[708/2982] Kevin Calabro -> [(0.6428571428571428, 'Kevin M Alford')]\n",
      "RETRY\n",
      "[708/2982] Kevin Calabro -> [(1, 'Kevin Calabro')]\n",
      "[709/2982] Kevin Dayaratna -> [(1, 'Kevin Dayaratna')]\n",
      "[710/2982] Kevin Klose -> [(1, 'Kevin Klose')]\n",
      "[711/2982] Kevin Roy -> [(0.75, 'Kevin M. Roy')]\n",
      "RETRY\n",
      "[711/2982] Kevin Roy -> [(1, 'Kevin Roy')]\n",
      "[712/2982] Khalid Long -> [(0.6363636363636364, 'Leslie Long')]\n",
      "RETRY\n",
      "[712/2982] Khalid Long -> [(0.7272727272727273, 'David Long')]\n",
      "[713/2982] Ki-Yong Kim -> [(1, 'Ki-Yong Kim')]\n",
      "[714/2982] Kim Coles -> [(1, 'Kim Coles')]\n",
      "[715/2982] Kimberly Bethke -> [(0.75, 'Kimberly Anne Bethke')]\n",
      "RETRY\n",
      "[715/2982] Kimberly Bethke -> [(1, 'Kimberly Bethke')]\n",
      "[716/2982] Kimberly Van Putten-Gardner -> [(0.5555555555555556, 'Kimberly T. Turner')]\n",
      "RETRY\n",
      "[716/2982] Kimberly Van Putten-Gardner -> [(0.5185185185185186, 'Kimberly Turner')]\n",
      "[717/2982] Kisa Lape -> [(0.6, 'Kisa Marie Lape'), (0.6, 'Lisa Eaker'), (0.6, 'Lisa Carey')]\n",
      "RETRY\n",
      "[717/2982] Kisa Lape -> [(1, 'Kisa Lape')]\n",
      "[718/2982] Koki Nagata -> [(1, 'Koki Nagata')]\n",
      "[719/2982] Konstantina Trivisa -> [(1, 'Konstantina Trivisa')]\n",
      "[720/2982] Korey Rothman -> [(0.8125, 'Korey R. Rothman')]\n",
      "[721/2982] Kris Marsh -> [(1, 'Kris Marsh')]\n",
      "[722/2982] Krista Caballero -> [(0.8421052631578947, 'Krista L. Caballero')]\n",
      "[723/2982] Kristen Hines -> [(0.8125, 'Kristen M. Hines')]\n",
      "[724/2982] Kristin LaRiviere -> [(1, 'Kristin LaRiviere')]\n",
      "[725/2982] Kristina Miler -> [(1, 'Kristina Miler')]\n",
      "[726/2982] Kristjana Maddux -> [(0.8, 'Kristjana Lyn Maddux')]\n",
      "[727/2982] Kumiko Akikawa -> [(1, 'Kumiko Akikawa')]\n",
      "[728/2982] Kurt Finsterbusch -> [(1, 'Kurt Finsterbusch')]\n",
      "[729/2982] Kyoko Okamoto -> [(0.8125, 'Kyoko M. Okamoto')]\n",
      "[730/2982] Kyungjin Yoo -> [(1, 'Kyungjin Yoo')]\n",
      "[731/2982] L Gordon -> [(0.6363636363636364, 'Sara Gordon')]\n",
      "RETRY\n",
      "[731/2982] L Gordon -> [(1, 'L Gordon')]\n",
      "[732/2982] L Jen Shaffer -> [(1, 'L Jen Shaffer')]\n",
      "[733/2982] Lai-Xi Wang -> [(1, 'Lai-Xi Wang')]\n",
      "[734/2982] Lance Yonkos -> [(0.8, 'Lance T. Yonkos')]\n",
      "[735/2982] Larry Davis -> [(0.8181818181818181, 'Terry Davis')]\n",
      "[736/2982] Larry Plotkin -> [(1, 'Larry Plotkin')]\n",
      "[737/2982] Lars Olson -> [(0.7692307692307692, 'Lars J. Olson')]\n",
      "[738/2982] Laura Demaria -> [(1, 'Laura Demaria')]\n",
      "[739/2982] Laura Dugan -> [(1, 'Laura Dugan')]\n",
      "[740/2982] Laura Iosip -> [(0.6153846153846154, 'Laura I Lopez')]\n",
      "RETRY\n",
      "[740/2982] Laura Iosip -> [(0.7272727272727273, 'Laura Logie')]\n",
      "[741/2982] Laura Schnitker -> [(0.75, 'Laura Beth Schnitker')]\n",
      "RETRY\n",
      "[741/2982] Laura Schnitker -> [(1, 'Laura Schnitker')]\n",
      "[742/2982] Laura Williams -> [(0.8666666666666667, 'Laurie Williams'), (0.8666666666666667, 'Lauren Williams')]\n",
      "[743/2982] Laure Brooks -> [(0.6666666666666667, 'Laure Weber Brooks'), (0.6666666666666667, 'Laurie Brown')]\n",
      "RETRY\n",
      "[743/2982] Laure Brooks -> [(1, 'Laure Brooks')]\n",
      "[744/2982] Lauren Edelstein -> [(0.6875, 'Lauren C. Stern')]\n",
      "RETRY\n",
      "[744/2982] Lauren Edelstein -> [(1, 'Lauren Edelstein')]\n",
      "[745/2982] Lauren Porter -> [(0.6923076923076923, 'Ken Porter'), (0.6923076923076923, 'Lauren Meier'), (0.6923076923076923, 'Lauren Jones'), (0.6923076923076923, 'Lauren White'), (0.6923076923076923, 'Carla Porter')]\n",
      "RETRY\n",
      "[745/2982] Lauren Porter -> [(1, 'Lauren Porter')]\n",
      "[746/2982] Larry Herman -> [(1, 'Larry Herman')]\n",
      "[747/2982] Laurent Montesi -> [(0.8333333333333335, 'Laurent G. Montesi')]\n",
      "[748/2982] Lawrence Gordon -> [(0.8333333333333335, 'Lawrence A. Gordon')]\n",
      "[749/2982] Lawrence Sita -> [(0.8125, 'Lawrence R. Sita')]\n",
      "[750/2982] Lawrence Washington -> [(0.8636363636363636, 'Lawrence C. Washington')]\n",
      "[751/2982] Lea Dougherty -> [(0.7222222222222221, 'Lea Rose Dougherty')]\n",
      "RETRY\n",
      "[751/2982] Lea Dougherty -> [(1, 'Lea Dougherty')]\n",
      "[752/2982] Lee Boese -> [(0.6, 'Lee Choon Boese')]\n",
      "RETRY\n",
      "[752/2982] Lee Boese -> [(1, 'Lee Boese')]\n",
      "[753/2982] Lee Friedman -> [(1, 'Lee Friedman')]\n",
      "[754/2982] Lee Hinkle -> [(0.7, 'Lee Hinga')]\n",
      "RETRY\n",
      "[754/2982] Lee Hinkle -> [(1, 'Lee Hinkle')]\n",
      "[755/2982] Lee Konstantinou -> [(1, 'Lee Konstantinou')]\n",
      "[756/2982] Lei Zhou -> [(1, 'Lei Zhou')]\n",
      "[757/2982] Leigh Leslie -> [(0.8, 'Leigh A. Leslie')]\n",
      "[758/2982] Leland Gardner -> [(1, 'Leland Gardner')]\n",
      "[759/2982] Lenea Stocker -> [(0.7222222222222221, 'Lenea Hope Stocker')]\n",
      "RETRY\n",
      "[759/2982] Lenea Stocker -> [(1, 'Lenea Stocker')]\n",
      "[760/2982] Leo Deming -> [(0.625, 'Leo Drake Deming')]\n",
      "RETRY\n",
      "[760/2982] Leo Deming -> [(1, 'Leo Deming')]\n",
      "[761/2982] Leo Shapiro -> [(0.7857142857142857, 'Leo H. Shapiro')]\n",
      "[762/2982] Leonard Taylor -> [(0.8235294117647058, 'Leonard S. Taylor')]\n",
      "[763/2982] Leonid Koralov -> [(1, 'Leonid Koralov')]\n",
      "[764/2982] Leslie Berns -> [(0.8571428571428572, 'Leslie A Berns')]\n",
      "[765/2982] Leslie Felbain -> [(0.875, 'Leslie C Felbain')]\n",
      "[766/2982] Leslie Mostow -> [(0.8666666666666667, 'Leslie A Mostow')]\n",
      "[767/2982] Leslie Page-Voth -> [(1, 'Leslie Page-Voth')]\n",
      "[768/2982] Leslie Pick -> [(1, 'Leslie Pick')]\n",
      "[769/2982] Leslie Rowland -> [(0.8235294117647058, 'Leslie S. Rowland')]\n",
      "[770/2982] Leslie Walker -> [(0.8125, 'Leslie A. Walker')]\n",
      "[771/2982] Lester Escobal -> [(1, 'Lester Escobal')]\n",
      "[772/2982] Liam Healy -> [(1, 'Liam Healy')]\n",
      "[773/2982] Liana Sayer -> [(0.7857142857142857, 'Liana C. Sayer')]\n",
      "[774/2982] Liangbing Hu -> [(1, 'Liangbing Hu')]\n",
      "[775/2982] Liangli Yu -> [(1, 'Liangli Yu')]\n",
      "[776/2982] Lillian Doherty -> [(0.8333333333333335, 'Lillian E. Doherty')]\n",
      "[777/2982] Linda Coleman -> [(0.8125, 'Linda K. Coleman')]\n",
      "[778/2982] Linda Kauffman -> [(0.8235294117647058, 'Linda S. Kauffman')]\n",
      "[779/2982] Linda Schmidt -> [(0.8125, 'Linda C. Schmidt')]\n",
      "[780/2982] Lindley Darden -> [(1, 'Lindley Darden')]\n",
      "[781/2982] Lindsay Bernal -> [(0.736842105263158, 'Lindsay Anne Bernal')]\n",
      "RETRY\n",
      "[781/2982] Lindsay Bernal -> [(1, 'Lindsay Bernal')]\n",
      "[782/2982] Lindsay Yotsukura -> [(0.85, 'Lindsay A. Yotsukura')]\n",
      "[783/2982] Lisa Eaker -> [(1, 'Lisa Eaker')]\n",
      "[784/2982] Lisa Scheeler -> [(0.7333333333333334, 'Lisa M. Wheeler')]\n",
      "RETRY\n",
      "[784/2982] Lisa Scheeler -> [(1, 'Lisa Scheeler')]\n",
      "[785/2982] Liu Yang -> [(1, 'Liu Yang')]\n",
      "[786/2982] Liza Lebrun -> [(1, 'Liza Lebrun')]\n",
      "[787/2982] Lori Kader -> [(0.7692307692307692, 'Lori J. Kader')]\n",
      "[788/2982] Louiqa Raschid -> [(1, 'Louiqa Raschid')]\n",
      "[789/2982] Louisa Wu -> [(0.75, 'Louisa P. Wu')]\n",
      "RETRY\n",
      "[789/2982] Louisa Wu -> [(1, 'Louisa Wu')]\n",
      "[790/2982] Louise Martinez -> [(0.6875, 'Marinel Martinez')]\n",
      "RETRY\n",
      "[790/2982] Louise Martinez -> [(1, 'Louise Martinez')]\n",
      "[791/2982] Lucas Butler -> [(0.6666666666666667, 'Lucas Payne Butler'), (0.6666666666666667, 'Brian Butler'), (0.6666666666666667, 'Lucas Dunlap')]\n",
      "RETRY\n",
      "[791/2982] Lucas Butler -> [(1, 'Lucas Butler')]\n",
      "[792/2982] Luis Charry -> [(1, 'Luis Charry')]\n",
      "[793/2982] Lutf Alkebsi -> [(0.8, 'Lutf Y. Alkebsi')]\n",
      "[794/2982] Luz Martinez-Miranda -> [(0.9090909090909091, 'Luz J Martinez-Miranda')]\n",
      "[795/2982] M Fardanesh -> [(0.6111111111111112, 'M Bagher Fardanesh')]\n",
      "RETRY\n",
      "[795/2982] M Fardanesh -> [(1, 'M Fardanesh')]\n",
      "[796/2982] M Reynolds -> [(0.75, 'Ash Reynolds')]\n",
      "RETRY\n",
      "[796/2982] M Reynolds -> [(1, 'M Reynolds')]\n",
      "[797/2982] Madeleine Goh -> [(0.8666666666666667, 'Madeleine M Goh')]\n",
      "[798/2982] Madeline Zilfi -> [(0.8235294117647058, 'Madeline C. Zilfi')]\n",
      "[799/2982] Madlen Simon -> [(1, 'Madlen Simon')]\n",
      "[800/2982] Mahmoud Massoud -> [(1, 'Mahmoud Massoud')]\n",
      "[801/2982] Majid Raissi-Dehkordi -> [(1, 'Majid Raissi-Dehkordi')]\n",
      "[802/2982] Makiko Inoue -> [(1, 'Makiko Inoue')]\n",
      "[803/2982] Manoj Franklin -> [(1, 'Manoj Franklin')]\n",
      "[804/2982] Manouchehr Mokhtari -> [(1, 'Manouchehr Mokhtari')]\n",
      "[805/2982] Manoussos Grillakis -> [(1, 'Manoussos Grillakis')]\n",
      "[806/2982] Mansoor Moaddel -> [(1, 'Mansoor Moaddel')]\n",
      "[807/2982] Marc Rogers -> [(0.7857142857142857, 'Marc A. Rogers')]\n",
      "[808/2982] Marcia Shofner -> [(0.8235294117647058, 'Marcia A. Shofner')]\n",
      "[809/2982] Marco Colombini -> [(1, 'Marco Colombini')]\n",
      "[810/2982] Margaret Antonisse -> [(0.8571428571428572, 'Margaret J. Antonisse')]\n",
      "[811/2982] Margaret Pearson -> [(0.8421052631578947, 'Margaret M. Pearson')]\n",
      "[812/2982] Margaret Peterson -> [(0.75, 'Margaret A. Elberson')]\n",
      "RETRY\n",
      "[812/2982] Margaret Peterson -> [(1, 'Margaret Peterson')]\n",
      "[813/2982] Margaret Udahogora -> [(1, 'Margaret Udahogora')]\n",
      "[814/2982] Margaret Walker -> [(0.75, 'Margaret Anne Walker')]\n",
      "RETRY\n",
      "[814/2982] Margaret Walker -> [(1, 'Margaret Walker')]\n",
      "[815/2982] Margaret Wrobleski -> [(0.8571428571428572, 'Margaret M. Wrobleski')]\n",
      "[816/2982] Marguerite Jarchow -> [(0.8571428571428572, 'Marguerite E. Jarchow')]\n",
      "[817/2982] Maria Cameron -> [(0.8125, 'Maria K. Cameron')]\n",
      "[818/2982] Marianne Conroy -> [(1, 'Marianne Conroy')]\n",
      "[819/2982] Marilena Draganescu -> [(1, 'Marilena Draganescu')]\n",
      "[820/2982] Marine Carpuat -> [(1, 'Marine Carpuat')]\n",
      "[821/2982] Marino diMarzo -> [(1, 'Marino diMarzo')]\n",
      "[822/2982] Marjorie Bonavia -> [(1, 'Marjorie Bonavia')]\n",
      "[823/2982] Marjorie Reaka -> [(0.8235294117647058, 'Marjorie L. Reaka')]\n",
      "[824/2982] Mark Austin -> [(0.7857142857142857, 'Mark A. Austin')]\n",
      "[825/2982] Mark Carroll -> [(0.8, 'Mark J. Carroll')]\n",
      "[826/2982] Mark Feldstein -> [(1, 'Mark Feldstein')]\n",
      "[827/2982] Mark Fitzgerald -> [(0.8823529411764706, 'Mark T Fitzgerald')]\n",
      "[828/2982] Mark Forrester -> [(0.8235294117647058, 'Mark A. Forrester')]\n",
      "[829/2982] Mark Freidlin -> [(0.8125, 'Mark I. Freidlin')]\n",
      "[830/2982] Mark Fuge -> [(0.8181818181818181, 'Mark D Fuge')]\n",
      "[831/2982] Mark Graber -> [(0.7272727272727273, 'Mark Baer')]\n",
      "RETRY\n",
      "[831/2982] Mark Graber -> [(0.7272727272727273, 'Mark Graham'), (0.7272727272727273, 'Mark Green'), (0.7272727272727273, 'Mark Baer')]\n",
      "[832/2982] Mark Gray -> [(0.7, 'Mark Franz')]\n",
      "RETRY\n",
      "[832/2982] Mark Gray -> [(0.7272727272727273, 'Mark Graham')]\n",
      "[833/2982] Mark Leone -> [(0.7692307692307692, 'Mark P. Leone')]\n",
      "[834/2982] Mark Loewenstein -> [(0.8421052631578947, 'Mark V. Loewenstein')]\n",
      "[835/2982] Mark Shayman -> [(0.8333333333333335, 'Mark Hyman')]\n",
      "[836/2982] Mark Taranto -> [(0.8, 'Mark A. Taranto')]\n",
      "[837/2982] Marlene Cimons -> [(1, 'Marlene Cimons')]\n",
      "[838/2982] Marsha Rozenblit -> [(0.8421052631578947, 'Marsha L. Rozenblit')]\n",
      "[839/2982] Martha Nell Smith -> [(1, 'Martha Nell Smith')]\n",
      "[840/2982] Martin Dresner -> [(0.8235294117647058, 'Martin E. Dresner')]\n",
      "[841/2982] Martin Peckerar -> [(0.8333333333333335, 'Martin C. Peckerar')]\n",
      "[842/2982] Martin Rabenhorst -> [(0.85, 'Martin C. Rabenhorst')]\n",
      "[843/2982] Martina Copelman -> [(1, 'Martina Copelman')]\n",
      "[844/2982] Marvin Scott -> [(0.8, 'Marvin W. Scott')]\n",
      "[845/2982] Mary Bowden -> [(0.7857142857142857, 'Mary L. Bowden')]\n",
      "[846/2982] Alison Burns -> [(1, 'Alison Burns')]\n",
      "[847/2982] Mary Byrne -> [(0.6666666666666667, 'Mary Kearney')]\n",
      "RETRY\n",
      "[847/2982] Mary Byrne -> [(1, 'Mary Byrne')]\n",
      "[848/2982] Mary Ellen Scullen -> [(1, 'Mary Ellen Scullen')]\n",
      "[849/2982] Mary Harms -> [(0.7272727272727273, 'Mary Harvey')]\n",
      "RETRY\n",
      "[849/2982] Mary Harms -> [(1, 'Mary Harms')]\n",
      "[850/2982] Mary Keim -> [(0.6666666666666667, 'Mary Kot'), (0.6666666666666667, 'Mary Bell')]\n",
      "RETRY\n",
      "[850/2982] Mary Keim -> [(1, 'Mary Keim')]\n",
      "[851/2982] Mary Pittas-Herschbach -> [(1, 'Mary Pittas-Herschbach')]\n",
      "[852/2982] Mary Zaki -> [(1, 'Mary Zaki')]\n",
      "[853/2982] Maryl Gensheimer -> [(0.8888888888888888, 'Maryl B Gensheimer')]\n",
      "[854/2982] Massimo Ricotti -> [(1, 'Massimo Ricotti')]\n",
      "[855/2982] Matei Machedon -> [(1, 'Matei Machedon')]\n",
      "[856/2982] Matthew Aruch -> [(0.7647058823529411, 'Matthew Ian Aruch')]\n",
      "[857/2982] Matthew Hansen -> [(0.8235294117647058, 'Matthew C. Hansen')]\n",
      "[858/2982] Matthew Kirschenbaum -> [(0.8695652173913043, 'Matthew G. Kirschenbaum')]\n",
      "[859/2982] Matthew McLaughlin -> [(1, 'Matthew McLaughlin')]\n",
      "[860/2982] Matthew Roesch -> [(0.736842105263158, 'Matthew Ryan Roesch')]\n",
      "RETRY\n",
      "[860/2982] Matthew Roesch -> [(1, 'Matthew Roesch')]\n",
      "[861/2982] Matthew Suriano -> [(1, 'Matthew Suriano')]\n",
      "[862/2982] Mauro Resmini -> [(1, 'Mauro Resmini')]\n",
      "[863/2982] Maxine Grossman -> [(1, 'Maxine Grossman')]\n",
      "[864/2982] McBlaine Boyle -> [(0.6363636363636364, 'McBlaine Michael Boyle')]\n",
      "RETRY\n",
      "[864/2982] McBlaine Boyle -> [(1, 'McBlaine Boyle')]\n",
      "[865/2982] Megan Fitzmaurice -> [(0.5294117647058824, 'Megan Malone'), (0.5294117647058824, 'Megan E Malone')]\n",
      "RETRY\n",
      "[865/2982] Megan Fitzmaurice -> [(0.5294117647058824, 'Megan Fritz'), (0.5294117647058824, 'Megan Fleury'), (0.5294117647058824, 'Megan Farmer'), (0.5294117647058824, 'Megan Malone'), (0.5294117647058824, \"Megan O'Rourke\"), (0.5294117647058824, 'Megan Stewart')]\n",
      "[866/2982] Mehl Penrose -> [(0.8, 'Mehl A. Penrose')]\n",
      "[867/2982] Mei Kong -> [(1, 'Mei Kong')]\n",
      "[868/2982] Melanie Faith -> [(1, 'Melanie Faith')]\n",
      "[869/2982] Melanie Killen -> [(0.8571428571428572, 'Melanie Kill')]\n",
      "[870/2982] Melissa Del Rios -> [(1, 'Melissa Del Rios')]\n",
      "[871/2982] Melissa Hayes-Gehrke -> [(0.9090909090909091, 'Melissa N Hayes-Gehrke')]\n",
      "[872/2982] Melissa Kearney -> [(0.75, 'Melissa A Kenney')]\n",
      "RETRY\n",
      "[872/2982] Melissa Kearney -> [(1, 'Melissa Kearney')]\n",
      "[873/2982] Melissa Landa -> [(0.6923076923076923, 'Melissa May'), (0.6923076923076923, 'Melissa Carry'), (0.6923076923076923, 'Melissa Hopta')]\n",
      "RETRY\n",
      "[873/2982] Melissa Landa -> [(1, 'Melissa Landa')]\n",
      "[874/2982] Melissa Lucas -> [(0.8125, 'Melissa A. Lucas')]\n",
      "[875/2982] Melissa Macasieb -> [(1, 'Melissa Macasieb')]\n",
      "[876/2982] Meredith Gill -> [(0.7222222222222221, 'Meredith Jane Gill')]\n",
      "RETRY\n",
      "[876/2982] Meredith Gill -> [(1, 'Meredith Gill')]\n",
      "[877/2982] Meredith Kleykamp -> [(0.85, 'Meredith A. Kleykamp')]\n",
      "[878/2982] Meridith Styer -> [(0.7, 'Meridith Irene Styer')]\n",
      "RETRY\n",
      "[878/2982] Meridith Styer -> [(1, 'Meridith Styer')]\n",
      "[879/2982] Merle Collins -> [(1, 'Merle Collins')]\n",
      "[880/2982] Merrilee Cox -> [(1, 'Merrilee Cox')]\n",
      "[881/2982] Meyer Kestnbaum -> [(1, 'Meyer Kestnbaum')]\n",
      "[882/2982] Mia A Smith-Bynum -> [(1, 'Mia A Smith-Bynum')]\n",
      "[883/2982] Miao Yu -> [(1, 'Miao Yu')]\n",
      "[884/2982] Michael Abrams -> [(0.7333333333333334, 'Michael J Frame')]\n",
      "RETRY\n",
      "[884/2982] Michael Abrams -> [(1, 'Michael Abrams')]\n",
      "[885/2982] Michael Busse -> [(0.8125, 'Michael D. Busse')]\n",
      "[886/2982] Michael Colson -> [(0.875, 'Michael D Colson')]\n",
      "[887/2982] Michael Coplan -> [(0.8235294117647058, 'Michael A. Coplan')]\n",
      "[888/2982] Michael Cummings -> [(0.8888888888888888, 'Michael P Cummings')]\n",
      "[889/2982] Michael Dougherty -> [(0.8947368421052632, 'Michael R Dougherty')]\n",
      "[890/2982] Michael Dunham -> [(1, 'Michael Dunham')]\n",
      "[891/2982] Michael Faulkender -> [(1, 'Michael Faulkender')]\n",
      "[892/2982] Michael Finch -> [(0.6923076923076923, 'Michael Fry'), (0.6923076923076923, 'Michael F Fox'), (0.6923076923076923, 'Michael Tony'), (0.6923076923076923, 'Michael Mann'), (0.6923076923076923, 'Michael Henry'), (0.6923076923076923, 'Michael Nixon'), (0.6923076923076923, 'Michael Mirny')]\n",
      "RETRY\n",
      "[892/2982] Michael Finch -> [(1, 'Michael Finch')]\n",
      "[893/2982] Michael Friedman -> [(1, 'Michael Friedman')]\n",
      "[894/2982] Michael Galczynski -> [(0.7222222222222221, 'Michael Hinczewski')]\n",
      "RETRY\n",
      "[894/2982] Michael Galczynski -> [(1, 'Michael Galczynski')]\n",
      "[895/2982] Michael Hicks -> [(0.8125, 'Michael W. Hicks')]\n",
      "[896/2982] Michael Israel -> [(1, 'Michael Israel')]\n",
      "[897/2982] Michael Keller -> [(0.9285714285714286, 'Michael Geller'), (0.9285714285714286, 'Michael Weller')]\n",
      "[898/2982] Michael Kolakoski -> [(0.8947368421052632, 'Michael K Kolakoski')]\n",
      "[899/2982] Michael Laskowski -> [(0.85, 'Michael C. Laskowski')]\n",
      "[900/2982] Michael Long -> [(0.8571428571428572, 'Michael H Long')]\n",
      "[901/2982] Michael Ma -> [(0.8333333333333335, 'Michael Mann')]\n",
      "[902/2982] Michael Miller -> [(0.875, 'Michael A Miller')]\n",
      "[903/2982] Michael Montague-Smith -> [(0.9166666666666665, 'Michael P Montague-Smith')]\n",
      "[904/2982] Michael Ohadi -> [(1, 'Michael Ohadi')]\n",
      "[905/2982] Michael Olmert -> [(1, 'Michael Olmert')]\n",
      "[906/2982] Michael Padhi -> [(1, 'Michael Padhi')]\n",
      "[907/2982] Michael Pratt -> [(0.7333333333333334, 'Michael Prakhye')]\n",
      "RETRY\n",
      "[907/2982] Michael Pratt -> [(1, 'Michael Pratt')]\n",
      "[908/2982] Michael Ross -> [(1, 'Michael Ross')]\n",
      "[909/2982] Michael Spivey -> [(1, 'Michael Spivey')]\n",
      "[910/2982] Michael Winett -> [(0.8235294117647058, 'Michael S. Winett')]\n",
      "[911/2982] Michel Cukier -> [(1, 'Michel Cukier')]\n",
      "[912/2982] Michel Wedel -> [(1, 'Michel Wedel')]\n",
      "[913/2982] Michele Mason -> [(1, 'Michele Mason')]\n",
      "[914/2982] Michelle Brooks -> [(1, 'Michelle Brooks')]\n",
      "[915/2982] Michelle Girvan -> [(1, 'Michelle Girvan')]\n",
      "[916/2982] Michelle Hugue -> [(0.8235294117647058, 'Michelle M. Hugue')]\n",
      "[917/2982] Michelle Mazurek -> [(1, 'Michelle Mazurek')]\n",
      "[918/2982] Michelle Molinaro -> [(0.7647058823529411, 'Michelle Montero'), (0.7647058823529411, 'Michelle Monroe')]\n",
      "[919/2982] Michelle Morrison -> [(1, 'Michelle Morrison')]\n",
      "[920/2982] Michelle Rowley -> [(0.8823529411764706, 'Michelle V Rowley')]\n",
      "[921/2982] Michelle Von Euw -> [(0.75, 'Michelle Montero')]\n",
      "RETRY\n",
      "[921/2982] Michelle Von Euw -> [(0.75, 'Michelle Euw')]\n",
      "[922/2982] Michelle Yang -> [(0.8461538461538461, 'Michelle Tan')]\n",
      "[923/2982] Mihai Pop -> [(1, 'Mihai Pop')]\n",
      "[924/2982] Mikhail Dolbilov -> [(1, 'Mikhail Dolbilov')]\n",
      "[925/2982] Mila Zlatic -> [(1, 'Mila Zlatic')]\n",
      "[926/2982] Milagros Schwartz -> [(0.6470588235294117, 'Maxim Schwartz'), (0.6470588235294117, 'Karen Schwartz')]\n",
      "RETRY\n",
      "[926/2982] Milagros Schwartz -> [(0.6470588235294117, 'Charles Schwartz'), (0.6470588235294117, 'Stuart Schwartz'), (0.6470588235294117, 'Maxim Schwartz'), (0.6470588235294117, 'Karen Schwartz')]\n",
      "[927/2982] Miles Bradbury -> [(0.8235294117647058, 'Miles L. Bradbury')]\n",
      "[928/2982] Millard Alexander -> [(0.85, 'Millard H. Alexander')]\n",
      "[929/2982] Milton Davis -> [(0.6666666666666667, 'Milton C III Davis'), (0.6666666666666667, 'Megan Davis'), (0.6666666666666667, 'Morgan Davis')]\n",
      "RETRY\n",
      "[929/2982] Milton Davis -> [(1, 'Milton Davis')]\n",
      "[930/2982] Min Ouyang -> [(1, 'Min Ouyang')]\n",
      "[931/2982] Min Wang -> [(1, 'Min Wang')]\n",
      "[932/2982] Mira Azarm -> [(1, 'Mira Azarm')]\n",
      "[933/2982] Miroslaw Skibniewski -> [(0.8333333333333335, 'Miroslaw Jan Skibniewski')]\n",
      "[934/2982] Mitchell Hebert -> [(1, 'Mitchell Hebert')]\n",
      "[935/2982] Mohamad Al-Sheikhly -> [(0.8636363636363636, 'Mohamad I. Al-Sheikhly')]\n",
      "[936/2982] Mohamed Aggour -> [(0.6666666666666667, 'Mohamed Sherif Aggour')]\n",
      "RETRY\n",
      "[936/2982] Mohamed Aggour -> [(1, 'Mohamed Aggour')]\n",
      "[937/2982] Mohammad Hajiaghayi -> [(0.76, 'Mohammad Taghi Hajiaghayi')]\n",
      "[938/2982] Monifa Vaughn-Cooke -> [(1, 'Monifa Vaughn-Cooke')]\n",
      "[939/2982] Monique Koppel -> [(1, 'Monique Koppel')]\n",
      "[940/2982] Mrim Boutla -> [(1, 'Mrim Boutla')]\n",
      "[941/2982] Musa Subasi -> [(1, 'Musa Subasi')]\n",
      "[942/2982] Myeong-Gu Seo -> [(1, 'Myeong-Gu Seo')]\n",
      "[943/2982] Nabila Hijazi -> [(0.5909090909090908, 'Nabila Abdullah Hijazi')]\n",
      "RETRY\n",
      "[943/2982] Nabila Hijazi -> [(1, 'Nabila Hijazi')]\n",
      "[944/2982] Nadine Sahyoun -> [(0.8235294117647058, 'Nadine R. Sahyoun')]\n",
      "[945/2982] Nahal Akbari-Saneh -> [(1, 'Nahal Akbari-Saneh')]\n",
      "[946/2982] Naijun Zhou -> [(1, 'Naijun Zhou')]\n",
      "[947/2982] Najib El-Sayed -> [(0.8235294117647058, 'Najib M. El-Sayed')]\n",
      "[948/2982] Nam Sun Wang -> [(1, 'Nam Sun Wang')]\n",
      "[949/2982] Narendra Ratnapala -> [(0.9, 'Narendra D Ratnapala')]\n",
      "[950/2982] Natalia Tchetcherina -> [(0.8695652173913043, 'Natalia F. Tchetcherina')]\n",
      "[951/2982] Natalia White -> [(0.8125, 'Natalia L. White')]\n",
      "[952/2982] Natasha Andrade -> [(1, 'Natasha Andrade')]\n",
      "[953/2982] Natasha Chapman -> [(0.7333333333333334, 'LaTasha Coleman')]\n",
      "RETRY\n",
      "[953/2982] Natasha Chapman -> [(1, 'Natasha Chapman')]\n",
      "[954/2982] Nathan Tillman -> [(0.7777777777777779, 'Nathan Wil Tillman')]\n",
      "[955/2982] Nathaniel Tablante -> [(0.75, 'Nathaniel L. JR Tablante')]\n",
      "RETRY\n",
      "[955/2982] Nathaniel Tablante -> [(1, 'Nathaniel Tablante')]\n",
      "[956/2982] Naveen Sarna -> [(1, 'Naveen Sarna')]\n",
      "[957/2982] Nazish Salahuddin -> [(0.85, 'Nazish M. Salahuddin')]\n",
      "[958/2982] Neil Blough -> [(0.7857142857142857, 'Neil V. Blough')]\n",
      "[959/2982] Neil Goldsman -> [(1, 'Neil Goldsman')]\n",
      "[960/2982] Neil Lund -> [(0.5555555555555556, 'Drew Lund')]\n",
      "RETRY\n",
      "[960/2982] Neil Lund -> [(0.6363636363636364, 'Neil Blough')]\n",
      "[961/2982] Neil Spring -> [(1, 'Neil Spring')]\n",
      "[962/2982] Nelson Padua-Perez -> [(1, 'Nelson Padua-Perez')]\n",
      "[963/2982] Nicholas Montgomery -> [(1, 'Nicholas Montgomery')]\n",
      "[964/2982] Nicholas Schmerr -> [(0.8421052631578947, 'Nicholas C. Schmerr')]\n",
      "[965/2982] Nicholas Seybert -> [(0.6956521739130435, 'Nicholas Andrew Seybert')]\n",
      "RETRY\n",
      "[965/2982] Nicholas Seybert -> [(1, 'Nicholas Seybert')]\n",
      "[966/2982] Nicole Coomber -> [(0.8235294117647058, 'Nicole M. Coomber')]\n",
      "[967/2982] Nicole LaRonde -> [(0.8235294117647058, 'Nicole A. LaRonde')]\n",
      "[968/2982] Nicole Mogul -> [(0.8571428571428572, 'Nicole F Mogul')]\n",
      "[969/2982] Nikhil Chopra -> [(1, 'Nikhil Chopra')]\n",
      "[970/2982] Norma Andrews -> [(0.6923076923076923, 'Mari Andrews')]\n",
      "RETRY\n",
      "[970/2982] Norma Andrews -> [(1, 'Norma Andrews')]\n",
      "[971/2982] Norman Wereley -> [(0.8235294117647058, 'Norman M. Wereley')]\n",
      "[972/2982] Norrell Edwards -> [(0.7333333333333334, 'Perry L Edwards')]\n",
      "RETRY\n",
      "[972/2982] Norrell Edwards -> [(0.6875, 'Michelle Edwards')]\n",
      "[973/2982] Nuno Limao -> [(1, 'Nuno Limao')]\n",
      "[974/2982] Nuno Martins -> [(0.75, 'Pino Martin')]\n",
      "RETRY\n",
      "[974/2982] Nuno Martins -> [(1, 'Nuno Martins')]\n",
      "[975/2982] Oded Rabin -> [(1, 'Oded Rabin')]\n",
      "[976/2982] Oliver Kim -> [(1, 'Oliver Kim')]\n",
      "[977/2982] Oliver Schlake -> [(1, 'Oliver Schlake')]\n",
      "[978/2982] Olivier Bauchau -> [(1, 'Olivier Bauchau')]\n",
      "[979/2982] Orrin Wang -> [(1, 'Orrin Wang')]\n",
      "[980/2982] Paige Smith -> [(0.6923076923076923, 'Paul E. Smith')]\n",
      "RETRY\n",
      "[980/2982] Paige Smith -> [(1, 'Paige Smith')]\n",
      "[981/2982] Pam Splaine -> [(0.6363636363636364, 'Samyr Laine')]\n",
      "RETRY\n",
      "[981/2982] Pam Splaine -> [(0.6363636363636364, 'Ann Spaine'), (0.6363636363636364, 'Samyr Laine')]\n",
      "[982/2982] Pamela Abshire -> [(0.8235294117647058, 'Pamela A. Abshire')]\n",
      "[983/2982] Pamela Armstrong -> [(1, 'Pamela Armstrong')]\n",
      "[984/2982] Pamela Gerhardt -> [(0.75, 'Pamela Jean Gerhardt')]\n",
      "RETRY\n",
      "[984/2982] Pamela Gerhardt -> [(1, 'Pamela Gerhardt')]\n",
      "[985/2982] Pamela Grant -> [(1, 'Pamela Grant')]\n",
      "[986/2982] Pamela Orel -> [(0.8461538461538461, 'Pamela A Orel')]\n",
      "[987/2982] Partha Lahiri -> [(1, 'Partha Lahiri')]\n",
      "[988/2982] Patricia Alexander -> [(0.8571428571428572, 'Patricia A. Alexander')]\n",
      "[989/2982] Patricia Collins -> [(0.7619047619047619, 'Patricia Hill Collins')]\n",
      "[990/2982] Patricia Greenspan -> [(0.8571428571428572, 'Patricia S. Greenspan')]\n",
      "[991/2982] Patricia Shields -> [(0.8, 'Patricia Ann Shields')]\n",
      "[992/2982] Patrick Brosnan -> [(1, 'Patrick Brosnan')]\n",
      "[993/2982] Patrick Craig -> [(0.8125, 'Patrick M. Craig')]\n",
      "[994/2982] Patrick Fitzpatrick -> [(0.8636363636363636, 'Patrick M. Fitzpatrick')]\n",
      "[995/2982] Patrick Kangas -> [(0.8235294117647058, 'Patrick C. Kangas')]\n",
      "[996/2982] Patrick Kanold -> [(1, 'Patrick Kanold')]\n",
      "[997/2982] Patrick Killion -> [(0.8823529411764706, 'Patrick J Killion')]\n",
      "[998/2982] Patrick McAvoy -> [(0.7333333333333334, 'Patrick McNamee'), (0.7333333333333334, 'Patrick A Caton')]\n",
      "RETRY\n",
      "[998/2982] Patrick McAvoy -> [(1, 'Patrick McAvoy')]\n",
      "[999/2982] Patrick McCluskey -> [(1, 'Patrick McCluskey')]\n",
      "[1000/2982] Patrick Nelson -> [(0.8235294117647058, 'Patrick R. Nelson')]\n",
      "[1001/2982] Patrick Warfield -> [(0.8421052631578947, 'Patrick R. Warfield')]\n",
      "[1002/2982] Patrick Wohlfarth -> [(0.68, 'Patrick Charles Wohlfarth')]\n",
      "RETRY\n",
      "[1002/2982] Patrick Wohlfarth -> [(1, 'Patrick Wohlfarth')]\n",
      "[1003/2982] Paul Cote -> [(1, 'Paul Cote')]\n",
      "[1004/2982] Paul Covey -> [(0.8, 'Paul Cote')]\n",
      "[1005/2982] Paul Goeringer -> [(1, 'Paul Goeringer')]\n",
      "[1006/2982] Paul Hanges -> [(1, 'Paul Hanges')]\n",
      "[1007/2982] Paul Landau -> [(1, 'Paul Landau')]\n",
      "[1008/2982] Paul Leisnham -> [(1, 'Paul Leisnham')]\n",
      "[1009/2982] Paul Paukstelis -> [(1, 'Paul Paukstelis')]\n",
      "[1010/2982] Paul Pietroski -> [(0.8235294117647058, 'Paul M. Pietroski')]\n",
      "[1011/2982] Paul Scham -> [(1, 'Paul Scham')]\n",
      "[1012/2982] Paul Schonfeld -> [(0.8235294117647058, 'Paul M. Schonfeld')]\n",
      "[1013/2982] Paul Shackel -> [(0.8, 'Paul A. Shackel')]\n",
      "[1014/2982] Paul Smith -> [(0.7692307692307692, 'Paul J. Smith'), (0.7692307692307692, 'Paul E. Smith')]\n",
      "[1015/2982] Paula Nadler -> [(0.8571428571428572, 'Paula F Nadler')]\n",
      "[1016/2982] Paulo Prochno -> [(1, 'Paulo Prochno')]\n",
      "[1017/2982] Pedram Sadeghian -> [(1, 'Pedram Sadeghian')]\n",
      "[1018/2982] Peggy Wilson -> [(0.7058823529411764, 'Peggy Lynn Wilson')]\n",
      "RETRY\n",
      "[1018/2982] Peggy Wilson -> [(1, 'Peggy Wilson')]\n",
      "[1019/2982] Peng Huang -> [(1, 'Peng Huang')]\n",
      "[1020/2982] Perla Guerrero -> [(0.875, 'Perla M Guerrero')]\n",
      "[1021/2982] Peter Bernard -> [(0.8125, 'Peter S. Bernard')]\n",
      "[1022/2982] Peter Chang -> [(0.7857142857142857, 'Peter C. Chang')]\n",
      "[1023/2982] Peter Chung -> [(0.8461538461538461, 'Peter W Chung')]\n",
      "[1024/2982] Peter Grybauskas -> [(0.8888888888888888, 'Peter W Grybauskas')]\n",
      "[1025/2982] Peter Keleher -> [(1, 'Peter Keleher')]\n",
      "[1026/2982] Peter Kofinas -> [(1, 'Peter Kofinas')]\n",
      "[1027/2982] Peter Leone -> [(0.7857142857142857, 'Peter E. Leone')]\n",
      "[1028/2982] Peter Mallios -> [(0.6153846153846154, 'Peter M. Mixa'), (0.6153846153846154, 'Peter Polko'), (0.6153846153846154, 'Peter Lunts'), (0.6153846153846154, 'Peter Hopkins'), (0.6153846153846154, 'Peter Jackson')]\n",
      "RETRY\n",
      "[1028/2982] Peter Mallios -> [(1, 'Peter Mallios')]\n",
      "[1029/2982] Peter McPhun -> [(0.6923076923076923, 'Peter W Chung')]\n",
      "RETRY\n",
      "[1029/2982] Peter McPhun -> [(0.75, 'Peter Chung')]\n",
      "[1030/2982] Peter Morici -> [(0.8, 'Peter G. Morici')]\n",
      "[1031/2982] Peter Murrell -> [(1, 'Peter Murrell')]\n",
      "[1032/2982] Peter Nandori -> [(1, 'Peter Nandori')]\n",
      "[1033/2982] Peter Sandborn -> [(0.8235294117647058, 'Peter A. Sandborn')]\n",
      "[1034/2982] Peter Shawhan -> [(1, 'Peter Shawhan')]\n",
      "[1035/2982] Peter Sunderland -> [(0.8421052631578947, 'Peter B. Sunderland')]\n",
      "[1036/2982] Peter Wien -> [(1, 'Peter Wien')]\n",
      "[1037/2982] Peter Witte -> [(0.8181818181818181, 'Peter White')]\n",
      "[1038/2982] Philip Cohen -> [(0.8, 'Philip N. Cohen')]\n",
      "[1039/2982] Philip DeShong -> [(0.8235294117647058, 'Philip R. DeShong')]\n",
      "[1040/2982] Philip Evers -> [(0.8, 'Philip T. Evers')]\n",
      "[1041/2982] Philip Piety -> [(0.7058823529411764, 'Philip John Piety')]\n",
      "RETRY\n",
      "[1041/2982] Philip Piety -> [(1, 'Philip Piety')]\n",
      "[1042/2982] Philip Resnik -> [(1, 'Philip Resnik')]\n",
      "[1043/2982] Phillip Moses -> [(0.6923076923076923, 'Philip Munds')]\n",
      "RETRY\n",
      "[1043/2982] Phillip Moses -> [(1, 'Phillip Moses')]\n",
      "[1044/2982] Pierre-Emmanuel Jabin -> [(1, 'Pierre-Emmanuel Jabin')]\n",
      "[1045/2982] Ping Wang -> [(1, 'Ping Wang')]\n",
      "[1046/2982] Pino Martin -> [(1, 'Pino Martin')]\n",
      "[1047/2982] Piotr H Kosicki -> [(1, 'Piotr H Kosicki')]\n",
      "[1048/2982] Piotr Swistak -> [(0.8125, 'Piotr T. Swistak')]\n",
      "[1049/2982] Porter Olsen -> [(1, 'Porter Olsen')]\n",
      "[1050/2982] Progyan Basu -> [(1, 'Progyan Basu')]\n",
      "[1051/2982] Protiti Dastidar -> [(1, 'Protiti Dastidar')]\n",
      "[1052/2982] Psyche Williams-Forson -> [(0.9166666666666665, 'Psyche A Williams-Forson')]\n",
      "[1053/2982] Qin Wang -> [(1, 'Qin Wang')]\n",
      "[1054/2982] Qingbin Cui -> [(1, 'Qingbin Cui')]\n",
      "[1055/2982] Quentin Gaudry -> [(1, 'Quentin Gaudry')]\n",
      "[1056/2982] R Apter -> [(0.6, 'M R Sauter')]\n",
      "RETRY\n",
      "[1056/2982] R Apter -> [(1, 'R Apter')]\n",
      "[1057/2982] Rabindra Mohapatra -> [(0.8571428571428572, 'Rabindra N. Mohapatra')]\n",
      "[1058/2982] Rachel Berndtson -> [(0.7272727272727273, 'Rachel Elise Berndtson')]\n",
      "RETRY\n",
      "[1058/2982] Rachel Berndtson -> [(1, 'Rachel Berndtson')]\n",
      "[1059/2982] Rachel Pinker -> [(0.8125, 'Rachel T. Pinker')]\n",
      "[1060/2982] Rachelle Sampson -> [(1, 'Rachelle Sampson')]\n",
      "[1061/2982] Radford Skudrna -> [(0.6818181818181819, 'Radford Joseph Skudrna')]\n",
      "RETRY\n",
      "[1061/2982] Radford Skudrna -> [(1, 'Radford Skudrna')]\n",
      "[1062/2982] Radu Balan -> [(0.7, 'Radu Lazar')]\n",
      "RETRY\n",
      "[1062/2982] Radu Balan -> [(1, 'Radu Balan')]\n",
      "[1063/2982] Radu Lazar -> [(1, 'Radu Lazar')]\n",
      "[1064/2982] Rajarshi Roy -> [(1, 'Rajarshi Roy')]\n",
      "[1065/2982] Rajeev Barua -> [(0.8, 'Rajeev K. Barua')]\n",
      "[1066/2982] Ralph Bauer -> [(0.7857142857142857, 'Ralph R. Bauer')]\n",
      "[1067/2982] Raluca Rosca -> [(0.8, 'Raluca I. Rosca')]\n",
      "[1068/2982] Ramalingam Chellappa -> [(1, 'Ramalingam Chellappa')]\n",
      "[1069/2982] Ramani Duraiswami -> [(1, 'Ramani Duraiswami')]\n",
      "[1070/2982] Ramsey Jabaji -> [(0.8125, 'Ramsey G. Jabaji')]\n",
      "[1071/2982] Randy Ontiveros -> [(0.7142857142857143, 'Randy James Ontiveros')]\n",
      "RETRY\n",
      "[1071/2982] Randy Ontiveros -> [(1, 'Randy Ontiveros')]\n",
      "[1072/2982] Raymond Adomaitis -> [(0.85, 'Raymond A. Adomaitis')]\n",
      "[1073/2982] Raymond Guiteras -> [(1, 'Raymond Guiteras')]\n",
      "[1074/2982] Raymond Paternoster -> [(1, 'Raymond Paternoster')]\n",
      "[1075/2982] Raymond Sedwick -> [(0.75, 'Raymond John Sedwick')]\n",
      "RETRY\n",
      "[1075/2982] Raymond Sedwick -> [(1, 'Raymond Sedwick')]\n",
      "[1076/2982] Raymond StLeger -> [(0.8333333333333335, 'Raymond J. StLeger')]\n",
      "[1077/2982] Raymond Weil -> [(0.8, 'Raymond R. Weil')]\n",
      "[1078/2982] Rebecca Holden -> [(0.875, 'Rebecca J Holden')]\n",
      "[1079/2982] Rebecca Ritzel -> [(0.7777777777777779, 'Rebecca Joy Ritzel')]\n",
      "[1080/2982] Regina Ianozi -> [(1, 'Regina Ianozi')]\n",
      "[1081/2982] Regina Igel -> [(1, 'Regina Igel')]\n",
      "[1082/2982] Reid Compton -> [(0.8, 'Reid S. Compton')]\n",
      "[1083/2982] Reid Gustafson -> [(0.736842105263158, 'Reid Erec Gustafson')]\n",
      "RETRY\n",
      "[1083/2982] Reid Gustafson -> [(1, 'Reid Gustafson')]\n",
      "[1084/2982] Renee Ater -> [(0.7692307692307692, 'Renee D. Ater')]\n",
      "[1085/2982] Renina Jarmon -> [(0.6666666666666667, 'Regina Harrison')]\n",
      "RETRY\n",
      "[1085/2982] Renina Jarmon -> [(0.6666666666666667, 'Regina Harrison')]\n",
      "[1086/2982] Rex Weil -> [(1, 'Rex Weil')]\n",
      "[1087/2982] Reza Ghodssi -> [(1, 'Reza Ghodssi')]\n",
      "[1088/2982] Ricardo Araneda -> [(0.8333333333333335, 'Ricardo C. Araneda')]\n",
      "[1089/2982] Ricardo Nochetto -> [(0.8421052631578947, 'Ricardo H. Nochetto')]\n",
      "[1090/2982] Ricco Hall -> [(1, 'Ricco Hall')]\n",
      "[1091/2982] Richard Bell -> [(1, 'Richard Bell')]\n",
      "[1092/2982] Richard Boyd -> [(0.75, 'Richard Bell'), (0.75, 'Richard Yi')]\n",
      "RETRY\n",
      "[1092/2982] Richard Boyd -> [(0.75, 'Richard Bell'), (0.75, 'Richard Berg'), (0.75, 'Richard Yi'), (0.75, 'Richard Dye'), (0.75, 'Richard Kohn'), (0.75, 'Richard Toth'), (0.75, 'Richard Popp')]\n",
      "[1093/2982] Richard Calabrese -> [(0.85, 'Richard V. Calabrese')]\n",
      "[1094/2982] Richard Daniels -> [(0.8333333333333335, 'Richard C. Daniels')]\n",
      "[1095/2982] Richard Greene -> [(0.8235294117647058, 'Richard L. Greene')]\n",
      "[1096/2982] Richard Hollenbeck -> [(0.782608695652174, 'Richard Mark Hollenbeck')]\n",
      "[1097/2982] Richard Hutchins -> [(0.8421052631578947, 'Richard A. Hutchins')]\n",
      "[1098/2982] Richard King -> [(0.8, 'Richard G. King')]\n",
      "[1099/2982] Richard Klank -> [(0.8125, 'Richard E. Klank')]\n",
      "[1100/2982] Richard La -> [(0.8, 'Richard Yi')]\n",
      "[1101/2982] Richard Layton -> [(0.7333333333333334, 'Richard Whelton')]\n",
      "RETRY\n",
      "[1101/2982] Richard Layton -> [(1, 'Richard Layton')]\n",
      "[1102/2982] Richard McCuen -> [(0.8235294117647058, 'Richard H. McCuen')]\n",
      "[1103/2982] Richard Mushotzky -> [(1, 'RIchard Mushotzky')]\n",
      "[1104/2982] Richard Payne -> [(1, 'Richard Payne')]\n",
      "[1105/2982] Richard Rast -> [(0.8333333333333335, 'Richard Ash')]\n",
      "[1106/2982] Richard Reynnells -> [(0.8947368421052632, 'Richard D Reynnells')]\n",
      "[1107/2982] Richard Stewart -> [(0.8333333333333335, 'Richard C. Stewart')]\n",
      "[1108/2982] Richard Toth -> [(0.7857142857142857, 'Richard Toohey')]\n",
      "[1109/2982] Richard Wentworth -> [(0.7727272727272727, 'Richard Alan Wentworth')]\n",
      "[1110/2982] Roald Sagdeev -> [(0.8125, 'Roald Z. Sagdeev')]\n",
      "[1111/2982] Rob Wells -> [(1, 'Rob Wells')]\n",
      "[1112/2982] Robert Ballenger -> [(0.8888888888888888, 'Robert M Ballenger')]\n",
      "[1113/2982] Robert Bonenberger -> [(0.6666666666666667, 'Robert Sohlberg')]\n",
      "RETRY\n",
      "[1113/2982] Robert Bonenberger -> [(1, 'Robert Bonenberger')]\n",
      "[1114/2982] Robert Briber -> [(0.8125, 'Robert M. Briber')]\n",
      "[1115/2982] Robert Chambers -> [(0.8333333333333335, 'Robert G. Chambers')]\n",
      "[1116/2982] Robert Chester -> [(0.7857142857142857, 'Robert Hunter'), (0.7857142857142857, 'Robert L Eiter')]\n",
      "[1117/2982] Robert Chiles -> [(0.7333333333333334, 'Robert Phillips')]\n",
      "RETRY\n",
      "[1117/2982] Robert Chiles -> [(1, 'Robert Chiles')]\n",
      "[1118/2982] Robert Choflet -> [(0.6666666666666667, 'Robert Thomas Choflet')]\n",
      "RETRY\n",
      "[1118/2982] Robert Choflet -> [(1, 'Robert Choflet')]\n",
      "[1119/2982] Robert Crane -> [(0.8333333333333335, 'Robert Rand')]\n",
      "[1120/2982] Robert De Keyser -> [(0.8421052631578947, 'Robert M. De Keyser')]\n",
      "[1121/2982] Robert Feldman -> [(0.8235294117647058, 'Robert H. Feldman')]\n",
      "[1122/2982] Robert Friedel -> [(0.8235294117647058, 'Robert D. Friedel')]\n",
      "[1123/2982] Robert Grimm -> [(0.6666666666666667, 'Robert Rand'), (0.6666666666666667, 'Robert Ruby'), (0.6666666666666667, 'Robert Orazi'), (0.6666666666666667, 'Robert Adams')]\n",
      "RETRY\n",
      "[1123/2982] Robert Grimm -> [(1, 'Robert Grimm')]\n",
      "[1124/2982] Robert Jackson -> [(0.8235294117647058, 'Robert T. Jackson')]\n",
      "[1125/2982] Robert Koulish -> [(0.8235294117647058, 'Robert E. Koulish')]\n",
      "[1126/2982] Robert Levine -> [(0.8125, 'Robert S. Levine')]\n",
      "[1127/2982] Robert Marcus -> [(0.8125, 'Robert F. Marcus')]\n",
      "[1128/2982] Robert Newcomb -> [(0.8235294117647058, 'Robert W. Newcomb')]\n",
      "[1129/2982] Robert Pernick -> [(1, 'Robert Pernick')]\n",
      "[1130/2982] Robert Sanders -> [(0.875, 'Robert C Sanders')]\n",
      "[1131/2982] Robert Sanner -> [(0.7692307692307692, 'Robert Snyder'), (0.7692307692307692, 'Robert Hunter')]\n",
      "[1132/2982] Robert Sprinkle -> [(0.8333333333333335, 'Robert H. Sprinkle')]\n",
      "[1133/2982] Robin Allen-Klein -> [(1, 'Robin Allen-Klein')]\n",
      "[1134/2982] Robin Earnest -> [(1, 'Robin Earnest')]\n",
      "[1135/2982] Robin Sawyer -> [(0.8333333333333335, 'Robin Sayers')]\n",
      "[1136/2982] Robyn Muncy -> [(0.6470588235294117, 'Robyn Leigh Muncy')]\n",
      "RETRY\n",
      "[1136/2982] Robyn Muncy -> [(1, 'Robyn Muncy')]\n",
      "[1137/2982] Robyn Zeiger -> [(0.8, 'Robyn S. Zeiger')]\n",
      "[1138/2982] Rodney Schwartz -> [(0.6666666666666667, 'Jenn Schwartz'), (0.6666666666666667, 'Jana Schwartz'), (0.6666666666666667, 'Karen Schwartz')]\n",
      "RETRY\n",
      "[1138/2982] Rodney Schwartz -> [(1, 'Rodney Schwartz')]\n",
      "[1139/2982] Rodolphe Gentili -> [(0.8421052631578947, 'Rodolphe J. Gentili')]\n",
      "[1140/2982] Romel Gomez -> [(0.6153846153846154, 'Jose N. Gomez')]\n",
      "RETRY\n",
      "[1140/2982] Romel Gomez -> [(1, 'Romel Gomez')]\n",
      "[1141/2982] Ronald Luna -> [(0.7857142857142857, 'Ronald W. Luna')]\n",
      "[1142/2982] Ronald Yaros -> [(0.8, 'Ronald A. Yaros')]\n",
      "[1143/2982] Ronit Eisenbach -> [(1, 'Ronit Eisenbach')]\n",
      "[1144/2982] Roohollah Ebrahimian -> [(1, 'Roohollah Ebrahimian')]\n",
      "[1145/2982] Rosalyn Anderson-Howell -> [(0.8846153846153846, 'Rosalyn E. Anderson-Howell')]\n",
      "[1146/2982] Rose-Marie Oster -> [(0.8421052631578947, 'Rose-Marie G. Oster')]\n",
      "[1147/2982] Rosemary Lindle -> [(0.6111111111111112, 'Rosemary L. Parker'), (0.6111111111111112, 'Rosemary D. Ligsay')]\n",
      "RETRY\n",
      "[1147/2982] Rosemary Lindle -> [(1, 'Rosemary Lindle')]\n",
      "[1148/2982] Ross Salawitch -> [(0.8235294117647058, 'Ross J. Salawitch')]\n",
      "[1149/2982] Roxanne Lefkoff -> [(1, 'Roxanne Lefkoff')]\n",
      "[1150/2982] Roy Walls -> [(0.7777777777777779, 'Rob Wells')]\n",
      "[1151/2982] Russell Hamill -> [(0.6666666666666667, 'Russell E. III Hamill')]\n",
      "RETRY\n",
      "[1151/2982] Russell Hamill -> [(1, 'Russell Hamill')]\n",
      "[1152/2982] Russell Hill -> [(0.6923076923076923, 'Russell Henry')]\n",
      "RETRY\n",
      "[1152/2982] Russell Hill -> [(0.8571428571428572, 'Russell Hamill')]\n",
      "[1153/2982] Ruth Zambrana -> [(0.7222222222222221, 'Ruth Enid Zambrana')]\n",
      "RETRY\n",
      "[1153/2982] Ruth Zambrana -> [(1, 'Ruth Zambrana')]\n",
      "[1154/2982] Ryan Curtis -> [(0.6875, 'Ryan Dean Curtis')]\n",
      "RETRY\n",
      "[1154/2982] Ryan Curtis -> [(1, 'Ryan Curtis')]\n",
      "[1155/2982] Ryan Guttridge -> [(0.875, 'Ryan J Guttridge')]\n",
      "[1156/2982] Ryan Long -> [(1, 'Ryan Long')]\n",
      "[1157/2982] Ryan Moore -> [(0.7272727272727273, 'Ryan Cooper')]\n",
      "RETRY\n",
      "[1157/2982] Ryan Moore -> [(0.75, 'Morgan Moore')]\n",
      "[1158/2982] Ryan Sochol -> [(0.6363636363636364, 'Alan Socha'), (0.6363636363636364, 'Ryan Stadel'), (0.6363636363636364, 'Ryan Cox')]\n",
      "RETRY\n",
      "[1158/2982] Ryan Sochol -> [(1, 'Ryan Sochol')]\n",
      "[1159/2982] Sabrina Baron -> [(0.7692307692307692, 'Sabrina Leroe')]\n",
      "[1160/2982] Sabrina Islam -> [(1, 'Sabrina Islam')]\n",
      "[1161/2982] Sacoby Wilson -> [(1, 'Sacoby Wilson')]\n",
      "[1162/2982] Sadik Aruoba -> [(0.6, 'Sadik Boragan Aruoba'), (0.6, 'Sadick Abubakar')]\n",
      "RETRY\n",
      "[1162/2982] Sadik Aruoba -> [(1, 'Sadik Aruoba')]\n",
      "[1163/2982] Sajeela Yaqub -> [(1, 'Sajeela Yaqub')]\n",
      "[1164/2982] Sally Simpson -> [(0.8125, 'Sally S. Simpson')]\n",
      "[1165/2982] Samira Anderson -> [(0.7333333333333334, 'Erica Anderson'), (0.7333333333333334, 'Julia Anderson'), (0.7333333333333334, 'David Anderson')]\n",
      "RETRY\n",
      "[1165/2982] Samira Anderson -> [(1, 'Samira Anderson')]\n",
      "[1166/2982] Samrat Bhattacharjee -> [(1, 'Samrat Bhattacharjee')]\n",
      "[1167/2982] Samuel Clevenger -> [(0.6956521739130435, 'Samuel Martin Clevenger')]\n",
      "RETRY\n",
      "[1167/2982] Samuel Clevenger -> [(1, 'Samuel Clevenger')]\n",
      "[1168/2982] Samuel Handwerger -> [(0.7391304347826086, 'Samuel David Handwerger')]\n",
      "RETRY\n",
      "[1168/2982] Samuel Handwerger -> [(1, 'Samuel Handwerger')]\n",
      "[1169/2982] Samuel Kerstein -> [(0.8333333333333335, 'Samuel J. Kerstein')]\n",
      "[1170/2982] Samuel Kessel -> [(0.6923076923076923, 'Samuel Hulse')]\n",
      "RETRY\n",
      "[1170/2982] Samuel Kessel -> [(0.7333333333333334, 'Samuel Kerstein')]\n",
      "[1171/2982] Samuel Ramsey -> [(0.6923076923076923, 'Samuel Hulse')]\n",
      "RETRY\n",
      "[1171/2982] Samuel Ramsey -> [(1, 'Samuel Ramsey')]\n",
      "[1172/2982] Samuel Rubin -> [(0.6666666666666667, 'Samuel Bruce Rubin'), (0.6666666666666667, 'Samuel R Bowden'), (0.6666666666666667, 'Samuel Hulse')]\n",
      "RETRY\n",
      "[1172/2982] Samuel Rubin -> [(1, 'Samuel Rubin')]\n",
      "[1173/2982] Sandra Banisky -> [(0.8235294117647058, 'Sandra A. Banisky')]\n",
      "[1174/2982] Sandra Fox-Moon -> [(0.7894736842105263, 'Sandra May Fox-Moon')]\n",
      "[1175/2982] Sandra Loughlin -> [(0.625, 'Sandra Michelle Loughlin'), (0.625, 'Sandra Langeslag')]\n",
      "RETRY\n",
      "[1175/2982] Sandra Loughlin -> [(1, 'Sandra Loughlin')]\n",
      "[1176/2982] Sandra Rose -> [(1, 'Sandra Rose')]\n",
      "[1177/2982] Sandra Saperstein -> [(0.85, 'Sandra L. Saperstein')]\n",
      "[1178/2982] Sangbok Lee -> [(1, 'Sangbok Lee')]\n",
      "[1179/2982] Sangeetha Madhavan -> [(1, 'Sangeetha Madhavan')]\n",
      "[1180/2982] Santuria Orsetti -> [(1, 'Santuria Orsetti')]\n",
      "[1181/2982] Sara Faradji -> [(0.6428571428571428, 'Farah Farahati')]\n",
      "RETRY\n",
      "[1181/2982] Sara Faradji -> [(0.6666666666666667, 'Sara Nozadi')]\n",
      "[1182/2982] Sara Lombardi -> [(0.7647058823529411, 'Sara Ann Lombardi')]\n",
      "[1183/2982] Sara Pearson -> [(0.8571428571428572, 'Sara R Pearson')]\n",
      "[1184/2982] Sara Schotland -> [(1, 'Sara Schotland')]\n",
      "[1185/2982] Sara Via -> [(1, 'Sara Via')]\n",
      "[1186/2982] Sarah Balcom -> [(0.7058823529411764, 'Sarah Anne Balcom')]\n",
      "RETRY\n",
      "[1186/2982] Sarah Balcom -> [(1, 'Sarah Balcom')]\n",
      "[1187/2982] Sarah Croco -> [(0.6666666666666667, 'Sarah C. Eno'), (0.6666666666666667, 'Sarah Frisof')]\n",
      "RETRY\n",
      "[1187/2982] Sarah Croco -> [(1, 'Sarah Croco')]\n",
      "[1188/2982] Sarah Dammeyer -> [(1, 'Sarah Dammeyer')]\n",
      "[1189/2982] Sarah Eno -> [(0.75, 'Sarah C. Eno')]\n",
      "RETRY\n",
      "[1189/2982] Sarah Eno -> [(1, 'Sarah Eno')]\n",
      "[1190/2982] Sarah Henson-Darko -> [(1, 'Sarah Henson-Darko')]\n",
      "[1191/2982] Sarah Oates -> [(0.7333333333333334, 'Sarah Ann Oates')]\n",
      "RETRY\n",
      "[1191/2982] Sarah Oates -> [(1, 'Sarah Oates')]\n",
      "[1192/2982] Sarah Wilson -> [(0.75, 'Sarah Williamson'), (0.75, 'Gran Wilson')]\n",
      "RETRY\n",
      "[1192/2982] Sarah Wilson -> [(1, 'Sarah Wilson')]\n",
      "[1193/2982] Satyendra Verma -> [(0.7142857142857143, 'Satyendra Kumar Verma')]\n",
      "RETRY\n",
      "[1193/2982] Satyendra Verma -> [(1, 'Satyendra Verma')]\n",
      "[1194/2982] Saul Sosnowski -> [(1, 'Saul Sosnowski')]\n",
      "[1195/2982] Saverio Giovacchini -> [(1, 'Saverio Giovacchini')]\n",
      "[1196/2982] Scot Reese -> [(0.7692307692307692, 'Scot M. Reese')]\n",
      "[1197/2982] Scott Kastner -> [(1, 'Scott Kastner')]\n",
      "[1198/2982] Scott Roberts -> [(0.8125, 'Scott P. Roberts')]\n",
      "[1199/2982] Scott Trudell -> [(0.8125, 'Scott A. Trudell')]\n",
      "[1200/2982] Sebastian Wang -> [(0.875, 'Sebastian S Wang')]\n",
      "[1201/2982] Sennur Ulukus -> [(1, 'Sennur Ulukus')]\n",
      "[1202/2982] Seppo Iso-Ahola -> [(0.8333333333333335, 'Seppo E. Iso-Ahola')]\n",
      "[1203/2982] Sergei Sukharev -> [(0.8333333333333335, 'Sergei I. Sukharev')]\n",
      "[1204/2982] Sergio Picozzi -> [(1, 'Sergio Picozzi')]\n",
      "[1205/2982] Sergio Urzua -> [(1, 'Sergio Urzua')]\n",
      "[1206/2982] Shabnam Jabeen -> [(1, 'Shabnam Jabeen')]\n",
      "[1207/2982] Shaik Rahaman -> [(1, 'Shaik Rahaman')]\n",
      "[1208/2982] Shane Walsh -> [(0.6363636363636364, 'Shan Wang')]\n",
      "RETRY\n",
      "[1208/2982] Shane Walsh -> [(1, 'Shane Walsh')]\n",
      "[1209/2982] Shannon Collis -> [(0.736842105263158, 'Shannon Leah Collis')]\n",
      "RETRY\n",
      "[1209/2982] Shannon Collis -> [(1, 'Shannon Collis')]\n",
      "[1210/2982] Shannon Jette -> [(0.7692307692307692, 'Shannon Bate')]\n",
      "[1211/2982] Sharada Balachandran Orihuela -> [(1, 'Sharada Balachandran Orihuela')]\n",
      "[1212/2982] Sharon Desmond -> [(0.8235294117647058, 'Sharon M. Desmond')]\n",
      "[1213/2982] Sharon Fries-Britt -> [(0.6923076923076923, 'Sharon LaVonne Fries-Britt')]\n",
      "RETRY\n",
      "[1213/2982] Sharon Fries-Britt -> [(1, 'Sharon Fries-Britt')]\n",
      "[1214/2982] Sharon Harley -> [(1, 'Sharon Harley')]\n",
      "[1215/2982] Sharon Vanwright -> [(0.6956521739130435, 'Sharon Carmen Vanwright')]\n",
      "RETRY\n",
      "[1215/2982] Sharon Vanwright -> [(1, 'Sharon Vanwright')]\n",
      "[1216/2982] Shaun Edmonds -> [(0.65, 'Shaun Eugene Edmonds')]\n",
      "RETRY\n",
      "[1216/2982] Shaun Edmonds -> [(1, 'Shaun Edmonds')]\n",
      "[1217/2982] Sheila Jelen -> [(0.6666666666666667, 'Sheila Elana Jelen')]\n",
      "RETRY\n",
      "[1217/2982] Sheila Jelen -> [(1, 'Sheila Jelen')]\n",
      "[1218/2982] Sheila Lalwani -> [(0.8235294117647058, 'Sheila B. Lalwani')]\n",
      "[1219/2982] Sheri Parks -> [(0.7857142857142857, 'Sheri L. Parks')]\n",
      "[1220/2982] Sheryl Ehrman -> [(0.8125, 'Sheryl H. Ehrman')]\n",
      "[1221/2982] Shirley Logan -> [(0.8125, 'Shirley W. Logan')]\n",
      "[1222/2982] Shirley Micallef -> [(0.8, 'Shirley Ann Micallef')]\n",
      "[1223/2982] Shoji Sanders -> [(0.6666666666666667, 'Stenise Sanders')]\n",
      "RETRY\n",
      "[1223/2982] Shoji Sanders -> [(0.6666666666666667, 'Stenise Sanders'), (0.6666666666666667, 'Thomas Saunders')]\n",
      "[1224/2982] Shrihari Santosh -> [(1, 'Shrihari Santosh')]\n",
      "[1225/2982] Shunyuan Xiao -> [(1, 'Shunyuan Xiao')]\n",
      "[1226/2982] Shuvra Bhattacharyya -> [(0.8695652173913043, 'Shuvra S. Bhattacharyya')]\n",
      "[1227/2982] Siddhartha Das -> [(1, 'Siddhartha Das')]\n",
      "[1228/2982] Silvina Matysiak -> [(0.8421052631578947, 'Silvina R. Matysiak')]\n",
      "[1229/2982] Sivakumar Viswanathan -> [(1, 'Sivakumar Viswanathan')]\n",
      "[1230/2982] Sohraab Soltani -> [(1, 'Sohraab Soltani')]\n",
      "[1231/2982] Sonalde Desai -> [(1, 'Sonalde Desai')]\n",
      "[1232/2982] Sreeramamurthy Ankem -> [(1, 'Sreeramamurthy Ankem')]\n",
      "[1233/2982] Srinivasa Raghavan -> [(0.8571428571428572, 'Srinivasa R. Raghavan')]\n",
      "[1234/2982] Stacy Kosko -> [(0.6111111111111112, 'Stacy Jeanne Kosko')]\n",
      "RETRY\n",
      "[1234/2982] Stacy Kosko -> [(1, 'Stacy Kosko')]\n",
      "[1235/2982] Stanley Plumly -> [(1, 'Stanley Plumly')]\n",
      "[1236/2982] Stefania Amodeo -> [(0.8333333333333335, 'Stefania R. Amodeo')]\n",
      "[1237/2982] Stefania Scandizzo -> [(1, 'Stefania Scandizzo')]\n",
      "[1238/2982] Stefano Villani -> [(1, 'Stefano Villani')]\n",
      "[1239/2982] Stella Rouse -> [(1, 'Stella Rouse')]\n",
      "[1240/2982] Stephanie Allen -> [(0.8333333333333335, 'Stephanie T. Allen')]\n",
      "[1241/2982] Stephanie Lansing -> [(1, 'Stephanie Lansing')]\n",
      "[1242/2982] Stephanie Madden -> [(0.7647058823529411, 'Stephanie Padgett')]\n",
      "[1243/2982] Stephen Brighton -> [(1, 'Stephen Brighton')]\n",
      "[1244/2982] Stephen Kcenich -> [(0.8333333333333335, 'Stephen P. Kcenich')]\n",
      "[1245/2982] Stephen Loeb -> [(0.8, 'Stephen E. Loeb')]\n",
      "[1246/2982] Stephen McDaniel -> [(0.8421052631578947, 'Stephen R. McDaniel')]\n",
      "[1247/2982] Stephen Mount -> [(0.8125, 'Stephen M. Mount')]\n",
      "[1248/2982] Stephen Wolniak -> [(0.8333333333333335, 'Stephen M. Wolniak')]\n",
      "[1249/2982] Steve Beaulieu -> [(0.5909090909090908, 'Justine Renee Beaulieu')]\n",
      "RETRY\n",
      "[1249/2982] Steve Beaulieu -> [(0.75, 'Justine Beaulieu')]\n",
      "[1250/2982] Steve Halperin -> [(1, 'Steve Halperin')]\n",
      "[1251/2982] Steve Leonard -> [(0.625, 'Carrie E Leonard')]\n",
      "RETRY\n",
      "[1251/2982] Steve Leonard -> [(0.6666666666666667, 'Matthew Leonard')]\n",
      "[1252/2982] Steven Anlage -> [(0.7222222222222221, 'Steven Mark Anlage')]\n",
      "RETRY\n",
      "[1252/2982] Steven Anlage -> [(1, 'Steven Anlage')]\n",
      "[1253/2982] Steven Brauth -> [(0.8125, 'Steven E. Brauth')]\n",
      "[1254/2982] Steven Chadwick -> [(0.75, 'Steven Greg Chadwick')]\n",
      "RETRY\n",
      "[1254/2982] Steven Chadwick -> [(1, 'Steven Chadwick')]\n",
      "[1255/2982] Steven Gabriel -> [(0.8235294117647058, 'Steven A. Gabriel')]\n",
      "[1256/2982] Steven Heston -> [(0.7857142857142857, 'Steven Rolston')]\n",
      "[1257/2982] Steven Hutcheson -> [(0.8421052631578947, 'Steven W. Hutcheson')]\n",
      "[1258/2982] Steven Jay -> [(0.8, 'Steve Ray')]\n",
      "[1259/2982] Steven Jones -> [(0.8333333333333335, 'Steven Fons')]\n",
      "[1260/2982] Steven Mansbach -> [(1, 'Steven Mansbach')]\n",
      "[1261/2982] Steven Rolston -> [(1, 'Steven Rolston')]\n",
      "[1262/2982] Steven Tretter -> [(0.8235294117647058, 'Steven A. Tretter')]\n",
      "[1263/2982] Steven Young -> [(0.8, 'Steven D. Young')]\n",
      "[1264/2982] Sujay Kaushal -> [(1, 'Sujay Kaushal')]\n",
      "[1265/2982] Sung Lee -> [(0.75, 'Sina Lee')]\n",
      "RETRY\n",
      "[1265/2982] Sung Lee -> [(1, 'Sung Lee')]\n",
      "[1266/2982] Sungwon Woo -> [(1, 'Sungwon Woo')]\n",
      "[1267/2982] Susan Dwyer -> [(0.7142857142857143, 'Susan E Dreyer')]\n",
      "RETRY\n",
      "[1267/2982] Susan Dwyer -> [(1, 'Susan Dwyer')]\n",
      "[1268/2982] Susan Hubbard -> [(0.6153846153846154, 'Bill Hubbard'), (0.6153846153846154, 'Joni Hubbard'), (0.6153846153846154, 'Susan E. Burk'), (0.6153846153846154, 'Susan S. Farr')]\n",
      "RETRY\n",
      "[1268/2982] Susan Hubbard -> [(1, 'Susan Hubbard')]\n",
      "[1269/2982] Susan Mazzullo -> [(0.6666666666666667, 'Susan Claire Mazzullo')]\n",
      "RETRY\n",
      "[1269/2982] Susan Mazzullo -> [(1, 'Susan Mazzullo')]\n",
      "[1270/2982] Susan Powell -> [(0.6666666666666667, 'Susan Chong Powell'), (0.6666666666666667, 'Susan Gould')]\n",
      "RETRY\n",
      "[1270/2982] Susan Powell -> [(1, 'Susan Powell')]\n",
      "[1271/2982] Susan Pramschufer -> [(1, 'Susan Pramschufer')]\n",
      "[1272/2982] Susan Simon -> [(0.75, 'Susan Gilson')]\n",
      "RETRY\n",
      "[1272/2982] Susan Simon -> [(1, 'Susan Simon')]\n",
      "[1273/2982] Susan White -> [(0.7857142857142857, 'Susan A. White')]\n",
      "[1274/2982] Susannah Washburn -> [(0.8947368421052632, 'Susannah L Washburn')]\n",
      "[1275/2982] Suvi Gezari -> [(1, 'Suvi Gezari')]\n",
      "[1276/2982] Sylvester Gates -> [(0.6875, 'Sylvester Toller')]\n",
      "RETRY\n",
      "[1276/2982] Sylvester Gates -> [(1, 'Sylvester Gates')]\n",
      "[1277/2982] Sylvette La Touche-Howard -> [(0.7575757575757575, 'Sylvette Antonia La Touche-Howard'), (0.7575757575757575, 'Sylvette\\nAntonia La Touche-Howard')]\n",
      "[1278/2982] T Anenson -> [(0.6, 'T Leigh Anenson')]\n",
      "RETRY\n",
      "[1278/2982] T Anenson -> [(1, 'T Anenson')]\n",
      "[1279/2982] TC Lloyd -> [(1, 'TC Lloyd')]\n",
      "[1280/2982] Takumi Saegusa -> [(1, 'Takumi Saegusa')]\n",
      "[1281/2982] Tamara Clegg -> [(0.5833333333333333, 'Tamara Scott')]\n",
      "RETRY\n",
      "[1281/2982] Tamara Clegg -> [(1, 'Tamara Clegg')]\n",
      "[1282/2982] Tammatha O'Brien -> [(1, \"Tammatha O'Brien\")]\n",
      "[1283/2982] Tanya Icaza -> [(0.6363636363636364, 'Tanya Gupta')]\n",
      "RETRY\n",
      "[1283/2982] Tanya Icaza -> [(1, 'Tanya Icaza')]\n",
      "[1284/2982] Temim Nusraty -> [(0.65, 'Temim Hashim Nusraty')]\n",
      "RETRY\n",
      "[1284/2982] Temim Nusraty -> [(1, 'Temim Nusraty')]\n",
      "[1285/2982] Teng Li -> [(1, 'Teng Li')]\n",
      "[1286/2982] Terence Long -> [(0.7058823529411764, 'Terence Dyer Long')]\n",
      "RETRY\n",
      "[1286/2982] Terence Long -> [(1, 'Terence Long')]\n",
      "[1287/2982] Theodore Dayie -> [(0.7, 'Theodore Kwaku Dayie')]\n",
      "RETRY\n",
      "[1287/2982] Theodore Dayie -> [(1, 'Theodore Dayie')]\n",
      "[1288/2982] Theodore L Einstein -> [(1, 'Theodore L Einstein')]\n",
      "[1289/2982] Theodore Jacobson -> [(0.85, 'Theodore A. Jacobson')]\n",
      "[1290/2982] Theodore Kirkpatrick -> [(0.8695652173913043, 'Theodore R. Kirkpatrick')]\n",
      "[1291/2982] Theodore Leinwand -> [(0.85, 'Theodore B. Leinwand')]\n",
      "[1292/2982] Theresa Coletti -> [(0.8333333333333335, 'Theresa M. Coletti')]\n",
      "[1293/2982] Thomas Antonsen -> [(0.7333333333333334, 'Thomas A Jones')]\n",
      "RETRY\n",
      "[1293/2982] Thomas Antonsen -> [(1, 'Thomas Antonsen')]\n",
      "[1294/2982] Thomas Beigel -> [(0.6923076923076923, 'Thomas Zeller'), (0.6923076923076923, 'Thomas Weimar'), (0.6923076923076923, 'Thomas Kaiser')]\n",
      "RETRY\n",
      "[1294/2982] Thomas Beigel -> [(1, 'Thomas Beigel')]\n",
      "[1295/2982] Thomas Brodrick -> [(0.7142857142857143, 'Thomas James Brodrick')]\n",
      "RETRY\n",
      "[1295/2982] Thomas Brodrick -> [(1, 'Thomas Brodrick')]\n",
      "[1296/2982] Thomas Castonguay -> [(0.85, 'Thomas W. Castonguay')]\n",
      "[1297/2982] Thomas Cohen -> [(0.8, 'Thomas D. Cohen')]\n",
      "[1298/2982] Thomas Corsi -> [(0.8, 'Thomas M. Corsi')]\n",
      "[1299/2982] Thomas Earles -> [(1, 'Thomas Earles')]\n",
      "[1300/2982] Thomas Gleason -> [(1, 'Thomas Gleason')]\n",
      "[1301/2982] Thomas Goldstein -> [(0.7272727272727273, 'Thomas Aaron Goldstein')]\n",
      "RETRY\n",
      "[1301/2982] Thomas Goldstein -> [(1, 'Thomas Goldstein')]\n",
      "[1302/2982] Thomas Haines -> [(0.8125, 'Thomas J. Haines')]\n",
      "[1303/2982] Thomas Holtz -> [(0.75, 'Thomas Hall'), (0.75, 'Thomas Worth')]\n",
      "RETRY\n",
      "[1303/2982] Thomas Holtz -> [(1, 'Thomas Holtz')]\n",
      "[1304/2982] Thomas Kocher -> [(0.7692307692307692, 'Thomas Kaiser')]\n",
      "[1305/2982] Thomas Linthicum -> [(0.7272727272727273, 'Thomas G. JR Linthicum')]\n",
      "RETRY\n",
      "[1305/2982] Thomas Linthicum -> [(1, 'Thomas Linthicum')]\n",
      "[1306/2982] Thomas Loughran -> [(0.8333333333333335, 'Thomas A. Loughran'), (0.8333333333333335, 'Thomas C. Loughran')]\n",
      "[1307/2982] Thomas Lowderbaugh -> [(0.8571428571428572, 'Thomas E. Lowderbaugh')]\n",
      "[1308/2982] Thomas Mauriello -> [(0.8421052631578947, 'Thomas P. Mauriello')]\n",
      "[1309/2982] Thomas McCloskey -> [(1, 'Thomas McCloskey')]\n",
      "[1310/2982] Thomas Mierzwa -> [(0.8235294117647058, 'Thomas J. Mierzwa')]\n",
      "[1311/2982] Thomas Moser -> [(0.7857142857142857, 'Thomas M Sauer')]\n",
      "[1312/2982] Thomas Steen -> [(0.75, 'Thomas Sauer')]\n",
      "RETRY\n",
      "[1312/2982] Thomas Steen -> [(1, 'Thomas Steen')]\n",
      "[1313/2982] Thomas Zeller -> [(1, 'Thomas Zeller')]\n",
      "[1314/2982] Tim Kiemel -> [(1, 'Tim Kiemel')]\n",
      "[1315/2982] Timothy Canty -> [(1, 'Timothy Canty')]\n",
      "[1316/2982] Timothy Horiuchi -> [(1, 'Timothy Horiuchi')]\n",
      "[1317/2982] Timothy Jacobsen -> [(1, 'Timothy Jacobsen')]\n",
      "[1318/2982] Timothy Koeth -> [(0.8125, 'Timothy W. Koeth')]\n",
      "[1319/2982] Timothy Pilachowski -> [(0.7916666666666665, 'Timothy John Pilachowski')]\n",
      "[1320/2982] Ting Zhang -> [(1, 'Ting Zhang')]\n",
      "[1321/2982] Tobias von Petersdorff -> [(1, 'Tobias von Petersdorff')]\n",
      "[1322/2982] Tod Jones -> [(0.7272727272727273, 'Tom A Jones')]\n",
      "RETRY\n",
      "[1322/2982] Tod Jones -> [(0.8888888888888888, 'Tom Jones')]\n",
      "[1323/2982] Todd Allee -> [(1, 'Todd Allee')]\n",
      "[1324/2982] Todd Cooke -> [(0.7692307692307692, 'Todd J. Cooke')]\n",
      "[1325/2982] Tonia Bleam -> [(1, 'Tonia Bleam')]\n",
      "[1326/2982] Tony Whitehead -> [(0.8235294117647058, 'Tony L. Whitehead')]\n",
      "[1327/2982] Tracey Centorbi -> [(0.8333333333333335, 'Tracey L. Centorbi')]\n",
      "[1328/2982] Tracy Kennedy -> [(1, 'Tracy Kennedy')]\n",
      "[1329/2982] Tracy Riggins -> [(1, 'Tracy Riggins')]\n",
      "[1330/2982] Tracy Tomlinson -> [(0.6521739130434783, 'Tracy Darlene Tomlinson')]\n",
      "RETRY\n",
      "[1330/2982] Tracy Tomlinson -> [(1, 'Tracy Tomlinson')]\n",
      "[1331/2982] Tracy Zeeger -> [(0.6666666666666667, 'Tracy Marie Zeeger')]\n",
      "RETRY\n",
      "[1331/2982] Tracy Zeeger -> [(1, 'Tracy Zeeger')]\n",
      "[1332/2982] Tudor Dumitras -> [(1, 'Tudor Dumitras')]\n",
      "[1333/2982] Tyler Page -> [(0.6363636363636364, 'Tyler Bowen')]\n",
      "RETRY\n",
      "[1333/2982] Tyler Page -> [(0.7272727272727273, 'Tyler Yates')]\n",
      "[1334/2982] Typhanye Dyer -> [(0.8125, 'Typhanye V. Dyer')]\n",
      "[1335/2982] Tyson Slocum -> [(0.8, 'Tyson T. Slocum')]\n",
      "[1336/2982] Uchechi Okereke-Beshel -> [(0.8461538461538461, 'Uchechi Ada Okereke-Beshel')]\n",
      "[1337/2982] Ulrich Hewer -> [(1, 'Ulrich Hewer')]\n",
      "[1338/2982] Ursula Gorham-Oscilowski -> [(1, 'Ursula Gorham-Oscilowski')]\n",
      "[1339/2982] Uzi Vishkin -> [(1, 'Uzi Vishkin')]\n",
      "[1340/2982] Valentine Hacquard -> [(0.9, 'Valentine C Hacquard')]\n",
      "[1341/2982] Valerie Orlando -> [(0.8333333333333335, 'Valerie K. Orlando')]\n",
      "[1342/2982] Vedat Diker -> [(0.7857142857142857, 'Vedat G. Diker')]\n",
      "[1343/2982] Venkatramanan Subrahmanian -> [(1, 'Venkatramanan Subrahmanian')]\n",
      "[1344/2982] Vera Stupina -> [(0.8571428571428572, 'Vera A Stupina')]\n",
      "[1345/2982] Veronica Perrigan -> [(0.85, 'Veronica A. Perrigan')]\n",
      "[1346/2982] Vessela Valiavitcharska -> [(1, 'Vessela Valiavitcharska')]\n",
      "[1347/2982] Vibha Sazawal -> [(1, 'Vibha Sazawal')]\n",
      "[1348/2982] Victor Granatstein -> [(0.8571428571428572, 'Victor L. Granatstein')]\n",
      "[1349/2982] Vikas Sahasrabudhe -> [(0.9, 'Vikas M Sahasrabudhe')]\n",
      "[1350/2982] Vincent Nguyen -> [(0.736842105263158, 'Vincent Phuc Nguyen')]\n",
      "RETRY\n",
      "[1350/2982] Vincent Nguyen -> [(1, 'Vincent Nguyen')]\n",
      "[1351/2982] Virginia Butler -> [(0.75, 'Virginia Lynn Butler')]\n",
      "RETRY\n",
      "[1351/2982] Virginia Butler -> [(1, 'Virginia Butler')]\n",
      "[1352/2982] Virginia Haufler -> [(0.8, 'Virginia Ann Haufler')]\n",
      "[1353/2982] Vivian Hoffmann -> [(0.8333333333333335, 'Vivian E. Hoffmann')]\n",
      "[1354/2982] Vivianne Salgado -> [(0.625, 'Susan Salgado')]\n",
      "RETRY\n",
      "[1354/2982] Vivianne Salgado -> [(1, 'Vivianne Salgado')]\n",
      "[1355/2982] Vladimir Tismaneanu -> [(1, 'Vladimir Tismaneanu')]\n",
      "[1356/2982] Volker Briken -> [(1, 'Volker Briken')]\n",
      "[1357/2982] Wade Winkler -> [(0.8, 'Wade C. Winkler')]\n",
      "[1358/2982] Waverly Ding -> [(1, 'Waverly Ding')]\n",
      "[1359/2982] Wayne Slater -> [(0.8571428571428572, 'Wayne H Slater')]\n",
      "[1360/2982] Wendell Hill -> [(0.6666666666666667, 'Wendy Hall'), (0.6666666666666667, 'Renee F Hill')]\n",
      "RETRY\n",
      "[1360/2982] Wendell Hill -> [(1, 'Wendell Hill')]\n",
      "[1361/2982] Wendy Jacobs -> [(0.8333333333333335, 'Penny Jacobs')]\n",
      "[1362/2982] Wendy Peer -> [(0.7142857142857143, 'Wendy Ann Peer')]\n",
      "RETRY\n",
      "[1362/2982] Wendy Peer -> [(1, 'Wendy Peer')]\n",
      "[1363/2982] Wenlu Zhu -> [(1, 'Wenlu Zhu')]\n",
      "[1364/2982] Wesley Lawson -> [(0.8125, 'Wesley G. Lawson')]\n",
      "[1365/2982] Whitman Ridgway -> [(0.8333333333333335, 'Whitman H. Ridgway')]\n",
      "[1366/2982] William Arbaugh -> [(0.7333333333333334, 'William B. Pugh')]\n",
      "RETRY\n",
      "[1366/2982] William Arbaugh -> [(0.7333333333333334, 'William Pugh'), (0.7333333333333334, 'William Braun')]\n",
      "[1367/2982] William Beecher -> [(1, 'William Beecher')]\n",
      "[1368/2982] William Bentley -> [(0.875, 'William Brantley')]\n",
      "[1369/2982] William Evans -> [(0.8125, 'William C. Evans')]\n",
      "[1370/2982] William Fourney -> [(0.8333333333333335, 'William L. Fourney')]\n",
      "[1371/2982] William Goldman -> [(0.8333333333333335, 'William M. Goldman')]\n",
      "[1372/2982] William Hawkins -> [(1, 'William Hawkins')]\n",
      "[1373/2982] William Helkie -> [(0.8235294117647058, 'William L. Helkie')]\n",
      "[1374/2982] William Higgins -> [(0.8333333333333335, 'William J. Higgins')]\n",
      "[1375/2982] William Hodos -> [(1, 'William Hodos')]\n",
      "[1376/2982] William Idsardi -> [(1, 'William Idsardi')]\n",
      "[1377/2982] William Jeffery -> [(0.7, 'William J. Fefferman')]\n",
      "RETRY\n",
      "[1377/2982] William Jeffery -> [(1, 'William Jeffery')]\n",
      "[1378/2982] William Lamp -> [(0.8, 'William O. Lamp')]\n",
      "[1379/2982] William Levine -> [(0.8235294117647058, 'William S. Levine')]\n",
      "[1380/2982] William McClenahan -> [(0.75, 'William M. JR McClenahan')]\n",
      "RETRY\n",
      "[1380/2982] William McClenahan -> [(1, 'William McClenahan')]\n",
      "[1381/2982] William McDonough -> [(0.85, 'William F. McDonough')]\n",
      "[1382/2982] William Phillips -> [(0.8125, 'Miriam Phillips')]\n",
      "[1383/2982] William Pittman -> [(0.7333333333333334, 'William Newman')]\n",
      "RETRY\n",
      "[1383/2982] William Pittman -> [(1, 'William Pittman')]\n",
      "[1384/2982] William Proffitt -> [(0.6875, 'William Scott'), (0.6875, 'William Robin')]\n",
      "RETRY\n",
      "[1384/2982] William Proffitt -> [(0.75, 'William Privott'), (0.75, 'William Griffin'), (0.75, 'William Crockett')]\n",
      "[1385/2982] William Rand -> [(0.8333333333333335, 'William Reed')]\n",
      "[1386/2982] William Richardson -> [(0.8571428571428572, 'William C. Richardson')]\n",
      "[1387/2982] William Schatz -> [(0.7857142857142857, 'William Scott')]\n",
      "[1388/2982] William Schildknecht -> [(0.8695652173913043, 'William R. Schildknecht')]\n",
      "[1389/2982] William Stricklin -> [(0.8095238095238095, 'William Ray Stricklin')]\n",
      "[1390/2982] Wiseley Wong -> [(1, 'Wiseley Wong')]\n",
      "[1391/2982] Woei-Jyh Lee -> [(1, 'Woei-Jyh Lee')]\n",
      "[1392/2982] Wojciech Czaja -> [(1, 'Wojciech Czaja')]\n",
      "[1393/2982] Xiangdong Ji -> [(1, 'Xiangdong Ji')]\n",
      "[1394/2982] Xin He -> [(1, 'Xin He')]\n",
      "[1395/2982] Xinan Liu -> [(1, 'Xinan Liu')]\n",
      "[1396/2982] Xuhua He -> [(1, 'Xuhua He')]\n",
      "[1397/2982] Yajin Wang -> [(1, 'Yajin Wang')]\n",
      "[1398/2982] Yan Li -> [(1, 'Yan Li')]\n",
      "[1399/2982] Yang Tao -> [(1, 'Yang Tao')]\n",
      "[1400/2982] Yanir Rubinstein -> [(0.8421052631578947, 'Yanir A. Rubinstein')]\n",
      "[1401/2982] Yaron Sternberg -> [(0.8333333333333335, 'Yaron M. Sternberg')]\n",
      "[1402/2982] Yasmeen Shah -> [(0.6666666666666667, 'Naveen Shahi')]\n",
      "RETRY\n",
      "[1402/2982] Yasmeen Shah -> [(1, 'Yasmeen Shah')]\n",
      "[1403/2982] Yavuz Oruc -> [(0.7692307692307692, 'Yavuz A. Oruc')]\n",
      "[1404/2982] Yla Tausczik -> [(1, 'Yla Tausczik')]\n",
      "[1405/2982] Yoram Peri -> [(1, 'Yoram Peri')]\n",
      "[1406/2982] Younghi Ramsey -> [(0.8235294117647058, 'Younghi K. Ramsey')]\n",
      "[1407/2982] Yui Suzuki -> [(1, 'Yui Suzuki')]\n",
      "[1408/2982] Yuli Wang -> [(1, 'Yuli Wang')]\n",
      "[1409/2982] Yun Choi -> [(1, 'Yun Choi')]\n",
      "[1410/2982] Zackaria Chacko -> [(1, 'Zackaria Chacko')]\n",
      "[1411/2982] Zeinab Karake -> [(0.8666666666666667, 'Zeinab A Karake')]\n",
      "[1412/2982] Zhanna Gerus-Vernola -> [(0.9090909090909091, 'Zhanna R Gerus-Vernola')]\n",
      "[1413/2982] Zhengguo Xiao -> [(1, 'Zhengguo Xiao')]\n",
      "[1414/2982] Zhongchi Liu -> [(1, 'Zhongchi Liu')]\n",
      "[1415/2982] Zita Nunes -> [(0.5454545454545454, 'Rita Elsner'), (0.5454545454545454, 'Kiara Jones')]\n",
      "RETRY\n",
      "[1415/2982] Zita Nunes -> [(1, 'Zita Nunes')]\n",
      "[1416/2982] Amanda Berger -> [(0.6923076923076923, 'Amanda Bailey'), (0.6923076923076923, 'Amanda Towler'), (0.6923076923076923, 'Amanda Grev'), (0.6923076923076923, 'Amanda Torres')]\n",
      "RETRY\n",
      "[1416/2982] Amanda Berger -> [(1, 'Amanda Berger')]\n",
      "[1417/2982] Anna Alberini -> [(1, 'Anna Alberini')]\n",
      "[1418/2982] Baldev Raheja -> [(0.5714285714285714, 'Basudev Lahiri')]\n",
      "RETRY\n",
      "[1418/2982] Baldev Raheja -> [(0.5714285714285714, 'Basudev Lahiri')]\n",
      "[1419/2982] Barbara Curbow -> [(0.7777777777777779, 'Barbara Ann Curbow')]\n",
      "[1420/2982] Barnet Pavao-Zuckerman -> [(1, 'Barnet Pavao-Zuckerman')]\n",
      "[1421/2982] Bruce James -> [(0.7857142857142857, 'Bruce R. James')]\n",
      "[1422/2982] Cait von Schnetlage -> [(0.6785714285714286, 'Cait Margaret von Schnetlage')]\n",
      "RETRY\n",
      "[1422/2982] Cait von Schnetlage -> [(0.7894736842105263, 'Cait Schnetlage')]\n",
      "[1423/2982] Daniel Greene -> [(0.7142857142857143, 'Daniel Griffie')]\n",
      "RETRY\n",
      "[1423/2982] Daniel Greene -> [(1, 'Daniel Greene')]\n",
      "[1424/2982] Daniel Richter -> [(1, 'Daniel Richter')]\n",
      "[1425/2982] Dawn Gavin -> [(1, 'Dawn Gavin')]\n",
      "[1426/2982] Dina Borzekowski -> [(1, 'Dina Borzekowski')]\n",
      "[1427/2982] Erica Glasper Andrews -> [(1, 'Erica Glasper Andrews')]\n",
      "[1428/2982] George Bean -> [(0.6363636363636364, 'George Wake'), (0.6363636363636364, 'Georges Rey')]\n",
      "RETRY\n",
      "[1428/2982] George Bean -> [(0.75, 'George Belov'), (0.75, 'George Brady')]\n",
      "[1429/2982] Jason Blazakis -> [(0.6428571428571428, 'Jason A Ekins')]\n",
      "RETRY\n",
      "[1429/2982] Jason Blazakis -> [(0.5714285714285714, 'Jason Baer'), (0.5714285714285714, 'Jason Baron'), (0.5714285714285714, 'Jason Baisden'), (0.5714285714285714, 'Jason Kass'), (0.5714285714285714, 'Jason Ekins'), (0.5714285714285714, 'Jason Lurie'), (0.5714285714285714, 'Jason Amini'), (0.5714285714285714, 'Jason McLain')]\n",
      "[1430/2982] Jeffrey Olimpo -> [(0.7142857142857143, 'Jeffrey Lidz')]\n",
      "RETRY\n",
      "[1430/2982] Jeffrey Olimpo -> [(0.7142857142857143, 'Jeffrey Lidz')]\n",
      "[1431/2982] Lei Zhang -> [(1, 'Lei Zhang')]\n",
      "[1432/2982] Lisa Carney -> [(0.9090909090909091, 'Lisa Carey')]\n",
      "[1433/2982] Mary Kate Schneider -> [(0.6842105263157895, 'Mary Kate Cannistra')]\n",
      "RETRY\n",
      "[1433/2982] Mary Kate Schneider -> [(0.631578947368421, 'Janice Schneider')]\n",
      "[1434/2982] Mikhail Anisimov -> [(0.8421052631578947, 'Mikhail A. Anisimov')]\n",
      "[1435/2982] Nathan Hultman -> [(0.875, 'Nathan E Hultman')]\n",
      "[1436/2982] Pamela Clark -> [(0.6666666666666667, 'Pamela Irene Clark'), (0.6666666666666667, 'Pamela Grant')]\n",
      "RETRY\n",
      "[1436/2982] Pamela Clark -> [(1, 'Pamela Clark')]\n",
      "[1437/2982] Patricia Fanflik -> [(0.7619047619047619, 'Patricia Lynn Fanflik')]\n",
      "[1438/2982] Sarah Dowman -> [(1, 'Sarah Dowman')]\n",
      "[1439/2982] Steven Mitchell -> [(0.7333333333333334, 'Alvin Mitchell')]\n",
      "RETRY\n",
      "[1439/2982] Steven Mitchell -> [(1, 'Steven Mitchell')]\n",
      "[1440/2982] Theodore Kaouk -> [(0.6428571428571428, 'Theodore Cohen')]\n",
      "RETRY\n",
      "[1440/2982] Theodore Kaouk -> [(0.7142857142857143, 'Theodore Gold'), (0.7142857142857143, 'Theodore Dayie')]\n",
      "[1441/2982] Thurka Sangaramoorthy -> [(1, 'Thurka Sangaramoorthy')]\n",
      "[1442/2982] Victoria MacDonald -> [(0.75, 'Victoria Maria MacDonald')]\n",
      "RETRY\n",
      "[1442/2982] Victoria MacDonald -> [(1, 'Victoria MacDonald')]\n",
      "[1443/2982] William Gasarch -> [(1, 'William Gasarch')]\n",
      "[1444/2982] William Stuart -> [(0.736842105263158, 'William Taft Stuart')]\n",
      "RETRY\n",
      "[1444/2982] William Stuart -> [(1, 'William Stuart')]\n",
      "[1445/2982] Young Kim -> [(0.8181818181818181, 'Youngju Kim')]\n",
      "[1446/2982] Yvonne Slosarski -> [(0.7272727272727273, 'Yvonne Wanda Slosarski')]\n",
      "RETRY\n",
      "[1446/2982] Yvonne Slosarski -> [(1, 'Yvonne Slosarski')]\n",
      "[1447/2982] A Kruglanski -> [(0.8, 'A W. Kruglanski')]\n",
      "[1448/2982] Aaron Allen -> [(0.8181818181818181, 'Jason Allen')]\n",
      "[1449/2982] Alan Sussman -> [(0.8, 'Alan L. Sussman')]\n",
      "[1450/2982] Alejandro Caneque -> [(1, 'Alejandro Caneque')]\n",
      "[1451/2982] Andrea Lopez -> [(0.8571428571428572, 'Andrea M Lopez')]\n",
      "[1452/2982] Anil Gupta -> [(0.7692307692307692, 'Anil K. Gupta')]\n",
      "[1453/2982] Anita Seate -> [(0.6363636363636364, 'Ankita Shah')]\n",
      "RETRY\n",
      "[1453/2982] Anita Seate -> [(1, 'Anita Seate')]\n",
      "[1454/2982] Anne Simon -> [(0.7692307692307692, 'Anne E. Simon')]\n",
      "[1455/2982] Avital Karpman -> [(1, 'Avital Karpman')]\n",
      "[1456/2982] B Balachandran -> [(1, 'B Balachandran')]\n",
      "[1457/2982] Barry Pearson -> [(0.8125, 'Barry L. Pearson')]\n",
      "[1458/2982] Bill Kules -> [(1, 'Bill Kules')]\n",
      "[1459/2982] Bradley Boekeloo -> [(0.8421052631578947, 'Bradley O. Boekeloo')]\n",
      "[1460/2982] Brent Goldfarb -> [(1, 'Brent Goldfarb')]\n",
      "[1461/2982] Bruce Jacob -> [(1, 'Bruce Jacob')]\n",
      "[1462/2982] Burt Leete -> [(0.7692307692307692, 'Burt A. Leete')]\n",
      "[1463/2982] Caren Chang -> [(1, 'Caren Chang')]\n",
      "[1464/2982] Carmen Benito-Vessels -> [(1, 'Carmen Benito-Vessels')]\n",
      "[1465/2982] Carol Mossman -> [(0.8125, 'Carol A. Mossman')]\n",
      "[1466/2982] Christopher Bonner -> [(1, 'Christopher Bonner')]\n",
      "[1467/2982] Christopher Cadou -> [(1, 'Christopher Cadou')]\n",
      "[1468/2982] Christopher Jarzynski -> [(1, 'Christopher Jarzynski')]\n",
      "[1469/2982] Christopher Monroe -> [(1, 'Christopher Monroe')]\n",
      "[1470/2982] Dan Moller -> [(1, 'Dan Moller')]\n",
      "[1471/2982] Daniel Kason -> [(0.8571428571428572, 'Daniel J Kason')]\n",
      "[1472/2982] Daria Scala -> [(0.6666666666666667, 'Amanda Scala'), (0.6666666666666667, 'Maria Schanz'), (0.6666666666666667, 'Armand Scala')]\n",
      "RETRY\n",
      "[1472/2982] Daria Scala -> [(1, 'Daria Scala')]\n",
      "[1473/2982] David Crocker -> [(0.8125, 'David A. Crocker')]\n",
      "[1474/2982] David Falk -> [(1, 'David Falk')]\n",
      "[1475/2982] David Fushman -> [(1, 'David Fushman')]\n",
      "[1476/2982] David Hamilton -> [(0.8235294117647058, 'David H. Hamilton')]\n",
      "[1477/2982] Dave Levin -> [(1, 'Dave Levin')]\n",
      "[1478/2982] David Malmquist -> [(0.8333333333333335, 'David H. Malmquist')]\n",
      "[1479/2982] David Wyatt -> [(0.7857142857142857, 'David M. Wyatt')]\n",
      "[1480/2982] Deborah Lake -> [(0.8571428571428572, 'Deborah M Lake')]\n",
      "[1481/2982] Denise Gottfredson -> [(0.8571428571428572, 'Denise C. Gottfredson')]\n",
      "[1482/2982] Dilip Madan -> [(1, 'Dilip Madan')]\n",
      "[1483/2982] Donald Perlis -> [(0.8125, 'Donald R. Perlis')]\n",
      "[1484/2982] Doron Levy -> [(1, 'Doron Levy')]\n",
      "[1485/2982] Edward Alwood -> [(1, 'Edward Alwood')]\n",
      "[1486/2982] Edward Condon -> [(0.7333333333333334, 'Edward C Cardon')]\n",
      "RETRY\n",
      "[1486/2982] Edward Condon -> [(1, 'Edward Condon')]\n",
      "[1487/2982] Edward Eisenstein -> [(1, 'Edward Eisenstein')]\n",
      "[1488/2982] Edward Magrab -> [(0.8125, 'Edward B. Magrab')]\n",
      "[1489/2982] Edward Orlando -> [(0.875, 'Edward F Orlando')]\n",
      "[1490/2982] Elie Ashery -> [(0.6470588235294117, 'Elie David Ashery')]\n",
      "RETRY\n",
      "[1490/2982] Elie Ashery -> [(1, 'Elie Ashery')]\n",
      "[1491/2982] Elisabeth Smela -> [(1, 'Elisabeth Smela')]\n",
      "[1492/2982] Elizabeth Driver -> [(1, 'Elizabeth Driver')]\n",
      "[1493/2982] Elizabeth Papazian -> [(0.8571428571428572, 'Elizabeth A. Papazian')]\n",
      "[1494/2982] Eric Kasischke -> [(0.8235294117647058, 'Eric S. Kasischke')]\n",
      "[1495/2982] Francisco Barrenechea -> [(1, 'Francisco Barrenechea')]\n",
      "[1496/2982] Frederick Khachik -> [(1, 'Frederick Khachik')]\n",
      "[1497/2982] George Lorimer -> [(0.8235294117647058, 'George H. Lorimer')]\n",
      "[1498/2982] Guodong Gao -> [(1, 'Guodong Gao')]\n",
      "[1499/2982] Guy Ziv -> [(1, 'Guy Ziv')]\n",
      "[1500/2982] Haley Snyder -> [(0.8571428571428572, 'Haley M Snyder')]\n",
      "[1501/2982] Haluk Unal -> [(1, 'Haluk Unal')]\n",
      "[1502/2982] Heidi Bulich -> [(1, 'Heidi Bulich')]\n",
      "[1503/2982] Heidi Fisher -> [(1, 'Heidi Fisher')]\n",
      "[1504/2982] Hongyi Zhang -> [(1, 'Hongyi Zhang')]\n",
      "[1505/2982] Ian White -> [(1, 'Ian White')]\n",
      "[1506/2982] Iqbal Hamza -> [(1, 'Iqbal Hamza')]\n",
      "[1507/2982] Jackelyn Lopez Roshwalb -> [(1, 'Jackelyn Lopez Roshwalb')]\n",
      "[1508/2982] Jacqueline Wallen -> [(1, 'Jacqueline Wallen')]\n",
      "[1509/2982] Jafar Vossoughi -> [(1, 'Jafar Vossoughi')]\n",
      "[1510/2982] Jane Donawerth -> [(0.8235294117647058, 'Jane L. Donawerth')]\n",
      "[1511/2982] Janice Reutt-Robey -> [(1, 'Janice Reutt-Robey')]\n",
      "[1512/2982] Jason Rudy -> [(0.8333333333333335, 'Jason R Rudy')]\n",
      "[1513/2982] Jennifer Graham -> [(0.8, 'Jennifer Pham')]\n",
      "[1514/2982] Jennifer Ring -> [(0.7857142857142857, 'Jennifer Riehl')]\n",
      "[1515/2982] Jennifer Wallace -> [(1, 'Jennifer Wallace')]\n",
      "[1516/2982] John Fisher -> [(0.8461538461538461, 'John P Fisher')]\n",
      "[1517/2982] John Fourkas -> [(0.8, 'John T. Fourkas')]\n",
      "[1518/2982] John Horty -> [(1, 'John Horty')]\n",
      "[1519/2982] John Jabara -> [(1, 'John Jabara')]\n",
      "[1520/2982] John Laub -> [(0.75, 'John H. Laub')]\n",
      "RETRY\n",
      "[1520/2982] John Laub -> [(1, 'John Laub')]\n",
      "[1521/2982] Jonathan Allen -> [(0.8, 'Jonathan D Lent')]\n",
      "[1522/2982] Jonathan Katz -> [(1, 'Jonathan Katz')]\n",
      "[1523/2982] Joseph Bailey -> [(1, 'Joseph Bailey')]\n",
      "[1524/2982] Juan Carlos Quintero-Herencia -> [(1, 'Juan Carlos Quintero-Herencia')]\n",
      "[1525/2982] Julia Steinberg -> [(0.7142857142857143, 'Julia Renee Steinberg')]\n",
      "RETRY\n",
      "[1525/2982] Julia Steinberg -> [(1, 'Julia Steinberg')]\n",
      "[1526/2982] Katherine Boyle -> [(0.8823529411764706, 'Katherine M Boyle')]\n",
      "[1527/2982] Kayo Ide -> [(1, 'Kayo Ide')]\n",
      "[1528/2982] Kevin Lewy -> [(1, 'Kevin Lewy')]\n",
      "[1529/2982] Konstantinos Papadopoulos -> [(0.78125, 'Konstantinos Dennis Papadopoulos')]\n",
      "[1530/2982] Lan Ma -> [(1, 'Lan Ma')]\n",
      "[1531/2982] Laura Rosenthal -> [(0.8823529411764706, 'Laura J Rosenthal')]\n",
      "[1532/2982] Le-Marie Thompson -> [(0.7058823529411764, 'Katie Thompson'), (0.7058823529411764, 'Maria Thomason')]\n",
      "RETRY\n",
      "[1532/2982] Le-Marie Thompson -> [(1, 'Le-Marie Thompson')]\n",
      "[1533/2982] Lee Mundy -> [(0.75, 'Lee G. Mundy')]\n",
      "RETRY\n",
      "[1533/2982] Lee Mundy -> [(1, 'Lee Mundy')]\n",
      "[1534/2982] Lenaya Stewart -> [(1, 'Lenaya Stewart')]\n",
      "[1535/2982] Lewis Link -> [(0.625, 'Lewis E. JR Link')]\n",
      "RETRY\n",
      "[1535/2982] Lewis Link -> [(1, 'Lewis Link')]\n",
      "[1536/2982] Linda Aldoory -> [(1, 'Linda Aldoory')]\n",
      "[1537/2982] Luis Orozco -> [(0.7857142857142857, 'Luis A. Orozco')]\n",
      "[1538/2982] Luka Arsenjuk -> [(1, 'Luka Arsenjuk')]\n",
      "[1539/2982] Lyle Isaacs -> [(0.7857142857142857, 'Lyle D. Isaacs')]\n",
      "[1540/2982] Margaret McWeeney -> [(0.6470588235294117, 'Margaret M. Guy'), (0.6470588235294117, 'Margaret Loebe'), (0.6470588235294117, 'Margaret P Bean'), (0.6470588235294117, 'Margaret Chmiel'), (0.6470588235294117, 'Marco Mcsweeney'), (0.6470588235294117, 'Margaret Elwell')]\n",
      "RETRY\n",
      "[1540/2982] Margaret McWeeney -> [(0.7058823529411764, 'Margaret McCabe')]\n",
      "[1541/2982] Maria Lekic -> [(0.7857142857142857, 'Maria D. Lekic')]\n",
      "[1542/2982] Martha Geores -> [(0.8125, 'Martha E. Geores')]\n",
      "[1543/2982] Martin Loeb -> [(0.7857142857142857, 'Martin P. Loeb')]\n",
      "[1544/2982] Mary Washington -> [(0.8235294117647058, 'Marion Washington'), (0.8235294117647058, 'Marcus Washington')]\n",
      "[1545/2982] Marybeth Shea -> [(1, 'Marybeth Shea')]\n",
      "[1546/2982] Mathias Frisch -> [(0.875, 'Mathias F Frisch')]\n",
      "[1547/2982] Matthew Severson -> [(0.8125, 'Matt Severson')]\n",
      "[1548/2982] Maureen Cropper -> [(0.8333333333333335, 'Maureen L. Cropper')]\n",
      "[1549/2982] Mayron Tsong -> [(1, 'Mayron Tsong')]\n",
      "[1550/2982] Megan Hurley -> [(0.6666666666666667, 'Xan Burley'), (0.6666666666666667, 'Megan Rutter')]\n",
      "RETRY\n",
      "[1550/2982] Megan Hurley -> [(1, 'Megan Hurley')]\n",
      "[1551/2982] Melissa Kenney -> [(0.875, 'Melissa A Kenney')]\n",
      "[1552/2982] Michael Collier -> [(0.8333333333333335, 'Michael R. Collier')]\n",
      "[1553/2982] Michael Morreau -> [(0.8333333333333335, 'Michael P. Morreau')]\n",
      "[1554/2982] Michael Raupp -> [(0.8125, 'Michael J. Raupp')]\n",
      "[1555/2982] Michael Trusov -> [(0.8235294117647058, 'Michael S. Trusov')]\n",
      "[1556/2982] Min Xie -> [(1, 'Min Xie')]\n",
      "[1557/2982] Mitchell Pavao-Zuckerman -> [(0.8275862068965517, 'Mitchell Adam Pavao-Zuckerman'), (0.8275862068965517, 'Mitchell\\nAdam Pavao-Zuckerman')]\n",
      "[1558/2982] Moran Stern -> [(0.5833333333333333, 'Jordan Stone')]\n",
      "RETRY\n",
      "[1558/2982] Moran Stern -> [(0.6666666666666667, 'Lauren Stern')]\n",
      "[1559/2982] Munther Hassouneh -> [(0.85, 'Munther A. Hassouneh')]\n",
      "[1560/2982] Nicholas Roussopoulos -> [(1, 'Nicholas Roussopoulos')]\n",
      "[1561/2982] Niranjan Ramachandran -> [(1, 'Niranjan Ramachandran')]\n",
      "[1562/2982] Oliver Gaycken -> [(1, 'Oliver Gaycken')]\n",
      "[1563/2982] Patrice Kehoe -> [(0.8125, 'Patrice I. Kehoe')]\n",
      "[1564/2982] Paul Bellis -> [(0.8333333333333335, 'Paul D Ellis')]\n",
      "[1565/2982] Peter Carruthers -> [(0.8421052631578947, 'Peter M. Carruthers')]\n",
      "[1566/2982] Peter Coughlin -> [(0.8235294117647058, 'Peter J. Coughlin')]\n",
      "[1567/2982] Philip Johnson -> [(0.7142857142857143, 'Liv Johnson')]\n",
      "RETRY\n",
      "[1567/2982] Philip Johnson -> [(1, 'Philip Johnson')]\n",
      "[1568/2982] Philip Nash -> [(0.6666666666666667, 'Philip Munds')]\n",
      "RETRY\n",
      "[1568/2982] Philip Nash -> [(1, 'Philip Nash')]\n",
      "[1569/2982] Prakash Narayan -> [(1, 'Prakash Narayan')]\n",
      "[1570/2982] Rachel Singpurwalla -> [(1, 'Rachel Singpurwalla')]\n",
      "[1571/2982] Raghu Murtugudde -> [(1, 'Raghu Murtugudde')]\n",
      "[1572/2982] Ralph Bennett -> [(0.6842105263157895, 'Ralph D. JR Bennett')]\n",
      "RETRY\n",
      "[1572/2982] Ralph Bennett -> [(1, 'Ralph Bennett')]\n",
      "[1573/2982] Reeve Vanneman -> [(1, 'Reeve Vanneman')]\n",
      "[1574/2982] Robert Buchanan -> [(0.8333333333333335, 'Robert L. Buchanan')]\n",
      "[1575/2982] Robert Schwab -> [(0.8125, 'Robert M. Schwab')]\n",
      "[1576/2982] Robert Vann -> [(0.8181818181818181, 'Robert Rand')]\n",
      "[1577/2982] Roberton Williams -> [(0.8888888888888888, 'Robert O. Williams')]\n",
      "[1578/2982] Roland Rust -> [(0.7857142857142857, 'Roland T. Rust')]\n",
      "[1579/2982] Russell Wermers -> [(0.8333333333333335, 'Russell R. Wermers')]\n",
      "[1580/2982] Sabrina Kramer -> [(0.7, 'Sabrina Renee Kramer')]\n",
      "RETRY\n",
      "[1580/2982] Sabrina Kramer -> [(1, 'Sabrina Kramer')]\n",
      "[1581/2982] Sandra Cerrai -> [(1, 'Sandra Cerrai')]\n",
      "[1582/2982] Sandra Quinn -> [(1, 'Sandra Quinn')]\n",
      "[1583/2982] Sarah Bergbreiter -> [(0.8947368421052632, 'Sarah E Bergbreiter')]\n",
      "[1584/2982] Sarah Racz -> [(0.7, 'Sarah Mruz')]\n",
      "RETRY\n",
      "[1584/2982] Sarah Racz -> [(1, 'Sarah Racz')]\n",
      "[1585/2982] Sayed Elsisi -> [(0.8571428571428572, 'Sayed A Elsisi')]\n",
      "[1586/2982] Shihab Shamma -> [(1, 'Shihab Shamma')]\n",
      "[1587/2982] Shijun Cheng -> [(1, 'Shijun Cheng')]\n",
      "[1588/2982] Sina Lee -> [(1, 'Sina Lee')]\n",
      "[1589/2982] Stephen Sorokanich -> [(0.6666666666666667, 'Stephen P. Kcenich')]\n",
      "RETRY\n",
      "[1589/2982] Stephen Sorokanich -> [(0.6666666666666667, 'Stephen Kcenich')]\n",
      "[1590/2982] Steve Sin -> [(0.8181818181818181, 'Steve S Sin'), (0.8181818181818181, 'Steve Simon')]\n",
      "[1591/2982] Stuart Vogel -> [(1, 'Stuart Vogel')]\n",
      "[1592/2982] Sunil Mithas -> [(0.8333333333333335, 'Sunil Mittal')]\n",
      "[1593/2982] Suresh Tonwar -> [(0.6190476190476191, 'Suresh Chandra Tonwar')]\n",
      "RETRY\n",
      "[1593/2982] Suresh Tonwar -> [(1, 'Suresh Tonwar')]\n",
      "[1594/2982] Susan Schwab -> [(0.8, 'Susan C. Schwab')]\n",
      "[1595/2982] Susanna Underland -> [(1, 'Susanna Underland')]\n",
      "[1596/2982] Sylvain Veilleux -> [(1, 'Sylvain Veilleux')]\n",
      "[1597/2982] Tangere Hoagland -> [(0.5625, 'Marie Howland'), (0.5625, 'Katie Holland'), (0.5625, 'Roger I Holland')]\n",
      "RETRY\n",
      "[1597/2982] Tangere Hoagland -> [(0.625, 'Roger Holland')]\n",
      "[1598/2982] Thomas Murphy -> [(0.8125, 'Thomas E. Murphy')]\n",
      "[1599/2982] Timothy Foecke -> [(1, 'Timothy Foecke')]\n",
      "[1600/2982] Toby Egan -> [(1, 'Toby Egan')]\n",
      "[1601/2982] Tori Mends-Cole -> [(1, 'Tori Mends-Cole')]\n",
      "[1602/2982] Trevor Parry-Giles -> [(0.8571428571428572, 'Trevor S. Parry-Giles')]\n",
      "[1603/2982] Tunay Tunca -> [(1, 'Tunay Tunca')]\n",
      "[1604/2982] Vadim Kaloshin -> [(1, 'Vadim Kaloshin')]\n",
      "[1605/2982] Vasiliy Krivtsov -> [(1, 'Vasiliy Krivtsov')]\n",
      "[1606/2982] Vincent Lee -> [(0.7857142857142857, 'Vincent T. Lee')]\n",
      "[1607/2982] Wilbur Chung -> [(0.8, 'Wilbur C. Chung')]\n",
      "[1608/2982] William Walters -> [(0.8333333333333335, 'William B. Walters')]\n",
      "[1609/2982] Wolfgang Losert -> [(1, 'Wolfgang Losert')]\n",
      "[1610/2982] Xin-Zhong Liang -> [(1, 'Xin-Zhong Liang')]\n",
      "[1611/2982] Yanan Wang -> [(1, 'Yanan Wang')]\n",
      "[1612/2982] Yogesh Joshi -> [(1, 'Yogesh Joshi')]\n",
      "[1613/2982] A Anthony -> [(0.75, 'Dave Anthony')]\n",
      "RETRY\n",
      "[1613/2982] A Anthony -> [(0.8888888888888888, 'T Anthony')]\n",
      "[1614/2982] A.U. Shankar -> [(1, 'A.U. Shankar')]\n",
      "[1615/2982] Ahmed Hanafy -> [(0.6153846153846154, 'Ahmed Ramadan')]\n",
      "RETRY\n",
      "[1615/2982] Ahmed Hanafy -> [(1, 'Ahmed Hanafy')]\n",
      "[1616/2982] Annette Spivy -> [(0.7222222222222221, 'Annette Leah Spivy')]\n",
      "RETRY\n",
      "[1616/2982] Annette Spivy -> [(1, 'Annette Spivy')]\n",
      "[1617/2982] Atif Memon -> [(0.7692307692307692, 'Atif M. Memon')]\n",
      "[1618/2982] Bonnie Dorr -> [(0.7857142857142857, 'Bonnie J. Dorr')]\n",
      "[1619/2982] Brandon Alexander -> [(0.7391304347826086, 'Brandon Chris Alexander')]\n",
      "RETRY\n",
      "[1619/2982] Brandon Alexander -> [(1, 'Brandon Alexander')]\n",
      "[1620/2982] Cara Peters -> [(0.6923076923076923, 'Ryan A Peters'), (0.6923076923076923, 'Zabbar Peters')]\n",
      "RETRY\n",
      "[1620/2982] Cara Peters -> [(0.7857142857142857, 'Carla Peterson')]\n",
      "[1621/2982] Carlos Machado -> [(0.8235294117647058, 'Carlos A. Machado')]\n",
      "[1622/2982] Charles Fenster -> [(0.8333333333333335, 'Charles B. Fenster')]\n",
      "[1623/2982] Chau-Wen Tseng -> [(1, 'Chau-Wen Tseng')]\n",
      "[1624/2982] Daniel Kaufman -> [(0.6875, 'Daniel C Hoffman')]\n",
      "RETRY\n",
      "[1624/2982] Daniel Kaufman -> [(0.7857142857142857, 'Daniel Kaplan'), (0.7857142857142857, 'Daniel Hoffman'), (0.7857142857142857, 'Daniel Eastman')]\n",
      "[1625/2982] David Jacobs -> [(1, 'David Jacobs')]\n",
      "[1626/2982] Denitsa Yotova -> [(0.5185185185185186, 'Denitsa Haralampieva Yotova')]\n",
      "RETRY\n",
      "[1626/2982] Denitsa Yotova -> [(1, 'Denitsa Yotova')]\n",
      "[1627/2982] Eyad Abed -> [(0.8181818181818181, 'Eyad H Abed')]\n",
      "[1628/2982] Frederick Schenkelberg -> [(0.6363636363636364, 'Frederick John Ferrer')]\n",
      "RETRY\n",
      "[1628/2982] Frederick Schenkelberg -> [(0.5909090909090908, 'Frederick Baker'), (0.5909090909090908, 'Frederick Quander'), (0.5909090909090908, 'Frederick Echols'), (0.5909090909090908, 'Frederick Ferrer'), (0.5909090909090908, 'Frederic Stanley')]\n",
      "[1629/2982] Gilbert Stewart -> [(0.8, 'Robert Stewart')]\n",
      "[1630/2982] Hans Lemke -> [(0.7692307692307692, 'Hans D. Lemke')]\n",
      "[1631/2982] Heven Sze -> [(1, 'Heven Sze')]\n",
      "[1632/2982] Jason Filippou -> [(1, 'Jason Filippou')]\n",
      "[1633/2982] Iceney Williams -> [(0.8823529411764706, 'Iceney M Williams')]\n",
      "[1634/2982] James Hanson -> [(0.8, 'James C. Hanson')]\n",
      "[1635/2982] James Hunt -> [(0.6428571428571428, 'James H. Young')]\n",
      "RETRY\n",
      "[1635/2982] James Hunt -> [(0.8, 'James Hull')]\n",
      "[1636/2982] Janna Soeder -> [(1, 'Janna Soeder')]\n",
      "[1637/2982] Jordan Boyd-Graber -> [(0.8181818181818181, 'Jordan Lee Boyd-Graber')]\n",
      "[1638/2982] Jordan Boyd-Graber Ying -> [(0.8518518518518519, 'Jordan Lee Boyd-Graber Ying')]\n",
      "[1639/2982] Ke Xue -> [(0.7142857142857143, 'Fei Xue')]\n",
      "RETRY\n",
      "[1639/2982] Ke Xue -> [(0.7142857142857143, 'Fei Xue')]\n",
      "[1640/2982] Kevin Shivers -> [(0.8125, 'Kevin T. Shivers')]\n",
      "[1641/2982] Kevin Winstead -> [(1, 'Kevin Winstead')]\n",
      "[1642/2982] Michael Ball -> [(0.8333333333333335, 'Michael Gale'), (0.8333333333333335, 'Michael Wahl')]\n",
      "[1643/2982] Michael McCourt -> [(0.6875, 'Michael J. Kurtz')]\n",
      "RETRY\n",
      "[1643/2982] Michael McCourt -> [(1, 'Michael McCourt')]\n",
      "[1644/2982] Michele Dudash -> [(0.8235294117647058, 'Michele R. Dudash')]\n",
      "[1645/2982] Mollie Kaufer -> [(0.65, 'Mollie Rachel Kaufer')]\n",
      "RETRY\n",
      "[1645/2982] Mollie Kaufer -> [(1, 'Mollie Kaufer')]\n",
      "[1646/2982] Peter Cramton -> [(1, 'Peter Cramton')]\n",
      "[1647/2982] Rachel Walker -> [(0.8461538461538461, 'Rachel Palmer')]\n",
      "[1648/2982] Rafael Lorente -> [(1, 'Rafael Lorente')]\n",
      "[1649/2982] Ryan Hunter -> [(1, 'Ryan Hunter')]\n",
      "[1650/2982] Samir Khuller -> [(1, 'Samir Khuller')]\n",
      "[1651/2982] Steven Selden -> [(0.7692307692307692, 'Steven Tender')]\n",
      "[1652/2982] Weikun Wang -> [(1, 'Weikun Wang')]\n",
      "[1653/2982] William Pugh -> [(0.8, 'William B. Pugh')]\n",
      "[1654/2982] Zhanqing Li -> [(1, 'Zhanqing Li')]\n",
      "[1655/2982] A Sharma -> [(0.6666666666666667, 'Pooja Sharma'), (0.6666666666666667, 'Anand Sharma'), (0.6666666666666667, 'Rahul Sharma')]\n",
      "RETRY\n",
      "[1655/2982] A Sharma -> [(1, 'A Sharma')]\n",
      "[1656/2982] Aaron Finkle -> [(1, 'Aaron Finkle')]\n",
      "[1657/2982] Alex Parkhouse -> [(0.875, 'Alex R Parkhouse')]\n",
      "[1658/2982] Alexis Williams -> [(1, 'Alexis Williams')]\n",
      "[1659/2982] Alison Flatau -> [(1, 'Alison Flatau')]\n",
      "[1660/2982] Allan Yashinski -> [(0.6521739130434783, 'Allan Anthony Yashinski')]\n",
      "RETRY\n",
      "[1660/2982] Allan Yashinski -> [(1, 'Allan Yashinski')]\n",
      "[1661/2982] Alyson Farzad -> [(0.6153846153846154, 'Alison Flatau'), (0.6153846153846154, 'Alison Karp'), (0.6153846153846154, 'Alison Barlow')]\n",
      "RETRY\n",
      "[1661/2982] Alyson Farzad -> [(0.6428571428571428, 'Allyson Yawman')]\n",
      "[1662/2982] Andrej Rasevic -> [(0.6666666666666667, 'Andrej Grubisic')]\n",
      "RETRY\n",
      "[1662/2982] Andrej Rasevic -> [(0.6666666666666667, 'Andrej Grubisic')]\n",
      "[1663/2982] Archana Khurana -> [(1, 'Archana Khurana')]\n",
      "[1664/2982] Arseny Zakharov -> [(0.6, 'Zeena Zakharia')]\n",
      "RETRY\n",
      "[1664/2982] Arseny Zakharov -> [(0.6, 'Zeena Zakharia')]\n",
      "[1665/2982] Babak Eslami -> [(1, 'Babak Eslami')]\n",
      "[1666/2982] Benjamin Beltran -> [(0.7619047619047619, 'Benjamin Jose Beltran')]\n",
      "[1667/2982] Blake Hartley -> [(0.6153846153846154, 'Blake Jeter')]\n",
      "RETRY\n",
      "[1667/2982] Blake Hartley -> [(0.6428571428571428, 'Bradley Hartle')]\n",
      "[1668/2982] Brent Solomon -> [(0.625, 'Benjamin Solomon'), (0.625, 'Martin R Solomon')]\n",
      "RETRY\n",
      "[1668/2982] Brent Solomon -> [(1, 'Brent Solomon')]\n",
      "[1669/2982] Brian Connor -> [(0.8571428571428572, 'Brian T Connor')]\n",
      "[1670/2982] Caitlin Marshall -> [(1, 'Caitlin Marshall')]\n",
      "[1671/2982] Campbell Scribner -> [(0.7391304347826086, 'Campbell Frank Scribner')]\n",
      "RETRY\n",
      "[1671/2982] Campbell Scribner -> [(1, 'Campbell Scribner')]\n",
      "[1672/2982] Carol Espy-Wilson -> [(0.85, 'Carol Y. Espy-Wilson')]\n",
      "[1673/2982] Caroline Terry -> [(0.6666666666666667, 'Caroline Amelia Terry'), (0.6666666666666667, 'Carolina Vieira')]\n",
      "RETRY\n",
      "[1673/2982] Caroline Terry -> [(1, 'Caroline Terry')]\n",
      "[1674/2982] Cecily Hardaway -> [(0.7142857142857143, 'Cecily Renee Hardaway')]\n",
      "RETRY\n",
      "[1674/2982] Cecily Hardaway -> [(1, 'Cecily Hardaway')]\n",
      "[1675/2982] Christina Saninocencio -> [(0.6818181818181819, 'Christine J. Vicencio')]\n",
      "RETRY\n",
      "[1675/2982] Christina Saninocencio -> [(0.7272727272727273, 'Christine Vicencio')]\n",
      "[1676/2982] Clare Lyons -> [(0.7857142857142857, 'Clare A. Lyons')]\n",
      "[1677/2982] Claudia Donnelly -> [(0.8888888888888888, 'Claudia C Donnelly')]\n",
      "[1678/2982] Constance Ford -> [(0.875, 'Constance J Ford')]\n",
      "[1679/2982] Damien Pfister -> [(0.875, 'Damien S Pfister')]\n",
      "[1680/2982] Dana Grosser-Clarkson -> [(0.8076923076923077, 'Dana Lynn Grosser-Clarkson')]\n",
      "[1681/2982] Daniel Rosenthal -> [(0.6956521739130435, 'Daniel Joseph Rosenthal')]\n",
      "RETRY\n",
      "[1681/2982] Daniel Rosenthal -> [(1, 'Daniel Rosenthal')]\n",
      "[1682/2982] David Ashley -> [(1, 'David Ashley')]\n",
      "[1683/2982] David Flynn -> [(0.7272727272727273, 'David Fludd'), (0.7272727272727273, 'David Yun')]\n",
      "RETRY\n",
      "[1683/2982] David Flynn -> [(0.8181818181818181, 'David Glenn')]\n",
      "[1684/2982] David Payne -> [(0.7272727272727273, 'David Hynes')]\n",
      "RETRY\n",
      "[1684/2982] David Payne -> [(1, 'David Payne')]\n",
      "[1685/2982] Dora Hanninen -> [(0.8125, 'Dora A. Hanninen')]\n",
      "[1686/2982] Elias Rosado -> [(0.5, 'Melissa S Rogers')]\n",
      "RETRY\n",
      "[1686/2982] Elias Rosado -> [(0.5833333333333333, 'Elias Reyes'), (0.5833333333333333, 'Elias Almaw')]\n",
      "[1687/2982] Elizabeth Picciuto -> [(0.6666666666666667, 'Elizabeth Patt'), (0.6666666666666667, 'Elizabeth Petrun'), (0.6666666666666667, 'Elizabeth Richey'), (0.6666666666666667, 'Elizabeth M. Lintz')]\n",
      "RETRY\n",
      "[1687/2982] Elizabeth Picciuto -> [(0.6666666666666667, 'Elizabeth Patt'), (0.6666666666666667, 'Elizabeth Petrun'), (0.6666666666666667, 'Elizabeth Poling'), (0.6666666666666667, 'Elizabeth Peguero'), (0.6666666666666667, 'Elizabeth Daut'), (0.6666666666666667, 'Elizabeth Lintz'), (0.6666666666666667, 'Elizabeth Smith')]\n",
      "[1688/2982] Emily Egan -> [(0.6363636363636364, 'Emily Glass')]\n",
      "RETRY\n",
      "[1688/2982] Emily Egan -> [(1, 'Emily Egan')]\n",
      "[1689/2982] Erica Cefalo -> [(0.6666666666666667, 'Erica Maria Cefalo'), (0.6666666666666667, 'Erica Ely')]\n",
      "RETRY\n",
      "[1689/2982] Erica Cefalo -> [(1, 'Erica Cefalo')]\n",
      "[1690/2982] Erica Estrada-Liou -> [(1, 'Erica Estrada-Liou')]\n",
      "[1691/2982] Erin Janulis -> [(0.5833333333333333, 'Erin Jewell'), (0.5833333333333333, 'Erin Cannon'), (0.5833333333333333, 'Erin Doolin'), (0.5833333333333333, 'Erin Carlini')]\n",
      "RETRY\n",
      "[1691/2982] Erin Janulis -> [(0.6666666666666667, 'Erin Jacobs'), (0.6666666666666667, 'Erin Jones')]\n",
      "[1692/2982] Felicia Low -> [(1, 'Felicia Low')]\n",
      "[1693/2982] Franck Olivier Ndjakou Njeunje -> [(1, 'Franck Olivier Ndjakou Njeunje')]\n",
      "[1694/2982] Gareth Williams -> [(0.75, 'Gary B. Williams')]\n",
      "RETRY\n",
      "[1694/2982] Gareth Williams -> [(0.8, 'Gary Williams'), (0.8, 'Sarah Williams')]\n",
      "[1695/2982] Garth Libhart -> [(0.55, 'Sarah Elizabeth Hart')]\n",
      "RETRY\n",
      "[1695/2982] Garth Libhart -> [(0.6153846153846154, 'Sarah Hart')]\n",
      "[1696/2982] George Kintiba -> [(1, 'George Kintiba')]\n",
      "[1697/2982] Gerard Holmes -> [(1, 'Gerard Holmes')]\n",
      "[1698/2982] Gregory Bucher -> [(0.8235294117647058, 'Gregory S. Bucher')]\n",
      "[1699/2982] Heidi Scott -> [(1, 'Heidi Scott')]\n",
      "[1700/2982] Hilaf Hasson -> [(1, 'Hilaf Hasson')]\n",
      "[1701/2982] Jamison Kantor -> [(0.6428571428571428, 'Brison Manor')]\n",
      "RETRY\n",
      "[1701/2982] Jamison Kantor -> [(1, 'Jamison Kantor')]\n",
      "[1702/2982] Jeffrey Henrikson -> [(1, 'Jeffrey Henrikson')]\n",
      "[1703/2982] Jenna Messman -> [(0.6428571428571428, 'Jenna R Sablan')]\n",
      "RETRY\n",
      "[1703/2982] Jenna Messman -> [(1, 'Jenna Messman')]\n",
      "[1704/2982] Jerry Wu -> [(1, 'Jerry Wu')]\n",
      "[1705/2982] Jessica McKechnie -> [(0.7727272727272727, 'Jessica Diaz McKechnie')]\n",
      "[1706/2982] Jocelyn Coates -> [(0.6666666666666667, 'Jocelyn A Reyes'), (0.6666666666666667, 'Jocelyn S Davis')]\n",
      "RETRY\n",
      "[1706/2982] Jocelyn Coates -> [(0.7142857142857143, 'Jocelyn Reyes'), (0.7142857142857143, 'Jocelyn Davis'), (0.7142857142857143, 'Jocelyn Koller'), (0.7142857142857143, 'Joycelyn Jones')]\n",
      "[1707/2982] John Dickerson -> [(0.736842105263158, 'John Paul Dickerson')]\n",
      "RETRY\n",
      "[1707/2982] John Dickerson -> [(1, 'John Dickerson')]\n",
      "[1708/2982] Jonathan Rosenberg -> [(0.8571428571428572, 'Jonathan M. Rosenberg')]\n",
      "[1709/2982] Jonelle Walker -> [(0.8, 'Danielle Walker')]\n",
      "[1710/2982] Joseph Brami -> [(1, 'Joseph Brami')]\n",
      "[1711/2982] Joseph Iverson -> [(0.875, 'Joseph W Iverson')]\n",
      "[1712/2982] Juan Uriagereka -> [(1, 'Juan Uriagereka')]\n",
      "[1713/2982] Kalani Johnson -> [(0.7142857142857143, 'Alex Johnson'), (0.7142857142857143, 'Kalani Gordon')]\n",
      "RETRY\n",
      "[1713/2982] Kalani Johnson -> [(0.7857142857142857, 'Karah Johnson'), (0.7857142857142857, 'Karen Johnson')]\n",
      "[1714/2982] Karin Melnick -> [(0.8125, 'Karin H. Melnick')]\n",
      "[1715/2982] Katherine Murdock -> [(0.85, 'Katherine H. Murdock')]\n",
      "[1716/2982] Katie Zafft -> [(1, 'Katie Zafft')]\n",
      "[1717/2982] Kendall Williams -> [(0.75, 'Brenda Williams'), (0.75, 'Hently Williams')]\n",
      "RETRY\n",
      "[1717/2982] Kendall Williams -> [(1, 'Kendall Williams')]\n",
      "[1718/2982] Kenneth Grimm -> [(0.6923076923076923, 'Kenneth White')]\n",
      "RETRY\n",
      "[1718/2982] Kenneth Grimm -> [(0.7142857142857143, 'Kenneth Ingram')]\n",
      "[1719/2982] Kimberly Paczolt -> [(1, 'Kimberly Paczolt')]\n",
      "[1720/2982] Kristine Morrissey -> [(0.8571428571428572, 'Kristine O. Morrissey')]\n",
      "[1721/2982] L Stevens -> [(0.6153846153846154, 'C Max Stevens')]\n",
      "RETRY\n",
      "[1721/2982] L Stevens -> [(1, 'L Stevens')]\n",
      "[1722/2982] Lara Payne -> [(0.7692307692307692, 'Lara E. Payne')]\n",
      "[1723/2982] Lauren Gilmartin -> [(0.625, 'Lauren R Werbin')]\n",
      "RETRY\n",
      "[1723/2982] Lauren Gilmartin -> [(0.6875, 'Lauren Milton')]\n",
      "[1724/2982] Lindsey May -> [(0.8461538461538461, 'Lindsey M May')]\n",
      "[1725/2982] Lindsey Winter -> [(1, 'Lindsey Winter')]\n",
      "[1726/2982] Lingling Zhang -> [(1, 'Lingling Zhang')]\n",
      "[1727/2982] Lingyan Ma -> [(0.8, 'Yinyan Ma')]\n",
      "[1728/2982] Manjit Bhatia -> [(0.8666666666666667, 'Manjit S Bhatia')]\n",
      "[1729/2982] Marcelle Lee -> [(0.75, 'Michelle Lee')]\n",
      "RETRY\n",
      "[1729/2982] Marcelle Lee -> [(0.75, 'Michelle Lee')]\n",
      "[1730/2982] Margaritis Fourakis -> [(1, 'Margaritis Fourakis')]\n",
      "[1731/2982] Matthew Geiss -> [(0.8666666666666667, 'Matthew L Geiss')]\n",
      "[1732/2982] Matthew Palus -> [(0.8125, 'Matthew M. Palus')]\n",
      "[1733/2982] Matthew Supple -> [(0.8235294117647058, 'Matthew L. Supple')]\n",
      "[1734/2982] Maurice Boissiere -> [(0.7083333333333333, 'Maurice Xavier Boissiere')]\n",
      "RETRY\n",
      "[1734/2982] Maurice Boissiere -> [(1, 'Maurice Boissiere')]\n",
      "[1735/2982] Michael Dascal -> [(0.7142857142857143, 'Michael Dunham'), (0.7142857142857143, 'Michael Wahl'), (0.7142857142857143, 'Michael Israel')]\n",
      "RETRY\n",
      "[1735/2982] Michael Dascal -> [(0.7333333333333334, 'Michael Daugard')]\n",
      "[1736/2982] Michael Evans -> [(0.8125, 'Michael N. Evans')]\n",
      "[1737/2982] Michael Geppi -> [(0.7142857142857143, 'Michael Geller'), (0.7142857142857143, 'Michael T. Pie')]\n",
      "RETRY\n",
      "[1737/2982] Michael Geppi -> [(1, 'Michael Geppi')]\n",
      "[1738/2982] Michael Jakobson -> [(1, 'Michael Jakobson')]\n",
      "[1739/2982] Michael Pecht -> [(0.8125, 'Michael G. Pecht')]\n",
      "[1740/2982] Ming Hu -> [(1, 'Ming Hu')]\n",
      "[1741/2982] Monica VanKlompenberg -> [(1, 'Monica VanKlompenberg')]\n",
      "[1742/2982] Myles Poulin -> [(1, 'Myles Poulin')]\n",
      "[1743/2982] Natasha Cabrera -> [(0.8333333333333335, 'Natasha J. Cabrera')]\n",
      "[1744/2982] Neslihan Uler -> [(1, 'Neslihan Uler')]\n",
      "[1745/2982] Nidia Reyes -> [(0.6363636363636364, 'Reyna Reyes')]\n",
      "RETRY\n",
      "[1745/2982] Nidia Reyes -> [(0.7272727272727273, 'Maria Reyes'), (0.7272727272727273, 'Norma Reyes')]\n",
      "[1746/2982] Osvaldo Gutierrez -> [(1, 'Osvaldo Gutierrez')]\n",
      "[1747/2982] Prabahkar Tamboli -> [(0.5294117647058824, 'Satish Tamboli')]\n",
      "RETRY\n",
      "[1747/2982] Prabahkar Tamboli -> [(0.5294117647058824, 'Satish Tamboli')]\n",
      "[1748/2982] Rachel Waugh -> [(0.6923076923076923, 'Rachel Weaver')]\n",
      "RETRY\n",
      "[1748/2982] Rachel Waugh -> [(1, 'Rachel Waugh')]\n",
      "[1749/2982] Ralph Dubayah -> [(0.8125, 'Ralph O. Dubayah')]\n",
      "[1750/2982] Renee Hill -> [(0.8333333333333335, 'Renee F Hill')]\n",
      "[1751/2982] Robert Del Greco -> [(0.8888888888888888, 'Robert J Del Greco')]\n",
      "[1752/2982] Robert Oliver -> [(0.7857142857142857, 'Robert O. Ivey')]\n",
      "[1753/2982] Rochelle Newman -> [(0.8333333333333335, 'Rochelle S. Newman')]\n",
      "[1754/2982] Ryan Cooper -> [(1, 'Ryan Cooper')]\n",
      "[1755/2982] Ryan Decker -> [(0.6363636363636364, 'Ryan Cooper'), (0.6363636363636364, 'Ryan Hunter')]\n",
      "RETRY\n",
      "[1755/2982] Ryan Decker -> [(0.7272727272727273, 'Ryan Walker')]\n",
      "[1756/2982] Sangeeta Ray -> [(1, 'Sangeeta Ray')]\n",
      "[1757/2982] Sarah Cameron -> [(1, 'Sarah Cameron')]\n",
      "[1758/2982] Sarah Penniston-Dorland -> [(0.92, 'Sarah C Penniston-Dorland')]\n",
      "[1759/2982] Sarah Pleydell -> [(0.6666666666666667, 'Sarah Rowena Pleydell')]\n",
      "RETRY\n",
      "[1759/2982] Sarah Pleydell -> [(1, 'Sarah Pleydell')]\n",
      "[1760/2982] Sarah Tahamont -> [(1, 'Sarah Tahamont')]\n",
      "[1761/2982] Sarah Yeakel -> [(0.6666666666666667, 'Sarah Feeney')]\n",
      "RETRY\n",
      "[1761/2982] Sarah Yeakel -> [(1, 'Sarah Yeakel')]\n",
      "[1762/2982] Scott Hudson -> [(0.8, 'Scott E. Hudson')]\n",
      "[1763/2982] Serguey Braguinsky -> [(1, 'Serguey Braguinsky')]\n",
      "[1764/2982] Shunlin Liang -> [(1, 'Shunlin Liang')]\n",
      "[1765/2982] Sofia Maurette -> [(0.5333333333333333, 'Sofia Kasmeridi')]\n",
      "RETRY\n",
      "[1765/2982] Sofia Maurette -> [(0.5333333333333333, 'Sofia Kasmeridi'), (0.5333333333333333, 'Sophia Marcella')]\n",
      "[1766/2982] Stephen Wooldridge -> [(1, 'Stephen Wooldridge')]\n",
      "[1767/2982] Steven Kahl -> [(0.7692307692307692, 'Steven K Wall'), (0.7692307692307692, 'Steven K Ault')]\n",
      "[1768/2982] Sujin Kim -> [(1, 'Sujin Kim')]\n",
      "[1769/2982] Susan Moeller -> [(0.8125, 'Susan D. Moeller')]\n",
      "[1770/2982] Taylor Woehl -> [(0.8571428571428572, 'Taylor J Woehl')]\n",
      "[1771/2982] Thomas Kelley -> [(0.8461538461538461, 'Thomas Zeller')]\n",
      "[1772/2982] Valerie Johnson -> [(0.75, 'Valerie Woolston')]\n",
      "RETRY\n",
      "[1772/2982] Valerie Johnson -> [(1, 'Valerie Johnson')]\n",
      "[1773/2982] Victor Yakovenko -> [(0.8421052631578947, 'Victor M. Yakovenko')]\n",
      "[1774/2982] Wei Chen -> [(1, 'Wei Chen')]\n",
      "[1775/2982] William Gibbons -> [(1, 'William Gibbons')]\n",
      "[1776/2982] William Gonch -> [(0.7333333333333334, 'William Gasarch'), (0.7333333333333334, 'William Reinsch')]\n",
      "RETRY\n",
      "[1776/2982] William Gonch -> [(0.8461538461538461, 'William Linch')]\n",
      "[1777/2982] William Reed -> [(1, 'William Reed')]\n",
      "[1778/2982] William Robin -> [(1, 'William Robin')]\n",
      "[1779/2982] Yichun Zhu -> [(0.7272727272727273, 'Jieshun Zhu')]\n",
      "RETRY\n",
      "[1779/2982] Yichun Zhu -> [(0.7272727272727273, 'Jieshun Zhu')]\n",
      "[1780/2982] YuHuang Wang -> [(1, 'YuHuang Wang')]\n",
      "[1781/2982] Zabrina Anzyl -> [(0.65, 'Zabrina Stacia Anzyl')]\n",
      "RETRY\n",
      "[1781/2982] Zabrina Anzyl -> [(1, 'Zabrina Anzyl')]\n",
      "[1782/2982] Alene Moyer -> [(1, 'Alene Moyer')]\n",
      "[1783/2982] Kristen Willett -> [(0.7142857142857143, 'Kristen Leigh Willett')]\n",
      "RETRY\n",
      "[1783/2982] Kristen Willett -> [(1, 'Kristen Willett')]\n",
      "[1784/2982] Miguel Vilar -> [(0.8, 'Miguel G. Vilar')]\n",
      "[1785/2982] Monica Kearney -> [(0.7142857142857143, 'Monica Warren')]\n",
      "RETRY\n",
      "[1785/2982] Monica Kearney -> [(1, 'Monica Kearney')]\n",
      "[1786/2982] Shanjukta Nath -> [(0.5, 'Shanna May'), (0.5, 'Shannon Bate')]\n",
      "RETRY\n",
      "[1786/2982] Shanjukta Nath -> [(0.5714285714285714, 'Shanta Saha')]\n",
      "[1787/2982] Aaron Hood -> [(1, 'Aaron Hood')]\n",
      "[1788/2982] Adam Lloyd -> [(0.8333333333333335, 'Adam M Lloyd')]\n",
      "[1789/2982] Alessandra Buonanno -> [(1, 'Alessandra Buonanno')]\n",
      "[1790/2982] Alexander Counts -> [(0.75, 'Alexander Chen'), (0.75, 'Alexander Chang')]\n",
      "RETRY\n",
      "[1790/2982] Alexander Counts -> [(1, 'Alexander Counts')]\n",
      "[1791/2982] Alice Donlan -> [(0.6666666666666667, 'Alice Allen')]\n",
      "RETRY\n",
      "[1791/2982] Alice Donlan -> [(1, 'Alice Donlan')]\n",
      "[1792/2982] Anand Anandalingam -> [(1, 'Anand Anandalingam')]\n",
      "[1793/2982] Andrea Knowles -> [(0.7142857142857143, 'Andrea Koppel')]\n",
      "RETRY\n",
      "[1793/2982] Andrea Knowles -> [(1, 'Andrea Knowles')]\n",
      "[1794/2982] Andy Yeh -> [(0.5454545454545454, 'Andy Miller')]\n",
      "RETRY\n",
      "[1794/2982] Andy Yeh -> [(0.75, 'Andy Le')]\n",
      "[1795/2982] Aris Cleanthous -> [(0.6521739130434783, 'Aris Costaki Cleanthous')]\n",
      "RETRY\n",
      "[1795/2982] Aris Cleanthous -> [(1, 'Aris Cleanthous')]\n",
      "[1796/2982] Azieb Kidanu -> [(0.8571428571428572, 'Azieb W Kidanu')]\n",
      "[1797/2982] Brad Conrad -> [(0.6363636363636364, 'Brad Wind')]\n",
      "RETRY\n",
      "[1797/2982] Brad Conrad -> [(0.6363636363636364, 'Brad Wind')]\n",
      "[1798/2982] Brian David Mussington -> [(0.9166666666666665, 'Brian David A Mussington')]\n",
      "[1799/2982] Caitlin Fox -> [(0.7692307692307692, 'Caitlin Flory')]\n",
      "[1800/2982] Charlotte Healy -> [(0.7333333333333334, 'Charlotte Piard'), (0.7333333333333334, 'Charlotte Avery')]\n",
      "RETRY\n",
      "[1800/2982] Charlotte Healy -> [(0.7333333333333334, 'Charlotte Tai'), (0.7333333333333334, 'Charlotte Piard'), (0.7333333333333334, 'Charlotte Avery')]\n",
      "[1801/2982] Cheryl Holt -> [(0.7857142857142857, 'Cheryl L. Holt')]\n",
      "[1802/2982] Elizabeth Bonsignore -> [(0.7692307692307692, 'Elizabeth Marie Bonsignore')]\n",
      "[1803/2982] Emina Herovic -> [(1, 'Emina Herovic')]\n",
      "[1804/2982] Eric Stone -> [(0.7272727272727273, 'Earle Stone')]\n",
      "RETRY\n",
      "[1804/2982] Eric Stone -> [(1, 'Eric Stone')]\n",
      "[1805/2982] Erica Cochran -> [(0.6923076923076923, 'Diana Cochran')]\n",
      "RETRY\n",
      "[1805/2982] Erica Cochran -> [(1, 'Erica Cochran')]\n",
      "[1806/2982] Eunhee Lee -> [(1, 'Eunhee Lee')]\n",
      "[1807/2982] Grant McKenzie -> [(1, 'Grant McKenzie')]\n",
      "[1808/2982] Henry Gregory -> [(0.6923076923076923, 'Eric Gregory')]\n",
      "RETRY\n",
      "[1808/2982] Henry Gregory -> [(1, 'Henry Gregory')]\n",
      "[1809/2982] Jim Golden -> [(0.7692307692307692, 'Jim B. Golden')]\n",
      "[1810/2982] Jimmy Licon -> [(0.5454545454545454, 'Jing Lin'), (0.5454545454545454, 'Tammy Cohn')]\n",
      "RETRY\n",
      "[1810/2982] Jimmy Licon -> [(0.8181818181818181, 'Jimmy Lin')]\n",
      "[1811/2982] Joel Miller -> [(0.7272727272727273, 'Don Miller'), (0.7272727272727273, 'Jeff Miller')]\n",
      "RETRY\n",
      "[1811/2982] Joel Miller -> [(0.7692307692307692, 'Joseph Miller')]\n",
      "[1812/2982] Jose Ortiz -> [(0.6153846153846154, 'Joseph Curtis')]\n",
      "RETRY\n",
      "[1812/2982] Jose Ortiz -> [(1, 'Jose Ortiz')]\n",
      "[1813/2982] Joshua Weiner -> [(1, 'Joshua Weiner')]\n",
      "[1814/2982] Kendall Bustad -> [(1, 'Kendall Bustad')]\n",
      "[1815/2982] Kiyanna Hill -> [(0.5833333333333333, 'Shannen Hill')]\n",
      "RETRY\n",
      "[1815/2982] Kiyanna Hill -> [(0.7692307692307692, 'Breyanna Hill')]\n",
      "[1816/2982] Kyle Bickoff -> [(0.4615384615384615, 'Kyle W Bippus'), (0.4615384615384615, 'Timna Wyckoff')]\n",
      "RETRY\n",
      "[1816/2982] Kyle Bickoff -> [(0.6428571428571428, 'Katie Bischoff')]\n",
      "[1817/2982] Laura Drew -> [(0.7, 'Laura Yee')]\n",
      "RETRY\n",
      "[1817/2982] Laura Drew -> [(1, 'Laura Drew')]\n",
      "[1818/2982] Laura Golojuch -> [(0.6428571428571428, 'Laura Wormuth')]\n",
      "RETRY\n",
      "[1818/2982] Laura Golojuch -> [(0.6428571428571428, 'Laura Lauth')]\n",
      "[1819/2982] Margaret Scull -> [(0.7333333333333334, 'Margaret Elwell')]\n",
      "RETRY\n",
      "[1819/2982] Margaret Scull -> [(1, 'Margaret Scull')]\n",
      "[1820/2982] Megan Fritz -> [(0.8333333333333335, 'Morgan Fritz')]\n",
      "[1821/2982] Michael Marsh -> [(0.7857142857142857, 'Michael Larson')]\n",
      "[1822/2982] Mike Hamberger -> [(0.625, 'Mark R Demberger')]\n",
      "RETRY\n",
      "[1822/2982] Mike Hamberger -> [(0.6428571428571428, 'Mark Demberger')]\n",
      "[1823/2982] Min Wu -> [(1, 'Min Wu')]\n",
      "[1824/2982] Mohammad Fazelpour -> [(1, 'Mohammad Fazelpour')]\n",
      "[1825/2982] Monica Whent -> [(1, 'Monica Whent')]\n",
      "[1826/2982] Patrick Boyle -> [(0.7333333333333334, 'Patrick Beasley')]\n",
      "RETRY\n",
      "[1826/2982] Patrick Boyle -> [(1, 'Patrick Boyle')]\n",
      "[1827/2982] Quinn Harr -> [(0.7142857142857143, 'Quinney Harris')]\n",
      "RETRY\n",
      "[1827/2982] Quinn Harr -> [(0.7272727272727273, 'Quinn Farah')]\n",
      "[1828/2982] Rachel Gammons -> [(1, 'Rachel Gammons')]\n",
      "[1829/2982] Rebecca Ratner -> [(0.8571428571428572, 'Rebecca Wagner')]\n",
      "[1830/2982] Richard Engstrom -> [(0.7619047619047619, 'Richard Neal Engstrom')]\n",
      "[1831/2982] Richard Toohey -> [(1, 'Richard Toohey')]\n",
      "[1832/2982] Robert Gibson -> [(0.8125, 'Robert L. Gibson')]\n",
      "[1833/2982] Robert Lucci -> [(0.8571428571428572, 'Robert R Lucci')]\n",
      "[1834/2982] Ruth Lozner -> [(0.7857142857142857, 'Ruth J. Lozner')]\n",
      "[1835/2982] Sarah Glancy -> [(1, 'Sarah Glancy')]\n",
      "[1836/2982] Shay Hazkani -> [(1, 'Shay Hazkani')]\n",
      "[1837/2982] Siddharth Sharma -> [(0.6875, 'Sharan Sharma')]\n",
      "RETRY\n",
      "[1837/2982] Siddharth Sharma -> [(0.6875, 'Sharan Sharma')]\n",
      "[1838/2982] Susan Campbell -> [(0.7857142857142857, 'Megan Campbell')]\n",
      "[1839/2982] William Dorland -> [(0.7333333333333334, 'William Morong')]\n",
      "RETRY\n",
      "[1839/2982] William Dorland -> [(1, 'William Dorland')]\n",
      "[1840/2982] Amanda Schech -> [(0.8125, 'Amanda J. Schech')]\n",
      "[1841/2982] Danielle Adams -> [(1, 'Danielle Adams')]\n",
      "[1842/2982] Jacky Chong -> [(0.6363636363636364, 'Tracy Chung')]\n",
      "RETRY\n",
      "[1842/2982] Jacky Chong -> [(0.6363636363636364, 'Jae Chang'), (0.6363636363636364, 'Tracy Chung'), (0.6363636363636364, 'Nancy Chung')]\n",
      "[1843/2982] Jacqueline Partida -> [(0.7222222222222221, 'Jacqueline P. King')]\n",
      "RETRY\n",
      "[1843/2982] Jacqueline Partida -> [(1, 'Jacqueline Partida')]\n",
      "[1844/2982] Jonathan Fernandes -> [(0.7777777777777779, 'Jonathan Brande')]\n",
      "[1845/2982] Joshua Brule -> [(0.6923076923076923, 'Joshua Kunkle')]\n",
      "RETRY\n",
      "[1845/2982] Joshua Brule -> [(0.75, 'Joshua House')]\n",
      "[1846/2982] Joshua Wayland -> [(0.7, 'Joshua James Wayland')]\n",
      "RETRY\n",
      "[1846/2982] Joshua Wayland -> [(1, 'Joshua Wayland')]\n",
      "[1847/2982] Justin Bernstein -> [(0.5789473684210527, 'Justin Marcos Reyna')]\n",
      "RETRY\n",
      "[1847/2982] Justin Bernstein -> [(0.625, 'Justin Perron'), (0.625, 'Justin Wesley'), (0.625, 'Justin Fergeson')]\n",
      "[1848/2982] Marina Chernikova -> [(0.5882352941176471, 'Maria Zubkova')]\n",
      "RETRY\n",
      "[1848/2982] Marina Chernikova -> [(0.6470588235294117, 'Galina Dudnikova'), (0.6470588235294117, 'Maria Cerna')]\n",
      "[1849/2982] Marjorie Breslawski -> [(0.5789473684210527, 'Marjorie Bruno'), (0.5789473684210527, 'Marjorie Bonavia'), (0.5789473684210527, 'Marjorie L. Reaka'), (0.5789473684210527, 'Marjorie A. Walsh'), (0.5789473684210527, 'Marjorie Anne Walsh')]\n",
      "RETRY\n",
      "[1849/2982] Marjorie Breslawski -> [(0.6842105263157895, 'Marjorie Reaka')]\n",
      "[1850/2982] Mary DeStefano -> [(0.6428571428571428, 'Gary J Steffan')]\n",
      "RETRY\n",
      "[1850/2982] Mary DeStefano -> [(0.7058823529411764, 'Jeffrey DeStefano')]\n",
      "[1851/2982] Michelle Fabiani -> [(0.6875, 'Michelle Farrell'), (0.6875, 'Michelle Tan'), (0.6875, 'Michelle Allen'), (0.6875, 'Michelle Girvan'), (0.6875, 'Michelle M. Yang'), (0.6875, 'Michelle Garvin'), (0.6875, 'Michelle Hamiel'), (0.6875, 'Michelle T Bensi')]\n",
      "RETRY\n",
      "[1851/2982] Michelle Fabiani -> [(0.75, 'Michelle Harman')]\n",
      "[1852/2982] Mohammad Alizadeh Nomeli -> [(0.5833333333333333, 'Mohammad Ali Zaidi'), (0.5833333333333333, 'Mohammad Adel Hadadi'), (0.5833333333333333, 'Mohammad Nayeem Teli'), (0.5833333333333333, 'Mohammed Ali Eslami')]\n",
      "RETRY\n",
      "[1852/2982] Mohammad Alizadeh Nomeli -> [(0.5416666666666667, 'Mohammad Maghrebi'), (0.5416666666666667, 'Mohammad Faridani'), (0.5416666666666667, 'Mohammad Hajiaghayi'), (0.5416666666666667, 'MohammadAmin Ardebili')]\n",
      "[1853/2982] Quinn Dizon -> [(0.6428571428571428, 'Quinten Wilson')]\n",
      "RETRY\n",
      "[1853/2982] Quinn Dizon -> [(0.7272727272727273, 'Ruben Dizon')]\n",
      "[1854/2982] Robert Jansen -> [(1, 'Robert Jansen')]\n",
      "[1855/2982] Samuel Bloom -> [(1, 'Samuel Bloom')]\n",
      "[1856/2982] Wenchang Zhang -> [(0.7142857142857143, 'Jiehang Zhang'), (0.7142857142857143, 'Xiaohang Zhang'), (0.7142857142857143, 'Cheng Zhang'), (0.7142857142857143, 'Wei-Chang Yang')]\n",
      "RETRY\n",
      "[1856/2982] Wenchang Zhang -> [(0.7142857142857143, 'Jiehang Zhang'), (0.7142857142857143, 'Xiaohang Zhang'), (0.7142857142857143, 'Cheng Zhang'), (0.7142857142857143, 'Wei-Chang Yang')]\n",
      "[1857/2982] Alex Blumenthal -> [(0.6521739130434783, 'Alex Michael Blumenthal')]\n",
      "RETRY\n",
      "[1857/2982] Alex Blumenthal -> [(1, 'Alex Blumenthal')]\n",
      "[1858/2982] Alicia Volk -> [(1, 'Alicia Volk')]\n",
      "[1859/2982] Alison Robey -> [(0.6923076923076923, 'Allison E Key')]\n",
      "RETRY\n",
      "[1859/2982] Alison Robey -> [(1, 'Alison Robey')]\n",
      "[1860/2982] Alka Gandhi -> [(1, 'Alka Gandhi')]\n",
      "[1861/2982] Allison Tjaden -> [(0.7142857142857143, 'Allison Baer'), (0.7142857142857143, 'Allison Slater')]\n",
      "RETRY\n",
      "[1861/2982] Allison Tjaden -> [(1, 'Allison Tjaden')]\n",
      "[1862/2982] Amro Hassanein -> [(1, 'Amro Hassanein')]\n",
      "[1863/2982] Andrea Zukowski -> [(0.8333333333333335, 'Andrea L. Zukowski')]\n",
      "[1864/2982] Andrew Fyfe -> [(0.7272727272727273, 'Andrew Adle')]\n",
      "RETRY\n",
      "[1864/2982] Andrew Fyfe -> [(0.8181818181818181, 'Andrew Yue')]\n",
      "[1865/2982] Aswani Valiveti -> [(0.7142857142857143, 'Aswani Kumar Valiveti')]\n",
      "RETRY\n",
      "[1865/2982] Aswani Valiveti -> [(1, 'Aswani Valiveti')]\n",
      "[1866/2982] Axel Krieger -> [(1, 'Axel Krieger')]\n",
      "[1867/2982] Barbara Michelato -> [(1, 'Barbara Michelato')]\n",
      "[1868/2982] Blake Wilder -> [(0.6666666666666667, 'Blake Aaron Wilder'), (0.6666666666666667, 'Blake Jeter'), (0.6666666666666667, 'Sara Wilder'), (0.6666666666666667, 'Luke Gilde')]\n",
      "RETRY\n",
      "[1868/2982] Blake Wilder -> [(1, 'Blake Wilder')]\n",
      "[1869/2982] Brian Kogelmann -> [(0.8823529411764706, 'Brian J Kogelmann')]\n",
      "[1870/2982] Brienne Adams -> [(0.6428571428571428, 'Danielle Adams')]\n",
      "RETRY\n",
      "[1870/2982] Brienne Adams -> [(0.6923076923076923, 'Brandi Adams')]\n",
      "[1871/2982] Candace Pritchard -> [(1, 'Candace Pritchard')]\n",
      "[1872/2982] Christine Nickel -> [(1, 'Christine Nickel')]\n",
      "[1873/2982] Craig Schlenoff -> [(0.7894736842105263, 'Craig Ian Schlenoff')]\n",
      "[1874/2982] Crystal Davis -> [(0.8666666666666667, 'Crystal U Davis')]\n",
      "[1875/2982] Cy Keener -> [(0.8181818181818181, 'Cy E Keener')]\n",
      "[1876/2982] Daniel Abadi -> [(0.8571428571428572, 'Daniel J Abadi')]\n",
      "[1877/2982] Daniel Blair -> [(0.7857142857142857, 'Daniel Hilaire')]\n",
      "[1878/2982] Dimitri Wolford -> [(0.5294117647058824, 'Dimitrios Goulias'), (0.5294117647058824, 'Dimitrios Donavos')]\n",
      "RETRY\n",
      "[1878/2982] Dimitri Wolford -> [(0.5333333333333333, 'Dmitri Luzin'), (0.5333333333333333, 'Mark Wolfire')]\n",
      "[1879/2982] Dipendra Prasad -> [(0.6, 'Kislaya Prasad'), (0.6, 'Nitin Prasad')]\n",
      "RETRY\n",
      "[1879/2982] Dipendra Prasad -> [(0.6, 'Kislaya Prasad'), (0.6, 'Nitin Prasad')]\n",
      "[1880/2982] Dominic Ellis -> [(0.6153846153846154, 'Jonas Ellis'), (0.6153846153846154, 'David P Ellis')]\n",
      "RETRY\n",
      "[1880/2982] Dominic Ellis -> [(0.7333333333333334, 'Domonic Rollins')]\n",
      "[1881/2982] Donal Heidenblad -> [(1, 'Donal Heidenblad')]\n",
      "[1882/2982] Donna Howell -> [(0.8571428571428572, 'Donna C Howell')]\n",
      "[1883/2982] Elisa Gironzetti -> [(1, 'Elisa Gironzetti')]\n",
      "[1884/2982] Elizabeth Robinson -> [(1, 'Elizabeth Robinson')]\n",
      "[1885/2982] Ellen Williams -> [(0.8235294117647058, 'Ellen D. Williams')]\n",
      "[1886/2982] Erich Studer-Ellis -> [(1, 'Erich Studer-Ellis')]\n",
      "[1887/2982] Erin Guthrie -> [(0.6428571428571428, 'Erin Guimaraes')]\n",
      "RETRY\n",
      "[1887/2982] Erin Guthrie -> [(0.6666666666666667, 'Erin Thiel')]\n",
      "[1888/2982] Eugenia Lao -> [(1, 'Eugenia Lao')]\n",
      "[1889/2982] Fatima Azam -> [(0.6470588235294117, 'Fatima Faraz Azam')]\n",
      "RETRY\n",
      "[1889/2982] Fatima Azam -> [(1, 'Fatima Azam')]\n",
      "[1890/2982] Fei Wang -> [(1, 'Fei Wang')]\n",
      "[1891/2982] Francine Marchese -> [(1, 'Francine Marchese')]\n",
      "[1892/2982] Fraser Stevens -> [(0.5789473684210527, 'Brady Kevin Stevens')]\n",
      "RETRY\n",
      "[1892/2982] Fraser Stevens -> [(0.7142857142857143, 'Brady Stevens')]\n",
      "[1893/2982] Furong Huang -> [(1, 'Furong Huang')]\n",
      "[1894/2982] Georgeanne Matthews -> [(0.8636363636363636, 'Georgeanne N. Matthews')]\n",
      "[1895/2982] Ginger Jin -> [(0.7142857142857143, 'Ginger Zhe Jin')]\n",
      "RETRY\n",
      "[1895/2982] Ginger Jin -> [(1, 'Ginger Jin')]\n",
      "[1896/2982] Gregg Duncan -> [(1, 'Gregg Duncan')]\n",
      "[1897/2982] Gregory Marr -> [(0.7692307692307692, 'Gregory Coard')]\n",
      "[1898/2982] Harjit Bhogal -> [(0.6842105263157895, 'Harjit Singh Bhogal')]\n",
      "RETRY\n",
      "[1898/2982] Harjit Bhogal -> [(1, 'Harjit Bhogal')]\n",
      "[1899/2982] Hatice Sahinoglu -> [(1, 'Hatice Sahinoglu')]\n",
      "[1900/2982] Heather Buchanan -> [(0.6956521739130435, 'Heather Nicole Buchanan')]\n",
      "RETRY\n",
      "[1900/2982] Heather Buchanan -> [(1, 'Heather Buchanan')]\n",
      "[1901/2982] Hernisa Kacorri -> [(1, 'Hernisa Kacorri')]\n",
      "[1902/2982] Herve Campangne -> [(0.8333333333333335, 'Herve T. Campangne')]\n",
      "[1903/2982] Ho Yeung -> [(1, 'Ho Yeung')]\n",
      "[1904/2982] Houng Li -> [(1, 'Houng Li')]\n",
      "[1905/2982] Ilchul Yoon -> [(1, 'Ilchul Yoon')]\n",
      "[1906/2982] Ivan Ramos -> [(1, 'Ivan Ramos')]\n",
      "[1907/2982] James Seward -> [(0.8571428571428572, 'James K Seward')]\n",
      "[1908/2982] Jana Kopelentova Rehak -> [(1, 'Jana Kopelentova Rehak')]\n",
      "[1909/2982] Javier Morales Delgado -> [(0.6666666666666667, 'Javier  Alejandro Morales Delgado')]\n",
      "RETRY\n",
      "[1909/2982] Javier Morales Delgado -> [(0.6363636363636364, 'Javier Delgado')]\n",
      "[1910/2982] Jeanne Hanna -> [(0.6666666666666667, 'Joanna Han')]\n",
      "RETRY\n",
      "[1910/2982] Jeanne Hanna -> [(0.6666666666666667, 'Jeanne Pekny'), (0.6666666666666667, 'Jeanne Baker'), (0.6666666666666667, 'Dianne Handy'), (0.6666666666666667, 'Joanne Hall'), (0.6666666666666667, 'Joanna Han')]\n",
      "[1911/2982] Jeffrey Coster -> [(0.7647058823529411, 'Jeffrey S. Foster')]\n",
      "[1912/2982] Ji Youn Kim -> [(1, 'Ji Youn Kim')]\n",
      "[1913/2982] Jinming Xue -> [(1, 'Jinming Xue')]\n",
      "[1914/2982] John King -> [(0.75, 'John B. King')]\n",
      "RETRY\n",
      "[1914/2982] John King -> [(1, 'John King')]\n",
      "[1915/2982] John Millson -> [(0.8, 'John J. Millson')]\n",
      "[1916/2982] Juan Martinez Guzman -> [(0.7692307692307692, 'Juan Pablo Martinez Guzman')]\n",
      "[1917/2982] Justin Thompson -> [(0.7333333333333334, 'Swen Thompson'), (0.7333333333333334, 'Katie Thompson'), (0.7333333333333334, 'Joshua Thompson')]\n",
      "RETRY\n",
      "[1917/2982] Justin Thompson -> [(0.8, 'Jason Thompson')]\n",
      "[1918/2982] Kang Namkoong -> [(1, 'Kang Namkoong')]\n",
      "[1919/2982] Kathleen Kelly -> [(0.875, 'Kathleen D Kelly')]\n",
      "[1920/2982] Katie Bramlett -> [(0.5714285714285714, 'Katie Bemb'), (0.5714285714285714, 'Katie Le'), (0.5714285714285714, 'Katie Zafft'), (0.5714285714285714, 'Katie Fowler'), (0.5714285714285714, \"Katie O'Mailey\"), (0.5714285714285714, 'Randy Hamlett')]\n",
      "RETRY\n",
      "[1920/2982] Katie Bramlett -> [(0.6428571428571428, 'Katie Drake'), (0.6428571428571428, 'Katie Grimes')]\n",
      "[1921/2982] Katrina Groth -> [(1, 'Katrina Groth')]\n",
      "[1922/2982] Kayla White -> [(0.6666666666666667, 'Malaka White'), (0.6666666666666667, 'Kellee White')]\n",
      "RETRY\n",
      "[1922/2982] Kayla White -> [(0.75, 'Pamela White')]\n",
      "[1923/2982] Kazuo Yaginuma -> [(0.6428571428571428, 'Kazuo Nakajima')]\n",
      "RETRY\n",
      "[1923/2982] Kazuo Yaginuma -> [(0.6428571428571428, 'Kazuo Nakajima')]\n",
      "[1924/2982] Kenneth Fuller -> [(0.8125, 'Kenneth P Filler')]\n",
      "[1925/2982] Kevin Daniels -> [(0.8666666666666667, 'Kevin M Daniels')]\n",
      "[1926/2982] Konstantinos Pozoukidis -> [(0.6521739130434783, 'Constantinos Makrides')]\n",
      "RETRY\n",
      "[1926/2982] Konstantinos Pozoukidis -> [(0.6521739130434783, 'Constantinos Makrides')]\n",
      "[1927/2982] Krishnan Vasudevan -> [(1, 'Krishnan Vasudevan')]\n",
      "[1928/2982] Liam Daley -> [(0.7, 'Liam Healy')]\n",
      "RETRY\n",
      "[1928/2982] Liam Daley -> [(0.7, 'Liam Healy')]\n",
      "[1929/2982] Liyang Dai-Hattrick -> [(1, 'Liyang Dai-Hattrick')]\n",
      "[1930/2982] Louisa Rubinfien -> [(0.8888888888888888, 'Louisa D Rubinfien')]\n",
      "[1931/2982] Marccus Hendricks -> [(0.8947368421052632, 'Marccus D Hendricks')]\n",
      "[1932/2982] Marchelle Payne-Gassaway -> [(0.8, 'Marchelle Renae Payne-Gassaway'), (0.8, 'Marchelle\\nRenae Payne-Gassaway')]\n",
      "[1933/2982] Mark Eichenlaub -> [(0.8, 'Tori Eichenlaub')]\n",
      "[1934/2982] Matthew Regan -> [(0.7142857142857143, 'Matthew Fenlon')]\n",
      "RETRY\n",
      "[1934/2982] Matthew Regan -> [(1, 'Matthew Regan')]\n",
      "[1935/2982] Matthias Zwicker -> [(1, 'Matthias Zwicker')]\n",
      "[1936/2982] Max Leiserson -> [(1, 'Max Leiserson')]\n",
      "[1937/2982] Mircea Raianu -> [(0.8125, 'Mircea C. Raianu')]\n",
      "[1938/2982] Nancy Smith -> [(0.7272727272727273, 'Barry Smith'), (0.7272727272727273, 'Larry Smith'), (0.7272727272727273, 'Darby Smith')]\n",
      "RETRY\n",
      "[1938/2982] Nancy Smith -> [(1, 'Nancy Smith')]\n",
      "[1939/2982] Nancy Vera -> [(0.75, 'Nancy Sierra')]\n",
      "RETRY\n",
      "[1939/2982] Nancy Vera -> [(0.75, 'Nancy Sierra')]\n",
      "[1940/2982] Niki Vazou -> [(1, 'Niki Vazou')]\n",
      "[1941/2982] Patricia Bory -> [(0.7857142857142857, 'Patricia Volcy')]\n",
      "[1942/2982] Pratyush Tiwary -> [(1, 'Pratyush Tiwary')]\n",
      "[1943/2982] Rachel Lamb -> [(0.6923076923076923, 'Rachel Palmer')]\n",
      "RETRY\n",
      "[1943/2982] Rachel Lamb -> [(0.7272727272727273, 'Rachel Katz')]\n",
      "[1944/2982] Raphael Mazzone -> [(1, 'Raphael Mazzone')]\n",
      "[1945/2982] Raymond Nardella -> [(0.6956521739130435, 'Raymond Joseph Nardella')]\n",
      "RETRY\n",
      "[1945/2982] Raymond Nardella -> [(1, 'Raymond Nardella')]\n",
      "[1946/2982] Rick Frankos -> [(0.5833333333333333, 'Rick Ayers'), (0.5833333333333333, 'Will Franco')]\n",
      "RETRY\n",
      "[1946/2982] Rick Frankos -> [(0.5833333333333333, 'Rick Ayers'), (0.5833333333333333, 'Eric Krokos'), (0.5833333333333333, 'Will Franco')]\n",
      "[1947/2982] Roger Eastman -> [(0.8125, 'Roger D. Eastman')]\n",
      "[1948/2982] Samantha O'Connor -> [(0.6666666666666667, \"Sarah Ann O'Connor\")]\n",
      "RETRY\n",
      "[1948/2982] Samantha O'Connor -> [(0.7647058823529411, \"Sarah O'Connor\")]\n",
      "[1949/2982] Samuel Allen -> [(0.6666666666666667, 'Sandra Allen'), (0.6666666666666667, 'Samuel Bloom'), (0.6666666666666667, 'Samuel Hulse')]\n",
      "RETRY\n",
      "[1949/2982] Samuel Allen -> [(0.8333333333333335, 'Samuel Valle')]\n",
      "[1950/2982] Sara Bazaco -> [(0.8461538461538461, 'Sara L Bazaco')]\n",
      "[1951/2982] Sarah Wolek -> [(1, 'Sarah Wolek')]\n",
      "[1952/2982] Seong Minne Koh -> [(1, 'Seong Minne Koh')]\n",
      "[1953/2982] Shuye Lu -> [(0.7, 'Shuyan Liu')]\n",
      "RETRY\n",
      "[1953/2982] Shuye Lu -> [(0.7, 'Shuyan Liu')]\n",
      "[1954/2982] Siv Lie -> [(1, 'Siv Lie')]\n",
      "[1955/2982] Sohana Nasrin -> [(0.5384615384615384, 'Dana Kobrin'), (0.5384615384615384, 'Sokhan Min')]\n",
      "RETRY\n",
      "[1955/2982] Sohana Nasrin -> [(0.5384615384615384, 'Yohana Galo'), (0.5384615384615384, 'Dana Kobrin'), (0.5384615384615384, 'Sokhan Min'), (0.5384615384615384, 'Briana Barkin')]\n",
      "[1956/2982] Steven Marcus -> [(0.8125, 'Steven I. Marcus')]\n",
      "[1957/2982] Sushant Ranadive -> [(0.7272727272727273, 'Sushant Mohan Ranadive')]\n",
      "RETRY\n",
      "[1957/2982] Sushant Ranadive -> [(1, 'Sushant Ranadive')]\n",
      "[1958/2982] Terry Park -> [(0.8333333333333335, 'Terry K Park')]\n",
      "[1959/2982] Thomas Gilray -> [(1, 'Thomas Gilray')]\n",
      "[1960/2982] Trevor Foulk -> [(1, 'Trevor Foulk')]\n",
      "[1961/2982] William MacDonald -> [(1, 'William MacDonald')]\n",
      "[1962/2982] William Usher -> [(0.7857142857142857, 'William Mather')]\n",
      "[1963/2982] Xiaodi Wu -> [(1, 'Xiaodi Wu')]\n",
      "[1964/2982] Yassaman Vafai -> [(0.5714285714285714, 'Saman Jabari'), (0.5714285714285714, 'Bassam Fayad')]\n",
      "RETRY\n",
      "[1964/2982] Yassaman Vafai -> [(0.5714285714285714, 'Saman Jabari'), (0.5714285714285714, 'Bassam Fayad')]\n",
      "[1965/2982] Yewon Lee -> [(1, 'Yewon Lee')]\n",
      "[1966/2982] Zohreh Davoudi -> [(1, 'Zohreh Davoudi')]\n",
      "[1967/2982] Casey Enos -> [(0.6153846153846154, 'Casey Cremins')]\n",
      "RETRY\n",
      "[1967/2982] Casey Enos -> [(0.75, 'Casey Benson')]\n",
      "[1968/2982] Alec Solway -> [(1, 'Alec Solway')]\n",
      "[1969/2982] Bruno Jacobs -> [(1, 'Bruno Jacobs')]\n",
      "[1970/2982] Colenso Speer -> [(0.8125, 'Colenso M. Speer')]\n",
      "[1971/2982] David Gray -> [(0.9, 'David Gram')]\n",
      "[1972/2982] David Weintrop -> [(1, 'David Weintrop')]\n",
      "[1973/2982] Fulvio Cativo -> [(1, 'Fulvio Cativo')]\n",
      "[1974/2982] Grace Chris -> [(0.7272727272727273, 'Grace Ellis')]\n",
      "RETRY\n",
      "[1974/2982] Grace Chris -> [(0.7272727272727273, 'Grace Ellis')]\n",
      "[1975/2982] Hallie Liberto -> [(1, 'Hallie Liberto')]\n",
      "[1976/2982] Hawi Bekele Bengessa -> [(0.45833333333333337, 'Chelsea Terese Benincasa')]\n",
      "RETRY\n",
      "[1976/2982] Hawi Bekele Bengessa -> [(0.44999999999999996, 'Michelle Bensi'), (0.44999999999999996, 'Danielle Bennings'), (0.44999999999999996, 'Carole Dingess')]\n",
      "[1977/2982] Karen Petroff -> [(0.8666666666666667, 'Karen A Petroff')]\n",
      "[1978/2982] Kate Seaman -> [(1, 'Kate Seaman')]\n",
      "[1979/2982] Kevin Bock -> [(0.6363636363636364, 'Kevin Conry'), (0.6363636363636364, 'Kevin Klose'), (0.6363636363636364, 'Kevin Aroom')]\n",
      "RETRY\n",
      "[1979/2982] Kevin Bock -> [(1, 'Kevin Bock')]\n",
      "[1980/2982] Marilee Lindemann -> [(1, 'Marilee Lindemann')]\n",
      "[1981/2982] Niratcha Tungtisanont -> [(1, 'Niratcha Tungtisanont')]\n",
      "[1982/2982] Olga Fetisova-Canas -> [(0.4736842105263158, 'Olga Stakhovskaya')]\n",
      "RETRY\n",
      "[1982/2982] Olga Fetisova-Canas -> [(0.4736842105263158, 'Olga Stakhovskaya')]\n",
      "[1983/2982] Pablo Slutzky -> [(1, 'Pablo Slutzky')]\n",
      "[1984/2982] Scott Juntti -> [(0.8, 'Scott A. Juntti')]\n",
      "[1985/2982] Thibaut Castan -> [(0.6086956521739131, 'Thibaut Yves Guy Castan')]\n",
      "RETRY\n",
      "[1985/2982] Thibaut Castan -> [(1, 'Thibaut Castan')]\n",
      "[1986/2982] Emily DeBoy -> [(0.6363636363636364, 'Emily Zobel')]\n",
      "RETRY\n",
      "[1986/2982] Emily DeBoy -> [(0.6666666666666667, 'Emily Nelson')]\n",
      "[1987/2982] Ishfaaq Mohammed Imtiyas -> [(0.5416666666666667, 'Ihab Mohamed Ali')]\n",
      "RETRY\n",
      "[1987/2982] Ishfaaq Mohammed Imtiyas -> [(0.45833333333333337, 'MOHAMMED AMIN'), (0.45833333333333337, 'Muhammad Ilyas')]\n",
      "[1988/2982] Andi Hopkins -> [(0.6666666666666667, 'Jean L. Hopkins')]\n",
      "RETRY\n",
      "[1988/2982] Andi Hopkins -> [(0.75, 'Jane Hopkins')]\n",
      "[1989/2982] Zeyad Emam -> [(0.5, 'Zeki Erim')]\n",
      "RETRY\n",
      "[1989/2982] Zeyad Emam -> [(0.5, 'Eyad Abed'), (0.5, 'Zeki Erim')]\n",
      "[1990/2982] Sina Mirnejad -> [(0.5, 'Irina Muresanu')]\n",
      "RETRY\n",
      "[1990/2982] Sina Mirnejad -> [(0.5, 'Jemina Cornejo'), (0.5, 'Irina Muresanu'), (0.5, 'Dana Mittelman')]\n",
      "[1991/2982] Cameron Moy -> [(0.6923076923076923, 'Cameron Poles')]\n",
      "RETRY\n",
      "[1991/2982] Cameron Moy -> [(0.7142857142857143, 'Cameron Massey')]\n",
      "[1992/2982] Timothy Wang -> [(0.7692307692307692, 'Timothy Canty')]\n",
      "[1993/2982] Shriraj Gandhi -> [(0.6, 'Sriram Ganeshan')]\n",
      "RETRY\n",
      "[1993/2982] Shriraj Gandhi -> [(0.6, 'Sriram Ganeshan')]\n",
      "[1994/2982] Zachary Wilton -> [(0.6666666666666667, 'Zachary Higgins'), (0.6666666666666667, 'Richard Whelton')]\n",
      "RETRY\n",
      "[1994/2982] Zachary Wilton -> [(0.7142857142857143, 'Zachary Mason'), (0.7142857142857143, 'Zachary Laan'), (0.7142857142857143, 'Zachary Bolno'), (0.7142857142857143, 'Zachary Mellen'), (0.7142857142857143, 'Richard Wilson')]\n",
      "[1995/2982] Alex Thomas -> [(0.6923076923076923, 'Alicia Thomas')]\n",
      "RETRY\n",
      "[1995/2982] Alex Thomas -> [(0.8181818181818181, 'Cleo Thomas')]\n",
      "[1996/2982] Anne Smithson -> [(0.5714285714285714, 'Anne S. Turkos')]\n",
      "RETRY\n",
      "[1996/2982] Anne Smithson -> [(1, 'Anne Smithson')]\n",
      "[1997/2982] Caroline Boules -> [(0.8333333333333335, 'Caroline R. Boules')]\n",
      "[1998/2982] DB Bauer -> [(0.5454545454545454, 'Drew Barker'), (0.5454545454545454, 'Ted E Baker')]\n",
      "RETRY\n",
      "[1998/2982] DB Bauer -> [(0.6363636363636364, 'Debra Baker')]\n",
      "[1999/2982] Daniel Foster -> [(0.8461538461538461, 'Daniel Moser')]\n",
      "[2000/2982] Dean Chang -> [(1, 'Dean Chang')]\n",
      "[2001/2982] Deanna Collins -> [(0.8235294117647058, 'Deanna R. Collins')]\n",
      "[2002/2982] Dinesh Manocha -> [(1, 'Dinesh Manocha')]\n",
      "[2003/2982] Gerald Suarez -> [(1, 'Gerald Suarez')]\n",
      "[2004/2982] Gosia Langa Basit -> [(0.7727272727272727, 'Gosia Anna Langa Basit')]\n",
      "[2005/2982] Hazim Abdullah-Smith -> [(0.55, 'Halimah Abdullah')]\n",
      "RETRY\n",
      "[2005/2982] Hazim Abdullah-Smith -> [(0.55, 'Halimah Abdullah')]\n",
      "[2006/2982] Kalewold Kalewold -> [(0.4285714285714286, 'Salewa A Joke Olubode')]\n",
      "RETRY\n",
      "[2006/2982] Kalewold Kalewold -> [(0.4705882352941176, 'Khaled Saleh')]\n",
      "[2007/2982] Li-Qun Zhang -> [(0.75, 'Zijun Zhang'), (0.75, 'Linwen Zhang')]\n",
      "RETRY\n",
      "[2007/2982] Li-Qun Zhang -> [(0.75, 'Zijun Zhang'), (0.75, 'Linwen Zhang')]\n",
      "[2008/2982] Meg O'Neill -> [(0.75, \"Megan O'Neil\")]\n",
      "RETRY\n",
      "[2008/2982] Meg O'Neill -> [(1, \"Meg O'Neill\")]\n",
      "[2009/2982] Misti Yang -> [(0.7, 'Xiuli Yang')]\n",
      "RETRY\n",
      "[2009/2982] Misti Yang -> [(0.7, 'Xiuli Yang')]\n",
      "[2010/2982] Naette Lee -> [(0.6666666666666667, 'Nanette Rode')]\n",
      "RETRY\n",
      "[2010/2982] Naette Lee -> [(0.6666666666666667, 'Nanette Rode')]\n",
      "[2011/2982] Randall Fowler -> [(0.7857142857142857, 'Randall Sawyer')]\n",
      "[2012/2982] Roy Thomason -> [(1, 'Roy Thomason')]\n",
      "[2013/2982] Sarah Aghazadeh -> [(0.6, 'Sarah Allard'), (0.6, 'Sarah Ann Oates'), (0.6, 'Sarah Hovde'), (0.6, 'Sarah Bauder')]\n",
      "RETRY\n",
      "[2013/2982] Sarah Aghazadeh -> [(0.6, 'Sarah Allard'), (0.6, 'Sarah Grace'), (0.6, 'Sarah Hovde'), (0.6, 'Sarah Bauder')]\n",
      "[2014/2982] Taylor Plank -> [(0.6666666666666667, 'Taylor Keen')]\n",
      "RETRY\n",
      "[2014/2982] Taylor Plank -> [(0.6923076923076923, 'Taylor Brinks')]\n",
      "[2015/2982] Victoria Ledford -> [(0.75, 'Victoria G. Lord')]\n",
      "RETRY\n",
      "[2015/2982] Victoria Ledford -> [(0.8125, 'Victoria Lord')]\n",
      "[2016/2982] Yenti Sunarto -> [(0.8125, 'Yenti G. Sunarto')]\n",
      "[2017/2982] Alex Springer -> [(1, 'Alex Springer')]\n",
      "[2018/2982] Allison Chatham -> [(0.6666666666666667, 'Allison Slater'), (0.6666666666666667, 'Alison Flatau')]\n",
      "RETRY\n",
      "[2018/2982] Allison Chatham -> [(0.6666666666666667, 'Allison Roth'), (0.6666666666666667, 'Allison Shutt'), (0.6666666666666667, 'Allison Patch'), (0.6666666666666667, 'Allison Slater'), (0.6666666666666667, 'Alison Flatau')]\n",
      "[2019/2982] Ayesha Shibli -> [(0.4736842105263158, 'Alisha Sharel Britt')]\n",
      "RETRY\n",
      "[2019/2982] Ayesha Shibli -> [(0.4666666666666666, 'Lalitha Shalini'), (0.4666666666666666, 'Jessica Shields')]\n",
      "[2020/2982] Catherine Spirito -> [(1, 'Catherine Spirito')]\n",
      "[2021/2982] Christopher Gresham -> [(1, 'Christopher Gresham')]\n",
      "[2022/2982] Daniel Laurence -> [(0.7142857142857143, 'Daniel James Laurence')]\n",
      "RETRY\n",
      "[2022/2982] Daniel Laurence -> [(1, 'Daniel Laurence')]\n",
      "[2023/2982] Darcy Conant -> [(0.8, 'Darcy L. Conant')]\n",
      "[2024/2982] Donghun Park -> [(1, 'Donghun Park')]\n",
      "[2025/2982] Elizabeth Tarantino -> [(0.736842105263158, 'Elizabeth J Carino'), (0.736842105263158, 'Elizabeth Martinez')]\n",
      "RETRY\n",
      "[2025/2982] Elizabeth Tarantino -> [(0.7894736842105263, 'Elizabeth Carino')]\n",
      "[2026/2982] Jarred Young -> [(0.6666666666666667, 'Mark Young'), (0.6666666666666667, 'Haley Young'), (0.6666666666666667, 'Jeremy Young'), (0.6666666666666667, 'Rachel Young')]\n",
      "RETRY\n",
      "[2026/2982] Jarred Young -> [(1, 'Jarred Young')]\n",
      "[2027/2982] John Tritschler -> [(0.6818181818181819, 'John Kirwin Tritschler')]\n",
      "RETRY\n",
      "[2027/2982] John Tritschler -> [(1, 'John Tritschler')]\n",
      "[2028/2982] Kathleen Buckley -> [(0.75, 'Kathleen Booker')]\n",
      "RETRY\n",
      "[2028/2982] Kathleen Buckley -> [(0.75, 'Kathleen Hanley'), (0.75, 'Kathleen Boyle'), (0.75, 'Kathleen Booker'), (0.75, 'Kathleen Decker')]\n",
      "[2029/2982] Matthew Cascio -> [(0.6428571428571428, 'Matthew Conte'), (0.6428571428571428, 'Matthew Crooks'), (0.6428571428571428, 'Matthew Smith'), (0.6428571428571428, 'Matthew Barber'), (0.6428571428571428, 'Matthew Valnes')]\n",
      "RETRY\n",
      "[2029/2982] Matthew Cascio -> [(0.7857142857142857, 'Matthew Laslo')]\n",
      "[2030/2982] Mirna Pinsky -> [(0.7142857142857143, 'Maria Polinsky')]\n",
      "RETRY\n",
      "[2030/2982] Mirna Pinsky -> [(0.7142857142857143, 'Maria Polinsky')]\n",
      "[2031/2982] Nahid Ahmadian -> [(0.6428571428571428, 'Rashid Ahmad')]\n",
      "RETRY\n",
      "[2031/2982] Nahid Ahmadian -> [(0.6428571428571428, 'Rashid Ahmad')]\n",
      "[2032/2982] Ping-Tong Ho -> [(1, 'Ping-Tong Ho')]\n",
      "[2033/2982] Rakia Khalid -> [(0.7692307692307692, 'Fariha Khalid')]\n",
      "[2034/2982] Raymond H Tu -> [(1, 'Raymond H Tu')]\n",
      "[2035/2982] Sarah Burnett -> [(0.6666666666666667, 'Daarel Burnette')]\n",
      "RETRY\n",
      "[2035/2982] Sarah Burnett -> [(0.6923076923076923, 'Sarah Forney')]\n",
      "[2036/2982] Shawn Janzen -> [(1, 'Shawn Janzen')]\n",
      "[2037/2982] Suresh Acharya -> [(0.875, 'Suresh K Acharya')]\n",
      "[2038/2982] Zachary Greenberg -> [(0.6470588235294117, 'Zachary Reed'), (0.6470588235294117, 'Zachary Dorner'), (0.6470588235294117, 'Zachary Hrabec'), (0.6470588235294117, 'Michael Grunberg')]\n",
      "RETRY\n",
      "[2038/2982] Zachary Greenberg -> [(0.7647058823529411, 'Oscar Greenberg')]\n",
      "[2039/2982] Abigail Upshaw -> [(0.6428571428571428, 'Abigail Amaya')]\n",
      "RETRY\n",
      "[2039/2982] Abigail Upshaw -> [(0.6428571428571428, 'Abigail Kula'), (0.6428571428571428, 'Abigail Sena'), (0.6428571428571428, 'Abigail Amaya'), (0.6428571428571428, 'Abigail Massey')]\n",
      "[2040/2982] Aditya Acharya -> [(0.6, 'Gyanada Acharya')]\n",
      "RETRY\n",
      "[2040/2982] Aditya Acharya -> [(0.7857142857142857, 'Aditya Sharma')]\n",
      "[2041/2982] Aditya Ravindra Bhat -> [(0.5, 'Akshay Ravindra Vaidya'), (0.5, 'Aditya Nilakantan Sharma')]\n",
      "RETRY\n",
      "[2041/2982] Aditya Ravindra Bhat -> [(0.44999999999999996, 'Aditya Sharma'), (0.44999999999999996, 'Aditya Srikakulapu'), (0.44999999999999996, 'Nadira Ramnarain')]\n",
      "[2042/2982] Daphne Fuentevilla -> [(0.5238095238095238, 'Daphne Marie Williams')]\n",
      "RETRY\n",
      "[2042/2982] Daphne Fuentevilla -> [(0.5, 'Daphne Pee'), (0.5, 'Daphne Stanley'), (0.5, 'Latice Fuentes'), (0.5, 'Ana Fuentes'), (0.5, 'Manuel Sevilla')]\n",
      "[2043/2982] Jessica Miller -> [(0.7857142857142857, 'Jessica Mellon'), (0.7857142857142857, 'Jessica Wilke')]\n",
      "[2044/2982] Joey Brown -> [(0.7692307692307692, 'Joey D. Brown')]\n",
      "[2045/2982] Joshua Linn -> [(1, 'Joshua Linn')]\n",
      "[2046/2982] Nebahat Erturk -> [(0.4736842105263158, 'Sebahattin Demirkan')]\n",
      "RETRY\n",
      "[2046/2982] Nebahat Erturk -> [(0.4736842105263158, 'Sebahattin Demirkan')]\n",
      "[2047/2982] Shilpa Reddy -> [(0.6153846153846154, 'Ashwini Reddy')]\n",
      "RETRY\n",
      "[2047/2982] Shilpa Reddy -> [(0.6153846153846154, 'Ashwini Reddy')]\n",
      "[2048/2982] Talia Chicherio -> [(0.6, 'Halima Cherif')]\n",
      "RETRY\n",
      "[2048/2982] Talia Chicherio -> [(0.65, 'Natalia Tchetcherina')]\n",
      "[2049/2982] Adam Kanigowski -> [(0.6521739130434783, 'Adam Mariusz Kanigowski')]\n",
      "RETRY\n",
      "[2049/2982] Adam Kanigowski -> [(1, 'Adam Kanigowski')]\n",
      "[2050/2982] Anisha Singh -> [(0.75, 'Ajita Singh')]\n",
      "RETRY\n",
      "[2050/2982] Anisha Singh -> [(0.75, 'Ajita Singh')]\n",
      "[2051/2982] Anna Li -> [(0.75, 'Anna Lee')]\n",
      "RETRY\n",
      "[2051/2982] Anna Li -> [(1, 'Anna Li')]\n",
      "[2052/2982] Kelsey Canada -> [(0.6923076923076923, \"Kelsey O'Hara\")]\n",
      "RETRY\n",
      "[2052/2982] Kelsey Canada -> [(0.6923076923076923, \"Kelsey O'Hara\")]\n",
      "[2053/2982] Kyle Dorsey -> [(1, 'Kyle Dorsey')]\n",
      "[2054/2982] Nathan Manning -> [(1, 'Nathan Manning')]\n",
      "[2055/2982] Richard Johnson -> [(0.7333333333333334, 'Richard Jordan')]\n",
      "RETRY\n",
      "[2055/2982] Richard Johnson -> [(0.75, 'Richard Thompson')]\n",
      "[2056/2982] Rodrigo Trevino -> [(1, 'Rodrigo Trevino')]\n",
      "[2057/2982] Thomas Guarrieri -> [(0.8421052631578947, 'Thomas R. Guarrieri')]\n",
      "[2058/2982] Michael Strauch -> [(0.6875, 'Michael J. Raupp')]\n",
      "RETRY\n",
      "[2058/2982] Michael Strauch -> [(0.7333333333333334, 'Michael Raupp')]\n",
      "[2059/2982] Anastasiya Stolyarova -> [(0.6666666666666667, 'Anastasia Guseynova')]\n",
      "RETRY\n",
      "[2059/2982] Anastasiya Stolyarova -> [(0.6666666666666667, 'Anastasia Guseynova')]\n",
      "[2060/2982] Akhil Koul -> [(0.5454545454545454, 'Sahil Popli')]\n",
      "RETRY\n",
      "[2060/2982] Akhil Koul -> [(0.5454545454545454, 'Sahil Popli')]\n",
      "[2061/2982] Aric Bills -> [(1, 'Aric Bills')]\n",
      "[2062/2982] Bobbie Foster -> [(0.6428571428571428, 'Valerie Foster')]\n",
      "RETRY\n",
      "[2062/2982] Bobbie Foster -> [(0.6428571428571428, 'Valerie Foster'), (0.6428571428571428, 'Cherie Forster'), (0.6428571428571428, 'Bradley Foster')]\n",
      "[2063/2982] Changguang Dong -> [(1, 'Changguang Dong')]\n",
      "[2064/2982] Eliza Kempton -> [(1, 'Eliza Kempton')]\n",
      "[2065/2982] Greg Midgette -> [(1, 'Greg Midgette')]\n",
      "[2066/2982] Hazel Feigenblatt Rojas -> [(0.43478260869565216, 'Daniel Everett Thomas')]\n",
      "RETRY\n",
      "[2066/2982] Hazel Feigenblatt Rojas -> [(0.39130434782608686, 'Daniel Feinberg'), (0.39130434782608686, 'Hazem Abdelaal'), (0.39130434782608686, 'Donal Heidenblad')]\n",
      "[2067/2982] Nicole Powlison -> [(0.7142857142857143, 'Nicole Marie Powlison')]\n",
      "RETRY\n",
      "[2067/2982] Nicole Powlison -> [(1, 'Nicole Powlison')]\n",
      "[2068/2982] Ruiwen Shu -> [(1, 'Ruiwen Shu')]\n",
      "[2069/2982] Samuel Braunfeld -> [(1, 'Samuel Braunfeld')]\n",
      "[2070/2982] Shen Pan -> [(0.7777777777777779, 'Sheng Ran')]\n",
      "[2071/2982] Sujith Kumar -> [(0.8, 'Sujith S. Kumar')]\n",
      "[2072/2982] Xiumin Du -> [(1, 'Xiumin Du')]\n",
      "[2073/2982] Simone Durham -> [(0.6666666666666667, 'Simone Dichiara')]\n",
      "RETRY\n",
      "[2073/2982] Simone Durham -> [(0.7142857142857143, 'Timothy Durham')]\n",
      "[2074/2982] Jeannette Schollaert -> [(0.65, 'Jeannette Lee Oliver')]\n",
      "RETRY\n",
      "[2074/2982] Jeannette Schollaert -> [(0.7, 'Jeannette Oliver')]\n",
      "[2075/2982] Melanie Rio -> [(0.75, 'Melanie Kill')]\n",
      "RETRY\n",
      "[2075/2982] Melanie Rio -> [(0.75, 'Melanie Kill'), (0.75, 'Melanie Figg')]\n",
      "[2076/2982] Elizabeth Catchmark -> [(0.6842105263157895, 'Elizabeth C Ferrara')]\n",
      "RETRY\n",
      "[2076/2982] Elizabeth Catchmark -> [(0.6842105263157895, 'Elizabeth Carter'), (0.6842105263157895, 'Elizabeth Marshall')]\n",
      "[2077/2982] Alexandria Nunn -> [(0.75, 'Alexandria Grant')]\n",
      "RETRY\n",
      "[2077/2982] Alexandria Nunn -> [(0.75, 'Alexandria Grant')]\n",
      "[2078/2982] Kerishma Panigrahi -> [(0.44999999999999996, 'Kishore A Palaniraja')]\n",
      "RETRY\n",
      "[2078/2982] Kerishma Panigrahi -> [(0.5, 'Karina Panyan')]\n",
      "[2079/2982] Brittany Starr -> [(0.6666666666666667, 'Brittany N Aley'), (0.6666666666666667, 'Brittany Antrum')]\n",
      "RETRY\n",
      "[2079/2982] Brittany Starr -> [(0.7857142857142857, 'Brittany Clark')]\n",
      "[2080/2982] Kappa Danielson -> [(0.5333333333333333, 'Karen L. Nelson')]\n",
      "RETRY\n",
      "[2080/2982] Kappa Danielson -> [(0.6666666666666667, 'Sarra Daniels'), (0.6666666666666667, 'Anne Dankelson')]\n",
      "[2081/2982] Inna Hardman -> [(0.8571428571428572, 'Inna A Hardman')]\n",
      "[2082/2982] Roberto Leon -> [(0.75, 'Roberto Celi')]\n",
      "RETRY\n",
      "[2082/2982] Roberto Leon -> [(0.7692307692307692, 'Robert Leamon')]\n",
      "[2083/2982] Rohan Chandra -> [(0.5714285714285714, 'B Balachandran')]\n",
      "RETRY\n",
      "[2083/2982] Rohan Chandra -> [(0.5714285714285714, 'B Balachandran')]\n",
      "[2084/2982] Jasraj Singh -> [(0.6666666666666667, 'Apaar Singh')]\n",
      "RETRY\n",
      "[2084/2982] Jasraj Singh -> [(0.75, 'Jason Singh')]\n",
      "[2085/2982] Colin Chen -> [(0.7692307692307692, 'Caroline Chen')]\n",
      "[2086/2982] Joseph Lui -> [(0.75, 'Joseph Lucas')]\n",
      "RETRY\n",
      "[2086/2982] Joseph Lui -> [(0.75, 'Joseph Lucas'), (0.75, 'Joseph Bucci'), (0.75, 'Joseph Huitz'), (0.75, 'Joseph Oudin')]\n",
      "[2087/2982] Tessa Thorsen -> [(0.625, 'Melissa Thompson')]\n",
      "RETRY\n",
      "[2087/2982] Tessa Thorsen -> [(0.6923076923076923, 'Laura Thorsen')]\n",
      "[2088/2982] Jonathan Saewitz -> [(0.75, 'Jonathan Fritz'), (0.75, 'Jonathan Katz')]\n",
      "RETRY\n",
      "[2088/2982] Jonathan Saewitz -> [(0.75, 'Jonathan Fritz'), (0.75, 'Jonathan Katz'), (0.75, 'Jonathan Smith')]\n",
      "[2089/2982] Saadiq Shaik -> [(0.5833333333333333, 'Swati Shah')]\n",
      "RETRY\n",
      "[2089/2982] Saadiq Shaik -> [(0.5833333333333333, 'Sahil Shah'), (0.5833333333333333, 'Swati Shah')]\n",
      "[2090/2982] Raghav Bhasin -> [(0.5384615384615384, 'Raghav Sood'), (0.5384615384615384, 'Rashi Jain')]\n",
      "RETRY\n",
      "[2090/2982] Raghav Bhasin -> [(0.5384615384615384, 'Raghav Sood'), (0.5384615384615384, 'Rashi Jain')]\n",
      "[2091/2982] Matt Patrick -> [(0.6666666666666667, 'Matt Parker')]\n",
      "RETRY\n",
      "[2091/2982] Matt Patrick -> [(0.6923076923076923, 'David Patrick')]\n",
      "[2092/2982] Shyam Pujara -> [(0.4736842105263158, 'Shyam Gaurang Patel')]\n",
      "RETRY\n",
      "[2092/2982] Shyam Pujara -> [(0.5833333333333333, 'Shyam Patel')]\n",
      "[2093/2982] Melika Abolhasani -> [(0.5294117647058824, 'Monika Makani')]\n",
      "RETRY\n",
      "[2093/2982] Melika Abolhasani -> [(0.5294117647058824, 'Monika Makani')]\n",
      "[2094/2982] Adam Telatovich -> [(0.7142857142857143, 'Adam Elias Telatovich')]\n",
      "RETRY\n",
      "[2094/2982] Adam Telatovich -> [(1, 'Adam Telatovich')]\n",
      "[2095/2982] Aliza Sandalon -> [(1, 'Aliza Sandalon')]\n",
      "[2096/2982] Amanda Baker -> [(0.7692307692307692, 'Amanda Bailey')]\n",
      "[2097/2982] Amanda Chicoli -> [(1, 'Amanda Chicoli')]\n",
      "[2098/2982] Amelia Branigan -> [(0.8823529411764706, 'Amelia R Branigan')]\n",
      "[2099/2982] Amira Lundy-Harris -> [(0.5263157894736843, 'Hamil Rahman Harris'), (0.5263157894736843, 'Amber Lynn Harrison')]\n",
      "RETRY\n",
      "[2099/2982] Amira Lundy-Harris -> [(0.5, 'Hamil Harris'), (0.5, 'Nina Harris'), (0.5, 'Anna Harris'), (0.5, 'Emma Harris'), (0.5, 'Brian Harris'), (0.5, 'Nancy Harris'), (0.5, 'Alonzo Harris'), (0.5, 'Ronald Harris'), (0.5, 'Quinney Harris'), (0.5, 'Michael Harris'), (0.5, 'Tiffany Harris'), (0.5, 'Brandon Harris'), (0.5, 'Michelle Harris')]\n",
      "[2100/2982] Andrew Ferguson -> [(1, 'Andrew Ferguson')]\n",
      "[2101/2982] Anwar Bhatti -> [(0.8, 'Anwar A. Bhatti')]\n",
      "[2102/2982] Barbara Marchetti -> [(0.7647058823529411, 'Barbara Barrett')]\n",
      "[2103/2982] Benjamin Baker -> [(0.875, 'Benjamin J Baker')]\n",
      "[2104/2982] Brandon Wallace -> [(0.6666666666666667, 'Jordan Wallace')]\n",
      "RETRY\n",
      "[2104/2982] Brandon Wallace -> [(0.7333333333333334, 'Charon Wallace')]\n",
      "[2105/2982] Brooke Smith -> [(1, 'Brooke Smith')]\n",
      "[2106/2982] Catherine Hamel -> [(0.8333333333333335, 'Catherine M. Hamel')]\n",
      "[2107/2982] Chad Doran -> [(0.625, 'Chad James Doran')]\n",
      "RETRY\n",
      "[2107/2982] Chad Doran -> [(1, 'Chad Doran')]\n",
      "[2108/2982] Chad Infante -> [(0.8571428571428572, 'Chad B Infante')]\n",
      "[2109/2982] Cheryl Spinner -> [(1, 'Cheryl Spinner')]\n",
      "[2110/2982] Claire Dunning -> [(1, 'Claire Dunning')]\n",
      "[2111/2982] Courtney Douglass -> [(0.6470588235294117, 'Courtney Dahlke'), (0.6470588235294117, 'Courtney Rukan'), (0.6470588235294117, 'Courtney Holder'), (0.6470588235294117, 'Courtney Butler')]\n",
      "RETRY\n",
      "[2111/2982] Courtney Douglass -> [(0.6470588235294117, 'Courtney Davis'), (0.6470588235294117, 'Courtney Dahlke'), (0.6470588235294117, 'Greg Douglass'), (0.6470588235294117, 'Courtney Rukan'), (0.6470588235294117, 'Courtney Holder'), (0.6470588235294117, 'Courtney Butler'), (0.6470588235294117, 'Courtney Paulson'), (0.6470588235294117, 'Courtney Hoffmann')]\n",
      "[2112/2982] Daniel Contreras -> [(0.6875, 'Daniel Conway'), (0.6875, 'Jason Contreras')]\n",
      "RETRY\n",
      "[2112/2982] Daniel Contreras -> [(1, 'Daniel Contreras')]\n",
      "[2113/2982] Danielle Pafe -> [(1, 'Danielle Pafe')]\n",
      "[2114/2982] Darrian Carroll -> [(0.6666666666666667, 'Chris Carroll'), (0.6666666666666667, 'Mark J. Carroll'), (0.6666666666666667, 'April R Carroll')]\n",
      "RETRY\n",
      "[2114/2982] Darrian Carroll -> [(0.7333333333333334, 'Ian Carroll'), (0.7333333333333334, 'April Carroll')]\n",
      "[2115/2982] David Simon -> [(1, 'David Simon')]\n",
      "[2116/2982] Dennis Winston -> [(0.8235294117647058, 'Dennis L. Winston')]\n",
      "[2117/2982] Dolly Hall -> [(0.6, 'Wendy Hall'), (0.6, 'Allie Hall'), (0.6, 'Holly Mann')]\n",
      "RETRY\n",
      "[2117/2982] Dolly Hall -> [(0.6666666666666667, 'Dorothy Hall'), (0.6666666666666667, 'Holly Nalley')]\n",
      "[2118/2982] Dong Dong -> [(1, 'Dong Dong')]\n",
      "[2119/2982] Eliza Thompson -> [(0.8125, 'Melissa Thompson')]\n",
      "[2120/2982] Elizabeth Petrusic -> [(0.8333333333333335, 'Elizabeth Petrun')]\n",
      "[2121/2982] Emily Francis -> [(1, 'Emily Francis')]\n",
      "[2122/2982] Erin Thomson -> [(0.7142857142857143, 'Karen Thompson'), (0.7142857142857143, 'Maria Thomason')]\n",
      "RETRY\n",
      "[2122/2982] Erin Thomson -> [(1, 'Erin Thomson')]\n",
      "[2123/2982] Fatima Taha -> [(0.6363636363636364, 'Fatima Seck')]\n",
      "RETRY\n",
      "[2123/2982] Fatima Taha -> [(0.7272727272727273, 'Fatima Azam')]\n",
      "[2124/2982] Hannah Daley -> [(0.6666666666666667, 'Hanna Lee')]\n",
      "RETRY\n",
      "[2124/2982] Hannah Daley -> [(0.75, 'Hannah Urrey'), (0.75, 'Hannah Baker'), (0.75, 'Hannah Vahle')]\n",
      "[2125/2982] Ian Teixeira -> [(0.5833333333333333, 'Ian Miers')]\n",
      "RETRY\n",
      "[2125/2982] Ian Teixeira -> [(0.6428571428571428, 'Irani Ferreira')]\n",
      "[2126/2982] James Archsmith -> [(1, 'James Archsmith')]\n",
      "[2127/2982] Jan Peszek -> [(0.625, 'Jan Pawel Peszek')]\n",
      "RETRY\n",
      "[2127/2982] Jan Peszek -> [(1, 'Jan Peszek')]\n",
      "[2128/2982] Jason Saltmarsh -> [(0.6, 'Jaclyn A. Marsh')]\n",
      "RETRY\n",
      "[2128/2982] Jason Saltmarsh -> [(0.6, 'Jason Smith'), (0.6, 'Jason Strahan'), (0.6, 'Jason Farman'), (0.6, 'Jason Millar'), (0.6, 'Jason Gilman')]\n",
      "[2129/2982] Jeannette Kartchner -> [(0.7307692307692308, 'Jeannette Elaine Kartchner')]\n",
      "RETRY\n",
      "[2129/2982] Jeannette Kartchner -> [(1, 'Jeannette Kartchner')]\n",
      "[2130/2982] Jeremy Reid -> [(0.75, 'Jeremy Rubio')]\n",
      "RETRY\n",
      "[2130/2982] Jeremy Reid -> [(1, 'Jeremy Reid')]\n",
      "[2131/2982] Jessica Mathiason -> [(0.8235294117647058, 'Jessica Magidson')]\n",
      "[2132/2982] Jessica Roffe -> [(1, 'Jessica Roffe')]\n",
      "[2133/2982] Jintae Kim -> [(1, 'Jintae Kim')]\n",
      "[2134/2982] Jinwoo Lee -> [(1, 'Jinwoo Lee')]\n",
      "[2135/2982] Joannie Tremblay-Boire -> [(1, 'Joannie Tremblay-Boire')]\n",
      "[2136/2982] Jocelyn Menecio -> [(0.6818181818181819, 'Jocelyn Javier Menecio')]\n",
      "RETRY\n",
      "[2136/2982] Jocelyn Menecio -> [(1, 'Jocelyn Menecio')]\n",
      "[2137/2982] Joel Chan -> [(1, 'Joel Chan')]\n",
      "[2138/2982] John Andrews -> [(0.7142857142857143, 'Ashani Andrews')]\n",
      "RETRY\n",
      "[2138/2982] John Andrews -> [(0.7142857142857143, 'Ashani Andrews')]\n",
      "[2139/2982] Joseph Williams -> [(1, 'Joseph Williams')]\n",
      "[2140/2982] Joshua Westgard -> [(0.7142857142857143, 'Joshua Allan Westgard')]\n",
      "RETRY\n",
      "[2140/2982] Joshua Westgard -> [(1, 'Joshua Westgard')]\n",
      "[2141/2982] Juan Burke -> [(0.7, 'J L Burke')]\n",
      "RETRY\n",
      "[2141/2982] Juan Burke -> [(1, 'Juan Burke')]\n",
      "[2142/2982] Junhan Chen -> [(0.8181818181818181, 'Junjun Chen')]\n",
      "[2143/2982] Justin Hicks -> [(0.75, 'Justin Fisk')]\n",
      "RETRY\n",
      "[2143/2982] Justin Hicks -> [(0.75, 'Justin Fisk')]\n",
      "[2144/2982] Jyana Browne -> [(0.8, 'Jyana S. Browne')]\n",
      "[2145/2982] Karen Mulak -> [(1, 'Karen Mulak')]\n",
      "[2146/2982] Katrina Fenlon -> [(0.6666666666666667, 'Katrina Simone Fenlon')]\n",
      "RETRY\n",
      "[2146/2982] Katrina Fenlon -> [(1, 'Katrina Fenlon')]\n",
      "[2147/2982] Kelly Ivy -> [(0.7, 'Kelly Rice')]\n",
      "RETRY\n",
      "[2147/2982] Kelly Ivy -> [(0.7777777777777779, 'Kelly Fey')]\n",
      "[2148/2982] Kevin Wisniewski -> [(0.6666666666666667, 'Kevin Anthony Wisniewski')]\n",
      "RETRY\n",
      "[2148/2982] Kevin Wisniewski -> [(1, 'Kevin Wisniewski')]\n",
      "[2149/2982] Lester Andrist -> [(0.6666666666666667, 'Lester Howard Andrist')]\n",
      "RETRY\n",
      "[2149/2982] Lester Andrist -> [(1, 'Lester Andrist')]\n",
      "[2150/2982] Lisa Lednicer -> [(0.6842105263157895, 'Lisa Grace Lednicer')]\n",
      "RETRY\n",
      "[2150/2982] Lisa Lednicer -> [(1, 'Lisa Lednicer')]\n",
      "[2151/2982] Marcus Ervin -> [(1, 'Marcus Ervin')]\n",
      "[2152/2982] Maria Bardossy -> [(0.6666666666666667, 'Maria Gisela Bardossy')]\n",
      "RETRY\n",
      "[2152/2982] Maria Bardossy -> [(1, 'Maria Bardossy')]\n",
      "[2153/2982] Marion Lindstrom -> [(0.6111111111111112, 'Jennifer Lindstrom')]\n",
      "RETRY\n",
      "[2153/2982] Marion Lindstrom -> [(0.625, 'David Sandstrom')]\n",
      "[2154/2982] Mary Kendig -> [(0.6875, 'Mary Anne Kendig')]\n",
      "RETRY\n",
      "[2154/2982] Mary Kendig -> [(1, 'Mary Kendig')]\n",
      "[2155/2982] Mathew Feehan -> [(1, 'Mathew Feehan')]\n",
      "[2156/2982] Matthew Griffin -> [(1, 'Matthew Griffin')]\n",
      "[2157/2982] Matthew Salzano -> [(0.8, 'Matthew Suriano')]\n",
      "[2158/2982] Matthias Fischer -> [(0.75, 'Matthias Zwicker')]\n",
      "RETRY\n",
      "[2158/2982] Matthias Fischer -> [(0.75, 'Mathias Frisch'), (0.75, 'Matthias Zwicker'), (0.75, 'Matthieu Picher')]\n",
      "[2159/2982] Maxx Cho -> [(0.5555555555555556, 'Maxo Azor')]\n",
      "RETRY\n",
      "[2159/2982] Maxx Cho -> [(1, 'Maxx Cho')]\n",
      "[2160/2982] Mestiyage Gunatilleka -> [(0.5384615384615384, 'Mestiyage Don Danul Kavindr Gunatilleka')]\n",
      "RETRY\n",
      "[2160/2982] Mestiyage Gunatilleka -> [(1, 'Mestiyage Gunatilleka')]\n",
      "[2161/2982] Michelle Moncrieffe -> [(0.736842105263158, 'Michelle Monroe')]\n",
      "RETRY\n",
      "[2161/2982] Michelle Moncrieffe -> [(1, 'Michelle Moncrieffe')]\n",
      "[2162/2982] Mohammad Nayeem Teli -> [(1, 'Mohammad Nayeem Teli')]\n",
      "[2163/2982] Mollie Greenberg -> [(1, 'Mollie Greenberg')]\n",
      "[2164/2982] Mollye Bendell -> [(1, 'Mollye Bendell')]\n",
      "[2165/2982] Muge Karagoz -> [(1, 'Muge Karagoz')]\n",
      "[2166/2982] Natnaree Suwanpotipra -> [(0.4285714285714286, 'Nathan G Swan')]\n",
      "RETRY\n",
      "[2166/2982] Natnaree Suwanpotipra -> [(0.4285714285714286, 'Nathan Swan'), (0.4285714285714286, 'Natalie Slopen'), (0.4285714285714286, 'Nathalie Steinhauer')]\n",
      "[2167/2982] Negar Heidarian Boroujeni -> [(1, 'Negar Heidarian Boroujeni')]\n",
      "[2168/2982] Nia Crawford -> [(0.7142857142857143, 'Alice Crawford')]\n",
      "RETRY\n",
      "[2168/2982] Nia Crawford -> [(1, 'Nia Crawford')]\n",
      "[2169/2982] Nick Petroni -> [(0.5833333333333333, 'Anna Petrone'), (0.5833333333333333, 'Nick Celedon')]\n",
      "RETRY\n",
      "[2169/2982] Nick Petroni -> [(0.6428571428571428, 'Janice Perrone')]\n",
      "[2170/2982] Nicole Cuffy -> [(0.8, 'Nicole A. Cuffy')]\n",
      "[2171/2982] Ofelia Montelongo Valencia -> [(1, 'Ofelia Montelongo Valencia')]\n",
      "[2172/2982] Ottawa Sanders -> [(0.7777777777777779, 'Ottawa Tai Sanders')]\n",
      "[2173/2982] Pamela Duffy -> [(0.5833333333333333, 'Pamela Grant'), (0.5833333333333333, 'Pamela Gouws')]\n",
      "RETRY\n",
      "[2173/2982] Pamela Duffy -> [(1, 'Pamela Duffy')]\n",
      "[2174/2982] Patrick Chung -> [(1, 'Patrick Chung')]\n",
      "[2175/2982] Pedro Bueno -> [(0.6666666666666667, 'Pedro C Pena')]\n",
      "RETRY\n",
      "[2175/2982] Pedro Bueno -> [(1, 'Pedro Bueno')]\n",
      "[2176/2982] Pratima Kshetry -> [(1, 'Pratima Kshetry')]\n",
      "[2177/2982] Ramon Braza -> [(0.6470588235294117, 'Ramon Buyco Braza')]\n",
      "RETRY\n",
      "[2177/2982] Ramon Braza -> [(1, 'Ramon Braza')]\n",
      "[2178/2982] Raymond Fermo -> [(0.7222222222222221, 'Raymond Luis Fermo')]\n",
      "RETRY\n",
      "[2178/2982] Raymond Fermo -> [(1, 'Raymond Fermo')]\n",
      "[2179/2982] Rieko Chacey -> [(1, 'Rieko Chacey')]\n",
      "[2180/2982] Rodrigo Dominguez-Martinez -> [(0.5384615384615384, 'Rosmary Diaz Martinez')]\n",
      "RETRY\n",
      "[2180/2982] Rodrigo Dominguez-Martinez -> [(0.5, 'Rodrigo Gutierrez')]\n",
      "[2181/2982] Ronald Mower -> [(0.75, 'Ronald Lee Mower')]\n",
      "RETRY\n",
      "[2181/2982] Ronald Mower -> [(1, 'Ronald Mower')]\n",
      "[2182/2982] Rossina Liu -> [(0.6363636363636364, 'Meina Liu')]\n",
      "RETRY\n",
      "[2182/2982] Rossina Liu -> [(1, 'Rossina Liu')]\n",
      "[2183/2982] Ryan O'Grady -> [(1, \"Ryan O'Grady\")]\n",
      "[2184/2982] Sarah Humud -> [(0.6363636363636364, 'Sarah Hovde'), (0.6363636363636364, 'Sarah Kim'), (0.6363636363636364, 'Sarah Mruz'), (0.6363636363636364, 'Sarah Grun'), (0.6363636363636364, 'Sarah L May')]\n",
      "RETRY\n",
      "[2184/2982] Sarah Humud -> [(1, 'Sarah Humud')]\n",
      "[2185/2982] Sean Gruber -> [(0.6666666666666667, 'Jason Gruber')]\n",
      "RETRY\n",
      "[2185/2982] Sean Gruber -> [(0.6666666666666667, 'Jason Gruber'), (0.6666666666666667, 'Sean Bresler')]\n",
      "[2186/2982] Seungjun Kim -> [(0.8333333333333335, 'Seongyun Kim')]\n",
      "[2187/2982] Shana Webster-Trotman -> [(1, 'Shana Webster-Trotman')]\n",
      "[2188/2982] Shawna Dias -> [(0.6363636363636364, 'Shanna May')]\n",
      "RETRY\n",
      "[2188/2982] Shawna Dias -> [(0.6363636363636364, 'Juana Diaz'), (0.6363636363636364, 'Shana Dukes'), (0.6363636363636364, 'ShaVon Diaz'), (0.6363636363636364, 'Shanna May')]\n",
      "[2189/2982] Sydney Lewis -> [(0.8571428571428572, 'Sydney F Lewis')]\n",
      "[2190/2982] Taylor Myers -> [(0.7142857142857143, 'Taylor Sanders')]\n",
      "RETRY\n",
      "[2190/2982] Taylor Myers -> [(1, 'Taylor Myers')]\n",
      "[2191/2982] Thien Ngo -> [(0.6666666666666667, 'Thieu Do')]\n",
      "RETRY\n",
      "[2191/2982] Thien Ngo -> [(0.6666666666666667, 'Thieu Do')]\n",
      "[2192/2982] Thomas Le -> [(0.8181818181818181, 'Thomas Lane')]\n",
      "[2193/2982] Timothy Livengood -> [(0.85, 'Timothy A. Livengood')]\n",
      "[2194/2982] Tricia Raysor -> [(0.8666666666666667, 'Tricia S Raysor')]\n",
      "[2195/2982] W Ethan Eagle -> [(1, 'W Ethan Eagle')]\n",
      "[2196/2982] William Regli -> [(0.8666666666666667, 'William C Regli')]\n",
      "[2197/2982] Xiaoming He -> [(1, 'Xiaoming He')]\n",
      "[2198/2982] Xinran Qi -> [(0.6666666666666667, 'Ran Qi'), (0.6666666666666667, 'Xinan Liu')]\n",
      "RETRY\n",
      "[2198/2982] Xinran Qi -> [(0.6666666666666667, 'Ran Qi'), (0.6666666666666667, 'Xinan Liu')]\n",
      "[2199/2982] Yancey Orr -> [(1, 'Yancey Orr')]\n",
      "[2200/2982] Yancy Diaz-Mercado -> [(1, 'Yancy Diaz-Mercado')]\n",
      "[2201/2982] Yumin Yan -> [(0.6666666666666667, 'Yun Yang')]\n",
      "RETRY\n",
      "[2201/2982] Yumin Yan -> [(0.6666666666666667, 'Yun Yang')]\n",
      "[2202/2982] Kim Drnec -> [(1, 'Kim Drnec')]\n",
      "[2203/2982] Richie Crider -> [(0.5714285714285714, 'Richard McIver')]\n",
      "RETRY\n",
      "[2203/2982] Richie Crider -> [(0.6428571428571428, 'Richard Snider')]\n",
      "[2204/2982] Joseph Weber -> [(1, 'Joseph Weber')]\n",
      "[2205/2982] Eric Zanot -> [(0.7692307692307692, 'Eric J. Zanot')]\n",
      "[2206/2982] Damion Thomas -> [(0.8666666666666667, 'Damion L Thomas')]\n",
      "[2207/2982] Nathaniel Monson -> [(0.6875, 'Nathaniel Kuhn'), (0.6875, 'Nathaniel Sims')]\n",
      "RETRY\n",
      "[2207/2982] Nathaniel Monson -> [(0.7647058823529411, 'Nathaniel Jackson')]\n",
      "[2208/2982] Bo Tian -> [(0.75, 'Bo Jiang')]\n",
      "RETRY\n",
      "[2208/2982] Bo Tian -> [(0.75, 'Bo Jiang')]\n",
      "[2209/2982] Zsuzsa Daczo -> [(1, 'Zsuzsa Daczo')]\n",
      "[2210/2982] Joann Prosser -> [(1, 'Joann Prosser')]\n",
      "[2211/2982] Anna Haller -> [(0.7272727272727273, 'Anna Garner')]\n",
      "RETRY\n",
      "[2211/2982] Anna Haller -> [(0.9090909090909091, 'Anna Waller')]\n",
      "[2212/2982] Carole Sebenick -> [(0.6818181818181819, 'Carole Warren Sebenick')]\n",
      "RETRY\n",
      "[2212/2982] Carole Sebenick -> [(1, 'Carole Sebenick')]\n",
      "[2213/2982] Martin Kobren -> [(0.6923076923076923, 'Martin Kaiser')]\n",
      "RETRY\n",
      "[2213/2982] Martin Kobren -> [(1, 'Martin Kobren')]\n",
      "[2214/2982] Anne Baum -> [(0.6, 'Anne Marie Baum')]\n",
      "RETRY\n",
      "[2214/2982] Anne Baum -> [(1, 'Anne Baum')]\n",
      "[2215/2982] Hilary Sazama -> [(0.8125, 'Hilary L. Sazama')]\n",
      "[2216/2982] David King -> [(0.7272727272727273, 'David Tsang')]\n",
      "RETRY\n",
      "[2216/2982] David King -> [(1, 'David King')]\n",
      "[2217/2982] Chris Justice -> [(1, 'Chris Justice')]\n",
      "[2218/2982] Itay Balely -> [(0.5, 'H Jay Zwally'), (0.5, 'Emily Bailey')]\n",
      "RETRY\n",
      "[2218/2982] Itay Balely -> [(0.5454545454545454, 'Mary Baney'), (0.5454545454545454, 'Mary Bailey')]\n",
      "[2219/2982] Lee Penn -> [(0.625, 'Jie Peng')]\n",
      "RETRY\n",
      "[2219/2982] Lee Penn -> [(0.6363636363636364, 'Leah Penner')]\n",
      "[2220/2982] Marisa Franco -> [(0.7222222222222221, 'Marisa Gina Franco')]\n",
      "RETRY\n",
      "[2220/2982] Marisa Franco -> [(1, 'Marisa Franco')]\n",
      "[2221/2982] Jenna Beckwith -> [(0.6666666666666667, 'Jenna Lynsey Beckwith')]\n",
      "RETRY\n",
      "[2221/2982] Jenna Beckwith -> [(1, 'Jenna Beckwith')]\n",
      "[2222/2982] Jianlong Liu -> [(0.8333333333333335, 'Xiaolong Liu')]\n",
      "[2223/2982] Jermain McDermott -> [(0.6190476190476191, 'Jeffery Jay McDermott')]\n",
      "RETRY\n",
      "[2223/2982] Jermain McDermott -> [(0.7058823529411764, 'Ian McDermott'), (0.7058823529411764, 'Jeffery McDermott'), (0.7058823529411764, 'Edward McDermott'), (0.7058823529411764, 'Abigail McDermott')]\n",
      "[2224/2982] Gananand Kini -> [(0.65, 'Gananand Ganesh Kini')]\n",
      "RETRY\n",
      "[2224/2982] Gananand Kini -> [(1, 'Gananand Kini')]\n",
      "[2225/2982] Gonzalo Garcia -> [(0.6428571428571428, 'Zinia Garcia'), (0.6428571428571428, 'Nora R Garcia'), (0.6428571428571428, 'Kenia M Garcia')]\n",
      "RETRY\n",
      "[2225/2982] Gonzalo Garcia -> [(0.6428571428571428, 'Ana Garcia'), (0.6428571428571428, 'Nora Garcia'), (0.6428571428571428, 'Norma Garcia'), (0.6428571428571428, 'Kenia Garcia'), (0.6428571428571428, 'Zinia Garcia'), (0.6428571428571428, 'Xenia Garcia')]\n",
      "[2226/2982] Jenna Gerdsen -> [(0.5714285714285714, 'Jenna Behrendt')]\n",
      "RETRY\n",
      "[2226/2982] Jenna Gerdsen -> [(0.6153846153846154, 'Jenna Messman'), (0.6153846153846154, 'Janna Thomsen')]\n",
      "[2227/2982] Jerry Zremski -> [(1, 'Jerry Zremski')]\n",
      "[2228/2982] Jessica Fish -> [(0.8, 'Jessica N. Fish')]\n",
      "[2229/2982] Maria Velez -> [(0.7333333333333334, 'Maria Velasquez')]\n",
      "RETRY\n",
      "[2229/2982] Maria Velez -> [(1, 'Maria Velez')]\n",
      "[2230/2982] Roxanne Jaffe -> [(0.6666666666666667, 'Roxanne Lefkoff')]\n",
      "RETRY\n",
      "[2230/2982] Roxanne Jaffe -> [(0.6666666666666667, 'Roxanne Lefkoff'), (0.6666666666666667, 'Rosanne Stafiej')]\n",
      "[2231/2982] Taylor Oshan -> [(0.7142857142857143, 'Taylor Vaughan')]\n",
      "RETRY\n",
      "[2231/2982] Taylor Oshan -> [(1, 'Taylor Oshan')]\n",
      "[2232/2982] Victor Bramble -> [(0.6428571428571428, 'Victor I Amaya')]\n",
      "RETRY\n",
      "[2232/2982] Victor Bramble -> [(0.6666666666666667, 'Victor Babalola')]\n",
      "[2233/2982] Sheetal Singh -> [(1, 'Sheetal Singh')]\n",
      "[2234/2982] Daehoon Noh -> [(0.5833333333333333, 'Jaehoon Jung'), (0.5833333333333333, 'Jaewoon Hong')]\n",
      "RETRY\n",
      "[2234/2982] Daehoon Noh -> [(0.5833333333333333, 'Jaehoon Jung'), (0.5833333333333333, 'Jaewoon Hong')]\n",
      "[2235/2982] Jon Crocker -> [(1, 'Jon Crocker')]\n",
      "[2236/2982] Martin Molina Fructuoso -> [(0.4782608695652174, 'Martina Ricko'), (0.4782608695652174, 'Martin Vol Moody'), (0.4782608695652174, 'Martin A Culp'), (0.4782608695652174, 'Marisa Gina Franco')]\n",
      "RETRY\n",
      "[2236/2982] Martin Molina Fructuoso -> [(0.4782608695652174, 'Marta Molina'), (0.4782608695652174, 'Martina Ricko'), (0.4782608695652174, 'Martin Velazco')]\n",
      "[2237/2982] Timothy Rainsford -> [(0.7058823529411764, 'Timothy Robinson')]\n",
      "RETRY\n",
      "[2237/2982] Timothy Rainsford -> [(0.7647058823529411, 'Timothy Crawford')]\n",
      "[2238/2982] Elif Osun -> [(0.6666666666666667, 'Elif Kuz')]\n",
      "RETRY\n",
      "[2238/2982] Elif Osun -> [(0.6666666666666667, 'Elif Kuz')]\n",
      "[2239/2982] Elizabeth Yates -> [(0.8, 'Elizabeth Patt')]\n",
      "[2240/2982] Erin Tran -> [(0.75, 'Erin EH Tran')]\n",
      "RETRY\n",
      "[2240/2982] Erin Tran -> [(1, 'Erin Tran')]\n",
      "[2241/2982] Heather-Erin Bremenstuhl -> [(1, 'Heather-Erin Bremenstuhl')]\n",
      "[2242/2982] Kristina Harris -> [(0.7333333333333334, 'Kristine Maphis')]\n",
      "RETRY\n",
      "[2242/2982] Kristina Harris -> [(0.75, 'Kristina Hopkins')]\n",
      "[2243/2982] La'Mon Johnson -> [(1, \"La'Mon Johnson\")]\n",
      "[2244/2982] M Apolonia Calderon -> [(1, 'M Apolonia Calderon')]\n",
      "[2245/2982] Manuel Franco Sevilla -> [(1, 'Manuel Franco Sevilla')]\n",
      "[2246/2982] Mark Lockwood -> [(0.6153846153846154, 'Mark D. Flood'), (0.6153846153846154, 'Marc Locco')]\n",
      "RETRY\n",
      "[2246/2982] Mark Lockwood -> [(0.923076923076923, 'Mary Lockwood')]\n",
      "[2247/2982] Megan McLean -> [(1, 'Megan McLean')]\n",
      "[2248/2982] Natalie Sullivan -> [(0.65, 'Kathleen A. Sullivan')]\n",
      "RETRY\n",
      "[2248/2982] Natalie Sullivan -> [(0.7647058823529411, 'Kathleen Sullivan')]\n",
      "[2249/2982] Wayne Lutters -> [(1, 'Wayne Lutters')]\n",
      "[2250/2982] Alisa Clyne -> [(0.6470588235294117, 'Alisa Morss Clyne')]\n",
      "RETRY\n",
      "[2250/2982] Alisa Clyne -> [(1, 'Alisa Clyne')]\n",
      "[2251/2982] Brandy Williams -> [(0.8666666666666667, 'Brenda Williams')]\n",
      "[2252/2982] Elizabeth Nonemaker -> [(0.75, 'Elizabeth Ann Parker')]\n",
      "RETRY\n",
      "[2252/2982] Elizabeth Nonemaker -> [(0.736842105263158, 'Elizabeth Conner')]\n",
      "[2253/2982] Ghaffar Hurtado Choque -> [(0.8461538461538461, 'Ghaffar Ali Hurtado Choque')]\n",
      "[2254/2982] Grace Kwon -> [(0.5833333333333333, 'Grace Deming')]\n",
      "RETRY\n",
      "[2254/2982] Grace Kwon -> [(0.6153846153846154, 'Grace Karmiol')]\n",
      "[2255/2982] Magdalene Ngeve -> [(0.8333333333333335, 'Magdalene N. Ngeve')]\n",
      "[2256/2982] Maiasia Grimes -> [(0.625, 'Amanda C. Grimes')]\n",
      "RETRY\n",
      "[2256/2982] Maiasia Grimes -> [(0.7142857142857143, 'Amanda Grimes')]\n",
      "[2257/2982] Max Lasky -> [(0.6153846153846154, 'Marc Limansky')]\n",
      "RETRY\n",
      "[2257/2982] Max Lasky -> [(0.6153846153846154, 'Marc Limansky')]\n",
      "[2258/2982] Megan Howell -> [(0.6666666666666667, \"Megan O'Neil\"), (0.6666666666666667, 'Megan Rogers')]\n",
      "RETRY\n",
      "[2258/2982] Megan Howell -> [(0.75, 'Megan Wells'), (0.75, 'Megan Owens'), (0.75, 'Leah Howell')]\n",
      "[2259/2982] Priscilla Novak -> [(0.7894736842105263, 'Priscilla Joy Novak')]\n",
      "[2260/2982] Samuel Schwarm -> [(1, 'Samuel Schwarm')]\n",
      "[2261/2982] Shannon Zellars Strohl -> [(1, 'Shannon Zellars Strohl')]\n",
      "[2262/2982] Timothy Reedy -> [(0.7692307692307692, 'Timothy Demay')]\n",
      "[2263/2982] Prem Saggar -> [(1, 'Prem Saggar')]\n",
      "[2264/2982] Brandon Mariano -> [(0.6875, 'Brandon M Wright')]\n",
      "RETRY\n",
      "[2264/2982] Brandon Mariano -> [(0.7333333333333334, 'Brandon Mason'), (0.7333333333333334, 'Brandon Franco'), (0.7333333333333334, 'Brandon Sartin'), (0.7333333333333334, 'Brandon Carbary')]\n",
      "[2265/2982] Freddy Cisneros -> [(0.6470588235294117, 'Israel A Cisneros')]\n",
      "RETRY\n",
      "[2265/2982] Freddy Cisneros -> [(0.6, 'Sofia Cisneros'), (0.6, 'Israel Cisneros'), (0.6, 'Freddy Witarsa')]\n",
      "[2266/2982] Ajeet Gary -> [(0.7, 'Alex Gary')]\n",
      "RETRY\n",
      "[2266/2982] Ajeet Gary -> [(0.7, 'Alex Gary')]\n",
      "[2267/2982] Ryan Sutton -> [(0.6428571428571428, 'Mary B. Sutton')]\n",
      "RETRY\n",
      "[2267/2982] Ryan Sutton -> [(0.6666666666666667, 'Ryan Simmons'), (0.6666666666666667, 'Ryan Muldoon'), (0.6666666666666667, 'Ryan Turgeon')]\n",
      "[2268/2982] Michael Donahue -> [(0.8333333333333335, 'Michael S. Donahue')]\n",
      "[2269/2982] Danul Gunatilleka -> [(0.5294117647058824, 'Paul Lemaillet')]\n",
      "RETRY\n",
      "[2269/2982] Danul Gunatilleka -> [(0.5714285714285714, 'Mestiyage Gunatilleka')]\n",
      "[2270/2982] Noah Chrein -> [(0.5714285714285714, 'Noah D Drezner')]\n",
      "RETRY\n",
      "[2270/2982] Noah Chrein -> [(0.6666666666666667, 'Noah Collins')]\n",
      "[2271/2982] Rufus Elemo -> [(0.368421052631579, 'Julius E. Breakiron'), (0.368421052631579, 'Julius B JR Fleming')]\n",
      "RETRY\n",
      "[2271/2982] Rufus Elemo -> [(0.5, 'Julius Fleming')]\n",
      "[2272/2982] Jason Tran -> [(0.6666666666666667, 'Jason Murray')]\n",
      "RETRY\n",
      "[2272/2982] Jason Tran -> [(0.7692307692307692, 'Jason Strahan')]\n",
      "[2273/2982] Barry Feinstein -> [(0.7333333333333334, 'Fred Feinstein')]\n",
      "RETRY\n",
      "[2273/2982] Barry Feinstein -> [(0.7333333333333334, 'Fred Feinstein')]\n",
      "[2274/2982] Christiana Guest -> [(0.75, 'Christiana Ometu')]\n",
      "RETRY\n",
      "[2274/2982] Christiana Guest -> [(1, 'Christiana Guest')]\n",
      "[2275/2982] Katlin Gray -> [(0.6153846153846154, 'Kaitlin Ahmad')]\n",
      "RETRY\n",
      "[2275/2982] Katlin Gray -> [(1, 'Katlin Gray')]\n",
      "[2276/2982] Kelly Brower -> [(0.75, 'Holly Brewer')]\n",
      "RETRY\n",
      "[2276/2982] Kelly Brower -> [(1, 'Kelly Brower')]\n",
      "[2277/2982] Amanda Chen -> [(0.75, 'Amanda Allen'), (0.75, 'Amanda Stein')]\n",
      "RETRY\n",
      "[2277/2982] Amanda Chen -> [(0.8181818181818181, 'Amanda Even')]\n",
      "[2278/2982] Alexandra Jones -> [(0.8823529411764706, 'Alexandra L Jones')]\n",
      "[2279/2982] Anna Posbergh -> [(0.6153846153846154, 'Anna Ebers')]\n",
      "RETRY\n",
      "[2279/2982] Anna Posbergh -> [(0.6428571428571428, 'Ann Morsberger')]\n",
      "[2280/2982] Aysun Alp Paukowits -> [(1, 'Aysun Alp Paukowits')]\n",
      "[2281/2982] Daniel Quimby -> [(0.6153846153846154, 'Daniel Yi'), (0.6153846153846154, 'Daniel A. Key'), (0.6153846153846154, 'Daniel R Gay'), (0.6153846153846154, 'Daniel Conway'), (0.6153846153846154, 'Daniel Sommer'), (0.6153846153846154, 'Daniel Mirsky'), (0.6153846153846154, 'Daniel Shilov')]\n",
      "RETRY\n",
      "[2281/2982] Daniel Quimby -> [(0.6923076923076923, 'Daniel Puma'), (0.6923076923076923, 'Daniel Curry')]\n",
      "[2282/2982] David Sekora -> [(0.6666666666666667, 'David Simon'), (0.6666666666666667, 'David Terry'), (0.6666666666666667, 'David J Kohn')]\n",
      "RETRY\n",
      "[2282/2982] David Sekora -> [(0.6923076923076923, 'David Stewart')]\n",
      "[2283/2982] Diana Obanda -> [(0.8, 'Diana N. Obanda')]\n",
      "[2284/2982] Duli Shi -> [(0.75, 'Rui Shi')]\n",
      "RETRY\n",
      "[2284/2982] Duli Shi -> [(0.75, 'Rui Shi')]\n",
      "[2285/2982] Eric Newburger -> [(0.5714285714285714, 'Eric Walker'), (0.5714285714285714, 'Eric Norrgard'), (0.5714285714285714, 'Eric B Reed'), (0.5714285714285714, 'Eric Schurr'), (0.5714285714285714, 'Eric Beyerle')]\n",
      "RETRY\n",
      "[2285/2982] Eric Newburger -> [(0.5714285714285714, 'Eric Baker'), (0.5714285714285714, 'Eric Walker'), (0.5714285714285714, 'Erick Geiger'), (0.5714285714285714, 'Eric Reasoner'), (0.5714285714285714, 'Eric Norrgard')]\n",
      "[2286/2982] Gregory Ramsay -> [(0.736842105263158, 'Gregory Clay Ramsay')]\n",
      "RETRY\n",
      "[2286/2982] Gregory Ramsay -> [(1, 'Gregory Ramsay')]\n",
      "[2287/2982] Guangyu Xi -> [(1, 'Guangyu Xi')]\n",
      "[2288/2982] Hannah Beilenson -> [(0.625, 'Hannah Bergman'), (0.625, 'Hannah Benninger'), (0.625, 'Hannah E Weiss')]\n",
      "RETRY\n",
      "[2288/2982] Hannah Beilenson -> [(0.625, 'Hannah Bergman'), (0.625, 'Hannah Benninger'), (0.625, 'Hannah Wegmann'), (0.625, 'Hannah Weiss'), (0.625, 'Hannah Evans'), (0.625, 'Hannah Nealis'), (0.625, 'Hannah Weiser')]\n",
      "[2289/2982] Jennifer Proctor -> [(0.75, 'Jennifer Precht'), (0.75, 'Jennifer Horton'), (0.75, 'Jennifer Cotton')]\n",
      "RETRY\n",
      "[2289/2982] Jennifer Proctor -> [(0.75, 'Jennifer Precht')]\n",
      "[2290/2982] Joyce Garczynski -> [(1, 'Joyce Garczynski')]\n",
      "[2291/2982] Nelson Bennett -> [(1, 'Nelson Bennett')]\n",
      "[2292/2982] Nirupam Roy -> [(1, 'Nirupam Roy')]\n",
      "[2293/2982] Pamela Callahan -> [(0.7333333333333334, 'Amy E Callahan')]\n",
      "RETRY\n",
      "[2293/2982] Pamela Callahan -> [(0.7647058823529411, 'Pamela McClanahan')]\n",
      "[2294/2982] Sean Rao -> [(0.6, 'Sean Riley'), (0.6, 'Sean Davis'), (0.6, 'Ivan Ramos')]\n",
      "RETRY\n",
      "[2294/2982] Sean Rao -> [(0.7272727272727273, 'Sean Rabold')]\n",
      "[2295/2982] Shonte Murray-Daniels -> [(0.4285714285714286, 'Sarra Jane Daniels'), (0.4285714285714286, 'Kevin M Daniels'), (0.4285714285714286, 'Candace Joy Daniels'), (0.4285714285714286, 'Michelle Murray Yang')]\n",
      "RETRY\n",
      "[2295/2982] Shonte Murray-Daniels -> [(0.5238095238095238, 'Sarra Daniels')]\n",
      "[2296/2982] Aida Roige Mas -> [(0.6428571428571428, 'Lisa Rose Mar')]\n",
      "RETRY\n",
      "[2296/2982] Aida Roige Mas -> [(0.5, 'Aida Rodriguez'), (0.5, 'Aida Vidan'), (0.5, 'Ana Rodas'), (0.5, 'Ida Jones')]\n",
      "[2297/2982] Cassandra Philippon -> [(0.6842105263157895, 'Cassandra Lawson')]\n",
      "RETRY\n",
      "[2297/2982] Cassandra Philippon -> [(0.6842105263157895, 'Cassandra Lawson'), (0.6842105263157895, 'Cassandra Clayton'), (0.6842105263157895, 'Cassandra Corridon'), (0.6842105263157895, 'Cassandra Chapman')]\n",
      "[2298/2982] Christopher Masciari -> [(0.75, 'Christopher Cesare')]\n",
      "RETRY\n",
      "[2298/2982] Christopher Masciari -> [(0.8, 'Christopher Ajiri')]\n",
      "[2299/2982] Seth Murray -> [(0.7692307692307692, 'Joseph Murray')]\n",
      "[2300/2982] Viktoriya Zotova -> [(0.5294117647058824, 'Victoria E. Stone')]\n",
      "RETRY\n",
      "[2300/2982] Viktoriya Zotova -> [(0.625, 'Victoria Stone')]\n",
      "[2301/2982] Masayuki Tashiro -> [(0.625, 'Masako Nishio')]\n",
      "RETRY\n",
      "[2301/2982] Masayuki Tashiro -> [(0.625, 'Masako Nishio')]\n",
      "[2302/2982] Nelson Le -> [(0.75, 'Nelson Riley')]\n",
      "RETRY\n",
      "[2302/2982] Nelson Le -> [(0.75, 'Nelson Riley')]\n",
      "[2303/2982] John Sammarco -> [(0.8666666666666667, 'John R Sammarco')]\n",
      "[2304/2982] Sanna Madan -> [(0.6363636363636364, 'Shanna May'), (0.6363636363636364, 'Sana Khan')]\n",
      "RETRY\n",
      "[2304/2982] Sanna Madan -> [(0.6363636363636364, 'Shanna May'), (0.6363636363636364, 'Sana Khan'), (0.6363636363636364, 'Sara Moran')]\n",
      "[2305/2982] Abdirisak Mohamed -> [(0.6296296296296297, 'Abdirisak Abdullahi Mohamed')]\n",
      "RETRY\n",
      "[2305/2982] Abdirisak Mohamed -> [(1, 'Abdirisak Mohamed')]\n",
      "[2306/2982] Anahi Espindola -> [(1, 'Anahi Espindola')]\n",
      "[2307/2982] Chelsea Mays-Williams -> [(0.9130434782608696, 'Chelsea G Mays-Williams')]\n",
      "[2308/2982] Daniel George -> [(0.7647058823529411, 'Daniella DeGeorge')]\n",
      "[2309/2982] Dennis Frezzo -> [(0.6190476190476191, 'Dennis Charles Frezzo')]\n",
      "RETRY\n",
      "[2309/2982] Dennis Frezzo -> [(1, 'Dennis Frezzo')]\n",
      "[2310/2982] Dina Broydo -> [(1, 'Dina Broydo')]\n",
      "[2311/2982] Edward Summers -> [(0.736842105263158, 'Edward Hugh Summers')]\n",
      "RETRY\n",
      "[2311/2982] Edward Summers -> [(1, 'Edward Summers')]\n",
      "[2312/2982] Emily Francoise-Bove -> [(1, 'Emily Francoise-Bove')]\n",
      "[2313/2982] Hamil Harris -> [(0.6666666666666667, 'Emma Harris'), (0.6666666666666667, 'Tasha Harris')]\n",
      "RETRY\n",
      "[2313/2982] Hamil Harris -> [(1, 'Hamil Harris')]\n",
      "[2314/2982] Kartik Misra -> [(1, 'Kartik Misra')]\n",
      "[2315/2982] Kelley Oklesson -> [(0.7894736842105263, 'Kelley Ann Oklesson')]\n",
      "[2316/2982] Lori Perine -> [(0.7857142857142857, 'Lori A. Perine')]\n",
      "[2317/2982] Paul Albertus -> [(1, 'Paul Albertus')]\n",
      "[2318/2982] Rachel Scully -> [(0.6923076923076923, 'Rachel Hill')]\n",
      "RETRY\n",
      "[2318/2982] Rachel Scully -> [(1, 'Rachel Scully')]\n",
      "[2319/2982] Sarah Gilbert -> [(0.7647058823529411, 'Sarah Ann Gilbert')]\n",
      "[2320/2982] Susannah Paletz -> [(0.75, 'Susannah B.F. Paletz')]\n",
      "RETRY\n",
      "[2320/2982] Susannah Paletz -> [(1, 'Susannah Paletz')]\n",
      "[2321/2982] Thanicha Ruangmas -> [(1, 'Thanicha Ruangmas')]\n",
      "[2322/2982] Tiffany Ford -> [(0.7142857142857143, 'Tiffany Rogers')]\n",
      "RETRY\n",
      "[2322/2982] Tiffany Ford -> [(1, 'Tiffany Ford')]\n",
      "[2323/2982] Vasiliy Sergueev -> [(0.6111111111111112, 'Vassiliy Tsytsarev')]\n",
      "RETRY\n",
      "[2323/2982] Vasiliy Sergueev -> [(0.6111111111111112, 'Vassiliy Tsytsarev')]\n",
      "[2324/2982] Zahra Saboori -> [(1, 'Zahra Saboori')]\n",
      "[2325/2982] Betsy Petrusic -> [(0.5, 'Betsy Yuen'), (0.5, 'Betsy Dewey'), (0.5, 'Betsy Mendelsohn'), (0.5, 'Bethany G Petersen')]\n",
      "RETRY\n",
      "[2325/2982] Betsy Petrusic -> [(0.5625, 'Bethany Petersen')]\n",
      "[2326/2982] Laura Duncanson -> [(0.6818181818181819, 'Laura Innice Duncanson')]\n",
      "RETRY\n",
      "[2326/2982] Laura Duncanson -> [(1, 'Laura Duncanson')]\n",
      "[2327/2982] Mei Yang -> [(0.75, 'Xi Yang'), (0.75, 'Kai Yang'), (0.75, 'Mei Kong')]\n",
      "RETRY\n",
      "[2327/2982] Mei Yang -> [(0.75, 'Xi Yang'), (0.75, 'Ji Yang'), (0.75, 'Kai Yang'), (0.75, 'Mei Kong'), (0.75, 'Lei Fang')]\n",
      "[2328/2982] Riley Sims -> [(0.5454545454545454, 'Bailey Kier')]\n",
      "RETRY\n",
      "[2328/2982] Riley Sims -> [(0.6, 'Stacy Sims')]\n",
      "[2329/2982] Shannon Carcelli -> [(0.8888888888888888, 'Shannon P Carcelli')]\n",
      "[2330/2982] Colleen Kase -> [(0.7692307692307692, 'Colleen Cable')]\n",
      "[2331/2982] Jeffrey Mund -> [(0.7857142857142857, 'Jeffrey McCune')]\n",
      "[2332/2982] Melissa Caras -> [(0.8461538461538461, 'Melissa Carry')]\n",
      "[2333/2982] Wei-Ping Li -> [(0.7272727272727273, 'Wenting Li'), (0.7272727272727273, 'Weizhong Li')]\n",
      "RETRY\n",
      "[2333/2982] Wei-Ping Li -> [(0.7272727272727273, 'Wenting Li'), (0.7272727272727273, 'Weizhong Li')]\n",
      "[2334/2982] Yanne Chembo -> [(0.6, 'Yanne Kouomou Chembo')]\n",
      "RETRY\n",
      "[2334/2982] Yanne Chembo -> [(1, 'Yanne Chembo')]\n",
      "[2335/2982] Zachary Johnson -> [(0.7333333333333334, 'Rachel Johnson'), (0.7333333333333334, 'Ashley Johnson')]\n",
      "RETRY\n",
      "[2335/2982] Zachary Johnson -> [(0.7333333333333334, 'Mary Johnson'), (0.7333333333333334, 'Zachary Mason'), (0.7333333333333334, 'Rachel Johnson'), (0.7333333333333334, 'Ashley Johnson'), (0.7333333333333334, 'Cara Johnson'), (0.7333333333333334, 'Zachary Bolno')]\n",
      "[2336/2982] Adam Fracchia -> [(1, 'Adam Fracchia')]\n",
      "[2337/2982] Alexandria Travis -> [(0.7647058823529411, 'Alexandria Grant'), (0.7647058823529411, 'Alexandra Trim')]\n",
      "[2338/2982] Samantha Sommer -> [(0.7333333333333334, 'Samantha Oliver')]\n",
      "RETRY\n",
      "[2338/2982] Samantha Sommer -> [(0.7333333333333334, 'Samantha Suplee'), (0.7333333333333334, 'Samantha Oliver'), (0.7333333333333334, 'Samantha James'), (0.7333333333333334, 'Samantha Bolten')]\n",
      "[2339/2982] Kristin Meyering -> [(0.6666666666666667, 'Kristen Marie King')]\n",
      "RETRY\n",
      "[2339/2982] Kristin Meyering -> [(0.625, 'Kristin Murray'), (0.625, 'Christian Meyer'), (0.625, 'Kristin Legg'), (0.625, 'Kristin Cipriani'), (0.625, 'Kristen King'), (0.625, 'Kristen Messer'), (0.625, 'Kristina Miler')]\n",
      "[2340/2982] Cameron Butler -> [(0.7142857142857143, 'Cameron Poles')]\n",
      "RETRY\n",
      "[2340/2982] Cameron Butler -> [(0.7142857142857143, 'James Butler'), (0.7142857142857143, 'Karen Butler'), (0.7142857142857143, 'Cameron Poles')]\n",
      "[2341/2982] Jeffrey Beans -> [(1, 'Jeffrey Beans')]\n",
      "[2342/2982] Jakob Hultgren -> [(0.875, 'Jakob S Hultgren')]\n",
      "[2343/2982] Jingren Chi -> [(1, 'Jingren Chi')]\n",
      "[2344/2982] George Hughey -> [(0.6923076923076923, 'George Tuggle')]\n",
      "RETRY\n",
      "[2344/2982] George Hughey -> [(0.6923076923076923, 'George Hurtt'), (0.6923076923076923, 'George Ramsey'), (0.6923076923076923, 'George Tuggle')]\n",
      "[2345/2982] Robert Martin -> [(0.7692307692307692, 'Robert Baskin')]\n",
      "[2346/2982] Andrew Lugg -> [(0.6666666666666667, 'Andrew Mushi'), (0.6666666666666667, 'Andrew Yager')]\n",
      "RETRY\n",
      "[2346/2982] Andrew Lugg -> [(1, 'Andrew Lugg')]\n",
      "[2347/2982] Diarre Ibrahim -> [(0.6428571428571428, 'Hala Ibrahim')]\n",
      "RETRY\n",
      "[2347/2982] Diarre Ibrahim -> [(0.6666666666666667, 'Natalie Ibrahim')]\n",
      "[2348/2982] Junchi Chu -> [(0.7, 'Junkai Hu')]\n",
      "RETRY\n",
      "[2348/2982] Junchi Chu -> [(0.7, 'Junkai Hu')]\n",
      "[2349/2982] Faho Shubladze -> [(0.4285714285714286, 'Nidhi Shukla')]\n",
      "RETRY\n",
      "[2349/2982] Faho Shubladze -> [(0.4285714285714286, 'John Shuler'), (0.4285714285714286, 'Nidhi Shukla')]\n",
      "[2350/2982] Jessica Wicks -> [(0.8461538461538461, 'Jessica Wilke')]\n",
      "[2351/2982] Lisa Tolchin -> [(0.5833333333333333, 'Lisa Trice'), (0.5833333333333333, 'Lisa S Klein'), (0.5833333333333333, 'Lisa Wolf'), (0.5833333333333333, 'Lisa Norris'), (0.5833333333333333, 'Lisa Holder'), (0.5833333333333333, 'Lisa Milani')]\n",
      "RETRY\n",
      "[2351/2982] Lisa Tolchin -> [(0.6666666666666667, 'Lisa Klein'), (0.6666666666666667, 'Lisa Baldwin')]\n",
      "[2352/2982] Emily Flamm -> [(0.7272727272727273, 'Emily Glass')]\n",
      "RETRY\n",
      "[2352/2982] Emily Flamm -> [(1, 'Emily Flamm')]\n",
      "[2353/2982] Lakshmi Sridaran -> [(0.5789473684210527, 'Vaishna Muralidaran')]\n",
      "RETRY\n",
      "[2353/2982] Lakshmi Sridaran -> [(0.5789473684210527, 'Vaishna Muralidaran')]\n",
      "[2354/2982] Stefan Doboszczak -> [(1, 'Stefan Doboszczak')]\n",
      "[2355/2982] Laura Gilchrest -> [(0.7894736842105263, 'Laura Sue Gilchrest')]\n",
      "[2356/2982] Patrick Meyers -> [(0.8235294117647058, 'Patrick C. Meyers')]\n",
      "[2357/2982] Siobhan Steen -> [(0.6842105263157895, 'Siobhan Marie Steen')]\n",
      "RETRY\n",
      "[2357/2982] Siobhan Steen -> [(1, 'Siobhan Steen')]\n",
      "[2358/2982] Tess Korobkin -> [(1, 'Tess Korobkin')]\n",
      "[2359/2982] Brandon Donahue -> [(0.8823529411764706, 'Brandon J Donahue')]\n",
      "[2360/2982] Jeremy Kunkel -> [(0.8461538461538461, 'Jeremy Kugel')]\n",
      "[2361/2982] Alvin Yew -> [(0.7272727272727273, 'Alvin Mayes')]\n",
      "RETRY\n",
      "[2361/2982] Alvin Yew -> [(0.7272727272727273, 'Alvin Mayes')]\n",
      "[2362/2982] John Bono -> [(1, 'John Bono')]\n",
      "[2363/2982] Donald Baker -> [(0.75, 'Donald B. Barker'), (0.75, 'Donald Tyler')]\n",
      "RETRY\n",
      "[2363/2982] Donald Baker -> [(0.923076923076923, 'Donald Barker')]\n",
      "[2364/2982] Paul Shapiro -> [(0.8571428571428572, 'Paul T Shapiro')]\n",
      "[2365/2982] Albert Crosby -> [(0.7222222222222221, 'Albert John Crosby')]\n",
      "RETRY\n",
      "[2365/2982] Albert Crosby -> [(1, 'Albert Crosby')]\n",
      "[2366/2982] Mo Chen -> [(0.8571428571428572, 'Bo Chen')]\n",
      "[2367/2982] Swarna Mohan -> [(1, 'Swarna Mohan')]\n",
      "[2368/2982] Adina Dabu -> [(1, 'Adina Dabu')]\n",
      "[2369/2982] Matthew Thum -> [(0.6666666666666667, 'Matthew Donohue'), (0.6666666666666667, 'Matthew Suthard')]\n",
      "RETRY\n",
      "[2369/2982] Matthew Thum -> [(0.7692307692307692, 'Matthew Altum'), (0.7692307692307692, 'Matthew Stamm')]\n",
      "[2370/2982] Leah Dodson -> [(0.8461538461538461, 'Leah G Dodson')]\n",
      "[2371/2982] Leonidas Lampropoulos -> [(1, 'Leonidas Lampropoulos')]\n",
      "[2372/2982] Abhinav Bhatele -> [(1, 'Abhinav Bhatele')]\n",
      "[2373/2982] Pratap Tokekar -> [(1, 'Pratap Tokekar')]\n",
      "[2374/2982] Robert Patro -> [(0.6666666666666667, 'Robert Scott Patro'), (0.6666666666666667, 'Robert Daly'), (0.6666666666666667, 'Robert Metz'), (0.6666666666666667, 'Robert Rand'), (0.6666666666666667, 'Robert Sachs'), (0.6666666666666667, 'Robert Fahey'), (0.6666666666666667, 'Robert C Orr')]\n",
      "RETRY\n",
      "[2374/2982] Robert Patro -> [(1, 'Robert Patro')]\n",
      "[2375/2982] Drew Ashby-King -> [(0.4705882352941176, 'Andrew T Sweeting')]\n",
      "RETRY\n",
      "[2375/2982] Drew Ashby-King -> [(0.4666666666666666, 'Andrew Sweeting'), (0.4666666666666666, 'Drew Baden'), (0.4666666666666666, 'Drew Tomlin'), (0.4666666666666666, 'Drew Barker'), (0.4666666666666666, 'Drew Faubion'), (0.4666666666666666, 'Drew Hampton'), (0.4666666666666666, 'Drew Ossakow'), (0.4666666666666666, 'Drew Schiavone'), (0.4666666666666666, 'Tracy King')]\n",
      "[2376/2982] Aya Farhat -> [(0.6428571428571428, 'Farah Farahati')]\n",
      "RETRY\n",
      "[2376/2982] Aya Farhat -> [(0.6428571428571428, 'Farah Farahati')]\n",
      "[2377/2982] Elizabeth Phipps -> [(0.75, 'Elizabeth Pepper'), (0.75, 'Elizabeth Hill')]\n",
      "RETRY\n",
      "[2377/2982] Elizabeth Phipps -> [(0.75, 'Elizabeth Pepper'), (0.75, 'Elizabeth Hill')]\n",
      "[2378/2982] Nora Heist -> [(0.5294117647058824, 'Nora Hengst Prior')]\n",
      "RETRY\n",
      "[2378/2982] Nora Heist -> [(0.6363636363636364, 'Cara Hewitt')]\n",
      "[2379/2982] Logan Williams -> [(0.7857142857142857, 'Owen Williams'), (0.7857142857142857, 'Olga Williams')]\n",
      "[2380/2982] Amber Daniels -> [(0.6923076923076923, 'Amber Dees')]\n",
      "RETRY\n",
      "[2380/2982] Amber Daniels -> [(0.6923076923076923, 'April Daniels'), (0.6923076923076923, 'Amber Dees'), (0.6923076923076923, 'Anne Daniel')]\n",
      "[2381/2982] Chenyu Mao -> [(0.75, 'Chen-Yu Tsao')]\n",
      "RETRY\n",
      "[2381/2982] Chenyu Mao -> [(0.75, 'Chen-Yu Tsao')]\n",
      "[2382/2982] Thomas Drechsel -> [(0.75, 'Thomas Arne Drechsel')]\n",
      "RETRY\n",
      "[2382/2982] Thomas Drechsel -> [(1, 'Thomas Drechsel')]\n",
      "[2383/2982] Sarah Vollaro -> [(0.7692307692307692, 'Sarah Allard')]\n",
      "[2384/2982] Lauren Trakhman -> [(0.7647058823529411, 'Lauren M Rathmann')]\n",
      "[2385/2982] Jerae Kelly -> [(0.5714285714285714, 'Garfield Kelly')]\n",
      "RETRY\n",
      "[2385/2982] Jerae Kelly -> [(1, 'Jerae Kelly')]\n",
      "[2386/2982] Elizabeth Martinez -> [(1, 'Elizabeth Martinez')]\n",
      "[2387/2982] Nitin Sanket -> [(0.5833333333333333, 'Nimish Sane')]\n",
      "RETRY\n",
      "[2387/2982] Nitin Sanket -> [(1, 'Nitin Sanket')]\n",
      "[2388/2982] Brian Danielak -> [(0.736842105263158, 'Brian Adam Danielak')]\n",
      "RETRY\n",
      "[2388/2982] Brian Danielak -> [(1, 'Brian Danielak')]\n",
      "[2389/2982] Joshua Cocker -> [(0.7222222222222221, 'Joshua John Cocker')]\n",
      "RETRY\n",
      "[2389/2982] Joshua Cocker -> [(1, 'Joshua Cocker')]\n",
      "[2390/2982] Aaron Bartlett -> [(0.5882352941176471, 'Sharon E. Barrett')]\n",
      "RETRY\n",
      "[2390/2982] Aaron Bartlett -> [(0.8571428571428572, 'Aaron Barnett')]\n",
      "[2391/2982] Marina Seamans -> [(0.6428571428571428, 'MaryLee Seaman'), (0.6428571428571428, 'Maria Schanz')]\n",
      "RETRY\n",
      "[2391/2982] Marina Seamans -> [(0.6428571428571428, 'MaryLee Seaman'), (0.6428571428571428, 'Marina Leon'), (0.6428571428571428, 'Maria Amaya'), (0.6428571428571428, 'Maria Schanz')]\n",
      "[2392/2982] James Rankin -> [(0.6666666666666667, 'James Maffie')]\n",
      "RETRY\n",
      "[2392/2982] James Rankin -> [(0.75, 'James Rayman'), (0.75, 'James Narin'), (0.75, 'James Martin')]\n",
      "[2393/2982] Valentina Rosales -> [(0.7058823529411764, 'Valeria Morales')]\n",
      "RETRY\n",
      "[2393/2982] Valentina Rosales -> [(0.7058823529411764, 'Valeria Morales')]\n",
      "[2394/2982] Annemarie Ewing -> [(0.6875, 'Ann Marie Spaine')]\n",
      "RETRY\n",
      "[2394/2982] Annemarie Ewing -> [(0.5789473684210527, 'Anne-Marie Carstens')]\n",
      "[2395/2982] Da Lee -> [(0.6666666666666667, 'Randa Lee'), (0.6666666666666667, 'Diane Lee')]\n",
      "RETRY\n",
      "[2395/2982] Da Lee -> [(0.7142857142857143, 'Jae Lee')]\n",
      "[2396/2982] Christina Shields -> [(0.8235294117647058, 'Christina Chiles')]\n",
      "[2397/2982] Ryan Smith -> [(1, 'Ryan Smith')]\n",
      "[2398/2982] Joshua Radice -> [(0.8666666666666667, 'Joshua J Radice')]\n",
      "[2399/2982] Hosam Fathy -> [(0.7857142857142857, 'Hosam K. Fathy')]\n",
      "[2400/2982] Jennifer Mullinax -> [(0.85, 'Jennifer M. Mullinax')]\n",
      "[2401/2982] Jonathan Goodson -> [(1, 'Jonathan Goodson')]\n",
      "[2402/2982] Guilhem Le Saux -> [(0.4736842105263158, 'Guillaume Ballihaut')]\n",
      "RETRY\n",
      "[2402/2982] Guilhem Le Saux -> [(0.4736842105263158, 'Guillaume Ballihaut')]\n",
      "[2403/2982] Doug Lombardi -> [(1, 'Doug Lombardi')]\n",
      "[2404/2982] Priyankur Chaudhuri -> [(0.5263157894736843, 'Abir Chaudhry')]\n",
      "RETRY\n",
      "[2404/2982] Priyankur Chaudhuri -> [(0.5789473684210527, 'Dushyant Chaudhari')]\n",
      "[2405/2982] Megan Newcombe -> [(0.7777777777777779, 'Megan Eve Newcombe')]\n",
      "[2406/2982] Josh Alvizu -> [(1, 'Josh Alvizu')]\n",
      "[2407/2982] Simon Sheaff -> [(0.5384615384615384, 'Simon P James')]\n",
      "RETRY\n",
      "[2407/2982] Simon Sheaff -> [(0.5833333333333333, 'Simon Summy')]\n",
      "[2408/2982] Ashley Hixson -> [(0.7142857142857143, 'Ashley Johnson')]\n",
      "RETRY\n",
      "[2408/2982] Ashley Hixson -> [(0.8, 'Ashley Ellixson')]\n",
      "[2409/2982] Noel Kuriakos -> [(0.5, 'Nina T. Liakos')]\n",
      "RETRY\n",
      "[2409/2982] Noel Kuriakos -> [(0.5384615384615384, 'Noel Nacion'), (0.5384615384615384, 'Nina Liakos'), (0.5384615384615384, 'Anne Turkos')]\n",
      "[2410/2982] Dominique Mwepu -> [(1, 'Dominique Mwepu')]\n",
      "[2411/2982] Matt Severson -> [(1, 'Matt Severson')]\n",
      "[2412/2982] Thomas Messersmith -> [(0.6666666666666667, 'Thomas R. Smith')]\n",
      "RETRY\n",
      "[2412/2982] Thomas Messersmith -> [(0.6666666666666667, 'Thomas Smith')]\n",
      "[2413/2982] Kerry Tanner -> [(0.6666666666666667, 'Kerry M. Turner'), (0.6666666666666667, 'Kerry A Lee'), (0.6666666666666667, 'Terry Zacker')]\n",
      "RETRY\n",
      "[2413/2982] Kerry Tanner -> [(0.8333333333333335, 'Kerry Turner')]\n",
      "[2414/2982] Melvin Seale -> [(0.6666666666666667, 'Melvin Lamar Seale'), (0.6666666666666667, 'Melvin Hill')]\n",
      "RETRY\n",
      "[2414/2982] Melvin Seale -> [(1, 'Melvin Seale')]\n",
      "[2415/2982] Amara Channell Doig -> [(0.5263157894736843, 'Mary Anne Kendig'), (0.5263157894736843, 'Martha Nell Smith')]\n",
      "RETRY\n",
      "[2415/2982] Amara Channell Doig -> [(0.4736842105263158, 'Sara McConnell'), (0.4736842105263158, 'Maura Donnelly')]\n",
      "[2416/2982] Olivia Kachingwe -> [(0.6875, 'Ilina Kachinske')]\n",
      "RETRY\n",
      "[2416/2982] Olivia Kachingwe -> [(0.6875, 'Ilina Kachinske')]\n",
      "[2417/2982] Kioumars Mazandarani Haeri -> [(0.3846153846153846, 'Marcella R Stranieri'), (0.3846153846153846, 'Rasmani Hazra')]\n",
      "RETRY\n",
      "[2417/2982] Kioumars Mazandarani Haeri -> [(0.42307692307692313, 'Marcella Stranieri'), (0.42307692307692313, 'Michael VanDaniker')]\n",
      "[2418/2982] Laria Rogers -> [(1, 'LaRia Rogers')]\n",
      "[2419/2982] Sydney Triola -> [(0.5625, 'Sydney Steinberg')]\n",
      "RETRY\n",
      "[2419/2982] Sydney Triola -> [(0.5714285714285714, 'Sydney Wallace')]\n",
      "[2420/2982] Nekabari Sigalo -> [(0.5, 'Brenda Alpert Sigall')]\n",
      "RETRY\n",
      "[2420/2982] Nekabari Sigalo -> [(0.4666666666666666, 'Brenda Sigall'), (0.4666666666666666, 'Yohana Galo'), (0.4666666666666666, 'Neha Singhal')]\n",
      "[2421/2982] Alex Leitch -> [(1, 'Alex Leitch')]\n",
      "[2422/2982] Naeemul Hassan -> [(1, 'Naeemul Hassan')]\n",
      "[2423/2982] Takehiro Iizuka -> [(0.5882352941176471, 'Takahiro Yamazaki')]\n",
      "RETRY\n",
      "[2423/2982] Takehiro Iizuka -> [(0.5882352941176471, 'Takahiro Yamazaki')]\n",
      "[2424/2982] Elizabeth Feldman -> [(0.7647058823529411, 'Elizabeth Redcay')]\n",
      "[2425/2982] Joseph Bohannon -> [(0.7142857142857143, 'Joseph Brent Bohannon')]\n",
      "RETRY\n",
      "[2425/2982] Joseph Bohannon -> [(1, 'Joseph Bohannon')]\n",
      "[2426/2982] Kate Shin -> [(0.7, 'Karen Shih')]\n",
      "RETRY\n",
      "[2426/2982] Kate Shin -> [(1, 'Kate Shin')]\n",
      "[2427/2982] Katherine Wasdin -> [(1, 'Katherine Wasdin')]\n",
      "[2428/2982] Brian Smithling -> [(0.8823529411764706, 'Brian D Smithling')]\n",
      "[2429/2982] Yijing Wu -> [(1, 'Yijing Wu')]\n",
      "[2430/2982] Zehua Zhao -> [(1, 'Zehua Zhao')]\n",
      "[2431/2982] Yordanka Kovacheva -> [(1, 'Yordanka Kovacheva')]\n",
      "[2432/2982] Xuemiao Chen -> [(1, 'Xuemiao Chen')]\n",
      "[2433/2982] Alexander Devereux -> [(0.6666666666666667, 'Alexander D. Lee'), (0.6666666666666667, 'Alexander Lee'), (0.6666666666666667, 'Alexander Peace'), (0.6666666666666667, 'Alexander Hesse'), (0.6666666666666667, 'Alexander Peter Duffy'), (0.6666666666666667, 'Alexander Tielens')]\n",
      "RETRY\n",
      "[2433/2982] Alexander Devereux -> [(0.6666666666666667, 'Alexander Lee'), (0.6666666666666667, 'Alexander Peace'), (0.6666666666666667, 'Alexander Hesse'), (0.6666666666666667, 'Alexander Petrov'), (0.6666666666666667, 'Alexander Kutyrev')]\n",
      "[2434/2982] Aylon Manor -> [(0.6666666666666667, 'Brison Manor')]\n",
      "RETRY\n",
      "[2434/2982] Aylon Manor -> [(0.6666666666666667, 'Brison Manor')]\n",
      "[2435/2982] Alicia Kollar -> [(0.8125, 'Alicia J. Kollar')]\n",
      "[2436/2982] Margaret Brindle -> [(1, 'Margaret Brindle')]\n",
      "[2437/2982] Diana Cochran -> [(1, 'Diana Cochran')]\n",
      "[2438/2982] Ana Claudia Dos Santos Sao Bernardo -> [(1, 'Ana Claudia Dos Santos Sao Bernardo')]\n",
      "[2439/2982] Benjamin Jones -> [(0.8571428571428572, 'Benjamin Janus')]\n",
      "[2440/2982] Christopher Seitz-Brown -> [(0.7391304347826086, 'Christopher J. Brown')]\n",
      "RETRY\n",
      "[2440/2982] Christopher Seitz-Brown -> [(1, 'Christopher Seitz-Brown')]\n",
      "[2441/2982] Kristen Hamilton -> [(1, 'Kristen Hamilton')]\n",
      "[2442/2982] Tara Demmy -> [(0.5384615384615384, 'Laura Demaria')]\n",
      "RETRY\n",
      "[2442/2982] Tara Demmy -> [(0.6, 'Sara Dell'), (0.6, 'Tara Mease'), (0.6, 'Kara Duffy')]\n",
      "[2443/2982] Jordan Ealey -> [(0.75, 'Jordan Eason')]\n",
      "RETRY\n",
      "[2443/2982] Jordan Ealey -> [(0.75, 'Jordan Eason'), (0.75, 'Jordan Sly')]\n",
      "[2444/2982] Elias Gonzalez -> [(0.7142857142857143, 'Kim Gonzalez')]\n",
      "RETRY\n",
      "[2444/2982] Elias Gonzalez -> [(1, 'Elias Gonzalez')]\n",
      "[2445/2982] Jennifer Manly -> [(0.8571428571428572, 'Jennifer Male')]\n",
      "[2446/2982] Damien Hagen -> [(0.5714285714285714, 'Damien G. Hall')]\n",
      "RETRY\n",
      "[2446/2982] Damien Hagen -> [(0.75, 'Damien Hall')]\n",
      "[2447/2982] Mariah Bauer -> [(0.8, 'Mariah M. Bauer')]\n",
      "[2448/2982] Lauren Neimeyer -> [(1, 'Lauren Neimeyer')]\n",
      "[2449/2982] Rahma Haji -> [(0.5714285714285714, 'Rahman Anjorin')]\n",
      "RETRY\n",
      "[2449/2982] Rahma Haji -> [(0.5714285714285714, 'Rahman Anjorin')]\n",
      "[2450/2982] Stavros Papathansiou -> [(0.5, 'Stavros Kotsiaros'), (0.5, 'Mark Nathanson')]\n",
      "RETRY\n",
      "[2450/2982] Stavros Papathansiou -> [(0.5, 'Stavros Kotsiaros'), (0.5, 'Mark Nathanson')]\n",
      "[2451/2982] Bayley Marquez -> [(0.875, 'Bayley J Marquez')]\n",
      "[2452/2982] Carmen Cantemir-Stone -> [(0.9130434782608696, 'Carmen Z Cantemir-Stone')]\n",
      "[2453/2982] Louis Preonas -> [(0.6190476190476191, 'Louis Demetri Preonas')]\n",
      "RETRY\n",
      "[2453/2982] Louis Preonas -> [(1, 'Louis Preonas')]\n",
      "[2454/2982] Yvonne Bramble -> [(0.5714285714285714, 'Yvonne Gerbig')]\n",
      "RETRY\n",
      "[2454/2982] Yvonne Bramble -> [(0.5714285714285714, 'Yvonne Gerbig'), (0.5714285714285714, 'Yvonne Taylor'), (0.5714285714285714, 'Lynne Bradley')]\n",
      "[2455/2982] Peter Cullen -> [(0.6666666666666667, 'Peter Wien'), (0.6666666666666667, 'Peter Wolfe'), (0.6666666666666667, 'Peter Hudson')]\n",
      "RETRY\n",
      "[2455/2982] Peter Cullen -> [(1, 'Peter Cullen')]\n",
      "[2456/2982] Ying Xue Liu -> [(1, 'Ying Xue Liu')]\n",
      "[2457/2982] Garrett Vanhoy -> [(0.875, 'Garrett M Vanhoy')]\n",
      "[2458/2982] Aaron Swanlek -> [(0.65, 'Aaron George Swanlek')]\n",
      "RETRY\n",
      "[2458/2982] Aaron Swanlek -> [(1, 'Aaron Swanlek')]\n",
      "[2459/2982] Jonathan Leach -> [(0.7142857142857143, 'Jonathan Katz'), (0.7142857142857143, 'Jonathan Wang'), (0.7142857142857143, 'Jonathan Rick'), (0.7142857142857143, 'Jonathan Beier')]\n",
      "RETRY\n",
      "[2459/2982] Jonathan Leach -> [(0.7857142857142857, 'Jonathan Lent'), (0.7857142857142857, 'Jonathan Healy')]\n",
      "[2460/2982] Shelby Sturm -> [(0.6666666666666667, 'Shelby Speer'), (0.6666666666666667, 'Shelby Byrd'), (0.6666666666666667, 'Sherry Starr')]\n",
      "RETRY\n",
      "[2460/2982] Shelby Sturm -> [(0.6666666666666667, 'Shelby Speer'), (0.6666666666666667, 'Shelby Byrd'), (0.6666666666666667, 'Shelby Gluck'), (0.6666666666666667, 'Sherry Starr')]\n",
      "[2461/2982] Ashley Aragon -> [(0.6923076923076923, 'Ashley Logan')]\n",
      "RETRY\n",
      "[2461/2982] Ashley Aragon -> [(0.6923076923076923, 'Ashley Cotton'), (0.6923076923076923, 'Ashley Logan'), (0.6923076923076923, 'Ashley Travis')]\n",
      "[2462/2982] Saymin Lee -> [(0.8, 'Sunmin Lee')]\n",
      "[2463/2982] Megu Itoh -> [(0.5, 'Megan Deaton')]\n",
      "RETRY\n",
      "[2463/2982] Megu Itoh -> [(0.5, 'Megan Huth'), (0.5, 'Megan Deaton')]\n",
      "[2464/2982] Fielding Montgomery -> [(0.631578947368421, 'Anne Montgomery'), (0.631578947368421, 'Nick Montgomery'), (0.631578947368421, 'Annie Montgomery'), (0.631578947368421, 'Tamika Montgomery'), (0.631578947368421, 'Wendy T. Montgomery'), (0.631578947368421, 'Diane L Montgomery'), (0.631578947368421, 'David W. Montgomery'), (0.631578947368421, 'Nicholas Montgomery')]\n",
      "RETRY\n",
      "[2464/2982] Fielding Montgomery -> [(0.736842105263158, 'William Montgomery')]\n",
      "[2465/2982] Taylor Hourigan -> [(0.6666666666666667, 'Taylor Vaughan')]\n",
      "RETRY\n",
      "[2465/2982] Taylor Hourigan -> [(0.7333333333333334, 'Taylor Norman')]\n",
      "[2466/2982] Jeremy Grossman -> [(0.8823529411764706, 'Jeremy R Grossman')]\n",
      "[2467/2982] Ollie Jefferson -> [(0.8333333333333335, 'Ollie L. Jefferson')]\n",
      "[2468/2982] Sami Ainane -> [(1, 'Sami Ainane')]\n",
      "[2469/2982] Elizabeth Benton -> [(1, 'Elizabeth Benton')]\n",
      "[2470/2982] Mariko Carson -> [(0.6428571428571428, 'Chamisa Carson')]\n",
      "RETRY\n",
      "[2470/2982] Mariko Carson -> [(0.6666666666666667, 'Marilyn Pearson')]\n",
      "[2471/2982] Gail Upchurch -> [(1, 'Gail Upchurch')]\n",
      "[2472/2982] Melvette Davis -> [(0.6666666666666667, 'Melvette Melvin Davis')]\n",
      "RETRY\n",
      "[2472/2982] Melvette Davis -> [(1, 'Melvette Davis')]\n",
      "[2473/2982] Tom Hatcher -> [(1, 'Tom Hatcher')]\n",
      "[2474/2982] Kelly Hebron -> [(0.6923076923076923, 'KELLY M BRUNT')]\n",
      "RETRY\n",
      "[2474/2982] Kelly Hebron -> [(1, 'Kelly Hebron')]\n",
      "[2475/2982] Aysha Jawed -> [(0.6875, 'Aysha Inam Jawed')]\n",
      "RETRY\n",
      "[2475/2982] Aysha Jawed -> [(1, 'Aysha Jawed')]\n",
      "[2476/2982] Zachary Frank -> [(1, 'Zachary Frank')]\n",
      "[2477/2982] Ruth Phillips -> [(0.7647058823529411, 'Ruth Ann Phillips')]\n",
      "[2478/2982] Jennifer Gunnulfsen -> [(1, 'Jennifer Gunnulfsen')]\n",
      "[2479/2982] James Bader -> [(0.8181818181818181, 'James Barey')]\n",
      "[2480/2982] Shakia Asamoah -> [(0.5333333333333333, 'Shakira R Leach')]\n",
      "RETRY\n",
      "[2480/2982] Shakia Asamoah -> [(0.5714285714285714, 'Dakia Adams'), (0.5714285714285714, 'Shakira Leach'), (0.5714285714285714, 'Shanta Saha')]\n",
      "[2481/2982] Ben Bernstein -> [(0.6428571428571428, 'Fred Feinstein')]\n",
      "RETRY\n",
      "[2481/2982] Ben Bernstein -> [(0.6428571428571428, 'Fred Feinstein')]\n",
      "[2482/2982] Erin Mosely -> [(1, 'Erin Mosely')]\n",
      "[2483/2982] Shala Larson -> [(0.7058823529411764, 'Shala Rose Larson')]\n",
      "RETRY\n",
      "[2483/2982] Shala Larson -> [(1, 'Shala Larson')]\n",
      "[2484/2982] George Kurtzweil -> [(0.6666666666666667, 'George Orville Kurtzweil')]\n",
      "RETRY\n",
      "[2484/2982] George Kurtzweil -> [(1, 'George Kurtzweil')]\n",
      "[2485/2982] Lee Lipscomb -> [(0.6666666666666667, 'Lee Chole Lipscomb')]\n",
      "RETRY\n",
      "[2485/2982] Lee Lipscomb -> [(1, 'Lee Lipscomb')]\n",
      "[2486/2982] Mark Frame -> [(0.8, 'Mark Franz')]\n",
      "[2487/2982] Amber Moore -> [(0.6666666666666667, 'Andrea Moore')]\n",
      "RETRY\n",
      "[2487/2982] Amber Moore -> [(0.7272727272727273, 'Tibe Moore')]\n",
      "[2488/2982] Samuel Dipasqua -> [(0.6666666666666667, 'Samuel Kpana')]\n",
      "RETRY\n",
      "[2488/2982] Samuel Dipasqua -> [(0.6666666666666667, 'Samuel Vasquez'), (0.6666666666666667, 'Samuel Kpana')]\n",
      "[2489/2982] Amador Jomuad -> [(0.8666666666666667, 'Amador B Jomuad')]\n",
      "[2490/2982] Agnieszka Zelerowicz -> [(1, 'Agnieszka Zelerowicz')]\n",
      "[2491/2982] Paolo Santorio -> [(1, 'Paolo Santorio')]\n",
      "[2492/2982] William Fenton -> [(0.7857142857142857, 'William Fennie')]\n",
      "[2493/2982] Venae Sidhu -> [(0.5, 'Tandeep S. Sidhu')]\n",
      "RETRY\n",
      "[2493/2982] Venae Sidhu -> [(0.6153846153846154, 'Tandeep Sidhu')]\n",
      "[2494/2982] Seo Chung -> [(0.6666666666666667, 'Yao Cheng')]\n",
      "RETRY\n",
      "[2494/2982] Seo Chung -> [(0.8, 'Sao Cheung')]\n",
      "[2495/2982] Kevin Gibbons -> [(0.6923076923076923, 'Kevin G Wong')]\n",
      "RETRY\n",
      "[2495/2982] Kevin Gibbons -> [(0.6923076923076923, 'Kevin Lins')]\n",
      "[2496/2982] Alison Boyd -> [(0.75, 'Alison Brown')]\n",
      "RETRY\n",
      "[2496/2982] Alison Boyd -> [(1, 'Alison Boyd')]\n",
      "[2497/2982] Yueyang Han -> [(1, 'Yueyang Han')]\n",
      "[2498/2982] Alexander Dennis -> [(0.75, 'Alexander Pianim')]\n",
      "RETRY\n",
      "[2498/2982] Alexander Dennis -> [(0.75, 'Alexander Jonas'), (0.75, 'Alexander Jonws'), (0.75, 'Alexander Peang'), (0.75, 'Alexander Reisig'), (0.75, 'Alexander Counts'), (0.75, 'Alexander Pianim')]\n",
      "[2499/2982] Lauren Rhue -> [(0.8461538461538461, 'Lauren A Rhue')]\n",
      "[2500/2982] Jimmy McClellan -> [(1, 'Jimmy McClellan')]\n",
      "[2501/2982] Alex He -> [(0.7142857142857143, 'Lei He')]\n",
      "RETRY\n",
      "[2501/2982] Alex He -> [(0.6, 'Alex Huang'), (0.6, 'Alex Perez')]\n",
      "[2502/2982] Gorjan Alagic -> [(1, 'Gorjan Alagic')]\n",
      "[2503/2982] Ece Yegane -> [(0.5384615384615384, 'Semhar Yemane')]\n",
      "RETRY\n",
      "[2503/2982] Ece Yegane -> [(0.5384615384615384, 'Semhar Yemane')]\n",
      "[2504/2982] Charles Fisk -> [(0.75, 'Charles Lin')]\n",
      "RETRY\n",
      "[2504/2982] Charles Fisk -> [(0.7692307692307692, 'Charles Field')]\n",
      "[2505/2982] Deb Niemeier -> [(0.8571428571428572, 'Deb A Niemeier')]\n",
      "[2506/2982] Eleonora Tubaldi -> [(1, 'Eleonora Tubaldi')]\n",
      "[2507/2982] Mohammad Ali -> [(0.7333333333333334, 'Mohammad Hafezi')]\n",
      "RETRY\n",
      "[2507/2982] Mohammad Ali -> [(1, 'Mohammad Ali')]\n",
      "[2508/2982] Eni Baballari -> [(1, 'Eni Baballari')]\n",
      "[2509/2982] Michelle Jasczynski -> [(0.631578947368421, 'Michelle Jacome'), (0.631578947368421, 'Michelle T Bensi'), (0.631578947368421, 'Michelle Mazurek')]\n",
      "RETRY\n",
      "[2509/2982] Michelle Jasczynski -> [(0.736842105263158, 'Michael Galczynski')]\n",
      "[2510/2982] Kelly Colvin -> [(0.7692307692307692, 'Kelly Pollins')]\n",
      "[2511/2982] Jesse Cordes Selbin -> [(1, 'Jesse Cordes Selbin')]\n",
      "[2512/2982] Margaret Elwell -> [(1, 'Margaret Elwell')]\n",
      "[2513/2982] M Sauter -> [(0.8, 'M R Sauter')]\n",
      "[2514/2982] Hossein Ehsani -> [(0.8125, 'Hossein Dehghani')]\n",
      "[2515/2982] P Kshetry -> [(1, 'P Kshetry')]\n",
      "[2516/2982] Austin Starnes -> [(0.6428571428571428, 'Justin Strom'), (0.6428571428571428, 'Austin Branch')]\n",
      "RETRY\n",
      "[2516/2982] Austin Starnes -> [(0.7142857142857143, 'Justin Stacey')]\n",
      "[2517/2982] Anthony Ostuni -> [(0.7333333333333334, 'Anthony D Stone')]\n",
      "RETRY\n",
      "[2517/2982] Anthony Ostuni -> [(0.7857142857142857, 'Anthony Stone')]\n",
      "[2518/2982] Scott Bayer -> [(0.6923076923076923, 'Scott Kastner')]\n",
      "RETRY\n",
      "[2518/2982] Scott Bayer -> [(0.75, 'Scott Shafer'), (0.75, 'Scott Taylor')]\n",
      "[2519/2982] Linda Yeung -> [(0.6666666666666667, 'Linda Seguin')]\n",
      "RETRY\n",
      "[2519/2982] Linda Yeung -> [(0.7272727272727273, 'Linda Kent')]\n",
      "[2520/2982] Katherine Hess -> [(0.75, 'Katherine Herman')]\n",
      "RETRY\n",
      "[2520/2982] Katherine Hess -> [(0.8666666666666667, 'Katherine Weiss')]\n",
      "[2521/2982] Rob Campana -> [(0.5454545454545454, 'Ron Capps')]\n",
      "RETRY\n",
      "[2521/2982] Rob Campana -> [(0.6, 'Lori Campanella')]\n",
      "[2522/2982] Diandra Soemardi -> [(0.6666666666666667, 'Radiandra Putri Soemardi')]\n",
      "RETRY\n",
      "[2522/2982] Diandra Soemardi -> [(0.8888888888888888, 'Radiandra Soemardi')]\n",
      "[2523/2982] Clayton Ristow -> [(0.5555555555555556, 'Clayton Paul Brown')]\n",
      "RETRY\n",
      "[2523/2982] Clayton Ristow -> [(0.6428571428571428, 'Clayton Brown'), (0.6428571428571428, 'Clayton Smith')]\n",
      "[2524/2982] Krishan Panduwawala -> [(0.5263157894736843, 'Krishna Challa'), (0.5263157894736843, 'Krishnan Vasudevan'), (0.5263157894736843, 'Kristin E Grunewald')]\n",
      "RETRY\n",
      "[2524/2982] Krishan Panduwawala -> [(0.5263157894736843, 'Krishna Challa'), (0.5263157894736843, 'Krishnan Vasudevan'), (0.5263157894736843, 'Krishna Vansadia'), (0.5263157894736843, 'Kristan Skendall'), (0.5263157894736843, 'Kristin Grunewald')]\n",
      "[2525/2982] Sarah Weatherly -> [(0.6, 'Sarah Bauder'), (0.6, 'Sarah Feeney'), (0.6, 'Sarah Cameron'), (0.6, 'Sarah E Heidt')]\n",
      "RETRY\n",
      "[2525/2982] Sarah Weatherly -> [(0.6, 'Sarah Watt'), (0.6, 'Sarah Oates'), (0.6, 'Sarah Bauder')]\n",
      "[2526/2982] Victoria Whitley -> [(0.6875, 'Victoria Quartey'), (0.6875, 'Victoria Chanse')]\n",
      "RETRY\n",
      "[2526/2982] Victoria Whitley -> [(0.75, 'Victoria Wise'), (0.75, 'Victoria Finney')]\n",
      "[2527/2982] Emily Luteran -> [(0.6153846153846154, 'Emily Landau')]\n",
      "RETRY\n",
      "[2527/2982] Emily Luteran -> [(0.6923076923076923, 'Emily Egan'), (0.6923076923076923, 'Emily Leak')]\n",
      "[2528/2982] Natalie Salive -> [(0.7142857142857143, 'Natalia Galin')]\n",
      "RETRY\n",
      "[2528/2982] Natalie Salive -> [(0.7142857142857143, 'Natalie Slopen'), (0.7142857142857143, 'Natalie Maiden'), (0.7142857142857143, 'Natalia Galin')]\n",
      "[2529/2982] Mike Kolakoski -> [(0.875, 'Mike K Kolakoski')]\n",
      "[2530/2982] Vladimir Yushutin -> [(0.8947368421052632, 'Vladimir S Yushutin')]\n",
      "[2531/2982] Steven Jaffee -> [(1, 'Steven Jaffee')]\n",
      "[2532/2982] James MacDonald -> [(1, 'James MacDonald')]\n",
      "[2533/2982] Bahaa Ghammraoui -> [(1, 'Bahaa Ghammraoui')]\n",
      "[2534/2982] Vineet Gambhir -> [(1, 'Vineet Gambhir')]\n",
      "[2535/2982] Joseph Drasin -> [(1, 'Joseph Drasin')]\n",
      "[2536/2982] Shannon Browne -> [(0.8235294117647058, 'Shannon P. Browne')]\n",
      "[2537/2982] Shannon Scovel -> [(0.6666666666666667, 'Shannon Y Hazel')]\n",
      "RETRY\n",
      "[2537/2982] Shannon Scovel -> [(0.7142857142857143, 'Shannon Hazel'), (0.7142857142857143, 'Shannon Strohl')]\n",
      "[2538/2982] Julie Mulvihill -> [(0.6818181818181819, 'Julie Alanna Mulvihill')]\n",
      "RETRY\n",
      "[2538/2982] Julie Mulvihill -> [(1, 'Julie Mulvihill')]\n",
      "[2539/2982] Benjamin Jackson -> [(0.75, 'Benjamin Janus'), (0.75, 'Benjamin Parks')]\n",
      "RETRY\n",
      "[2539/2982] Benjamin Jackson -> [(0.8125, 'Benjamin Maxson')]\n",
      "[2540/2982] Leisa Schwab -> [(0.6666666666666667, 'Peter Schwab')]\n",
      "RETRY\n",
      "[2540/2982] Leisa Schwab -> [(0.6666666666666667, 'Susan Schwab'), (0.6666666666666667, 'Peter Schwab'), (0.6666666666666667, 'Lisa Schock')]\n",
      "[2541/2982] Cheng Gong -> [(1, 'Cheng Gong')]\n",
      "[2542/2982] David Kriesberg -> [(1, 'David Kriesberg')]\n",
      "[2543/2982] Michael Dignan -> [(0.7333333333333334, 'Michael Bergman')]\n",
      "RETRY\n",
      "[2543/2982] Michael Dignan -> [(0.8, 'Michael Dickman')]\n",
      "[2544/2982] Claudia Rojas -> [(0.6923076923076923, 'Claudia Moise')]\n",
      "RETRY\n",
      "[2544/2982] Claudia Rojas -> [(0.7692307692307692, 'Claudia Sosa')]\n",
      "[2545/2982] Chika Onyenezi -> [(0.55, 'Chika O Ezeonyebuchi')]\n",
      "RETRY\n",
      "[2545/2982] Chika Onyenezi -> [(0.6111111111111112, 'Chika Ezeonyebuchi')]\n",
      "[2546/2982] Lisa Latouche -> [(0.6153846153846154, 'Lisa Trice')]\n",
      "RETRY\n",
      "[2546/2982] Lisa Latouche -> [(0.6153846153846154, 'Lisa Lepore'), (0.6153846153846154, 'Lisa Trice')]\n",
      "[2547/2982] Caroline Rothrock -> [(0.6470588235294117, 'Caroline Rocourt'), (0.6470588235294117, 'Caroline J Wick'), (0.6470588235294117, 'Caroline Hooks')]\n",
      "RETRY\n",
      "[2547/2982] Caroline Rothrock -> [(0.7058823529411764, 'Caroline Soter')]\n",
      "[2548/2982] Kiera Wolfe -> [(0.6363636363636364, 'Peter Wolfe'), (0.6363636363636364, 'Lisa Wolf'), (0.6363636363636364, 'Emery Wolf')]\n",
      "RETRY\n",
      "[2548/2982] Kiera Wolfe -> [(0.6666666666666667, 'Olivia Wolfe')]\n",
      "[2549/2982] Connor Watkins -> [(0.6, 'Brian L Watkins')]\n",
      "RETRY\n",
      "[2549/2982] Connor Watkins -> [(0.6428571428571428, 'Dean Watkins'), (0.6428571428571428, 'Arnold Watkins')]\n",
      "[2550/2982] Cherisse Hall -> [(0.65, 'Cherisse La-Jae Hall')]\n",
      "RETRY\n",
      "[2550/2982] Cherisse Hall -> [(1, 'Cherisse Hall')]\n",
      "[2551/2982] Dylan Lewis -> [(0.6363636363636364, 'Edren Lewis'), (0.6363636363636364, 'Mia Lewis'), (0.6363636363636364, 'Ellie Lewis')]\n",
      "RETRY\n",
      "[2551/2982] Dylan Lewis -> [(0.6666666666666667, 'Helena Lewis'), (0.6666666666666667, 'Tyrone Lewis'), (0.6666666666666667, 'Taylor Lewis')]\n",
      "[2552/2982] Jakovs Borodeckis -> [(0.4705882352941176, 'Jaclyn S Borowski'), (0.4705882352941176, 'James Roros'), (0.4705882352941176, 'James D Dennis')]\n",
      "RETRY\n",
      "[2552/2982] Jakovs Borodeckis -> [(0.5294117647058824, 'Jaclyn Borowski')]\n",
      "[2553/2982] Jamie Stednitz -> [(1, 'Jamie Stednitz')]\n",
      "[2554/2982] Caro Williams-Pierce -> [(1, 'Caro Williams-Pierce')]\n",
      "[2555/2982] LaMonte Summers -> [(0.6818181818181819, 'LaMonte Calvin Summers')]\n",
      "RETRY\n",
      "[2555/2982] LaMonte Summers -> [(1, 'LaMonte Summers')]\n",
      "[2556/2982] Bri'Ann Wright -> [(0.7142857142857143, 'Bilal Wright')]\n",
      "RETRY\n",
      "[2556/2982] Bri'Ann Wright -> [(0.7857142857142857, 'Bryan Wright')]\n",
      "[2557/2982] Curtis Valentine -> [(0.6956521739130435, 'Curtis Chavis Valentine')]\n",
      "RETRY\n",
      "[2557/2982] Curtis Valentine -> [(1, 'Curtis Valentine')]\n",
      "[2558/2982] Ebonie Johnson Cooper -> [(1, 'Ebonie Johnson Cooper')]\n",
      "[2559/2982] Linda Zou -> [(1, 'Linda Zou')]\n",
      "[2560/2982] Ayushi Saxena -> [(0.5714285714285714, 'Amitabh Saxena')]\n",
      "RETRY\n",
      "[2560/2982] Ayushi Saxena -> [(0.5714285714285714, 'Amitabh Saxena')]\n",
      "[2561/2982] Taylor York -> [(0.6363636363636364, 'Taylor Keen')]\n",
      "RETRY\n",
      "[2561/2982] Taylor York -> [(0.75, 'Taylor Myers')]\n",
      "[2562/2982] Scott Preston -> [(0.8666666666666667, 'Scott R Preston')]\n",
      "[2563/2982] Rachel Raphael -> [(0.6428571428571428, 'Rachel Toonkel'), (0.6428571428571428, 'Rachel Hill'), (0.6428571428571428, 'Rachel Chang'), (0.6428571428571428, 'Rachel Crane'), (0.6428571428571428, 'Rachel Palmer')]\n",
      "RETRY\n",
      "[2563/2982] Rachel Raphael -> [(0.7142857142857143, 'Rachel Martel'), (0.7142857142857143, 'Rachel Gabriel'), (0.7142857142857143, 'Rachel Fahey')]\n",
      "[2564/2982] Wayne Curtis -> [(0.6923076923076923, 'Wayne Lutters')]\n",
      "RETRY\n",
      "[2564/2982] Wayne Curtis -> [(1, 'Wayne Curtis')]\n",
      "[2565/2982] Tyrone Clifton -> [(0.736842105263158, 'Tyrone Dean Clifton')]\n",
      "RETRY\n",
      "[2565/2982] Tyrone Clifton -> [(1, 'Tyrone Clifton')]\n",
      "[2566/2982] Xi He -> [(1, 'Xi He')]\n",
      "[2567/2982] Scott Gilkeson -> [(1, 'Scott Gilkeson')]\n",
      "[2568/2982] Molly Goodfellow -> [(0.8421052631578947, 'Molly Jo Goodfellow')]\n",
      "[2569/2982] Benjamin Huffman -> [(0.8333333333333335, 'Benjamin D Hoffman')]\n",
      "[2570/2982] Megean Garvin -> [(0.6923076923076923, 'Megan Davis')]\n",
      "RETRY\n",
      "[2570/2982] Megean Garvin -> [(1, 'Megean Garvin')]\n",
      "[2571/2982] Larissa Curry -> [(0.6923076923076923, 'Melissa Carry')]\n",
      "RETRY\n",
      "[2571/2982] Larissa Curry -> [(1, 'Larissa Curry')]\n",
      "[2572/2982] Gabriel Cruz -> [(0.6666666666666667, 'Gabriela Suarez'), (0.6666666666666667, 'Maria Cruz')]\n",
      "RETRY\n",
      "[2572/2982] Gabriel Cruz -> [(1, 'Gabriel Cruz')]\n",
      "[2573/2982] Genevieve D'Cruz -> [(0.625, 'Genevieve Conway'), (0.625, 'Genevieve Cooper')]\n",
      "RETRY\n",
      "[2573/2982] Genevieve D'Cruz -> [(0.625, 'Genevieve Busch'), (0.625, 'Genevieve Wright'), (0.625, 'Genevieve Conway'), (0.625, 'Genevieve Cooper')]\n",
      "[2574/2982] Yanzhang Cui -> [(0.6666666666666667, 'Yanfang Li')]\n",
      "RETRY\n",
      "[2574/2982] Yanzhang Cui -> [(0.6666666666666667, 'Yanfang Li')]\n",
      "[2575/2982] Kartikeya Batra -> [(0.6, 'Kartik Misra')]\n",
      "RETRY\n",
      "[2575/2982] Kartikeya Batra -> [(0.6, 'Kartik Misra'), (0.6, 'Maria Barra')]\n",
      "[2576/2982] Elena Ramirez -> [(0.625, 'Taylor A Ramirez'), (0.625, 'Jeanette Ramirez')]\n",
      "RETRY\n",
      "[2576/2982] Elena Ramirez -> [(0.7692307692307692, 'Ana Ramirez')]\n",
      "[2577/2982] Rithvik Yarlagadda -> [(0.5, 'Ritvik Sahajpal')]\n",
      "RETRY\n",
      "[2577/2982] Rithvik Yarlagadda -> [(0.5, 'Ritvik Sahajpal')]\n",
      "[2578/2982] Jared Strange -> [(0.6923076923076923, 'Julie Strange'), (0.6923076923076923, 'Julia Strange')]\n",
      "RETRY\n",
      "[2578/2982] Jared Strange -> [(0.6923076923076923, 'Julie Strange'), (0.6923076923076923, 'Julia Strange')]\n",
      "[2579/2982] Yifei Wang -> [(0.8, 'Fei Wang'), (0.8, 'Yifei Fan')]\n",
      "[2580/2982] Emily Bruns -> [(0.6923076923076923, 'Emily Blevins'), (0.6923076923076923, 'Emily Francis')]\n",
      "RETRY\n",
      "[2580/2982] Emily Bruns -> [(1, 'Emily Bruns')]\n",
      "[2581/2982] Briella Chen -> [(0.625, 'Brielle Merchant')]\n",
      "RETRY\n",
      "[2581/2982] Briella Chen -> [(0.625, 'Brielle Merchant')]\n",
      "[2582/2982] Natasha Williams -> [(0.7647058823529411, 'Samantha Williams')]\n",
      "[2583/2982] Marissa Sariol-Clough -> [(0.5714285714285714, 'Marissa K McDonough')]\n",
      "RETRY\n",
      "[2583/2982] Marissa Sariol-Clough -> [(0.6190476190476191, 'Marissa McDonough')]\n",
      "[2584/2982] John Baur -> [(0.6666666666666667, 'John Bono'), (0.6666666666666667, 'John Ham'), (0.6666666666666667, 'John Hart')]\n",
      "RETRY\n",
      "[2584/2982] John Baur -> [(0.7777777777777779, 'John Ball'), (0.7777777777777779, 'John Aud'), (0.7777777777777779, 'John Laub')]\n",
      "[2585/2982] Tristan Hightower -> [(0.6470588235294117, 'Emily Hightower')]\n",
      "RETRY\n",
      "[2585/2982] Tristan Hightower -> [(0.6470588235294117, 'Emily Hightower')]\n",
      "[2586/2982] Isaiah Willett -> [(0.5714285714285714, 'Kristen Leigh Willett')]\n",
      "RETRY\n",
      "[2586/2982] Isaiah Willett -> [(0.6, 'Kristen Willett')]\n",
      "[2587/2982] Ashan Panduwawala -> [(0.5294117647058824, 'Ashok K. Agrawala'), (0.5294117647058824, 'Ashani Andrews')]\n",
      "RETRY\n",
      "[2587/2982] Ashan Panduwawala -> [(0.5882352941176471, 'Ashok Agrawala')]\n",
      "[2588/2982] Jacob Wenegrat -> [(1, 'Jacob Wenegrat')]\n",
      "[2589/2982] Benedikt Diemer -> [(1, 'Benedikt Diemer')]\n",
      "[2590/2982] Rachel Ellis -> [(0.7692307692307692, 'Michael Ellis')]\n",
      "[2591/2982] Robert Brame -> [(0.75, 'Robert Rand'), (0.75, 'Robert Orazi'), (0.75, 'Robert Adams')]\n",
      "RETRY\n",
      "[2591/2982] Robert Brame -> [(1, 'Robert Brame')]\n",
      "[2592/2982] Rachel Rudinger -> [(1, 'Rachel Rudinger')]\n",
      "[2593/2982] Alejandra Montoya Agudelo -> [(0.5769230769230769, 'Alejandra Victoria Mercado')]\n",
      "RETRY\n",
      "[2593/2982] Alejandra Montoya Agudelo -> [(0.56, 'Alejandra Mercado'), (0.56, 'Alexandra Monroe')]\n",
      "[2594/2982] Julianne Van Meerten -> [(0.55, 'Julianne McAndrews'), (0.55, 'Lianne M Berne')]\n",
      "RETRY\n",
      "[2594/2982] Julianne Van Meerten -> [(0.55, 'Julianne McAndrews'), (0.55, 'Juliana Menezes')]\n",
      "[2595/2982] Eric Schoute -> [(0.75, 'Eric Schurr')]\n",
      "RETRY\n",
      "[2595/2982] Eric Schoute -> [(0.75, 'Eric Schurr')]\n",
      "[2596/2982] Jacquelyn Glidden -> [(0.6470588235294117, 'Jacquelyn Murdock')]\n",
      "RETRY\n",
      "[2596/2982] Jacquelyn Glidden -> [(0.7058823529411764, 'Jacquelyn Chin'), (0.7058823529411764, 'Jacquelyn Meisel')]\n",
      "[2597/2982] Ciro Pinto-Coelho -> [(0.3703703703703704, 'Marcelo Carvo Coelho Barros')]\n",
      "RETRY\n",
      "[2597/2982] Ciro Pinto-Coelho -> [(0.4117647058823529, 'Cary Pirone')]\n",
      "[2598/2982] Galina Madjaroff -> [(1, 'Galina Madjaroff')]\n",
      "[2599/2982] Babak Fotouhi -> [(1, 'Babak Fotouhi')]\n",
      "[2600/2982] Noah Whiteman -> [(0.6428571428571428, 'Mauro Whiteman')]\n",
      "RETRY\n",
      "[2600/2982] Noah Whiteman -> [(0.6923076923076923, 'Cory Whitman')]\n",
      "[2601/2982] Yihang Zhu -> [(1, 'Yihang Zhu')]\n",
      "[2602/2982] Eva Hageman -> [(1, 'Eva Hageman')]\n",
      "[2603/2982] Xiangyu Mao -> [(0.6363636363636364, 'Liang Ma'), (0.6363636363636364, 'Jianguo Ma'), (0.6363636363636364, 'Xingyan Yao')]\n",
      "RETRY\n",
      "[2603/2982] Xiangyu Mao -> [(0.6363636363636364, 'Liang Ma'), (0.6363636363636364, 'Jianguo Ma'), (0.6363636363636364, 'Xingyan Yao')]\n",
      "[2604/2982] Daniel Jovineli -> [(0.7333333333333334, 'Daniel Josell')]\n",
      "RETRY\n",
      "[2604/2982] Daniel Jovineli -> [(0.8, 'Daniel Damineli')]\n",
      "[2605/2982] Douglas Hamilton (Physics) -> [(0.5, 'Douglas C. Hamilton'), (0.5, 'Douglas P. Hamilton'), (0.5, 'Douglas A. Price'), (0.5, 'Douglas Miller Seidel'), (0.5, 'Douglas L. Boykins'), (0.5, 'Douglas Sadao Ishii')]\n",
      "RETRY\n",
      "[2605/2982] Douglas Hamilton (Physics) -> [(0.6153846153846154, 'Douglas Hamilton')]\n",
      "[2606/2982] Changmin Shi -> [(0.75, 'Changmin Lee')]\n",
      "RETRY\n",
      "[2606/2982] Changmin Shi -> [(0.75, 'Changmin Lee')]\n",
      "[2607/2982] Luis Suarez -> [(0.6363636363636364, 'Luis Charry')]\n",
      "RETRY\n",
      "[2607/2982] Luis Suarez -> [(0.6363636363636364, 'Jose Suarez'), (0.6363636363636364, 'Ivan Suarez'), (0.6363636363636364, 'Luis Marti'), (0.6363636363636364, 'Luis Charry')]\n",
      "[2608/2982] Matt Wilson -> [(0.6428571428571428, 'Mark E. Wilson')]\n",
      "RETRY\n",
      "[2608/2982] Matt Wilson -> [(0.8181818181818181, 'Mark Wilson'), (0.8181818181818181, 'Kate Wilson')]\n",
      "[2609/2982] Rajshree Agarwal -> [(1, 'Rajshree Agarwal')]\n",
      "[2610/2982] Tori Shay -> [(1, 'Tori Shay')]\n",
      "[2611/2982] Wendy Bassett -> [(0.65, 'Wendy Barnes Bassett')]\n",
      "RETRY\n",
      "[2611/2982] Wendy Bassett -> [(1, 'Wendy Bassett')]\n",
      "[2612/2982] Samuel Henkin -> [(0.6923076923076923, 'Daniel Genkin')]\n",
      "RETRY\n",
      "[2612/2982] Samuel Henkin -> [(1, 'Samuel Henkin')]\n",
      "[2613/2982] Sarah Scriven -> [(0.6153846153846154, 'Sarah Grun'), (0.6153846153846154, 'Sarah C. Eno'), (0.6153846153846154, 'Sarah Gordon'), (0.6153846153846154, 'Sarah Frisof'), (0.6153846153846154, 'Sarah McGrew'), (0.6153846153846154, 'Sarah E. Over'), (0.6153846153846154, 'Sarah Marston')]\n",
      "RETRY\n",
      "[2613/2982] Sarah Scriven -> [(0.6428571428571428, 'Sarah Schooley'), (0.6428571428571428, 'Sarah Schaffer')]\n",
      "[2614/2982] Stephen Nkansah Amankra -> [(1, 'Stephen Nkansah Amankra')]\n",
      "[2615/2982] Vineeta Singh -> [(1, 'Vineeta Singh')]\n",
      "[2616/2982] Jose Calderon -> [(0.8666666666666667, 'Jose M Calderon')]\n",
      "[2617/2982] Arghya Sadhukhan -> [(0.5263157894736843, 'Archana Swaminathan')]\n",
      "RETRY\n",
      "[2617/2982] Arghya Sadhukhan -> [(0.5263157894736843, 'Archana Swaminathan')]\n",
      "[2618/2982] Caitlin Christian-Lamb -> [(0.6086956521739131, 'Matthew Christian Clair')]\n",
      "RETRY\n",
      "[2618/2982] Caitlin Christian-Lamb -> [(0.5454545454545454, 'Caitlin Stiffler'), (0.5454545454545454, 'Caitlin Marshall')]\n",
      "[2619/2982] Daniel Tuke -> [(0.75, 'Daniel Bruce')]\n",
      "RETRY\n",
      "[2619/2982] Daniel Tuke -> [(0.75, 'Daniel Bruce')]\n",
      "[2620/2982] Keith Mills -> [(0.6428571428571428, 'Keith Marzullo')]\n",
      "RETRY\n",
      "[2620/2982] Keith Mills -> [(0.7272727272727273, 'Kelly Mills')]\n",
      "[2621/2982] Madeline Fleishman -> [(0.5714285714285714, 'Avis Madeline Koeiman')]\n",
      "RETRY\n",
      "[2621/2982] Madeline Fleishman -> [(0.7222222222222221, 'Alice Leishman')]\n",
      "[2622/2982] Meghan Creek -> [(0.6666666666666667, 'Meghan Kane'), (0.6666666666666667, 'Meghan Sykes')]\n",
      "RETRY\n",
      "[2622/2982] Meghan Creek -> [(0.75, 'Meghan Cohen'), (0.75, 'Meghan Rock')]\n",
      "[2623/2982] Melanka Wedige -> [(0.5714285714285714, 'Melanie Prange')]\n",
      "RETRY\n",
      "[2623/2982] Melanka Wedige -> [(0.5714285714285714, 'Melanie Prange'), (0.5714285714285714, 'Melanie Figg')]\n",
      "[2624/2982] Robyn Moore -> [(0.6363636363636364, 'Donna Moore')]\n",
      "RETRY\n",
      "[2624/2982] Robyn Moore -> [(0.7272727272727273, 'Roz Moore')]\n",
      "[2625/2982] Adreanna Nattiel -> [(0.5454545454545454, 'Adrianna Noel Atkinson')]\n",
      "RETRY\n",
      "[2625/2982] Adreanna Nattiel -> [(0.5882352941176471, 'Adrianna Atkinson')]\n",
      "[2626/2982] Alexis Walston -> [(0.7142857142857143, 'Alexis Walker')]\n",
      "RETRY\n",
      "[2626/2982] Alexis Walston -> [(0.8571428571428572, 'Alexis Wilson')]\n",
      "[2627/2982] Aspen Shackleford -> [(0.6538461538461539, 'Aspen Danielle Shackleford')]\n",
      "RETRY\n",
      "[2627/2982] Aspen Shackleford -> [(1, 'Aspen Shackleford')]\n",
      "[2628/2982] Betzalel Moskowitz -> [(0.5555555555555556, 'Joshua Moskowitz')]\n",
      "RETRY\n",
      "[2628/2982] Betzalel Moskowitz -> [(0.6111111111111112, 'Michael Rotkowitz')]\n",
      "[2629/2982] Catherine Maybury -> [(1, 'Catherine Maybury')]\n",
      "[2630/2982] Elizabeth Dinneny -> [(0.7647058823529411, 'Elizabeth Richey')]\n",
      "[2631/2982] Fabrizio Cariani -> [(1, 'Fabrizio Cariani')]\n",
      "[2632/2982] Gretchen Horlacher -> [(0.75, 'Gretchen Grace Horlacher')]\n",
      "RETRY\n",
      "[2632/2982] Gretchen Horlacher -> [(1, 'Gretchen Horlacher')]\n",
      "[2633/2982] Halla Khalil -> [(0.6666666666666667, 'Karim Khalil')]\n",
      "RETRY\n",
      "[2633/2982] Halla Khalil -> [(0.6666666666666667, 'Karim Khalil')]\n",
      "[2634/2982] Idil Yaveroglu -> [(1, 'Idil Yaveroglu')]\n",
      "[2635/2982] Jing Xue -> [(0.75, 'Jing Lu'), (0.75, 'Jing Su'), (0.75, 'Ting Xu'), (0.75, 'Ting Xie'), (0.75, 'Ming Xie')]\n",
      "RETRY\n",
      "[2635/2982] Jing Xue -> [(0.75, 'Jing Lu'), (0.75, 'Jing Su'), (0.75, 'Ting Xu'), (0.75, 'Ting Xie'), (0.75, 'Ming Xie')]\n",
      "[2636/2982] Jonathan Reyes -> [(0.8571428571428572, 'Jonathan Rayer')]\n",
      "[2637/2982] Kristen Cabrera -> [(0.7058823529411764, 'Kristen A Bergery')]\n",
      "RETRY\n",
      "[2637/2982] Kristen Cabrera -> [(1, 'Kristen Cabrera')]\n",
      "[2638/2982] Kyla Cools -> [(0.5833333333333333, 'Kayla Cullum')]\n",
      "RETRY\n",
      "[2638/2982] Kyla Cools -> [(0.6363636363636364, 'Kayla Jones')]\n",
      "[2639/2982] Logan Dechter -> [(0.6923076923076923, 'Rina Dechter')]\n",
      "RETRY\n",
      "[2639/2982] Logan Dechter -> [(0.6923076923076923, 'Rina Dechter')]\n",
      "[2640/2982] Paul Maykish -> [(0.6428571428571428, 'Paul W Yarrish')]\n",
      "RETRY\n",
      "[2640/2982] Paul Maykish -> [(0.75, 'Paul Yarrish')]\n",
      "[2641/2982] Pramod Govindan -> [(1, 'Pramod Govindan')]\n",
      "[2642/2982] Richard Blanton -> [(0.7894736842105263, 'Richard Lee Blanton')]\n",
      "[2643/2982] Robert Stewart -> [(1, 'Robert Stewart')]\n",
      "[2644/2982] Todd Rowland -> [(0.6, 'Todd Westley Rowland')]\n",
      "RETRY\n",
      "[2644/2982] Todd Rowland -> [(1, 'Todd Rowland')]\n",
      "[2645/2982] Jie Jung Shih -> [(0.6923076923076923, 'Haejung Shin')]\n",
      "RETRY\n",
      "[2645/2982] Jie Jung Shih -> [(0.6923076923076923, 'Haejung Shin')]\n",
      "[2646/2982] Nicholas Fletcher -> [(0.7391304347826086, 'Nicholas Keech Fletcher')]\n",
      "RETRY\n",
      "[2646/2982] Nicholas Fletcher -> [(1, 'Nicholas Fletcher')]\n",
      "[2647/2982] Arjav Shah -> [(0.6, 'Anna Shao')]\n",
      "RETRY\n",
      "[2647/2982] Arjav Shah -> [(1, 'Arjav Shah')]\n",
      "[2648/2982] Kameron Patterson -> [(0.8095238095238095, 'Kameron Van Patterson')]\n",
      "[2649/2982] Yeram Cheong -> [(1, 'Yeram Cheong')]\n",
      "[2650/2982] Anny Gaul -> [(1, 'Anny Gaul')]\n",
      "[2651/2982] Ramakrishna Sharan Mamidipudi -> [(1, 'Ramakrishna Sharan Mamidipudi')]\n",
      "[2652/2982] Brian Blair -> [(0.6666666666666667, 'Brian Butler'), (0.6666666666666667, 'Brian Barker')]\n",
      "RETRY\n",
      "[2652/2982] Brian Blair -> [(1, 'Brian Blair')]\n",
      "[2653/2982] Maya Mudambi -> [(0.5833333333333333, 'Mara M Cai')]\n",
      "RETRY\n",
      "[2653/2982] Maya Mudambi -> [(0.5833333333333333, 'Maya Aduba'), (0.5833333333333333, 'Maya Dawit')]\n",
      "[2654/2982] Thomas Ernst -> [(0.8571428571428572, 'Thomas H Ernst')]\n",
      "[2655/2982] Kevin Tu -> [(0.6666666666666667, 'Kevin Van')]\n",
      "RETRY\n",
      "[2655/2982] Kevin Tu -> [(0.7, 'Kevin Pitt')]\n",
      "[2656/2982] Chan Lin -> [(1, 'Chan Lin')]\n",
      "[2657/2982] Ian Miers -> [(1, 'Ian Miers')]\n",
      "[2658/2982] Jacquelyn Meisel -> [(0.6666666666666667, 'Jacqueline Messing')]\n",
      "RETRY\n",
      "[2658/2982] Jacquelyn Meisel -> [(1, 'Jacquelyn Meisel')]\n",
      "[2659/2982] Stevens Miller -> [(0.875, 'Stevens R Miller')]\n",
      "[2660/2982] Cyrah Ward -> [(0.6, 'Ian Ward'), (0.6, 'Erin Ward')]\n",
      "RETRY\n",
      "[2660/2982] Cyrah Ward -> [(0.6666666666666667, 'Sarah Howard')]\n",
      "[2661/2982] Alessandra Palazzo -> [(0.6842105263157895, 'Alessandra Buonanno'), (0.6842105263157895, 'Alessandro Presacco')]\n",
      "RETRY\n",
      "[2661/2982] Alessandra Palazzo -> [(0.6842105263157895, 'Alessandra Buonanno'), (0.6842105263157895, 'Alessandro Presacco')]\n",
      "[2662/2982] Erin Callahan -> [(0.7333333333333334, 'Dennis Callahan')]\n",
      "RETRY\n",
      "[2662/2982] Erin Callahan -> [(0.7857142857142857, 'Emily Callahan')]\n",
      "[2663/2982] Mary Depascale -> [(0.5, 'Mary D. Ossi'), (0.5, 'Mary Bell'), (0.5, 'Mary E. Shea'), (0.5, 'Mary A Czan'), (0.5, 'Mary Libcke'), (0.5, 'Mary E. Baney'), (0.5, 'Mary Kearney'), (0.5, 'Mary C. Scott'), (0.5, 'Mary E. Burke'), (0.5, 'Mary Loutsch'), (0.5, 'Mary E Cowles')]\n",
      "RETRY\n",
      "[2663/2982] Mary Depascale -> [(0.5714285714285714, 'Mary Dashiell')]\n",
      "[2664/2982] Tina Chen -> [(0.7777777777777779, 'Xin Chen'), (0.7777777777777779, 'Bin Chen'), (0.7777777777777779, 'Min Chen'), (0.7777777777777779, 'Ming Chen'), (0.7777777777777779, 'Ping Chen')]\n",
      "[2665/2982] Sahil Shah -> [(0.8333333333333335, 'Sahil S Shah')]\n",
      "[2666/2982] Patrick O'Shea -> [(1, \"Patrick O'Shea\")]\n",
      "[2667/2982] Ken Kiger -> [(1, 'Ken Kiger')]\n",
      "[2668/2982] Bianca Licitra -> [(0.5789473684210527, 'Blanca Lidia Garcia')]\n",
      "RETRY\n",
      "[2668/2982] Bianca Licitra -> [(0.6428571428571428, 'Bianca Garcia')]\n",
      "[2669/2982] Alan Montroso -> [(1, 'Alan Montroso')]\n",
      "[2670/2982] Katherine Hansen -> [(0.75, 'Katherine Herman'), (0.75, 'Katherine Pinter'), (0.75, 'Katherine Carter'), (0.75, 'Katherine Wasdin')]\n",
      "RETRY\n",
      "[2670/2982] Katherine Hansen -> [(0.8125, 'Katherine Vause')]\n",
      "[2671/2982] Mack Marsden -> [(0.5384615384615384, 'Sarah Marston')]\n",
      "RETRY\n",
      "[2671/2982] Mack Marsden -> [(0.5833333333333333, 'Mark Green'), (0.5833333333333333, 'Mary Maxson')]\n",
      "[2672/2982] Meghan Collins -> [(0.7142857142857143, 'Merle Collins')]\n",
      "RETRY\n",
      "[2672/2982] Meghan Collins -> [(0.7142857142857143, 'Meghan Cohen'), (0.7142857142857143, 'Merle Collins')]\n",
      "[2673/2982] Cecilia Shelton -> [(0.8823529411764706, 'Cecilia D Shelton')]\n",
      "[2674/2982] Mumu Xu -> [(1, 'Mumu Xu')]\n",
      "[2675/2982] Zachary Berman -> [(0.75, 'Zachary A Dorman')]\n",
      "RETRY\n",
      "[2675/2982] Zachary Berman -> [(0.8571428571428572, 'Zachary Dorman')]\n",
      "[2676/2982] Amy Morgan -> [(0.8333333333333335, 'Amy A Morgan')]\n",
      "[2677/2982] Maria Beliaeva Solomon -> [(1, 'Maria Beliaeva Solomon')]\n",
      "[2678/2982] Deniz Cil -> [(1, 'Deniz Cil')]\n",
      "[2679/2982] Zhi Xiang Lin -> [(1, 'Zhi Xiang Lin')]\n",
      "[2680/2982] Cassie Harrington -> [(1, 'Cassie Harrington')]\n",
      "[2681/2982] Eusebia Mont -> [(0.5714285714285714, 'Eusebia Victoria Mont')]\n",
      "RETRY\n",
      "[2681/2982] Eusebia Mont -> [(1, 'Eusebia Mont')]\n",
      "[2682/2982] Melinda Baldwin -> [(1, 'Melinda Baldwin')]\n",
      "[2683/2982] Victoria Van Hyning -> [(0.7916666666666665, 'Victoria Anne Van Hyning')]\n",
      "[2684/2982] Alessandra Gavagni -> [(0.7, 'Alessandro Geraldini')]\n",
      "RETRY\n",
      "[2684/2982] Alessandra Gavagni -> [(0.7, 'Alessandro Geraldini')]\n",
      "[2685/2982] Eoin Mackall -> [(0.631578947368421, 'Eoin Travis Mackall')]\n",
      "RETRY\n",
      "[2685/2982] Eoin Mackall -> [(1, 'Eoin Mackall')]\n",
      "[2686/2982] Rizgar Ismael -> [(0.6153846153846154, 'Vikki Ismael')]\n",
      "RETRY\n",
      "[2686/2982] Rizgar Ismael -> [(0.6153846153846154, 'Vikki Ismael')]\n",
      "[2687/2982] Arianna Gard -> [(1, 'Arianna Gard')]\n",
      "[2688/2982] Justin Maietta -> [(0.6, 'Justin Daniel Stacey')]\n",
      "RETRY\n",
      "[2688/2982] Justin Maietta -> [(0.7058823529411764, 'Christine Maietta')]\n",
      "[2689/2982] Ashley Broomes -> [(0.875, 'Ashley L Broomes')]\n",
      "[2690/2982] Gaby Hernandez -> [(0.8235294117647058, 'Gaby A. Hernandez')]\n",
      "[2691/2982] Kalin Schultz -> [(0.75, 'Franklin Schultz')]\n",
      "RETRY\n",
      "[2691/2982] Kalin Schultz -> [(0.75, 'Franklin Schultz')]\n",
      "[2692/2982] Matthew Simmons -> [(0.6875, 'Matthew Spielman')]\n",
      "RETRY\n",
      "[2692/2982] Matthew Simmons -> [(0.7333333333333334, 'Matthew Wilkins')]\n",
      "[2693/2982] John Quah -> [(0.6666666666666667, 'John McQuaid'), (0.6666666666666667, 'John Ham')]\n",
      "RETRY\n",
      "[2693/2982] John Quah -> [(1, 'John Quah')]\n",
      "[2694/2982] Shraddha Karanth -> [(1, 'Shraddha Karanth')]\n",
      "[2695/2982] Samuel Lascio -> [(0.6, 'Samuel L Tesfay')]\n",
      "RETRY\n",
      "[2695/2982] Samuel Lascio -> [(0.6923076923076923, 'Samuel Calix')]\n",
      "[2696/2982] Amanda Souna -> [(0.75, 'Amanda Scala')]\n",
      "RETRY\n",
      "[2696/2982] Amanda Souna -> [(1, 'Amanda Souna')]\n",
      "[2697/2982] Jiawen Zhang -> [(0.8333333333333335, 'Linwen Zhang')]\n",
      "[2698/2982] Delight Agboada -> [(0.4285714285714286, 'Dwight Damion Needham')]\n",
      "RETRY\n",
      "[2698/2982] Delight Agboada -> [(0.4666666666666666, 'Dwight Birch')]\n",
      "[2699/2982] Victoria McDermott -> [(0.7222222222222221, 'Nicole McDermott')]\n",
      "RETRY\n",
      "[2699/2982] Victoria McDermott -> [(0.7222222222222221, 'Nicole McDermott')]\n",
      "[2700/2982] Carolyn Robbins -> [(0.6666666666666667, 'Carolyn Gordon')]\n",
      "RETRY\n",
      "[2700/2982] Carolyn Robbins -> [(0.6666666666666667, 'Carolyn Fink'), (0.6666666666666667, 'Carolyn Gordon'), (0.6666666666666667, 'Carolyn Crooks'), (0.6666666666666667, 'Carolyn Davies')]\n",
      "[2701/2982] Tori Page-Voth -> [(1, 'Tori Page-Voth')]\n",
      "[2702/2982] Jongmin Park -> [(0.8333333333333335, 'Jungjin Park')]\n",
      "[2703/2982] Carrie Lindeman -> [(0.7333333333333334, 'Leslie Lindeman')]\n",
      "RETRY\n",
      "[2703/2982] Carrie Lindeman -> [(1, 'Carrie Lindeman')]\n",
      "[2704/2982] Andrea Liberto -> [(0.7, 'Andrea Romeo Liberto')]\n",
      "RETRY\n",
      "[2704/2982] Andrea Liberto -> [(1, 'Andrea Liberto')]\n",
      "[2705/2982] Jayna Resman -> [(0.5833333333333333, 'Ana Guzman'), (0.5833333333333333, 'James Newman'), (0.5833333333333333, 'John Rossman')]\n",
      "RETRY\n",
      "[2705/2982] Jayna Resman -> [(0.6923076923076923, 'Jenna Messman')]\n",
      "[2706/2982] Raymond Schram -> [(0.7142857142857143, 'Raymond Gorham'), (0.7142857142857143, 'Raymond Chang')]\n",
      "RETRY\n",
      "[2706/2982] Raymond Schram -> [(1, 'Raymond Schram')]\n",
      "[2707/2982] Brandon Johnson -> [(0.8, 'Brandon Tolson'), (0.8, 'Shannon Johnson')]\n",
      "[2708/2982] Valeriia Cherepanova -> [(0.55, 'Daria Panova'), (0.55, 'Natallia Cherashneva')]\n",
      "RETRY\n",
      "[2708/2982] Valeriia Cherepanova -> [(0.55, 'Daria Panova'), (0.55, 'Natallia Cherashneva'), (0.55, 'Ekaterina Demiyanova')]\n",
      "[2709/2982] Kaihui Song -> [(0.6363636363636364, 'Yunhui Gong'), (0.6363636363636364, 'Canhui Wang')]\n",
      "RETRY\n",
      "[2709/2982] Kaihui Song -> [(0.6363636363636364, 'Yunhui Gong'), (0.6363636363636364, 'Kathy Wong'), (0.6363636363636364, 'Canhui Wang')]\n",
      "[2710/2982] Jonathan Kendrick -> [(0.7647058823529411, 'Jonathan Rick')]\n",
      "[2711/2982] Joshua Ryan -> [(0.7272727272727273, 'Joshua Linn')]\n",
      "RETRY\n",
      "[2711/2982] Joshua Ryan -> [(0.7272727272727273, 'Joshua You'), (0.7272727272727273, 'Joshua Linn'), (0.7272727272727273, 'Joshua Kohn'), (0.7272727272727273, 'Joshua Land')]\n",
      "[2712/2982] Jaclyn Klueger Stief -> [(1, 'Jaclyn Klueger Stief')]\n",
      "[2713/2982] Marco Bornstein -> [(0.6, 'Mark Feldstein')]\n",
      "RETRY\n",
      "[2713/2982] Marco Bornstein -> [(0.6666666666666667, 'Marge Bershtein')]\n",
      "[2714/2982] TBA -> [(0.23076923076923073, 'Christy Kooba')]\n",
      "RETRY\n",
      "[2714/2982] TBA -> [(0.2727272727272727, 'Bertin Leba')]\n",
      "[2715/2982] Phoebe Moh -> [(0.6, 'Phebe Kim')]\n",
      "RETRY\n",
      "[2715/2982] Phoebe Moh -> [(0.6, 'Phoebe Hamilton'), (0.6, 'Phebe Kim')]\n",
      "[2716/2982] Ryan Frazier -> [(0.625, 'Marvin W Frazier')]\n",
      "RETRY\n",
      "[2716/2982] Ryan Frazier -> [(0.7142857142857143, 'Marvin Frazier'), (0.7142857142857143, 'Chante Frazier')]\n",
      "[2717/2982] Asma Sofan -> [(0.5, 'Asma Naeem'), (0.5, 'Asha S Montalvan'), (0.5, 'Rita Sloan'), (0.5, 'Laura S. Tan'), (0.5, 'Ashley Logan')]\n",
      "RETRY\n",
      "[2717/2982] Asma Sofan -> [(0.5454545454545454, 'Ana Soriano')]\n",
      "[2718/2982] Maria Rodriguez -> [(0.8333333333333335, 'Maria O. Rodriguez')]\n",
      "[2719/2982] Taylor Kocher -> [(0.6923076923076923, 'Taylor Keen')]\n",
      "RETRY\n",
      "[2719/2982] Taylor Kocher -> [(0.8571428571428572, 'Taylor Poncher')]\n",
      "[2720/2982] Jonathan Bakly -> [(0.7333333333333334, 'Jonathan Brande')]\n",
      "RETRY\n",
      "[2720/2982] Jonathan Bakly -> [(0.8, 'Jonathan Banker')]\n",
      "[2721/2982] Sam Borbiev -> [(0.5454545454545454, 'Sam Jones')]\n",
      "RETRY\n",
      "[2721/2982] Sam Borbiev -> [(0.5454545454545454, 'Sam Jones')]\n",
      "[2722/2982] Jesse Anderson -> [(0.75, 'Russell Anderson')]\n",
      "RETRY\n",
      "[2722/2982] Jesse Anderson -> [(1, 'Jesse Anderson')]\n",
      "[2723/2982] Arun Dhingra -> [(0.6666666666666667, 'Neil Dhingra')]\n",
      "RETRY\n",
      "[2723/2982] Arun Dhingra -> [(0.6666666666666667, 'Neil Dhingra')]\n",
      "[2724/2982] Lauren Kauffman -> [(0.6666666666666667, 'Lauren Kuza'), (0.6666666666666667, 'Lauren Friedman')]\n",
      "RETRY\n",
      "[2724/2982] Lauren Kauffman -> [(0.7333333333333334, 'Karen Kaufmann')]\n",
      "[2725/2982] Hao Yiu -> [(0.75, 'Chao Liu')]\n",
      "RETRY\n",
      "[2725/2982] Hao Yiu -> [(0.75, 'Chao Liu')]\n",
      "[2726/2982] Bill Ford -> [(1, 'Bill Ford')]\n",
      "[2727/2982] Jessica Morabito -> [(1, 'Jessica Morabito')]\n",
      "[2728/2982] Tony Cui -> [(0.625, 'Tong Li')]\n",
      "RETRY\n",
      "[2728/2982] Tony Cui -> [(0.625, 'Ryna Cui'), (0.625, 'Tong Li')]\n",
      "[2729/2982] Portia Strahan -> [(0.6666666666666667, 'Portia Andrea Strahan')]\n",
      "RETRY\n",
      "[2729/2982] Portia Strahan -> [(1, 'Portia Strahan')]\n",
      "[2730/2982] Elia Etkin -> [(0.6153846153846154, 'Elena Zotkina')]\n",
      "RETRY\n",
      "[2730/2982] Elia Etkin -> [(0.6363636363636364, 'Elisa Klein')]\n",
      "[2731/2982] Brittany Frechette -> [(0.6666666666666667, 'Brittany Maree Ott')]\n",
      "RETRY\n",
      "[2731/2982] Brittany Frechette -> [(0.6666666666666667, 'Brittany Fertig'), (0.6666666666666667, 'Brittany Green'), (0.6666666666666667, 'Brittany Steele')]\n",
      "[2732/2982] Samet Ayhan -> [(0.5833333333333333, 'Saira A Khan')]\n",
      "RETRY\n",
      "[2732/2982] Samet Ayhan -> [(0.6666666666666667, 'Samuel Abban')]\n",
      "[2733/2982] Justin Lui -> [(0.7272727272727273, 'Justina Lee')]\n",
      "RETRY\n",
      "[2733/2982] Justin Lui -> [(0.8, 'Justin Le')]\n",
      "[2734/2982] Christopher Metzler -> [(0.7894736842105263, 'Christopher Lester'), (0.7894736842105263, 'Christopher Decker')]\n",
      "[2735/2982] Brianne Friel -> [(0.8125, 'Brianne W. Friel')]\n",
      "[2736/2982] Kiran Almas -> [(0.6153846153846154, 'Kiwani Thomas')]\n",
      "RETRY\n",
      "[2736/2982] Kiran Almas -> [(0.6153846153846154, 'Kiwani Thomas')]\n",
      "[2737/2982] Ilai Saltzman -> [(0.6842105263157895, 'Ilai Zelig Saltzman')]\n",
      "RETRY\n",
      "[2737/2982] Ilai Saltzman -> [(1, 'Ilai Saltzman')]\n",
      "[2738/2982] Owen Parkins -> [(1, 'Owen Parkins')]\n",
      "[2739/2982] Kathleen Moore -> [(0.8, 'Kathleen Booker')]\n",
      "[2740/2982] Zubin Jelveh -> [(1, 'Zubin Jelveh')]\n",
      "[2741/2982] Farrah Askari -> [(0.6153846153846154, 'Sarah Allard')]\n",
      "RETRY\n",
      "[2741/2982] Farrah Askari -> [(0.6153846153846154, 'Sarah Allard')]\n",
      "[2742/2982] Dmitrii Gudin -> [(0.6666666666666667, 'Dmitri A. Luzin')]\n",
      "RETRY\n",
      "[2742/2982] Dmitrii Gudin -> [(0.7692307692307692, 'Dmitri Luzin')]\n",
      "[2743/2982] Mansur Shakipov -> [(0.4705882352941176, 'Pavel A. Sharikov')]\n",
      "RETRY\n",
      "[2743/2982] Mansur Shakipov -> [(0.5333333333333333, 'Pavel Sharikov')]\n",
      "[2744/2982] Evan Berkowitz -> [(0.7, 'Evan Scott Berkowitz')]\n",
      "RETRY\n",
      "[2744/2982] Evan Berkowitz -> [(1, 'Evan Berkowitz')]\n",
      "[2745/2982] Emily Kaplitz -> [(0.6923076923076923, 'Emily Hartz')]\n",
      "RETRY\n",
      "[2745/2982] Emily Kaplitz -> [(0.6923076923076923, 'Emily Hartz')]\n",
      "[2746/2982] Alejandro Flores Velazco -> [(0.6538461538461539, 'Alejandro Manuel Velazquez')]\n",
      "RETRY\n",
      "[2746/2982] Alejandro Flores Velazco -> [(0.5833333333333333, 'Alessandro Presacco')]\n",
      "[2747/2982] Hyunki Kim -> [(0.7272727272727273, 'Hyunsoo Kim'), (0.7272727272727273, 'Hyeonmi Kim')]\n",
      "RETRY\n",
      "[2747/2982] Hyunki Kim -> [(0.8, 'Hyun Kim')]\n",
      "[2748/2982] Cody Gomez -> [(0.7, 'Cody James')]\n",
      "RETRY\n",
      "[2748/2982] Cody Gomez -> [(0.7, 'Jose Gomez'), (0.7, 'Jade Gomez'), (0.7, 'Cody James')]\n",
      "[2749/2982] Catherine Kuo -> [(0.8125, 'Catherine K. Kuo')]\n",
      "[2750/2982] Brooklynn Hitchens -> [(0.9, 'Brooklynn K Hitchens')]\n",
      "[2751/2982] Angelica Alonso -> [(0.6, 'Angela Lamon')]\n",
      "RETRY\n",
      "[2751/2982] Angelica Alonso -> [(0.631578947368421, 'Angelica Villalobos')]\n",
      "[2752/2982] Jannah Fusenig -> [(0.5714285714285714, 'Janny Peng')]\n",
      "RETRY\n",
      "[2752/2982] Jannah Fusenig -> [(0.5714285714285714, 'Hannah House'), (0.5714285714285714, 'Hannah Rose'), (0.5714285714285714, 'Janny Peng')]\n",
      "[2753/2982] Alexandra Harlig -> [(1, 'Alexandra Harlig')]\n",
      "[2754/2982] Heather Ganginis DelPino -> [(0.7272727272727273, 'Heather\\nVictoria Ganginis DelPino')]\n",
      "RETRY\n",
      "[2754/2982] Heather Ganginis DelPino -> [(0.625, 'Heather DelPino')]\n",
      "[2755/2982] Adam Factor -> [(0.6363636363636364, 'Adam Liter')]\n",
      "RETRY\n",
      "[2755/2982] Adam Factor -> [(0.7272727272727273, 'Adam Marton'), (0.7272727272727273, 'Alan Sactor')]\n",
      "[2756/2982] Laura Dowd -> [(0.6363636363636364, 'Laura Dugan'), (0.6363636363636364, 'Laura Luoma')]\n",
      "RETRY\n",
      "[2756/2982] Laura Dowd -> [(0.8, 'Laura Hood')]\n",
      "[2757/2982] Rahul Narla -> [(0.75, 'Rahul Sharma')]\n",
      "RETRY\n",
      "[2757/2982] Rahul Narla -> [(0.75, 'Rahul Sharma')]\n",
      "[2758/2982] Hrishik Rajendra -> [(0.5625, 'Rajeev Rajendran')]\n",
      "RETRY\n",
      "[2758/2982] Hrishik Rajendra -> [(0.5625, 'Rajeev Rajendran')]\n",
      "[2759/2982] Aki Praveen -> [(0.4545454545454546, 'Aki Peritz'), (0.4545454545454546, 'Sri Prabha'), (0.4545454545454546, 'Dawn Green')]\n",
      "RETRY\n",
      "[2759/2982] Aki Praveen -> [(0.5454545454545454, 'Amy Green'), (0.5454545454545454, 'Amy Beaven')]\n",
      "[2760/2982] Arjun Kothakota -> [(0.4444444444444444, 'Arjun Kumar Mishra')]\n",
      "RETRY\n",
      "[2760/2982] Arjun Kothakota -> [(0.5333333333333333, 'Arjun Mishra')]\n",
      "[2761/2982] Ankit Chandnani -> [(0.5333333333333333, 'Ankit Parmar'), (0.5333333333333333, 'Ashish Chanana'), (0.5333333333333333, 'Ali Haghani')]\n",
      "RETRY\n",
      "[2761/2982] Ankit Chandnani -> [(0.5555555555555556, 'Celia Chanderamani')]\n",
      "[2762/2982] Jacob Erickson -> [(0.7142857142857143, 'Jacob Aronson')]\n",
      "RETRY\n",
      "[2762/2982] Jacob Erickson -> [(0.7142857142857143, 'Lucy Erickson'), (0.7142857142857143, 'David Erickson'), (0.7142857142857143, 'Jacob Aronson')]\n",
      "[2763/2982] Nathan Hayes -> [(0.7142857142857143, 'Jonathan Rayer')]\n",
      "RETRY\n",
      "[2763/2982] Nathan Hayes -> [(0.7142857142857143, 'Nathan Hawkins'), (0.7142857142857143, 'Jonathan Rayer')]\n",
      "[2764/2982] Daniel Pauw -> [(0.6923076923076923, 'Daniel Y Park'), (0.6923076923076923, 'Daniel Walkup'), (0.6923076923076923, 'Daniel Straub'), (0.6923076923076923, 'Danielle Pafe')]\n",
      "RETRY\n",
      "[2764/2982] Daniel Pauw -> [(0.8181818181818181, 'Daniel Park')]\n",
      "[2765/2982] Jacob Krause -> [(0.75, 'Jacob Rose')]\n",
      "RETRY\n",
      "[2765/2982] Jacob Krause -> [(0.75, 'Jacob Rose')]\n",
      "[2766/2982] Auguste Gezalyan -> [(0.4736842105263158, 'Augustin Vintzileos')]\n",
      "RETRY\n",
      "[2766/2982] Auguste Gezalyan -> [(0.625, 'Augusto Getirana')]\n",
      "[2767/2982] Jackson Hopper -> [(0.5882352941176471, 'Jackson D Gardner')]\n",
      "RETRY\n",
      "[2767/2982] Jackson Hopper -> [(0.7142857142857143, 'Jaison Cooper')]\n",
      "[2768/2982] Foivos Chnaras -> [(0.5882352941176471, 'Foivos Karakostas')]\n",
      "RETRY\n",
      "[2768/2982] Foivos Chnaras -> [(0.5882352941176471, 'Foivos Karakostas')]\n",
      "[2769/2982] Patrick McNamee -> [(1, 'Patrick McNamee')]\n",
      "[2770/2982] Russell Chiu -> [(0.6666666666666667, 'Russell Furr')]\n",
      "RETRY\n",
      "[2770/2982] Russell Chiu -> [(0.75, 'Russell Cox')]\n",
      "[2771/2982] Varun Chari -> [(0.7272727272727273, 'Varun Mehar')]\n",
      "RETRY\n",
      "[2771/2982] Varun Chari -> [(0.7272727272727273, 'Varun Mehar')]\n",
      "[2772/2982] Holly Miller -> [(0.6666666666666667, 'Andy Miller'), (0.6666666666666667, 'Casey Miller'), (0.6666666666666667, 'Don Miller'), (0.6666666666666667, 'Holly Brewer')]\n",
      "RETRY\n",
      "[2772/2982] Holly Miller -> [(0.75, 'Corey Miller'), (0.75, 'Holly Nalley'), (0.75, 'Holly Walker')]\n",
      "[2773/2982] Ashley Newby -> [(0.75, 'Ashley Lewis')]\n",
      "RETRY\n",
      "[2773/2982] Ashley Newby -> [(1, 'Ashley Newby')]\n",
      "[2774/2982] Binod Paudyal -> [(1, 'Binod Paudyal')]\n",
      "[2775/2982] Da Som Lee -> [(0.6, 'Daniel Lee')]\n",
      "RETRY\n",
      "[2775/2982] Da Som Lee -> [(0.6, 'David Lee'), (0.6, 'Daniel Lee')]\n",
      "[2776/2982] Mateo Arango -> [(0.5833333333333333, 'Kate Aras')]\n",
      "RETRY\n",
      "[2776/2982] Mateo Arango -> [(0.6153846153846154, 'Mathew Franck')]\n",
      "[2777/2982] Akarsh Ralhan -> [(0.6, 'Aneesh Raghavan')]\n",
      "RETRY\n",
      "[2777/2982] Akarsh Ralhan -> [(0.6, 'Aneesh Raghavan')]\n",
      "[2778/2982] Christopher Smith -> [(0.8235294117647058, 'Christopher White')]\n",
      "[2779/2982] Natalia Roldan Henao -> [(0.55, 'Natalia Salazar')]\n",
      "RETRY\n",
      "[2779/2982] Natalia Roldan Henao -> [(0.6, 'Natalia Sanchez')]\n",
      "[2780/2982] Sarah Bolivar -> [(0.6428571428571428, 'Sarah Babineau')]\n",
      "RETRY\n",
      "[2780/2982] Sarah Bolivar -> [(1, 'Sarah Bolivar')]\n",
      "[2781/2982] Becky Epanchin-Niell -> [(1, 'Becky Epanchin-Niell')]\n",
      "[2782/2982] Zedekiah Higgs -> [(0.5, 'Derek J Briggs'), (0.5, 'Tameka Boggs'), (0.5, 'Nadejiah Towns')]\n",
      "RETRY\n",
      "[2782/2982] Zedekiah Higgs -> [(0.5333333333333333, 'Jedediah Pixley')]\n",
      "[2783/2982] Kathleen Altizer -> [(0.6875, 'Kathleen Booker'), (0.6875, 'Kathleen Haines')]\n",
      "RETRY\n",
      "[2783/2982] Kathleen Altizer -> [(0.75, 'Kathleen Lester')]\n",
      "[2784/2982] Elizabeth Katt -> [(0.9285714285714286, 'Elizabeth Patt')]\n",
      "[2785/2982] Thaddeus Komacek -> [(0.7272727272727273, 'Thaddeus David Komacek')]\n",
      "RETRY\n",
      "[2785/2982] Thaddeus Komacek -> [(1, 'Thaddeus Komacek')]\n",
      "[2786/2982] Samantha Kemper -> [(0.7333333333333334, 'Samantha Key'), (0.7333333333333334, 'Samantha Oliver')]\n",
      "RETRY\n",
      "[2786/2982] Samantha Kemper -> [(0.75, 'Samantha Gendler')]\n",
      "[2787/2982] Michael McMillan -> [(0.75, 'Michael A Miller')]\n",
      "RETRY\n",
      "[2787/2982] Michael McMillan -> [(1, 'Michael McMillan')]\n",
      "[2788/2982] Sung Hyun Kwon -> [(0.7333333333333334, 'Seung Hyun Choi')]\n",
      "RETRY\n",
      "[2788/2982] Sung Hyun Kwon -> [(0.6428571428571428, 'Hyun Kwon'), (0.6428571428571428, 'Yonghwan Kwon'), (0.6428571428571428, 'Sang-Yun Jeon')]\n",
      "[2789/2982] Lu Zhang -> [(1, 'Lu Zhang')]\n",
      "[2790/2982] Seokwoo Lee -> [(1, 'Seokwoo Lee')]\n",
      "[2791/2982] Hae-Lyeng Kim -> [(0.6153846153846154, 'Rhae Sung Kim'), (0.6153846153846154, 'Ki-Yong Kim'), (0.6153846153846154, 'Jehyung Kim')]\n",
      "RETRY\n",
      "[2791/2982] Hae-Lyeng Kim -> [(0.6153846153846154, 'Ki-Yong Kim'), (0.6153846153846154, 'Jehyung Kim')]\n",
      "[2792/2982] Hyunsun Park -> [(0.7857142857142857, 'Hyun Jung Park')]\n",
      "[2793/2982] Gujie Li -> [(0.625, 'Yue Li'), (0.625, 'Ji Li'), (0.625, 'Hui Li')]\n",
      "RETRY\n",
      "[2793/2982] Gujie Li -> [(0.625, 'Yue Li'), (0.625, 'Ji Li'), (0.625, 'Hui Li')]\n",
      "[2794/2982] Siva Viswanathan -> [(1, 'Siva Viswanathan')]\n",
      "[2795/2982] Javonni McGlaurin -> [(1, 'Javonni McGlaurin')]\n",
      "[2796/2982] Darlene Dennison -> [(0.8888888888888888, 'Darlene K Dennison')]\n",
      "[2797/2982] Tejwansh Anand -> [(0.875, 'Tejwansh S Anand')]\n",
      "[2798/2982] Heather Tienson-Tseng -> [(0.9130434782608696, 'Heather L Tienson-Tseng')]\n",
      "[2799/2982] Michael Pacella -> [(1, 'Michael Pacella')]\n",
      "[2800/2982] Nasim DarouieHaghighi -> [(1, 'Nasim DarouieHaghighi')]\n",
      "[2801/2982] Corie Brown -> [(0.75, 'Laurie Brown'), (0.75, 'Cydnie Brown')]\n",
      "RETRY\n",
      "[2801/2982] Corie Brown -> [(1, 'Corie Brown')]\n",
      "[2802/2982] Erin Green -> [(0.8, 'Erin Wrenn')]\n",
      "[2803/2982] Cliff Bakalian -> [(1, 'Cliff Bakalian')]\n",
      "[2804/2982] Daniel Gottesman -> [(0.7619047619047619, 'Daniel Eric Gottesman')]\n",
      "[2805/2982] Jamie Trevitt -> [(0.6842105263157895, 'Jamie Lynne Trevitt')]\n",
      "RETRY\n",
      "[2805/2982] Jamie Trevitt -> [(1, 'Jamie Trevitt')]\n",
      "[2806/2982] Faith Otchere -> [(0.4705882352941176, 'Faith M. Micallef')]\n",
      "RETRY\n",
      "[2806/2982] Faith Otchere -> [(0.6923076923076923, 'Faith Toure')]\n",
      "[2807/2982] Viktoriia Savchuk -> [(0.5294117647058824, 'Victoria Segal'), (0.5294117647058824, 'Victoria Chang'), (0.5294117647058824, 'Victoria A Lake'), (0.5294117647058824, 'Victoria G Chang'), (0.5294117647058824, 'Victoria Galasso')]\n",
      "RETRY\n",
      "[2807/2982] Viktoriia Savchuk -> [(0.6470588235294117, 'Victoria Patch')]\n",
      "[2808/2982] Ran Ma -> [(0.8333333333333335, 'Lan Ma'), (0.8333333333333335, 'Han Ma')]\n",
      "[2809/2982] Olivia Truban -> [(0.5384615384615384, 'Olivia Dent'), (0.5384615384615384, 'Olivia Mays'), (0.5384615384615384, 'Olivia Goetz'), (0.5384615384615384, 'Livia Tomova')]\n",
      "RETRY\n",
      "[2809/2982] Olivia Truban -> [(0.625, 'Olivia Tasheuras')]\n",
      "[2810/2982] Alisa Hardy -> [(0.7272727272727273, 'Lisa Carey')]\n",
      "RETRY\n",
      "[2810/2982] Alisa Hardy -> [(0.6363636363636364, 'Lisa Mar')]\n",
      "[2811/2982] Kimberli Munoz -> [(0.6666666666666667, 'Kimberly M Udeh')]\n",
      "RETRY\n",
      "[2811/2982] Kimberli Munoz -> [(0.6666666666666667, 'Kimberly Turner')]\n",
      "[2812/2982] Donia Galarowicz -> [(0.55, 'Agnieszka Zelerowicz')]\n",
      "RETRY\n",
      "[2812/2982] Donia Galarowicz -> [(0.55, 'Agnieszka Zelerowicz')]\n",
      "[2813/2982] Rebecca Theim -> [(0.7647058823529411, 'Rebecca Ann Theim')]\n",
      "[2814/2982] Tatenda Mashanda -> [(0.5625, 'Amanda K Shank')]\n",
      "RETRY\n",
      "[2814/2982] Tatenda Mashanda -> [(0.5625, 'Brenda Mason'), (0.5625, 'Amanda Shank')]\n",
      "[2815/2982] Sean Rhodes -> [(0.6363636363636364, 'Sean Riley')]\n",
      "RETRY\n",
      "[2815/2982] Sean Rhodes -> [(0.6363636363636364, 'Amy Rhodes'), (0.6363636363636364, 'Eric Rhodes'), (0.6363636363636364, 'Sean Riley'), (0.6363636363636364, 'Sean Barnes'), (0.6363636363636364, 'Sean Rewers'), (0.6363636363636364, 'Sean Doody')]\n",
      "[2816/2982] Megan Fromm -> [(0.5833333333333333, 'Megan Rogers'), (0.5833333333333333, 'Megan Malone'), (0.5833333333333333, 'Morgan Fritz')]\n",
      "RETRY\n",
      "[2816/2982] Megan Fromm -> [(1, 'Megan Fromm')]\n",
      "[2817/2982] Haejung Shin -> [(1, 'Haejung Shin')]\n",
      "[2818/2982] Jia Zheng -> [(0.7777777777777779, 'Jie Zhang'), (0.7777777777777779, 'Jin Zhang')]\n",
      "[2819/2982] Naghmeh Momeni -> [(0.5833333333333333, 'Naghmeh Momeni Taramsari')]\n",
      "RETRY\n",
      "[2819/2982] Naghmeh Momeni -> [(0.5882352941176471, 'Naghmeh Taramsari')]\n",
      "[2820/2982] David Gormong -> [(1, 'David Gormong')]\n",
      "[2821/2982] Van Tran Nguyen -> [(0.75, 'Van Ngoc Tran Nguyen')]\n",
      "RETRY\n",
      "[2821/2982] Van Tran Nguyen -> [(0.6875, 'HuyenTran Nguyen')]\n",
      "[2822/2982] Nelson Moll -> [(0.6666666666666667, 'Nelson Riley')]\n",
      "RETRY\n",
      "[2822/2982] Nelson Moll -> [(0.7272727272727273, 'Ellen Moll')]\n",
      "[2823/2982] Josue Avila Artavia -> [(0.5263157894736843, 'Jose David Varela'), (0.5263157894736843, 'Jose C Aranda')]\n",
      "RETRY\n",
      "[2823/2982] Josue Avila Artavia -> [(0.5263157894736843, 'Jose Avelar')]\n",
      "[2824/2982] Kevin Kenneally -> [(1, 'Kevin Kenneally')]\n",
      "[2825/2982] Diksha Bali -> [(0.5, 'Golshan Jalali')]\n",
      "RETRY\n",
      "[2825/2982] Diksha Bali -> [(0.5454545454545454, 'Ihab Ali')]\n",
      "[2826/2982] Shihong Lin -> [(0.7272727272727273, 'Zhihong Nie')]\n",
      "RETRY\n",
      "[2826/2982] Shihong Lin -> [(0.7272727272727273, 'Zhihong Nie')]\n",
      "[2827/2982] Hailey Fleece -> [(0.5384615384615384, 'Bailey Kier'), (0.5384615384615384, 'Haley Timple')]\n",
      "RETRY\n",
      "[2827/2982] Hailey Fleece -> [(0.5384615384615384, 'Hailey Shin'), (0.5384615384615384, 'Hailey Taylor'), (0.5384615384615384, 'Bailey Kier'), (0.5384615384615384, 'Ashlee Treece'), (0.5384615384615384, 'Haley Sater'), (0.5384615384615384, 'Haley Mates'), (0.5384615384615384, 'Shirley Lee'), (0.5384615384615384, 'Haley Timple'), (0.5384615384615384, 'Haley Hale')]\n",
      "[2828/2982] Eunmyoung Lee -> [(0.8461538461538461, 'Sun Young Lee')]\n",
      "[2829/2982] Ana Navarro Cebrian -> [(1, 'Ana Navarro Cebrian')]\n",
      "[2830/2982] Randi Albertsen -> [(0.5555555555555556, 'Randi Jean Wortman')]\n",
      "RETRY\n",
      "[2830/2982] Randi Albertsen -> [(0.6, 'Randi Wortman')]\n",
      "[2831/2982] Evelyn Covington -> [(0.7222222222222221, 'Gwenlyn Coddington')]\n",
      "RETRY\n",
      "[2831/2982] Evelyn Covington -> [(1, 'Evelyn Covington')]\n",
      "[2832/2982] Ibrahim Assakkaf -> [(0.5625, 'Ibrahim Kargbo'), (0.5625, 'Ibrahim Z. Ades'), (0.5625, 'Ibrahim Taylor'), (0.5625, 'Ebrahim AlKarmi')]\n",
      "RETRY\n",
      "[2832/2982] Ibrahim Assakkaf -> [(0.5625, 'Ibrahim Ades'), (0.5625, 'Ibrahim Kargbo'), (0.5625, 'Ibrahim Taylor'), (0.5625, 'Ebrahim AlKarmi')]\n",
      "[2833/2982] Andrew Howard -> [(0.6923076923076923, 'Andrew Horbal')]\n",
      "RETRY\n",
      "[2833/2982] Andrew Howard -> [(1, 'Andrew Howard')]\n",
      "[2834/2982] Madeline Galvez -> [(0.8, 'Madeline Vale')]\n",
      "[2835/2982] Kathleen Orr -> [(0.7333333333333334, 'Kathleen Booker')]\n",
      "RETRY\n",
      "[2835/2982] Kathleen Orr -> [(1, 'Kathleen Orr')]\n",
      "[2836/2982] Kelly Tracy -> [(0.7272727272727273, 'Kelly Rice')]\n",
      "RETRY\n",
      "[2836/2982] Kelly Tracy -> [(1, 'Kelly Tracy')]\n",
      "[2837/2982] Anthony Batts -> [(0.6923076923076923, 'Anthony Tai'), (0.6923076923076923, 'Anthony Mason')]\n",
      "RETRY\n",
      "[2837/2982] Anthony Batts -> [(1, 'Anthony Batts')]\n",
      "[2838/2982] John Rendeiro -> [(0.8666666666666667, 'John C Rendeiro')]\n",
      "[2839/2982] Cecilia Smith -> [(0.6666666666666667, 'Christina Smith')]\n",
      "RETRY\n",
      "[2839/2982] Cecilia Smith -> [(0.6923076923076923, 'Julia Smith'), (0.6923076923076923, 'Cecilia Via'), (0.6923076923076923, 'Cecilia Diaz'), (0.6923076923076923, 'Cynthia Smith'), (0.6923076923076923, 'Carla Smith'), (0.6923076923076923, 'Erica Smith')]\n",
      "[2840/2982] Daniel Sidman -> [(0.8666666666666667, 'Daniel G Sidman')]\n",
      "[2841/2982] Carina Shi -> [(0.6, 'Qing Shi')]\n",
      "RETRY\n",
      "[2841/2982] Carina Shi -> [(1, 'Carina Shi')]\n",
      "[2842/2982] Cecilia Huertas Cerdeira -> [(1, 'Cecilia Huertas Cerdeira')]\n",
      "[2843/2982] Ratnesh Tiwari -> [(1, 'Ratnesh Tiwari')]\n",
      "[2844/2982] Sharon Colvin -> [(0.8666666666666667, 'Sharon E Colvin')]\n",
      "[2845/2982] Matthew Rodriguez -> [(0.7647058823529411, 'Heather Rodriguez')]\n",
      "[2846/2982] Amelia Meli -> [(0.6666666666666667, 'Amelia Arria'), (0.6666666666666667, 'Famelia Jean')]\n",
      "RETRY\n",
      "[2846/2982] Amelia Meli -> [(0.7272727272727273, 'Amelia Lee')]\n",
      "[2847/2982] Karim Makkawy -> [(0.6153846153846154, 'Karim Amrane')]\n",
      "RETRY\n",
      "[2847/2982] Karim Makkawy -> [(0.6153846153846154, 'Karim Amrane'), (0.6153846153846154, 'Karen Mackey')]\n",
      "[2848/2982] Marcus Johnson -> [(0.8, 'Marcus Robinson')]\n",
      "[2849/2982] Anthony Pellicone -> [(0.7391304347826086, 'Anthony James Pellicone')]\n",
      "RETRY\n",
      "[2849/2982] Anthony Pellicone -> [(1, 'Anthony Pellicone')]\n",
      "[2850/2982] John McGahagan -> [(0.6428571428571428, 'John Morgan'), (0.6428571428571428, 'John D Reagan')]\n",
      "RETRY\n",
      "[2850/2982] John McGahagan -> [(0.6666666666666667, \"John O'Flahavan\")]\n",
      "[2851/2982] Jeremy Simmons -> [(0.875, 'Jeremy A Simmons')]\n",
      "[2852/2982] Veronica Zebadua-Yanez -> [(1, 'Veronica Zebadua-Yanez')]\n",
      "[2853/2982] Leigha McReynolds -> [(1, 'Leigha McReynolds')]\n",
      "[2854/2982] Ed-Love Aidoo -> [(0.35, 'Edythe Jane Anderson')]\n",
      "RETRY\n",
      "[2854/2982] Ed-Love Aidoo -> [(0.4705882352941176, 'Tolulope Abidogun')]\n",
      "[2855/2982] Lori Sefton -> [(0.8461538461538461, 'Lori A Sefton')]\n",
      "[2856/2982] Thomas Mazzone -> [(0.7142857142857143, 'Thomas Lane'), (0.7142857142857143, 'Thomas A Jones')]\n",
      "RETRY\n",
      "[2856/2982] Thomas Mazzone -> [(1, 'Thomas Mazzone')]\n",
      "[2857/2982] Jason Aston -> [(0.7272727272727273, 'Jason Arrol'), (0.7272727272727273, 'Jason Allen')]\n",
      "RETRY\n",
      "[2857/2982] Jason Aston -> [(1, 'Jason Aston')]\n",
      "[2858/2982] Kate Yanchulis -> [(0.5714285714285714, 'Kate Blanch'), (0.5714285714285714, 'Kate Atchison')]\n",
      "RETRY\n",
      "[2858/2982] Kate Yanchulis -> [(0.7142857142857143, 'Kate Manchisi')]\n",
      "[2859/2982] Danielle Laplace -> [(0.75, 'Danielle Pafe')]\n",
      "RETRY\n",
      "[2859/2982] Danielle Laplace -> [(0.75, 'Danielle Pafe')]\n",
      "[2860/2982] Caitlin Leach -> [(0.6923076923076923, 'Caitlin Eaves')]\n",
      "RETRY\n",
      "[2860/2982] Caitlin Leach -> [(0.7142857142857143, 'Caitlin LaComb')]\n",
      "[2861/2982] Morgan Bryant -> [(0.6153846153846154, 'Morgan Fritz'), (0.6153846153846154, 'Carmen Bryan')]\n",
      "RETRY\n",
      "[2861/2982] Morgan Bryant -> [(0.6428571428571428, 'Deborah Bryant'), (0.6428571428571428, 'Melanee Bryant')]\n",
      "[2862/2982] Raley Roberts -> [(0.7142857142857143, 'Carmen Roberts')]\n",
      "RETRY\n",
      "[2862/2982] Raley Roberts -> [(0.7857142857142857, 'Lesley Roberts')]\n",
      "[2863/2982] Sudheer Shukla -> [(0.6428571428571428, 'Nidhi Shukla')]\n",
      "RETRY\n",
      "[2863/2982] Sudheer Shukla -> [(0.6428571428571428, 'Nidhi Shukla')]\n",
      "[2864/2982] Yong Cui -> [(0.75, 'Yong Sun')]\n",
      "RETRY\n",
      "[2864/2982] Yong Cui -> [(0.75, 'Yong Sun')]\n",
      "[2865/2982] Hussain Ibdah -> [(0.8666666666666667, 'Hussain A Ibdah')]\n",
      "[2866/2982] Veronica Carlan -> [(0.8, 'Veronica Marin')]\n",
      "[2867/2982] Xiaoqi Huang -> [(1, 'Xiaoqi Huang')]\n",
      "[2868/2982] Christopher Moakler -> [(0.7916666666666665, 'Christopher John Moakler')]\n",
      "[2869/2982] Lei Chen -> [(1, 'Lei Chen')]\n",
      "[2870/2982] Huy Nguyen -> [(0.75, 'Huong Nguyen')]\n",
      "RETRY\n",
      "[2870/2982] Huy Nguyen -> [(1, 'Huy Nguyen')]\n",
      "[2871/2982] Sewon Yang -> [(0.6363636363636364, 'Yezhou Yang')]\n",
      "RETRY\n",
      "[2871/2982] Sewon Yang -> [(0.7, 'Kevin Yang')]\n",
      "[2872/2982] Brian Gilmore -> [(0.7647058823529411, 'Brian Guy Gilmore')]\n",
      "[2873/2982] Nathan Lofton -> [(0.625, 'Jonathan Goodson')]\n",
      "RETRY\n",
      "[2873/2982] Nathan Lofton -> [(0.6923076923076923, 'Nathan Fox'), (0.6923076923076923, 'Nathan Bonnin')]\n",
      "[2874/2982] Antong Liu -> [(1, 'Antong Liu')]\n",
      "[2875/2982] Laura Lising -> [(0.6, 'Laura M. Besong')]\n",
      "RETRY\n",
      "[2875/2982] Laura Lising -> [(0.75, 'Laura Besong')]\n",
      "[2876/2982] Christopher Palmer -> [(0.8333333333333335, 'Christopher Carter')]\n",
      "[2877/2982] Drew Baden -> [(1, 'Drew Baden')]\n",
      "[2878/2982] Selvon Waldron -> [(0.6363636363636364, 'Selvon Malcolm Waldron')]\n",
      "RETRY\n",
      "[2878/2982] Selvon Waldron -> [(1, 'Selvon Waldron')]\n",
      "[2879/2982] Shanna Pearson-Merkowitz -> [(0.7741935483870968, 'Shanna\\nHelena Pearson-Merkowitz')]\n",
      "[2880/2982] Rachel Vandaalen -> [(0.8, 'Rachel Ann VanDaalen')]\n",
      "[2881/2982] Fariha Khalid -> [(1, 'Fariha Khalid')]\n",
      "[2882/2982] Julia Chuang -> [(1, 'Julia Chuang')]\n",
      "[2883/2982] Jorge Bayas -> [(0.5833333333333333, 'Jorge Zamora')]\n",
      "RETRY\n",
      "[2883/2982] Jorge Bayas -> [(0.7272727272727273, 'Jorge Rivas')]\n",
      "[2884/2982] Marcela Risso -> [(0.6190476190476191, 'Marcela Beatriz Risso')]\n",
      "RETRY\n",
      "[2884/2982] Marcela Risso -> [(1, 'Marcela Risso')]\n",
      "[2885/2982] Fatima Quander -> [(1, 'Fatima Quander')]\n",
      "[2886/2982] Kristopher Pourzal -> [(0.6666666666666667, 'Kristopher Abell'), (0.6666666666666667, 'Kristopher B. Yurchak')]\n",
      "RETRY\n",
      "[2886/2982] Kristopher Pourzal -> [(0.7222222222222221, 'Kristopher Yurchak')]\n",
      "[2887/2982] Mary Bell -> [(1, 'Mary Bell')]\n",
      "[2888/2982] Lynn Truong -> [(0.7333333333333334, 'Lynn Mai Truong')]\n",
      "RETRY\n",
      "[2888/2982] Lynn Truong -> [(1, 'Lynn Truong')]\n",
      "[2889/2982] Marcella Stranieri -> [(0.9, 'Marcella R Stranieri')]\n",
      "[2890/2982] Moya Malcolm -> [(1, 'Moya Malcolm')]\n",
      "[2891/2982] Dave Kenny -> [(1, 'Dave Kenny')]\n",
      "[2892/2982] Hannah Cameron -> [(0.7857142857142857, 'Sarah Cameron')]\n",
      "[2893/2982] Shuqing Chen -> [(0.75, 'Huiying Chen')]\n",
      "RETRY\n",
      "[2893/2982] Shuqing Chen -> [(0.75, 'Huiying Chen')]\n",
      "[2894/2982] Joshua Jaffe -> [(0.6666666666666667, 'Joshua Park'), (0.6666666666666667, 'Joshua J Radice'), (0.6666666666666667, 'Joshua Tyree')]\n",
      "RETRY\n",
      "[2894/2982] Joshua Jaffe -> [(0.6923076923076923, 'Joshua Madsen'), (0.6923076923076923, 'Joshua Nadler'), (0.6923076923076923, 'Joshua Madden'), (0.6923076923076923, 'Joshua Walles'), (0.6923076923076923, 'Joshua Radice')]\n",
      "[2895/2982] Conny Kazungu -> [(0.7222222222222221, 'Conny Sidi Kazungu')]\n",
      "RETRY\n",
      "[2895/2982] Conny Kazungu -> [(1, 'Conny Kazungu')]\n",
      "[2896/2982] Miranda Cleary -> [(0.875, 'Miranda I Cleary')]\n",
      "[2897/2982] Stephan Blatti -> [(1, 'Stephan Blatti')]\n",
      "[2898/2982] Lutian Zhao -> [(1, 'Lutian Zhao')]\n",
      "[2899/2982] John Howrey -> [(0.8181818181818181, 'John Horty')]\n",
      "[2900/2982] John Monday -> [(0.8181818181818181, 'Jean Monday')]\n",
      "[2901/2982] Micheal Stovkis -> [(0.6, 'Michael Paul Stocker'), (0.6, 'Michael Doris'), (0.6, 'Michael Dravis'), (0.6, 'Michelle Brooks')]\n",
      "RETRY\n",
      "[2901/2982] Micheal Stovkis -> [(0.6875, 'Michelle Stevens')]\n",
      "[2902/2982] Jason Lee -> [(0.7777777777777779, 'Joon Lee')]\n",
      "[2903/2982] Grace Scheirey -> [(0.5714285714285714, 'Grace H Lee'), (0.5714285714285714, 'Grace Hynes')]\n",
      "RETRY\n",
      "[2903/2982] Grace Scheirey -> [(0.6428571428571428, 'Grace Riley')]\n",
      "[2904/2982] Alexandra Whitfield -> [(0.631578947368421, 'Alexandra Trim'), (0.631578947368421, 'Alexandra Haner'), (0.631578947368421, 'Alexandra E. Bely'), (0.631578947368421, 'Alexandra Harlig'), (0.631578947368421, 'Laurel Whitfield'), (0.631578947368421, 'Alexandre Le Tiec')]\n",
      "RETRY\n",
      "[2904/2982] Alexandra Whitfield -> [(0.6842105263157895, 'Alexandra Hill'), (0.6842105263157895, 'Alexandra Williams'), (0.6842105263157895, 'Alexandra Hickey')]\n",
      "[2905/2982] Kung-Chen Chen -> [(0.7857142857142857, 'Jun-Cheng Chen')]\n",
      "[2906/2982] Judith Aaron -> [(0.6428571428571428, 'Judith Mahaffy')]\n",
      "RETRY\n",
      "[2906/2982] Judith Aaron -> [(0.7333333333333334, 'Judith Anderson')]\n",
      "[2907/2982] Nathan Yu -> [(0.6666666666666667, 'Heshan Yu')]\n",
      "RETRY\n",
      "[2907/2982] Nathan Yu -> [(0.7, 'Nathan Fox')]\n",
      "[2908/2982] Johnny Truong -> [(0.6153846153846154, 'Johnny Su'), (0.6153846153846154, 'Hoa T. Truong')]\n",
      "RETRY\n",
      "[2908/2982] Johnny Truong -> [(0.6923076923076923, 'Lynn Truong')]\n",
      "[2909/2982] Justin Stine -> [(0.75, 'Justin Strom')]\n",
      "RETRY\n",
      "[2909/2982] Justin Stine -> [(0.7692307692307692, 'Justin Stacey')]\n",
      "[2910/2982] Caitlin Flouton -> [(0.7333333333333334, 'Caitlin Flory')]\n",
      "RETRY\n",
      "[2910/2982] Caitlin Flouton -> [(0.7333333333333334, 'Caitlin Flory')]\n",
      "[2911/2982] Ray Newby -> [(0.6363636363636364, 'Debra Newby')]\n",
      "RETRY\n",
      "[2911/2982] Ray Newby -> [(0.6363636363636364, 'Debra Newby')]\n",
      "[2912/2982] Surayyah Khan -> [(0.6153846153846154, 'Sana Khan'), (0.6153846153846154, 'Saira A Khan')]\n",
      "RETRY\n",
      "[2912/2982] Surayyah Khan -> [(0.6153846153846154, 'Ryan Khan'), (0.6153846153846154, 'Sana Khan'), (0.6153846153846154, 'Saira Khan')]\n",
      "[2913/2982] Sue Reynolds -> [(0.8571428571428572, 'M Sue Reynolds')]\n",
      "[2914/2982] Cathy Chen -> [(0.7, 'Cathy Jan')]\n",
      "RETRY\n",
      "[2914/2982] Cathy Chen -> [(0.7, 'Ray Chen'), (0.7, 'Cathy Jan')]\n",
      "[2915/2982] Elainah Elkins -> [(0.5714285714285714, 'Erica Apkins')]\n",
      "RETRY\n",
      "[2915/2982] Elainah Elkins -> [(0.5714285714285714, 'Sarah Wilkins'), (0.5714285714285714, 'Hannah Evans'), (0.5714285714285714, 'Elamin Elamin'), (0.5714285714285714, 'Kana Jenkins'), (0.5714285714285714, 'Erica Apkins')]\n",
      "[2916/2982] Michael Portier -> [(0.75, 'Michael J Ritter')]\n",
      "RETRY\n",
      "[2916/2982] Michael Portier -> [(0.8, 'Michael Collier'), (0.8, 'Michael Foster')]\n",
      "[2917/2982] Connor Lockhart -> [(0.7333333333333334, 'Connor A Hart')]\n",
      "RETRY\n",
      "[2917/2982] Connor Lockhart -> [(0.7333333333333334, 'Connor Hart')]\n",
      "[2918/2982] Kwaku Obeng -> [(0.5454545454545454, 'Kang Zheng')]\n",
      "RETRY\n",
      "[2918/2982] Kwaku Obeng -> [(0.5454545454545454, 'Kang Zheng')]\n",
      "[2919/2982] Udara Mendis -> [(0.6153846153846154, 'Sara Mosenkis')]\n",
      "RETRY\n",
      "[2919/2982] Udara Mendis -> [(0.6153846153846154, 'Sara Mosenkis')]\n",
      "[2920/2982] Qi'an Chen -> [(0.7, 'Yan Chen'), (0.7, 'Yu-An Chen'), (0.7, 'Xin Chen'), (0.7, 'Bin Chen'), (0.7, 'Min Chen'), (0.7, 'Qiong Chen'), (0.7, 'Xiqun Chen')]\n",
      "RETRY\n",
      "[2920/2982] Qi'an Chen -> [(0.7, 'Yan Chen'), (0.7, 'Yu-An Chen'), (0.7, 'Xin Chen'), (0.7, 'Bin Chen'), (0.7, 'Min Chen'), (0.7, 'Qiong Chen'), (0.7, 'Xiqun Chen')]\n",
      "[2921/2982] Pablo Cedillos -> [(0.5714285714285714, 'Patty Perillo')]\n",
      "RETRY\n",
      "[2921/2982] Pablo Cedillos -> [(0.5714285714285714, 'Pablo Rio'), (0.5714285714285714, 'Patty Perillo')]\n",
      "[2922/2982] Yuvan Sundrani -> [(0.5714285714285714, 'Raman Sundrum')]\n",
      "RETRY\n",
      "[2922/2982] Yuvan Sundrani -> [(0.5714285714285714, 'Raman Sundrum')]\n",
      "[2923/2982] Maksym Morawski -> [(0.5333333333333333, 'Maksym Petrenko')]\n",
      "RETRY\n",
      "[2923/2982] Maksym Morawski -> [(0.5333333333333333, 'Maksym Petrenko'), (0.5333333333333333, 'Manya Makoski')]\n",
      "[2924/2982] Erin Sohr -> [(0.7777777777777779, 'Eric Kohr')]\n",
      "[2925/2982] Jeffrey Diamond -> [(1, 'Jeffrey Diamond')]\n",
      "[2926/2982] Matthew Feehan -> [(0.9285714285714286, 'Mathew Feehan')]\n",
      "[2927/2982] isabella milano -> [(0.6875, 'Isabella Moulton'), (0.6875, 'Isabella Alcaniz')]\n",
      "RETRY\n",
      "[2927/2982] isabella milano -> [(0.7333333333333334, 'Isabella Kolar')]\n",
      "[2928/2982] Nav Bindar -> [(0.5, 'Navid Goudarzi'), (0.5, 'Navot Naor')]\n",
      "RETRY\n",
      "[2928/2982] Nav Bindar -> [(0.5384615384615384, 'Markus Binder')]\n",
      "[2929/2982] Liyi Li -> [(1, 'Liyi Li')]\n",
      "[2930/2982] Ting Wang -> [(0.8888888888888888, 'Ping Wang'), (0.8888888888888888, 'Jing Wang')]\n",
      "[2931/2982] Nicholas Hiebert-White -> [(0.5909090909090908, 'Nicholas Robert Yakish')]\n",
      "RETRY\n",
      "[2931/2982] Nicholas Hiebert-White -> [(0.5909090909090908, 'Nicholas Roberts'), (0.5909090909090908, 'Nicholas Seybert')]\n",
      "[2932/2982] David Thomas -> [(0.6923076923076923, 'Debbie Thomas')]\n",
      "RETRY\n",
      "[2932/2982] David Thomas -> [(1, 'David Thomas')]\n",
      "[2933/2982] Hamid Al-Saqban -> [(1, 'Hamid Al-Saqban')]\n",
      "[2934/2982] Sarah Lombardi -> [(0.7647058823529411, 'Sara Ann Lombardi')]\n",
      "[2935/2982] Akil Mondie -> [(0.5384615384615384, 'Arpita Mondal')]\n",
      "RETRY\n",
      "[2935/2982] Akil Mondie -> [(0.5384615384615384, 'Arpita Mondal')]\n",
      "[2936/2982] James Schruefer -> [(0.625, 'James A. Schafer')]\n",
      "RETRY\n",
      "[2936/2982] James Schruefer -> [(0.8, 'James Schafer')]\n",
      "[2937/2982] Vivian Zohery -> [(0.5714285714285714, 'Vivian Hayward')]\n",
      "RETRY\n",
      "[2937/2982] Vivian Zohery -> [(0.6666666666666667, 'Lillian Doherty')]\n",
      "[2938/2982] Matthew Patrick -> [(0.7333333333333334, 'Matthew A Hicks')]\n",
      "RETRY\n",
      "[2938/2982] Matthew Patrick -> [(0.7333333333333334, 'Matthew Parker'), (0.7333333333333334, 'Matthew Aruch')]\n",
      "[2939/2982] Ian Song -> [(0.875, 'Lan Song')]\n",
      "[2940/2982] Quiera Zeidan -> [(0.923076923076923, 'Quira Zeidan')]\n",
      "[2941/2982] Matthew Valnes -> [(1, 'Matthew Valnes')]\n",
      "[2942/2982] John Leach -> [(0.7, 'John Pease')]\n",
      "RETRY\n",
      "[2942/2982] John Leach -> [(0.75, 'John Lea-Cox')]\n",
      "[2943/2982] Fenil Gholani -> [(0.5384615384615384, 'Feng Zhang'), (0.5384615384615384, 'Jenna Dolan')]\n",
      "RETRY\n",
      "[2943/2982] Fenil Gholani -> [(0.5384615384615384, 'Feng Zhang'), (0.5384615384615384, 'Ian Bholai'), (0.5384615384615384, 'Jenna Dolan')]\n",
      "[2944/2982] Rigo Zelada -> [(0.5833333333333333, 'Maria Zelaya')]\n",
      "RETRY\n",
      "[2944/2982] Rigo Zelada -> [(0.6363636363636364, 'Dina Zelaya')]\n",
      "[2945/2982] Cecilia Hu -> [(0.5714285714285714, 'Cecilia M Diaz')]\n",
      "RETRY\n",
      "[2945/2982] Cecilia Hu -> [(0.7272727272727273, 'Cecilia Via')]\n",
      "[2946/2982] Pooja Dharmendran -> [(0.6470588235294117, 'Pooja Sharma')]\n",
      "RETRY\n",
      "[2946/2982] Pooja Dharmendran -> [(0.6470588235294117, 'Pooja Sharma')]\n",
      "[2947/2982] Caitlin Lee -> [(0.6923076923076923, 'Caitlin Waite'), (0.6923076923076923, 'Caitlin Eaves'), (0.6923076923076923, 'Caitlin Flory')]\n",
      "RETRY\n",
      "[2947/2982] Caitlin Lee -> [(0.75, 'Caroline Lee')]\n",
      "[2948/2982] Robert Harris -> [(0.7333333333333334, 'Robert K. Artis')]\n",
      "RETRY\n",
      "[2948/2982] Robert Harris -> [(1, 'Robert Harris')]\n",
      "[2949/2982] Brandon Kolstoe -> [(0.8, 'Brandon Tolson')]\n",
      "[2950/2982] Juliette Khoury -> [(0.5882352941176471, 'Juliette Christie')]\n",
      "RETRY\n",
      "[2950/2982] Juliette Khoury -> [(0.5882352941176471, 'Juliette Christie')]\n",
      "[2951/2982] Rexanah Wyse Morrissette -> [(0.8888888888888888, 'Rexanah P. Wyse Morrissette')]\n",
      "[2952/2982] Erika Melder -> [(0.6666666666666667, 'Erin Meyer')]\n",
      "RETRY\n",
      "[2952/2982] Erika Melder -> [(1, 'Erika Melder')]\n",
      "[2953/2982] Raffaele Mannarelli -> [(0.5789473684210527, 'Rachel Hannah Ellis')]\n",
      "RETRY\n",
      "[2953/2982] Raffaele Mannarelli -> [(0.5789473684210527, 'Raphael Mandel')]\n",
      "[2954/2982] Chinyere Osuji -> [(0.8235294117647058, 'Chinyere K. Osuji')]\n",
      "[2955/2982] Lawrence Aikins -> [(0.75, 'Lawrence Kofi Aikins')]\n",
      "RETRY\n",
      "[2955/2982] Lawrence Aikins -> [(1, 'Lawrence Aikins')]\n",
      "[2956/2982] Jainaba Ceesay -> [(1, 'Jainaba Ceesay')]\n",
      "[2957/2982] Sarah Goodson -> [(1, 'Sarah Goodson')]\n",
      "[2958/2982] Avik Dutt -> [(1, 'Avik Dutt')]\n",
      "[2959/2982] Sanghoon Na -> [(0.6923076923076923, 'Sanghoon Shin')]\n",
      "RETRY\n",
      "[2959/2982] Sanghoon Na -> [(0.6923076923076923, 'Sanghoon Shin')]\n",
      "[2960/2982] William Martin -> [(0.7333333333333334, 'William Mullins')]\n",
      "RETRY\n",
      "[2960/2982] William Martin -> [(0.8571428571428572, 'Jillian Martin')]\n",
      "[2961/2982] Rachel Haber -> [(0.7692307692307692, 'Rachel Weaver'), (0.7692307692307692, 'Rachel Palmer')]\n",
      "[2962/2982] Daeun Jung -> [(0.7272727272727273, 'Dogeun Jang')]\n",
      "RETRY\n",
      "[2962/2982] Daeun Jung -> [(0.7272727272727273, 'Dogeun Jang')]\n",
      "[2963/2982] Patrick Gough -> [(0.6923076923076923, 'Patrick Hsu'), (0.6923076923076923, 'Patrick Roos'), (0.6923076923076923, 'Patrick Tobin'), (0.6923076923076923, 'Patrick Walsh'), (0.6923076923076923, 'Patrick Chung')]\n",
      "RETRY\n",
      "[2963/2982] Patrick Gough -> [(0.7058823529411764, 'Patrick McDonough')]\n",
      "[2964/2982] Matthew Welsh -> [(0.7142857142857143, 'Matthew Jelley'), (0.7142857142857143, 'Matthew Fenlon')]\n",
      "RETRY\n",
      "[2964/2982] Matthew Welsh -> [(0.8461538461538461, 'Matthew Weiss')]\n",
      "[2965/2982] Brian Lau -> [(0.8, 'Brian Leak')]\n",
      "[2966/2982] Taha Nasir -> [(0.5833333333333333, 'Tasha Harris')]\n",
      "RETRY\n",
      "[2966/2982] Taha Nasir -> [(0.6, 'Syed Nasir')]\n",
      "[2967/2982] Lindsay Mallick -> [(0.625, 'Lindsey M DeLuca')]\n",
      "RETRY\n",
      "[2967/2982] Lindsay Mallick -> [(0.6666666666666667, 'Lindsay Elliott'), (0.6666666666666667, 'Lindsay Sarin'), (0.6666666666666667, 'Lindsay Ahlman'), (0.6666666666666667, 'Lindsey Martin'), (0.6666666666666667, 'Linda Valli')]\n",
      "[2968/2982] Kat Lieder -> [(0.6363636363636364, 'Joan Lieber')]\n",
      "RETRY\n",
      "[2968/2982] Kat Lieder -> [(0.6363636363636364, 'Joan Lieber')]\n",
      "[2969/2982] Abigail Nicolas -> [(0.7222222222222221, 'Abigail L Cotsalas')]\n",
      "RETRY\n",
      "[2969/2982] Abigail Nicolas -> [(0.6875, 'Abigail Cotsalas')]\n",
      "[2970/2982] Madeline Romm -> [(0.7857142857142857, 'Madeline Brown')]\n",
      "[2971/2982] Tanner Kilpatrick -> [(1, 'Tanner Kilpatrick')]\n",
      "[2972/2982] Bahar Asgari -> [(0.5833333333333333, 'Sahar Akram')]\n",
      "RETRY\n",
      "[2972/2982] Bahar Asgari -> [(0.5833333333333333, 'Sahar Akram')]\n",
      "[2973/2982] Maria Soppelsa -> [(0.6428571428571428, 'Maria O Mejia')]\n",
      "RETRY\n",
      "[2973/2982] Maria Soppelsa -> [(0.6428571428571428, 'Maria Rosa'), (0.6428571428571428, 'Maria Silva'), (0.6428571428571428, 'Maria Lopez'), (0.6428571428571428, 'Maria Torres')]\n",
      "[2974/2982] Kyung Koh -> [(1, 'Kyung Koh')]\n",
      "[2975/2982] Oguz Gencay -> [(0.3846153846153846, 'Beth Genshaft')]\n",
      "RETRY\n",
      "[2975/2982] Oguz Gencay -> [(0.5, 'Ronny Gentry')]\n",
      "[2976/2982] James Rainbolt -> [(0.6, 'James Reed Ball')]\n",
      "RETRY\n",
      "[2976/2982] James Rainbolt -> [(0.7142857142857143, 'James Trainor'), (0.7142857142857143, 'James Mainolfi')]\n",
      "[2977/2982] Herve Franceschi -> [(0.65, 'Roberto Franceschini')]\n",
      "RETRY\n",
      "[2977/2982] Herve Franceschi -> [(0.65, 'Roberto Franceschini')]\n",
      "[2978/2982] Crystal Stone -> [(0.7857142857142857, 'Crystal Gaston')]\n",
      "[2979/2982] Mickael Latocca -> [(0.6, 'Michael Lam'), (0.6, 'Michael Larson'), (0.6, 'Michael L. Pack'), (0.6, 'Michael Tony')]\n",
      "RETRY\n",
      "[2979/2982] Mickael Latocca -> [(0.6, 'Michael Lam'), (0.6, 'Michael Landi'), (0.6, 'Michael Larson'), (0.6, 'Michael Lockard'), (0.6, 'Michael Larabee'), (0.6, 'Michael Laurent'), (0.6, 'Michael Long'), (0.6, 'Michael Lovaas'), (0.6, 'Michael Stocker'), (0.6, 'Michael Pack'), (0.6, 'Michael Tony')]\n",
      "[2980/2982] Ke Chen -> [(0.75, 'Jie Chen'), (0.75, 'Cen Chen'), (0.75, 'Wen Chen'), (0.75, 'Wei Chen'), (0.75, 'Lei Chen')]\n",
      "RETRY\n",
      "[2980/2982] Ke Chen -> [(0.75, 'Jie Chen'), (0.75, 'Cen Chen'), (0.75, 'Wen Chen'), (0.75, 'Wei Chen'), (0.75, 'Lei Chen')]\n",
      "[2981/2982] Alyssa Orlando -> [(0.7142857142857143, 'Alyssa Ryan')]\n",
      "RETRY\n",
      "[2981/2982] Alyssa Orlando -> [(0.7142857142857143, 'Alyssa Ryan')]\n",
      "[2982/2982] Spencer Chan -> [(0.6666666666666667, 'Spencer Fix')]\n",
      "RETRY\n",
      "[2982/2982] Spencer Chan -> [(0.7142857142857143, 'Spencer Thomas')]\n"
     ]
    },
    {
     "data": {
      "text/plain": [
       "2509"
      ]
     },
     "execution_count": 10,
     "metadata": {},
     "output_type": "execute_result"
    }
   ],
   "source": [
    "def get_fl(s):\n",
    "    sl = s.split()\n",
    "    return f\"{sl[0]} {sl[-1]}\"\n",
    "\n",
    "\n",
    "salary_fuzz = FuzzySet(salaries_df[\"name\"].unique())\n",
    "salary_fl_fuzz = FuzzySet(salaries_df[\"name\"].apply(get_fl).unique())\n",
    "\n",
    "matches_salary_to_pt = {}\n",
    "\n",
    "l = len(pt_df[\"name\"].unique())\n",
    "for i, pt_name in enumerate(pt_df[\"name\"].unique()):\n",
    "    matches = salary_fuzz.get(pt_name)\n",
    "    match_conf, match_name = matches[0]\n",
    "    print(f\"[{i + 1}/{l}] {pt_name} -> {matches}\")\n",
    "\n",
    "    if match_conf <= 0.75:\n",
    "        matches = salary_fl_fuzz.get(pt_name)\n",
    "        match_conf, match_name = matches[0]\n",
    "        print(\"RETRY\")\n",
    "        print(f\"[{i + 1}/{l}] {pt_name} -> {matches}\")\n",
    "\n",
    "    if match_conf >= 0.75:\n",
    "        matches_salary_to_pt[match_name] = pt_name\n",
    "\n",
    "len(matches_salary_to_pt)\n"
   ]
  },
  {
   "cell_type": "code",
   "execution_count": 11,
   "metadata": {},
   "outputs": [
    {
     "name": "stdout",
     "output_type": "stream",
     "text": [
      "2509\n",
      "26529\n"
     ]
    }
   ],
   "source": [
    "assert len(set(matches_salary_to_pt.keys())) == len(set(matches_salary_to_pt.values()))\n",
    "\n",
    "print(len(matches_salary_to_pt))\n",
    "print(len(salaries_df[\"name\"].unique()))"
   ]
  },
  {
   "cell_type": "code",
   "execution_count": null,
   "metadata": {},
   "outputs": [],
   "source": []
  },
  {
   "cell_type": "code",
   "execution_count": 12,
   "metadata": {},
   "outputs": [
    {
     "data": {
      "text/plain": [
       "year            int64\n",
       "employee       object\n",
       "department     object\n",
       "division       object\n",
       "title          object\n",
       "salary        float64\n",
       "name           object\n",
       "dtype: object"
      ]
     },
     "execution_count": 12,
     "metadata": {},
     "output_type": "execute_result"
    }
   ],
   "source": [
    "salaries_df.dtypes"
   ]
  },
  {
   "cell_type": "code",
   "execution_count": 13,
   "metadata": {},
   "outputs": [
    {
     "data": {
      "text/html": [
       "<div>\n",
       "<style scoped>\n",
       "    .dataframe tbody tr th:only-of-type {\n",
       "        vertical-align: middle;\n",
       "    }\n",
       "\n",
       "    .dataframe tbody tr th {\n",
       "        vertical-align: top;\n",
       "    }\n",
       "\n",
       "    .dataframe thead th {\n",
       "        text-align: right;\n",
       "    }\n",
       "</style>\n",
       "<table border=\"1\" class=\"dataframe\">\n",
       "  <thead>\n",
       "    <tr style=\"text-align: right;\">\n",
       "      <th></th>\n",
       "      <th>name</th>\n",
       "      <th>average_rating</th>\n",
       "      <th>year</th>\n",
       "      <th>salary</th>\n",
       "      <th>num_reviews</th>\n",
       "    </tr>\n",
       "  </thead>\n",
       "  <tbody>\n",
       "    <tr>\n",
       "      <th>0</th>\n",
       "      <td>A W. Kruglanski</td>\n",
       "      <td>2.000</td>\n",
       "      <td>2022</td>\n",
       "      <td>328606.76</td>\n",
       "      <td>1</td>\n",
       "    </tr>\n",
       "    <tr>\n",
       "      <th>1</th>\n",
       "      <td>Aaron Finkle</td>\n",
       "      <td>3.000</td>\n",
       "      <td>2022</td>\n",
       "      <td>77699.70</td>\n",
       "      <td>5</td>\n",
       "    </tr>\n",
       "    <tr>\n",
       "      <th>2</th>\n",
       "      <td>Aaron Hood</td>\n",
       "      <td>5.000</td>\n",
       "      <td>2022</td>\n",
       "      <td>58556.29</td>\n",
       "      <td>3</td>\n",
       "    </tr>\n",
       "    <tr>\n",
       "      <th>3</th>\n",
       "      <td>Abhijit Dasgupta</td>\n",
       "      <td>5.000</td>\n",
       "      <td>2022</td>\n",
       "      <td>227086.06</td>\n",
       "      <td>2</td>\n",
       "    </tr>\n",
       "    <tr>\n",
       "      <th>4</th>\n",
       "      <td>Abhinav Bhatele</td>\n",
       "      <td>4.000</td>\n",
       "      <td>2022</td>\n",
       "      <td>180428.27</td>\n",
       "      <td>3</td>\n",
       "    </tr>\n",
       "    <tr>\n",
       "      <th>...</th>\n",
       "      <td>...</td>\n",
       "      <td>...</td>\n",
       "      <td>...</td>\n",
       "      <td>...</td>\n",
       "      <td>...</td>\n",
       "    </tr>\n",
       "    <tr>\n",
       "      <th>1278</th>\n",
       "      <td>Zhengguo Xiao</td>\n",
       "      <td>4.000</td>\n",
       "      <td>2022</td>\n",
       "      <td>132691.82</td>\n",
       "      <td>1</td>\n",
       "    </tr>\n",
       "    <tr>\n",
       "      <th>1279</th>\n",
       "      <td>Zhi Xiang Lin</td>\n",
       "      <td>5.000</td>\n",
       "      <td>2022</td>\n",
       "      <td>10100.00</td>\n",
       "      <td>2</td>\n",
       "    </tr>\n",
       "    <tr>\n",
       "      <th>1280</th>\n",
       "      <td>Zhongchi Liu</td>\n",
       "      <td>4.625</td>\n",
       "      <td>2022</td>\n",
       "      <td>128494.72</td>\n",
       "      <td>8</td>\n",
       "    </tr>\n",
       "    <tr>\n",
       "      <th>1281</th>\n",
       "      <td>Zohreh Davoudi</td>\n",
       "      <td>2.000</td>\n",
       "      <td>2022</td>\n",
       "      <td>164761.66</td>\n",
       "      <td>4</td>\n",
       "    </tr>\n",
       "    <tr>\n",
       "      <th>1282</th>\n",
       "      <td>Zubin Jelveh</td>\n",
       "      <td>1.000</td>\n",
       "      <td>2022</td>\n",
       "      <td>120089.00</td>\n",
       "      <td>1</td>\n",
       "    </tr>\n",
       "  </tbody>\n",
       "</table>\n",
       "<p>1283 rows × 5 columns</p>\n",
       "</div>"
      ],
      "text/plain": [
       "                  name  average_rating  year     salary  num_reviews\n",
       "0      A W. Kruglanski           2.000  2022  328606.76            1\n",
       "1         Aaron Finkle           3.000  2022   77699.70            5\n",
       "2           Aaron Hood           5.000  2022   58556.29            3\n",
       "3     Abhijit Dasgupta           5.000  2022  227086.06            2\n",
       "4      Abhinav Bhatele           4.000  2022  180428.27            3\n",
       "...                ...             ...   ...        ...          ...\n",
       "1278     Zhengguo Xiao           4.000  2022  132691.82            1\n",
       "1279     Zhi Xiang Lin           5.000  2022   10100.00            2\n",
       "1280      Zhongchi Liu           4.625  2022  128494.72            8\n",
       "1281    Zohreh Davoudi           2.000  2022  164761.66            4\n",
       "1282      Zubin Jelveh           1.000  2022  120089.00            1\n",
       "\n",
       "[1283 rows x 5 columns]"
      ]
     },
     "execution_count": 13,
     "metadata": {},
     "output_type": "execute_result"
    }
   ],
   "source": [
    "tmp = []\n",
    "\n",
    "for (salary_name, year), salary_rows in salaries_df.groupby([\"name\", \"year\"]):\n",
    "    if year != 2022 or salary_name not in matches_salary_to_pt:\n",
    "        continue\n",
    "    \n",
    "    assert len(salary_rows[\"name\"].unique()) == 1\n",
    "\n",
    "    # TODO: count only reviews up to year\n",
    "    # display(rows)\n",
    "\n",
    "    pt_name = matches_salary_to_pt[salary_name]\n",
    "    pt_rows = pt_df[pt_df[\"name\"] == pt_name]\n",
    "\n",
    "    assert len(pt_rows) == 1\n",
    "\n",
    "    pt_row = pt_rows.iloc[0]\n",
    "\n",
    "    reviews = literal_eval(pt_row[\"reviews\"])\n",
    "\n",
    "    tmp.append({\n",
    "        \"name\": salary_name,\n",
    "        \"average_rating\": pt_row[\"average_rating\"],\n",
    "        \"year\": year,\n",
    "        \"salary\": salary_rows[\"salary\"].sum(),\n",
    "        \"num_reviews\": len(reviews)\n",
    "    })\n",
    "\n",
    "tmp = pd.DataFrame(tmp)\n",
    "tmp\n",
    "\n",
    "    \n",
    "    \n"
   ]
  },
  {
   "cell_type": "code",
   "execution_count": 14,
   "metadata": {},
   "outputs": [
    {
     "data": {
      "text/html": [
       "<div>\n",
       "<style scoped>\n",
       "    .dataframe tbody tr th:only-of-type {\n",
       "        vertical-align: middle;\n",
       "    }\n",
       "\n",
       "    .dataframe tbody tr th {\n",
       "        vertical-align: top;\n",
       "    }\n",
       "\n",
       "    .dataframe thead th {\n",
       "        text-align: right;\n",
       "    }\n",
       "</style>\n",
       "<table border=\"1\" class=\"dataframe\">\n",
       "  <thead>\n",
       "    <tr style=\"text-align: right;\">\n",
       "      <th></th>\n",
       "      <th>name</th>\n",
       "      <th>average_rating</th>\n",
       "      <th>year</th>\n",
       "      <th>salary</th>\n",
       "      <th>num_reviews</th>\n",
       "    </tr>\n",
       "  </thead>\n",
       "  <tbody>\n",
       "    <tr>\n",
       "      <th>77</th>\n",
       "      <td>Andris Skuja</td>\n",
       "      <td>1.2857</td>\n",
       "      <td>2022</td>\n",
       "      <td>139087.07</td>\n",
       "      <td>14</td>\n",
       "    </tr>\n",
       "    <tr>\n",
       "      <th>432</th>\n",
       "      <td>Heather L Tienson-Tseng</td>\n",
       "      <td>1.4286</td>\n",
       "      <td>2022</td>\n",
       "      <td>57570.00</td>\n",
       "      <td>28</td>\n",
       "    </tr>\n",
       "    <tr>\n",
       "      <th>847</th>\n",
       "      <td>Michel Cukier</td>\n",
       "      <td>1.4545</td>\n",
       "      <td>2022</td>\n",
       "      <td>202907.30</td>\n",
       "      <td>11</td>\n",
       "    </tr>\n",
       "    <tr>\n",
       "      <th>426</th>\n",
       "      <td>Hanan Samet</td>\n",
       "      <td>1.5455</td>\n",
       "      <td>2022</td>\n",
       "      <td>343420.83</td>\n",
       "      <td>11</td>\n",
       "    </tr>\n",
       "    <tr>\n",
       "      <th>699</th>\n",
       "      <td>Leah G Dodson</td>\n",
       "      <td>1.6667</td>\n",
       "      <td>2022</td>\n",
       "      <td>97906.03</td>\n",
       "      <td>57</td>\n",
       "    </tr>\n",
       "    <tr>\n",
       "      <th>...</th>\n",
       "      <td>...</td>\n",
       "      <td>...</td>\n",
       "      <td>...</td>\n",
       "      <td>...</td>\n",
       "      <td>...</td>\n",
       "    </tr>\n",
       "    <tr>\n",
       "      <th>1171</th>\n",
       "      <td>Thomas E. Murphy</td>\n",
       "      <td>5.0000</td>\n",
       "      <td>2022</td>\n",
       "      <td>244342.68</td>\n",
       "      <td>11</td>\n",
       "    </tr>\n",
       "    <tr>\n",
       "      <th>76</th>\n",
       "      <td>Andrew Schonebaum</td>\n",
       "      <td>5.0000</td>\n",
       "      <td>2022</td>\n",
       "      <td>93892.58</td>\n",
       "      <td>11</td>\n",
       "    </tr>\n",
       "    <tr>\n",
       "      <th>263</th>\n",
       "      <td>David J. Brookshire</td>\n",
       "      <td>5.0000</td>\n",
       "      <td>2022</td>\n",
       "      <td>50685.84</td>\n",
       "      <td>17</td>\n",
       "    </tr>\n",
       "    <tr>\n",
       "      <th>1037</th>\n",
       "      <td>Robert R Lucci</td>\n",
       "      <td>5.0000</td>\n",
       "      <td>2022</td>\n",
       "      <td>50685.84</td>\n",
       "      <td>11</td>\n",
       "    </tr>\n",
       "    <tr>\n",
       "      <th>299</th>\n",
       "      <td>Dirk Parham</td>\n",
       "      <td>5.0000</td>\n",
       "      <td>2022</td>\n",
       "      <td>10666.20</td>\n",
       "      <td>12</td>\n",
       "    </tr>\n",
       "  </tbody>\n",
       "</table>\n",
       "<p>222 rows × 5 columns</p>\n",
       "</div>"
      ],
      "text/plain": [
       "                         name  average_rating  year     salary  num_reviews\n",
       "77               Andris Skuja          1.2857  2022  139087.07           14\n",
       "432   Heather L Tienson-Tseng          1.4286  2022   57570.00           28\n",
       "847             Michel Cukier          1.4545  2022  202907.30           11\n",
       "426               Hanan Samet          1.5455  2022  343420.83           11\n",
       "699             Leah G Dodson          1.6667  2022   97906.03           57\n",
       "...                       ...             ...   ...        ...          ...\n",
       "1171         Thomas E. Murphy          5.0000  2022  244342.68           11\n",
       "76          Andrew Schonebaum          5.0000  2022   93892.58           11\n",
       "263       David J. Brookshire          5.0000  2022   50685.84           17\n",
       "1037           Robert R Lucci          5.0000  2022   50685.84           11\n",
       "299               Dirk Parham          5.0000  2022   10666.20           12\n",
       "\n",
       "[222 rows x 5 columns]"
      ]
     },
     "execution_count": 14,
     "metadata": {},
     "output_type": "execute_result"
    }
   ],
   "source": [
    "tmp[tmp[\"num_reviews\"] > 10].sort_values(by=[\"average_rating\", \"salary\"], ascending=[True, False])"
   ]
  },
  {
   "cell_type": "code",
   "execution_count": 15,
   "metadata": {},
   "outputs": [
    {
     "data": {
      "text/html": [
       "<div>\n",
       "<style scoped>\n",
       "    .dataframe tbody tr th:only-of-type {\n",
       "        vertical-align: middle;\n",
       "    }\n",
       "\n",
       "    .dataframe tbody tr th {\n",
       "        vertical-align: top;\n",
       "    }\n",
       "\n",
       "    .dataframe thead th {\n",
       "        text-align: right;\n",
       "    }\n",
       "</style>\n",
       "<table border=\"1\" class=\"dataframe\">\n",
       "  <thead>\n",
       "    <tr style=\"text-align: right;\">\n",
       "      <th></th>\n",
       "      <th>name</th>\n",
       "      <th>average_rating</th>\n",
       "      <th>year</th>\n",
       "      <th>salary</th>\n",
       "      <th>num_reviews</th>\n",
       "    </tr>\n",
       "  </thead>\n",
       "  <tbody>\n",
       "    <tr>\n",
       "      <th>7</th>\n",
       "      <td>Adam A. Porter</td>\n",
       "      <td>2.5455</td>\n",
       "      <td>2022</td>\n",
       "      <td>165991.71</td>\n",
       "      <td>11</td>\n",
       "    </tr>\n",
       "    <tr>\n",
       "      <th>12</th>\n",
       "      <td>Adrianos Papamarcou</td>\n",
       "      <td>4.1429</td>\n",
       "      <td>2022</td>\n",
       "      <td>123336.92</td>\n",
       "      <td>28</td>\n",
       "    </tr>\n",
       "    <tr>\n",
       "      <th>13</th>\n",
       "      <td>Agisilaos Iliadis</td>\n",
       "      <td>2.3750</td>\n",
       "      <td>2022</td>\n",
       "      <td>163382.57</td>\n",
       "      <td>16</td>\n",
       "    </tr>\n",
       "    <tr>\n",
       "      <th>17</th>\n",
       "      <td>Alan C Peel</td>\n",
       "      <td>3.5000</td>\n",
       "      <td>2022</td>\n",
       "      <td>81919.04</td>\n",
       "      <td>12</td>\n",
       "    </tr>\n",
       "    <tr>\n",
       "      <th>31</th>\n",
       "      <td>Alexandra E. Bely</td>\n",
       "      <td>4.0000</td>\n",
       "      <td>2022</td>\n",
       "      <td>131174.31</td>\n",
       "      <td>14</td>\n",
       "    </tr>\n",
       "    <tr>\n",
       "      <th>...</th>\n",
       "      <td>...</td>\n",
       "      <td>...</td>\n",
       "      <td>...</td>\n",
       "      <td>...</td>\n",
       "      <td>...</td>\n",
       "    </tr>\n",
       "    <tr>\n",
       "      <th>1242</th>\n",
       "      <td>Wiseley Wong</td>\n",
       "      <td>4.8750</td>\n",
       "      <td>2022</td>\n",
       "      <td>85330.04</td>\n",
       "      <td>32</td>\n",
       "    </tr>\n",
       "    <tr>\n",
       "      <th>1244</th>\n",
       "      <td>Wojciech Czaja</td>\n",
       "      <td>4.0000</td>\n",
       "      <td>2022</td>\n",
       "      <td>211964.19</td>\n",
       "      <td>31</td>\n",
       "    </tr>\n",
       "    <tr>\n",
       "      <th>1259</th>\n",
       "      <td>Yavuz A. Oruc</td>\n",
       "      <td>3.1875</td>\n",
       "      <td>2022</td>\n",
       "      <td>112881.19</td>\n",
       "      <td>16</td>\n",
       "    </tr>\n",
       "    <tr>\n",
       "      <th>1264</th>\n",
       "      <td>Yijing Wu</td>\n",
       "      <td>3.1818</td>\n",
       "      <td>2022</td>\n",
       "      <td>67632.63</td>\n",
       "      <td>11</td>\n",
       "    </tr>\n",
       "    <tr>\n",
       "      <th>1275</th>\n",
       "      <td>Zeinab A Karake</td>\n",
       "      <td>3.5385</td>\n",
       "      <td>2022</td>\n",
       "      <td>206252.24</td>\n",
       "      <td>13</td>\n",
       "    </tr>\n",
       "  </tbody>\n",
       "</table>\n",
       "<p>222 rows × 5 columns</p>\n",
       "</div>"
      ],
      "text/plain": [
       "                     name  average_rating  year     salary  num_reviews\n",
       "7          Adam A. Porter          2.5455  2022  165991.71           11\n",
       "12    Adrianos Papamarcou          4.1429  2022  123336.92           28\n",
       "13      Agisilaos Iliadis          2.3750  2022  163382.57           16\n",
       "17            Alan C Peel          3.5000  2022   81919.04           12\n",
       "31      Alexandra E. Bely          4.0000  2022  131174.31           14\n",
       "...                   ...             ...   ...        ...          ...\n",
       "1242         Wiseley Wong          4.8750  2022   85330.04           32\n",
       "1244       Wojciech Czaja          4.0000  2022  211964.19           31\n",
       "1259        Yavuz A. Oruc          3.1875  2022  112881.19           16\n",
       "1264            Yijing Wu          3.1818  2022   67632.63           11\n",
       "1275      Zeinab A Karake          3.5385  2022  206252.24           13\n",
       "\n",
       "[222 rows x 5 columns]"
      ]
     },
     "execution_count": 15,
     "metadata": {},
     "output_type": "execute_result"
    }
   ],
   "source": [
    "tmp[tmp[\"num_reviews\"] > 10]"
   ]
  },
  {
   "cell_type": "code",
   "execution_count": 22,
   "metadata": {},
   "outputs": [
    {
     "data": {
      "application/vnd.plotly.v1+json": {
       "config": {
        "plotlyServerURL": "https://plot.ly"
       },
       "data": [
        {
         "customdata": [
          [
           "Adam A. Porter"
          ],
          [
           "Adrianos Papamarcou"
          ],
          [
           "Agisilaos Iliadis"
          ],
          [
           "Alan C Peel"
          ],
          [
           "Alexandra E. Bely"
          ],
          [
           "Alice C. Mignerey"
          ],
          [
           "Alka Gandhi"
          ],
          [
           "Allan Drazen"
          ],
          [
           "Amanda Chicoli"
          ],
          [
           "Amanda J. Schech"
          ],
          [
           "Amin Gholampour"
          ],
          [
           "Amol Deshpande"
          ],
          [
           "Amy S. Mullin"
          ],
          [
           "Andrei Vedernikov"
          ],
          [
           "Andrew Childs"
          ],
          [
           "Andrew Schonebaum"
          ],
          [
           "Andris Skuja"
          ],
          [
           "Ankur Srivastava"
          ],
          [
           "Antoine Mellet"
          ],
          [
           "Archana Khurana"
          ],
          [
           "Benjamin Janus"
          ],
          [
           "Bernard D. Cooperman"
          ],
          [
           "Beth Parent"
          ],
          [
           "Bretton W. Kent"
          ],
          [
           "Carmen Z Cantemir-Stone"
          ],
          [
           "Chandrasekhar Thamire"
          ],
          [
           "Charles D. Levermore"
          ],
          [
           "Charles Lin"
          ],
          [
           "Chelsea G Mays-Williams"
          ],
          [
           "Cliff Bakalian"
          ],
          [
           "Clyde P. Kruskal"
          ],
          [
           "Cortney Fisher"
          ],
          [
           "Craig Ian Schlenoff"
          ],
          [
           "Daniel E. Falvey"
          ],
          [
           "Danilo B. Romero"
          ],
          [
           "Dave Levin"
          ],
          [
           "David B. Sicilia"
          ],
          [
           "David C. Buehrle"
          ],
          [
           "David C. Straney"
          ],
          [
           "David D. Yager"
          ],
          [
           "David Gormong"
          ],
          [
           "David H. Hamilton"
          ],
          [
           "David I. Bigio"
          ],
          [
           "David I. Kass"
          ],
          [
           "David J. Brookshire"
          ],
          [
           "David J. Lovell"
          ],
          [
           "David L. Akin"
          ],
          [
           "David Mount"
          ],
          [
           "Denny Gulick"
          ],
          [
           "Derek Richardson"
          ],
          [
           "Dionisios Margetis"
          ],
          [
           "Dirk Parham"
          ],
          [
           "Donald Yeung"
          ],
          [
           "Donna E Howard"
          ],
          [
           "Dorith Grant-Wisdom"
          ],
          [
           "Douglas A. Julin"
          ],
          [
           "Edgar Moctezuma"
          ],
          [
           "Elinda F Kiss"
          ],
          [
           "Eric S Haag"
          ],
          [
           "Erich Studer-Ellis"
          ],
          [
           "Evan Golub"
          ],
          [
           "Fernando Rios"
          ],
          [
           "Frederick C. Wellstood"
          ],
          [
           "Ganesh Sriram"
          ],
          [
           "Gang Qu"
          ],
          [
           "Gerald Borgia"
          ],
          [
           "Gilmer L. Blankenship"
          ],
          [
           "Giovanni Forni"
          ],
          [
           "Gosia Anna Langa Basit"
          ],
          [
           "Hanan Samet"
          ],
          [
           "Hatice Sahinoglu"
          ],
          [
           "Heather L Tienson-Tseng"
          ],
          [
           "Hossein Abbasi"
          ],
          [
           "Howard Smead"
          ],
          [
           "Ilchul Yoon"
          ],
          [
           "Ingrid I. Satelmajer"
          ],
          [
           "Isabel K. Lloyd"
          ],
          [
           "James A. Reggia"
          ],
          [
           "James J McKinney"
          ],
          [
           "James M. Glass"
          ],
          [
           "James M. Purtilo"
          ],
          [
           "Jason D. Kahn"
          ],
          [
           "Jeff Miller"
          ],
          [
           "Jennifer Ann Golbeck"
          ],
          [
           "Jessica Morabito"
          ],
          [
           "Jim B. Golden"
          ],
          [
           "Joelle C. Presson"
          ],
          [
           "Johanna K Birnir"
          ],
          [
           "John Bono"
          ],
          [
           "John Shea"
          ],
          [
           "Jonathan Katz"
          ],
          [
           "Jonathan M. Rosenberg"
          ],
          [
           "Jose Helim Aranda-Espinoza"
          ],
          [
           "Jose M Calderon"
          ],
          [
           "Joseph Perfetti"
          ],
          [
           "Julius Goldhar"
          ],
          [
           "Jungho Kim"
          ],
          [
           "Justicia Opoku-Edusei"
          ],
          [
           "Justin Olav Wyss-Gallifent"
          ],
          [
           "Karen Angeline"
          ],
          [
           "Karen Carleton"
          ],
          [
           "Karin H. Melnick"
          ],
          [
           "Karol E. Soltan"
          ],
          [
           "Katarina Keane"
          ],
          [
           "Katherine Joshi"
          ],
          [
           "Kathryn E. Truman"
          ],
          [
           "Kazim Ruhi"
          ],
          [
           "Keith Yearwood"
          ],
          [
           "Kenneth Frauwirth"
          ],
          [
           "Kenneth L. Leonard"
          ],
          [
           "Kimberly Paczolt"
          ],
          [
           "Korey R. Rothman"
          ],
          [
           "Kyle Dorsey"
          ],
          [
           "Larry Herman"
          ],
          [
           "Lawrence C. Washington"
          ],
          [
           "Leah G Dodson"
          ],
          [
           "Lee Friedman"
          ],
          [
           "Lei Zhou"
          ],
          [
           "Leo H. Shapiro"
          ],
          [
           "Leonid Koralov"
          ],
          [
           "Leslie A Mostow"
          ],
          [
           "Lillian E. Doherty"
          ],
          [
           "Linda K. Coleman"
          ],
          [
           "Lori A Sefton"
          ],
          [
           "Louiqa Raschid"
          ],
          [
           "Lyle D. Isaacs"
          ],
          [
           "Magdalene N. Ngeve"
          ],
          [
           "Makiko Inoue"
          ],
          [
           "Manoj Franklin"
          ],
          [
           "Manoussos Grillakis"
          ],
          [
           "Marcia A. Shofner"
          ],
          [
           "Margaret J. Antonisse"
          ],
          [
           "Maria K. Cameron"
          ],
          [
           "Mark A. Forrester"
          ],
          [
           "Martina Copelman"
          ],
          [
           "Mary L. Bowden"
          ],
          [
           "Marybeth Shea"
          ],
          [
           "Matei Machedon"
          ],
          [
           "Matt Severson"
          ],
          [
           "Matthew Griffin"
          ],
          [
           "Melissa Carry"
          ],
          [
           "Melissa N Hayes-Gehrke"
          ],
          [
           "Michael Jakobson"
          ],
          [
           "Michael Larson"
          ],
          [
           "Michael Olmert"
          ],
          [
           "Michael P Montague-Smith"
          ],
          [
           "Michael Pacella"
          ],
          [
           "Michael Ross"
          ],
          [
           "Michael S. Winett"
          ],
          [
           "Michel Cukier"
          ],
          [
           "Michelle M. Hugue"
          ],
          [
           "Mohammad Nayeem Teli"
          ],
          [
           "Monique Koppel"
          ],
          [
           "Nam Sun Wang"
          ],
          [
           "Natalia L. White"
          ],
          [
           "Nathan Manning"
          ],
          [
           "Naveen Sarna"
          ],
          [
           "Nazish M. Salahuddin"
          ],
          [
           "Nelson Padua-Perez"
          ],
          [
           "Niranjan Ramachandran"
          ],
          [
           "Patrick Brosnan"
          ],
          [
           "Patrick R. Warfield"
          ],
          [
           "Pedram Sadeghian"
          ],
          [
           "Penny Jacobs"
          ],
          [
           "Peter B. Sunderland"
          ],
          [
           "Peter C. Chang"
          ],
          [
           "Peter J. Coughlin"
          ],
          [
           "Peter Keleher"
          ],
          [
           "Peter Kofinas"
          ],
          [
           "Peter Shawhan"
          ],
          [
           "Piotr T. Swistak"
          ],
          [
           "Progyan Basu"
          ],
          [
           "Rabindra N. Mohapatra"
          ],
          [
           "Rachel Ann VanDaalen"
          ],
          [
           "Radu Lazar"
          ],
          [
           "Raluca I. Rosca"
          ],
          [
           "Raymond J. StLeger"
          ],
          [
           "Regina Ianozi"
          ],
          [
           "Reid S. Compton"
          ],
          [
           "Rex Weil"
          ],
          [
           "Richard A. Hutchins"
          ],
          [
           "Richard Alan Wentworth"
          ],
          [
           "Richard E. Klank"
          ],
          [
           "Robert E. Koulish"
          ],
          [
           "Robert R Lucci"
          ],
          [
           "Rodrigo Trevino"
          ],
          [
           "Roger D. Eastman"
          ],
          [
           "Ronit Eisenbach"
          ],
          [
           "Roohollah Ebrahimian"
          ],
          [
           "Roxanne Lefkoff"
          ],
          [
           "Ryan O'Grady"
          ],
          [
           "Ryan Smith"
          ],
          [
           "Sabrina Leroe"
          ],
          [
           "Samuel J. Kerstein"
          ],
          [
           "Sangeetha Madhavan"
          ],
          [
           "Sara Via"
          ],
          [
           "Scott Kastner"
          ],
          [
           "Sergei I. Sukharev"
          ],
          [
           "Stefan Doboszczak"
          ],
          [
           "Stefania Scandizzo"
          ],
          [
           "Stephen M. Mount"
          ],
          [
           "Steven Mansbach"
          ],
          [
           "Sujith S. Kumar"
          ],
          [
           "Susan D. Moeller"
          ],
          [
           "Swarna Mohan"
          ],
          [
           "Tammatha O'Brien"
          ],
          [
           "Thomas E. Murphy"
          ],
          [
           "Thomas Kaiser"
          ],
          [
           "Timothy Horiuchi"
          ],
          [
           "Timothy John Pilachowski"
          ],
          [
           "Tobias von Petersdorff"
          ],
          [
           "Toby Egan"
          ],
          [
           "Tonia Bleam"
          ],
          [
           "Tracey L. Centorbi"
          ],
          [
           "William Gasarch"
          ],
          [
           "William Hawkins"
          ],
          [
           "William R. Schildknecht"
          ],
          [
           "Wiseley Wong"
          ],
          [
           "Wojciech Czaja"
          ],
          [
           "Yavuz A. Oruc"
          ],
          [
           "Yijing Wu"
          ],
          [
           "Zeinab A Karake"
          ]
         ],
         "hovertemplate": "average_rating=%{x}<br>salary=%{y}<br>name=%{customdata[0]}<extra></extra>",
         "legendgroup": "",
         "marker": {
          "color": "#636efa",
          "symbol": "circle"
         },
         "mode": "markers",
         "name": "",
         "orientation": "v",
         "showlegend": false,
         "type": "scatter",
         "x": [
          2.5455,
          4.1429,
          2.375,
          3.5,
          4,
          2.3415,
          3.7632,
          2,
          3.7857,
          3.7,
          4.6154,
          2.9167,
          1.7273,
          3.4324,
          4.75,
          5,
          1.2857,
          3.9167,
          4.2162,
          4.5385,
          4.7059,
          4,
          3.8182,
          3.6818,
          4.75,
          4.0833,
          3.55,
          2.7576,
          4.0833,
          2.9286,
          2.7794,
          3.8462,
          4.7333,
          4.4286,
          2.5333,
          4.5455,
          4.0909,
          3.6279,
          4.875,
          3.6364,
          2.3636,
          2.5,
          2.4667,
          4.6154,
          5,
          2.1818,
          1.8333,
          4.8333,
          3.8814,
          4.5,
          4.5778,
          5,
          4.8125,
          3.8462,
          2.9583,
          3.8,
          4.0455,
          3.9412,
          2.4545,
          4.3182,
          2.254,
          4.0455,
          4.3333,
          2.8095,
          3.3529,
          1.6875,
          3.1053,
          1.9412,
          2.5455,
          1.5455,
          1.9032,
          1.4286,
          4.1111,
          4.6,
          2.76,
          4.5,
          2.0556,
          4.0909,
          2.9231,
          3.7778,
          2.4167,
          3.25,
          4.0556,
          4,
          3.25,
          3.3636,
          4.1333,
          2.6429,
          4.1429,
          4.2683,
          3.7273,
          2.5714,
          2.0588,
          4.75,
          4.6667,
          2.5,
          3.3889,
          3.8571,
          4.8693,
          3.9091,
          4.5,
          2.7273,
          3.25,
          4.5556,
          3.9091,
          4,
          2.9259,
          2.8333,
          3.6875,
          3.1111,
          2.6364,
          4.02,
          4.8333,
          3.0464,
          4.871,
          1.6667,
          3.4167,
          2.3636,
          3,
          3.1765,
          3.3636,
          3.7059,
          3.4167,
          3.2857,
          2.3571,
          4.0588,
          3.4474,
          3.8333,
          3.6538,
          3.1923,
          4,
          3.7778,
          2.0556,
          4.8824,
          2.625,
          4.85,
          4.2,
          3.7045,
          3,
          3.7037,
          1.8,
          3.4857,
          2.35,
          3.25,
          3.9091,
          4.2368,
          4.7143,
          4.4167,
          2,
          1.4545,
          2.4615,
          3.1892,
          3.0385,
          2.1818,
          2.9167,
          3.2368,
          3.9167,
          4.7333,
          4.1565,
          4.7222,
          3.8125,
          4.125,
          3.5,
          2.0667,
          3.0714,
          1.963,
          2.963,
          2.619,
          4.125,
          3.6842,
          3.4286,
          3.6024,
          3.1667,
          4.0833,
          3.3443,
          2.2258,
          3.875,
          4.2,
          2.7778,
          3.95,
          2.4667,
          3,
          2.6875,
          2.6875,
          5,
          2.2,
          3.913,
          3.2917,
          4.6897,
          3.4643,
          4.7692,
          4.9091,
          4.2308,
          3.5385,
          1.75,
          2.1463,
          4.2857,
          4,
          4.9032,
          2.7391,
          2.5,
          4.7273,
          3.2,
          2.8148,
          2.6667,
          3.7857,
          5,
          4.3158,
          4.3333,
          3.0746,
          3.0625,
          4.75,
          4.5556,
          2.9286,
          4.2353,
          2.0952,
          4.9231,
          4.875,
          4,
          3.1875,
          3.1818,
          3.5385
         ],
         "xaxis": "x",
         "y": [
          165991.71000000002,
          123336.92,
          163382.57,
          81919.04,
          131174.31,
          129185.2,
          92901.82,
          260731.99,
          76953.34,
          65312.78,
          127538.98,
          164304.2,
          179499.1,
          127356.16,
          314001.52,
          93892.58,
          139087.07,
          249314.84,
          189730.77,
          82620.64,
          59119.32,
          110627.88,
          97688.67,
          24171.31,
          71456.47,
          140589.15,
          182740.84,
          112735.11,
          56304.13,
          83325,
          96010.86,
          65220.75,
          12923.96,
          164650.41,
          104894.62,
          189383.35,
          92192.08,
          140307.04,
          121316.09,
          59611.25,
          52520,
          119090.81,
          142669.96,
          138650.73,
          50685.84,
          222098.91,
          225008,
          169005.78999999998,
          151504.67,
          178372.43,
          156925.68,
          10666.2,
          219584.49,
          101588.32,
          69323.45,
          102564.68,
          83989.15,
          80921.41,
          135869.08,
          173715.31,
          126933.43,
          90074.86,
          184118.89,
          127273.25,
          207505.56,
          118546.17,
          148486.36,
          182708.87,
          105547.59,
          343420.83,
          82537.38,
          57570,
          87204.35,
          41423.34,
          110983.06,
          33144.56,
          121629.31,
          187400.91999999998,
          166472.84,
          167976.38,
          224987.06,
          102600.36,
          113911.49,
          150190.84,
          61245.39,
          50685.84,
          128311.53,
          164126.96,
          138768.63,
          145596.66,
          320595.01,
          173584.51,
          116606.35,
          109325.5,
          102334.2,
          204563.38,
          203530.44,
          79697.39,
          104395.75,
          55188.43,
          139040.36,
          186659.93,
          103059.12,
          97254.61,
          55188.43,
          77014.78,
          149333.57,
          63403.75,
          81814.2,
          188269.25,
          71506.24,
          123869.09,
          61245.39,
          125832.48,
          170910.76,
          97906.03,
          90052.15,
          126063.19,
          76451.88,
          158879.15,
          65601.98,
          117495.74,
          88893.31,
          52520,
          196175.72,
          161345.54,
          38821.88,
          46291.49,
          168847.73,
          152961.54,
          78493.59,
          60471.07,
          133948.65,
          61946.54,
          87204.34,
          138654,
          61946.54,
          140549,
          87834.44,
          74620.82,
          47290.87,
          99384,
          138256.49,
          69817.13,
          76125.22,
          133712.95,
          49722.3,
          124714.81,
          55188.43,
          202907.3,
          96894.81,
          116778.25,
          80185,
          104692,
          78043.84,
          85330.04,
          84885.47,
          119903.95,
          132250.23,
          139284.02,
          160969,
          176753.41,
          115713.34,
          119958.12,
          194395.64,
          109887.82,
          91014.26,
          143056.34,
          262377.25,
          166039.38,
          100239.45,
          190505.51,
          222940.79,
          41662.5,
          127334.24,
          67190.42,
          155930.12,
          57974,
          119251.24,
          20625.33,
          16316.07,
          209486.53,
          88152,
          144420.16,
          50685.84,
          114860.42,
          144880.13,
          130083.95,
          85330.04,
          158071.16,
          85004.38,
          16694.58,
          68829.62,
          202216.28,
          207050,
          111324.63,
          136712.07,
          150016.18,
          74249.67,
          84812.91,
          110814.35,
          247245.53,
          29278.15,
          157246.16,
          79988.59,
          98434.14,
          244342.68,
          12209.26,
          152237.24,
          66906.21,
          98378.25,
          136052.19,
          60524.58,
          51885.93,
          150073.28,
          82197.53,
          15004.03,
          85330.04,
          211964.19,
          112881.19,
          67632.63,
          206252.24
         ],
         "yaxis": "y"
        }
       ],
       "layout": {
        "legend": {
         "tracegroupgap": 0
        },
        "margin": {
         "t": 60
        },
        "template": {
         "data": {
          "bar": [
           {
            "error_x": {
             "color": "#2a3f5f"
            },
            "error_y": {
             "color": "#2a3f5f"
            },
            "marker": {
             "line": {
              "color": "#E5ECF6",
              "width": 0.5
             },
             "pattern": {
              "fillmode": "overlay",
              "size": 10,
              "solidity": 0.2
             }
            },
            "type": "bar"
           }
          ],
          "barpolar": [
           {
            "marker": {
             "line": {
              "color": "#E5ECF6",
              "width": 0.5
             },
             "pattern": {
              "fillmode": "overlay",
              "size": 10,
              "solidity": 0.2
             }
            },
            "type": "barpolar"
           }
          ],
          "carpet": [
           {
            "aaxis": {
             "endlinecolor": "#2a3f5f",
             "gridcolor": "white",
             "linecolor": "white",
             "minorgridcolor": "white",
             "startlinecolor": "#2a3f5f"
            },
            "baxis": {
             "endlinecolor": "#2a3f5f",
             "gridcolor": "white",
             "linecolor": "white",
             "minorgridcolor": "white",
             "startlinecolor": "#2a3f5f"
            },
            "type": "carpet"
           }
          ],
          "choropleth": [
           {
            "colorbar": {
             "outlinewidth": 0,
             "ticks": ""
            },
            "type": "choropleth"
           }
          ],
          "contour": [
           {
            "colorbar": {
             "outlinewidth": 0,
             "ticks": ""
            },
            "colorscale": [
             [
              0,
              "#0d0887"
             ],
             [
              0.1111111111111111,
              "#46039f"
             ],
             [
              0.2222222222222222,
              "#7201a8"
             ],
             [
              0.3333333333333333,
              "#9c179e"
             ],
             [
              0.4444444444444444,
              "#bd3786"
             ],
             [
              0.5555555555555556,
              "#d8576b"
             ],
             [
              0.6666666666666666,
              "#ed7953"
             ],
             [
              0.7777777777777778,
              "#fb9f3a"
             ],
             [
              0.8888888888888888,
              "#fdca26"
             ],
             [
              1,
              "#f0f921"
             ]
            ],
            "type": "contour"
           }
          ],
          "contourcarpet": [
           {
            "colorbar": {
             "outlinewidth": 0,
             "ticks": ""
            },
            "type": "contourcarpet"
           }
          ],
          "heatmap": [
           {
            "colorbar": {
             "outlinewidth": 0,
             "ticks": ""
            },
            "colorscale": [
             [
              0,
              "#0d0887"
             ],
             [
              0.1111111111111111,
              "#46039f"
             ],
             [
              0.2222222222222222,
              "#7201a8"
             ],
             [
              0.3333333333333333,
              "#9c179e"
             ],
             [
              0.4444444444444444,
              "#bd3786"
             ],
             [
              0.5555555555555556,
              "#d8576b"
             ],
             [
              0.6666666666666666,
              "#ed7953"
             ],
             [
              0.7777777777777778,
              "#fb9f3a"
             ],
             [
              0.8888888888888888,
              "#fdca26"
             ],
             [
              1,
              "#f0f921"
             ]
            ],
            "type": "heatmap"
           }
          ],
          "heatmapgl": [
           {
            "colorbar": {
             "outlinewidth": 0,
             "ticks": ""
            },
            "colorscale": [
             [
              0,
              "#0d0887"
             ],
             [
              0.1111111111111111,
              "#46039f"
             ],
             [
              0.2222222222222222,
              "#7201a8"
             ],
             [
              0.3333333333333333,
              "#9c179e"
             ],
             [
              0.4444444444444444,
              "#bd3786"
             ],
             [
              0.5555555555555556,
              "#d8576b"
             ],
             [
              0.6666666666666666,
              "#ed7953"
             ],
             [
              0.7777777777777778,
              "#fb9f3a"
             ],
             [
              0.8888888888888888,
              "#fdca26"
             ],
             [
              1,
              "#f0f921"
             ]
            ],
            "type": "heatmapgl"
           }
          ],
          "histogram": [
           {
            "marker": {
             "pattern": {
              "fillmode": "overlay",
              "size": 10,
              "solidity": 0.2
             }
            },
            "type": "histogram"
           }
          ],
          "histogram2d": [
           {
            "colorbar": {
             "outlinewidth": 0,
             "ticks": ""
            },
            "colorscale": [
             [
              0,
              "#0d0887"
             ],
             [
              0.1111111111111111,
              "#46039f"
             ],
             [
              0.2222222222222222,
              "#7201a8"
             ],
             [
              0.3333333333333333,
              "#9c179e"
             ],
             [
              0.4444444444444444,
              "#bd3786"
             ],
             [
              0.5555555555555556,
              "#d8576b"
             ],
             [
              0.6666666666666666,
              "#ed7953"
             ],
             [
              0.7777777777777778,
              "#fb9f3a"
             ],
             [
              0.8888888888888888,
              "#fdca26"
             ],
             [
              1,
              "#f0f921"
             ]
            ],
            "type": "histogram2d"
           }
          ],
          "histogram2dcontour": [
           {
            "colorbar": {
             "outlinewidth": 0,
             "ticks": ""
            },
            "colorscale": [
             [
              0,
              "#0d0887"
             ],
             [
              0.1111111111111111,
              "#46039f"
             ],
             [
              0.2222222222222222,
              "#7201a8"
             ],
             [
              0.3333333333333333,
              "#9c179e"
             ],
             [
              0.4444444444444444,
              "#bd3786"
             ],
             [
              0.5555555555555556,
              "#d8576b"
             ],
             [
              0.6666666666666666,
              "#ed7953"
             ],
             [
              0.7777777777777778,
              "#fb9f3a"
             ],
             [
              0.8888888888888888,
              "#fdca26"
             ],
             [
              1,
              "#f0f921"
             ]
            ],
            "type": "histogram2dcontour"
           }
          ],
          "mesh3d": [
           {
            "colorbar": {
             "outlinewidth": 0,
             "ticks": ""
            },
            "type": "mesh3d"
           }
          ],
          "parcoords": [
           {
            "line": {
             "colorbar": {
              "outlinewidth": 0,
              "ticks": ""
             }
            },
            "type": "parcoords"
           }
          ],
          "pie": [
           {
            "automargin": true,
            "type": "pie"
           }
          ],
          "scatter": [
           {
            "fillpattern": {
             "fillmode": "overlay",
             "size": 10,
             "solidity": 0.2
            },
            "type": "scatter"
           }
          ],
          "scatter3d": [
           {
            "line": {
             "colorbar": {
              "outlinewidth": 0,
              "ticks": ""
             }
            },
            "marker": {
             "colorbar": {
              "outlinewidth": 0,
              "ticks": ""
             }
            },
            "type": "scatter3d"
           }
          ],
          "scattercarpet": [
           {
            "marker": {
             "colorbar": {
              "outlinewidth": 0,
              "ticks": ""
             }
            },
            "type": "scattercarpet"
           }
          ],
          "scattergeo": [
           {
            "marker": {
             "colorbar": {
              "outlinewidth": 0,
              "ticks": ""
             }
            },
            "type": "scattergeo"
           }
          ],
          "scattergl": [
           {
            "marker": {
             "colorbar": {
              "outlinewidth": 0,
              "ticks": ""
             }
            },
            "type": "scattergl"
           }
          ],
          "scattermapbox": [
           {
            "marker": {
             "colorbar": {
              "outlinewidth": 0,
              "ticks": ""
             }
            },
            "type": "scattermapbox"
           }
          ],
          "scatterpolar": [
           {
            "marker": {
             "colorbar": {
              "outlinewidth": 0,
              "ticks": ""
             }
            },
            "type": "scatterpolar"
           }
          ],
          "scatterpolargl": [
           {
            "marker": {
             "colorbar": {
              "outlinewidth": 0,
              "ticks": ""
             }
            },
            "type": "scatterpolargl"
           }
          ],
          "scatterternary": [
           {
            "marker": {
             "colorbar": {
              "outlinewidth": 0,
              "ticks": ""
             }
            },
            "type": "scatterternary"
           }
          ],
          "surface": [
           {
            "colorbar": {
             "outlinewidth": 0,
             "ticks": ""
            },
            "colorscale": [
             [
              0,
              "#0d0887"
             ],
             [
              0.1111111111111111,
              "#46039f"
             ],
             [
              0.2222222222222222,
              "#7201a8"
             ],
             [
              0.3333333333333333,
              "#9c179e"
             ],
             [
              0.4444444444444444,
              "#bd3786"
             ],
             [
              0.5555555555555556,
              "#d8576b"
             ],
             [
              0.6666666666666666,
              "#ed7953"
             ],
             [
              0.7777777777777778,
              "#fb9f3a"
             ],
             [
              0.8888888888888888,
              "#fdca26"
             ],
             [
              1,
              "#f0f921"
             ]
            ],
            "type": "surface"
           }
          ],
          "table": [
           {
            "cells": {
             "fill": {
              "color": "#EBF0F8"
             },
             "line": {
              "color": "white"
             }
            },
            "header": {
             "fill": {
              "color": "#C8D4E3"
             },
             "line": {
              "color": "white"
             }
            },
            "type": "table"
           }
          ]
         },
         "layout": {
          "annotationdefaults": {
           "arrowcolor": "#2a3f5f",
           "arrowhead": 0,
           "arrowwidth": 1
          },
          "autotypenumbers": "strict",
          "coloraxis": {
           "colorbar": {
            "outlinewidth": 0,
            "ticks": ""
           }
          },
          "colorscale": {
           "diverging": [
            [
             0,
             "#8e0152"
            ],
            [
             0.1,
             "#c51b7d"
            ],
            [
             0.2,
             "#de77ae"
            ],
            [
             0.3,
             "#f1b6da"
            ],
            [
             0.4,
             "#fde0ef"
            ],
            [
             0.5,
             "#f7f7f7"
            ],
            [
             0.6,
             "#e6f5d0"
            ],
            [
             0.7,
             "#b8e186"
            ],
            [
             0.8,
             "#7fbc41"
            ],
            [
             0.9,
             "#4d9221"
            ],
            [
             1,
             "#276419"
            ]
           ],
           "sequential": [
            [
             0,
             "#0d0887"
            ],
            [
             0.1111111111111111,
             "#46039f"
            ],
            [
             0.2222222222222222,
             "#7201a8"
            ],
            [
             0.3333333333333333,
             "#9c179e"
            ],
            [
             0.4444444444444444,
             "#bd3786"
            ],
            [
             0.5555555555555556,
             "#d8576b"
            ],
            [
             0.6666666666666666,
             "#ed7953"
            ],
            [
             0.7777777777777778,
             "#fb9f3a"
            ],
            [
             0.8888888888888888,
             "#fdca26"
            ],
            [
             1,
             "#f0f921"
            ]
           ],
           "sequentialminus": [
            [
             0,
             "#0d0887"
            ],
            [
             0.1111111111111111,
             "#46039f"
            ],
            [
             0.2222222222222222,
             "#7201a8"
            ],
            [
             0.3333333333333333,
             "#9c179e"
            ],
            [
             0.4444444444444444,
             "#bd3786"
            ],
            [
             0.5555555555555556,
             "#d8576b"
            ],
            [
             0.6666666666666666,
             "#ed7953"
            ],
            [
             0.7777777777777778,
             "#fb9f3a"
            ],
            [
             0.8888888888888888,
             "#fdca26"
            ],
            [
             1,
             "#f0f921"
            ]
           ]
          },
          "colorway": [
           "#636efa",
           "#EF553B",
           "#00cc96",
           "#ab63fa",
           "#FFA15A",
           "#19d3f3",
           "#FF6692",
           "#B6E880",
           "#FF97FF",
           "#FECB52"
          ],
          "font": {
           "color": "#2a3f5f"
          },
          "geo": {
           "bgcolor": "white",
           "lakecolor": "white",
           "landcolor": "#E5ECF6",
           "showlakes": true,
           "showland": true,
           "subunitcolor": "white"
          },
          "hoverlabel": {
           "align": "left"
          },
          "hovermode": "closest",
          "mapbox": {
           "style": "light"
          },
          "paper_bgcolor": "white",
          "plot_bgcolor": "#E5ECF6",
          "polar": {
           "angularaxis": {
            "gridcolor": "white",
            "linecolor": "white",
            "ticks": ""
           },
           "bgcolor": "#E5ECF6",
           "radialaxis": {
            "gridcolor": "white",
            "linecolor": "white",
            "ticks": ""
           }
          },
          "scene": {
           "xaxis": {
            "backgroundcolor": "#E5ECF6",
            "gridcolor": "white",
            "gridwidth": 2,
            "linecolor": "white",
            "showbackground": true,
            "ticks": "",
            "zerolinecolor": "white"
           },
           "yaxis": {
            "backgroundcolor": "#E5ECF6",
            "gridcolor": "white",
            "gridwidth": 2,
            "linecolor": "white",
            "showbackground": true,
            "ticks": "",
            "zerolinecolor": "white"
           },
           "zaxis": {
            "backgroundcolor": "#E5ECF6",
            "gridcolor": "white",
            "gridwidth": 2,
            "linecolor": "white",
            "showbackground": true,
            "ticks": "",
            "zerolinecolor": "white"
           }
          },
          "shapedefaults": {
           "line": {
            "color": "#2a3f5f"
           }
          },
          "ternary": {
           "aaxis": {
            "gridcolor": "white",
            "linecolor": "white",
            "ticks": ""
           },
           "baxis": {
            "gridcolor": "white",
            "linecolor": "white",
            "ticks": ""
           },
           "bgcolor": "#E5ECF6",
           "caxis": {
            "gridcolor": "white",
            "linecolor": "white",
            "ticks": ""
           }
          },
          "title": {
           "x": 0.05
          },
          "xaxis": {
           "automargin": true,
           "gridcolor": "white",
           "linecolor": "white",
           "ticks": "",
           "title": {
            "standoff": 15
           },
           "zerolinecolor": "white",
           "zerolinewidth": 2
          },
          "yaxis": {
           "automargin": true,
           "gridcolor": "white",
           "linecolor": "white",
           "ticks": "",
           "title": {
            "standoff": 15
           },
           "zerolinecolor": "white",
           "zerolinewidth": 2
          }
         }
        },
        "xaxis": {
         "anchor": "y",
         "domain": [
          0,
          1
         ],
         "title": {
          "text": "average_rating"
         }
        },
        "yaxis": {
         "anchor": "x",
         "domain": [
          0,
          1
         ],
         "title": {
          "text": "salary"
         }
        }
       }
      },
      "text/html": [
       "<div>                            <div id=\"f69c25a3-e27e-463a-b4fe-30183769c572\" class=\"plotly-graph-div\" style=\"height:525px; width:100%;\"></div>            <script type=\"text/javascript\">                require([\"plotly\"], function(Plotly) {                    window.PLOTLYENV=window.PLOTLYENV || {};                                    if (document.getElementById(\"f69c25a3-e27e-463a-b4fe-30183769c572\")) {                    Plotly.newPlot(                        \"f69c25a3-e27e-463a-b4fe-30183769c572\",                        [{\"customdata\":[[\"Adam A. Porter\"],[\"Adrianos Papamarcou\"],[\"Agisilaos Iliadis\"],[\"Alan C Peel\"],[\"Alexandra E. Bely\"],[\"Alice C. Mignerey\"],[\"Alka Gandhi\"],[\"Allan Drazen\"],[\"Amanda Chicoli\"],[\"Amanda J. Schech\"],[\"Amin Gholampour\"],[\"Amol Deshpande\"],[\"Amy S. Mullin\"],[\"Andrei Vedernikov\"],[\"Andrew Childs\"],[\"Andrew Schonebaum\"],[\"Andris Skuja\"],[\"Ankur Srivastava\"],[\"Antoine Mellet\"],[\"Archana Khurana\"],[\"Benjamin Janus\"],[\"Bernard D. Cooperman\"],[\"Beth Parent\"],[\"Bretton W. Kent\"],[\"Carmen Z Cantemir-Stone\"],[\"Chandrasekhar Thamire\"],[\"Charles D. Levermore\"],[\"Charles Lin\"],[\"Chelsea G Mays-Williams\"],[\"Cliff Bakalian\"],[\"Clyde P. Kruskal\"],[\"Cortney Fisher\"],[\"Craig Ian Schlenoff\"],[\"Daniel E. Falvey\"],[\"Danilo B. Romero\"],[\"Dave Levin\"],[\"David B. Sicilia\"],[\"David C. Buehrle\"],[\"David C. Straney\"],[\"David D. Yager\"],[\"David Gormong\"],[\"David H. Hamilton\"],[\"David I. Bigio\"],[\"David I. Kass\"],[\"David J. Brookshire\"],[\"David J. Lovell\"],[\"David L. Akin\"],[\"David Mount\"],[\"Denny Gulick\"],[\"Derek Richardson\"],[\"Dionisios Margetis\"],[\"Dirk Parham\"],[\"Donald Yeung\"],[\"Donna E Howard\"],[\"Dorith Grant-Wisdom\"],[\"Douglas A. Julin\"],[\"Edgar Moctezuma\"],[\"Elinda F Kiss\"],[\"Eric S Haag\"],[\"Erich Studer-Ellis\"],[\"Evan Golub\"],[\"Fernando Rios\"],[\"Frederick C. Wellstood\"],[\"Ganesh Sriram\"],[\"Gang Qu\"],[\"Gerald Borgia\"],[\"Gilmer L. Blankenship\"],[\"Giovanni Forni\"],[\"Gosia Anna Langa Basit\"],[\"Hanan Samet\"],[\"Hatice Sahinoglu\"],[\"Heather L Tienson-Tseng\"],[\"Hossein Abbasi\"],[\"Howard Smead\"],[\"Ilchul Yoon\"],[\"Ingrid I. Satelmajer\"],[\"Isabel K. Lloyd\"],[\"James A. Reggia\"],[\"James J McKinney\"],[\"James M. Glass\"],[\"James M. Purtilo\"],[\"Jason D. Kahn\"],[\"Jeff Miller\"],[\"Jennifer Ann Golbeck\"],[\"Jessica Morabito\"],[\"Jim B. Golden\"],[\"Joelle C. Presson\"],[\"Johanna K Birnir\"],[\"John Bono\"],[\"John Shea\"],[\"Jonathan Katz\"],[\"Jonathan M. Rosenberg\"],[\"Jose Helim Aranda-Espinoza\"],[\"Jose M Calderon\"],[\"Joseph Perfetti\"],[\"Julius Goldhar\"],[\"Jungho Kim\"],[\"Justicia Opoku-Edusei\"],[\"Justin Olav Wyss-Gallifent\"],[\"Karen Angeline\"],[\"Karen Carleton\"],[\"Karin H. Melnick\"],[\"Karol E. Soltan\"],[\"Katarina Keane\"],[\"Katherine Joshi\"],[\"Kathryn E. Truman\"],[\"Kazim Ruhi\"],[\"Keith Yearwood\"],[\"Kenneth Frauwirth\"],[\"Kenneth L. Leonard\"],[\"Kimberly Paczolt\"],[\"Korey R. Rothman\"],[\"Kyle Dorsey\"],[\"Larry Herman\"],[\"Lawrence C. Washington\"],[\"Leah G Dodson\"],[\"Lee Friedman\"],[\"Lei Zhou\"],[\"Leo H. Shapiro\"],[\"Leonid Koralov\"],[\"Leslie A Mostow\"],[\"Lillian E. Doherty\"],[\"Linda K. Coleman\"],[\"Lori A Sefton\"],[\"Louiqa Raschid\"],[\"Lyle D. Isaacs\"],[\"Magdalene N. Ngeve\"],[\"Makiko Inoue\"],[\"Manoj Franklin\"],[\"Manoussos Grillakis\"],[\"Marcia A. Shofner\"],[\"Margaret J. Antonisse\"],[\"Maria K. Cameron\"],[\"Mark A. Forrester\"],[\"Martina Copelman\"],[\"Mary L. Bowden\"],[\"Marybeth Shea\"],[\"Matei Machedon\"],[\"Matt Severson\"],[\"Matthew Griffin\"],[\"Melissa Carry\"],[\"Melissa N Hayes-Gehrke\"],[\"Michael Jakobson\"],[\"Michael Larson\"],[\"Michael Olmert\"],[\"Michael P Montague-Smith\"],[\"Michael Pacella\"],[\"Michael Ross\"],[\"Michael S. Winett\"],[\"Michel Cukier\"],[\"Michelle M. Hugue\"],[\"Mohammad Nayeem Teli\"],[\"Monique Koppel\"],[\"Nam Sun Wang\"],[\"Natalia L. White\"],[\"Nathan Manning\"],[\"Naveen Sarna\"],[\"Nazish M. Salahuddin\"],[\"Nelson Padua-Perez\"],[\"Niranjan Ramachandran\"],[\"Patrick Brosnan\"],[\"Patrick R. Warfield\"],[\"Pedram Sadeghian\"],[\"Penny Jacobs\"],[\"Peter B. Sunderland\"],[\"Peter C. Chang\"],[\"Peter J. Coughlin\"],[\"Peter Keleher\"],[\"Peter Kofinas\"],[\"Peter Shawhan\"],[\"Piotr T. Swistak\"],[\"Progyan Basu\"],[\"Rabindra N. Mohapatra\"],[\"Rachel Ann VanDaalen\"],[\"Radu Lazar\"],[\"Raluca I. Rosca\"],[\"Raymond J. StLeger\"],[\"Regina Ianozi\"],[\"Reid S. Compton\"],[\"Rex Weil\"],[\"Richard A. Hutchins\"],[\"Richard Alan Wentworth\"],[\"Richard E. Klank\"],[\"Robert E. Koulish\"],[\"Robert R Lucci\"],[\"Rodrigo Trevino\"],[\"Roger D. Eastman\"],[\"Ronit Eisenbach\"],[\"Roohollah Ebrahimian\"],[\"Roxanne Lefkoff\"],[\"Ryan O'Grady\"],[\"Ryan Smith\"],[\"Sabrina Leroe\"],[\"Samuel J. Kerstein\"],[\"Sangeetha Madhavan\"],[\"Sara Via\"],[\"Scott Kastner\"],[\"Sergei I. Sukharev\"],[\"Stefan Doboszczak\"],[\"Stefania Scandizzo\"],[\"Stephen M. Mount\"],[\"Steven Mansbach\"],[\"Sujith S. Kumar\"],[\"Susan D. Moeller\"],[\"Swarna Mohan\"],[\"Tammatha O'Brien\"],[\"Thomas E. Murphy\"],[\"Thomas Kaiser\"],[\"Timothy Horiuchi\"],[\"Timothy John Pilachowski\"],[\"Tobias von Petersdorff\"],[\"Toby Egan\"],[\"Tonia Bleam\"],[\"Tracey L. Centorbi\"],[\"William Gasarch\"],[\"William Hawkins\"],[\"William R. Schildknecht\"],[\"Wiseley Wong\"],[\"Wojciech Czaja\"],[\"Yavuz A. Oruc\"],[\"Yijing Wu\"],[\"Zeinab A Karake\"]],\"hovertemplate\":\"average_rating=%{x}<br>salary=%{y}<br>name=%{customdata[0]}<extra></extra>\",\"legendgroup\":\"\",\"marker\":{\"color\":\"#636efa\",\"symbol\":\"circle\"},\"mode\":\"markers\",\"name\":\"\",\"orientation\":\"v\",\"showlegend\":false,\"x\":[2.5455,4.1429,2.375,3.5,4.0,2.3415,3.7632,2.0,3.7857,3.7,4.6154,2.9167,1.7273,3.4324,4.75,5.0,1.2857,3.9167,4.2162,4.5385,4.7059,4.0,3.8182,3.6818,4.75,4.0833,3.55,2.7576,4.0833,2.9286,2.7794,3.8462,4.7333,4.4286,2.5333,4.5455,4.0909,3.6279,4.875,3.6364,2.3636,2.5,2.4667,4.6154,5.0,2.1818,1.8333,4.8333,3.8814,4.5,4.5778,5.0,4.8125,3.8462,2.9583,3.8,4.0455,3.9412,2.4545,4.3182,2.254,4.0455,4.3333,2.8095,3.3529,1.6875,3.1053,1.9412,2.5455,1.5455,1.9032,1.4286,4.1111,4.6,2.76,4.5,2.0556,4.0909,2.9231,3.7778,2.4167,3.25,4.0556,4.0,3.25,3.3636,4.1333,2.6429,4.1429,4.2683,3.7273,2.5714,2.0588,4.75,4.6667,2.5,3.3889,3.8571,4.8693,3.9091,4.5,2.7273,3.25,4.5556,3.9091,4.0,2.9259,2.8333,3.6875,3.1111,2.6364,4.02,4.8333,3.0464,4.871,1.6667,3.4167,2.3636,3.0,3.1765,3.3636,3.7059,3.4167,3.2857,2.3571,4.0588,3.4474,3.8333,3.6538,3.1923,4.0,3.7778,2.0556,4.8824,2.625,4.85,4.2,3.7045,3.0,3.7037,1.8,3.4857,2.35,3.25,3.9091,4.2368,4.7143,4.4167,2.0,1.4545,2.4615,3.1892,3.0385,2.1818,2.9167,3.2368,3.9167,4.7333,4.1565,4.7222,3.8125,4.125,3.5,2.0667,3.0714,1.963,2.963,2.619,4.125,3.6842,3.4286,3.6024,3.1667,4.0833,3.3443,2.2258,3.875,4.2,2.7778,3.95,2.4667,3.0,2.6875,2.6875,5.0,2.2,3.913,3.2917,4.6897,3.4643,4.7692,4.9091,4.2308,3.5385,1.75,2.1463,4.2857,4.0,4.9032,2.7391,2.5,4.7273,3.2,2.8148,2.6667,3.7857,5.0,4.3158,4.3333,3.0746,3.0625,4.75,4.5556,2.9286,4.2353,2.0952,4.9231,4.875,4.0,3.1875,3.1818,3.5385],\"xaxis\":\"x\",\"y\":[165991.71000000002,123336.92,163382.57,81919.04,131174.31,129185.2,92901.82,260731.99,76953.34,65312.78,127538.98,164304.2,179499.1,127356.16,314001.52,93892.58,139087.07,249314.84,189730.77,82620.64,59119.32,110627.88,97688.67,24171.31,71456.47,140589.15,182740.84,112735.11,56304.13,83325.0,96010.86,65220.75,12923.96,164650.41,104894.62,189383.35,92192.08,140307.04,121316.09,59611.25,52520.0,119090.81,142669.96,138650.73,50685.84,222098.91,225008.0,169005.78999999998,151504.67,178372.43,156925.68,10666.2,219584.49,101588.32,69323.45,102564.68,83989.15,80921.41,135869.08,173715.31,126933.43,90074.86,184118.89,127273.25,207505.56,118546.17,148486.36,182708.87,105547.59,343420.83,82537.38,57570.0,87204.35,41423.34,110983.06,33144.56,121629.31,187400.91999999998,166472.84,167976.38,224987.06,102600.36,113911.49,150190.84,61245.39,50685.84,128311.53,164126.96,138768.63,145596.66,320595.01,173584.51,116606.35,109325.5,102334.2,204563.38,203530.44,79697.39,104395.75,55188.43,139040.36,186659.93,103059.12,97254.61,55188.43,77014.78,149333.57,63403.75,81814.2,188269.25,71506.24,123869.09,61245.39,125832.48,170910.76,97906.03,90052.15,126063.19,76451.88,158879.15,65601.98,117495.74,88893.31,52520.0,196175.72,161345.54,38821.88,46291.49,168847.73,152961.54,78493.59,60471.07,133948.65,61946.54,87204.34,138654.0,61946.54,140549.0,87834.44,74620.82,47290.87,99384.0,138256.49,69817.13,76125.22,133712.95,49722.3,124714.81,55188.43,202907.3,96894.81,116778.25,80185.0,104692.0,78043.84,85330.04,84885.47,119903.95,132250.23,139284.02,160969.0,176753.41,115713.34,119958.12,194395.64,109887.82,91014.26,143056.34,262377.25,166039.38,100239.45,190505.51,222940.79,41662.5,127334.24,67190.42,155930.12,57974.0,119251.24,20625.33,16316.07,209486.53,88152.0,144420.16,50685.84,114860.42,144880.13,130083.95,85330.04,158071.16,85004.38,16694.58,68829.62,202216.28,207050.0,111324.63,136712.07,150016.18,74249.67,84812.91,110814.35,247245.53,29278.15,157246.16,79988.59,98434.14,244342.68,12209.26,152237.24,66906.21,98378.25,136052.19,60524.58,51885.93,150073.28,82197.53,15004.03,85330.04,211964.19,112881.19,67632.63,206252.24],\"yaxis\":\"y\",\"type\":\"scatter\"}],                        {\"template\":{\"data\":{\"histogram2dcontour\":[{\"type\":\"histogram2dcontour\",\"colorbar\":{\"outlinewidth\":0,\"ticks\":\"\"},\"colorscale\":[[0.0,\"#0d0887\"],[0.1111111111111111,\"#46039f\"],[0.2222222222222222,\"#7201a8\"],[0.3333333333333333,\"#9c179e\"],[0.4444444444444444,\"#bd3786\"],[0.5555555555555556,\"#d8576b\"],[0.6666666666666666,\"#ed7953\"],[0.7777777777777778,\"#fb9f3a\"],[0.8888888888888888,\"#fdca26\"],[1.0,\"#f0f921\"]]}],\"choropleth\":[{\"type\":\"choropleth\",\"colorbar\":{\"outlinewidth\":0,\"ticks\":\"\"}}],\"histogram2d\":[{\"type\":\"histogram2d\",\"colorbar\":{\"outlinewidth\":0,\"ticks\":\"\"},\"colorscale\":[[0.0,\"#0d0887\"],[0.1111111111111111,\"#46039f\"],[0.2222222222222222,\"#7201a8\"],[0.3333333333333333,\"#9c179e\"],[0.4444444444444444,\"#bd3786\"],[0.5555555555555556,\"#d8576b\"],[0.6666666666666666,\"#ed7953\"],[0.7777777777777778,\"#fb9f3a\"],[0.8888888888888888,\"#fdca26\"],[1.0,\"#f0f921\"]]}],\"heatmap\":[{\"type\":\"heatmap\",\"colorbar\":{\"outlinewidth\":0,\"ticks\":\"\"},\"colorscale\":[[0.0,\"#0d0887\"],[0.1111111111111111,\"#46039f\"],[0.2222222222222222,\"#7201a8\"],[0.3333333333333333,\"#9c179e\"],[0.4444444444444444,\"#bd3786\"],[0.5555555555555556,\"#d8576b\"],[0.6666666666666666,\"#ed7953\"],[0.7777777777777778,\"#fb9f3a\"],[0.8888888888888888,\"#fdca26\"],[1.0,\"#f0f921\"]]}],\"heatmapgl\":[{\"type\":\"heatmapgl\",\"colorbar\":{\"outlinewidth\":0,\"ticks\":\"\"},\"colorscale\":[[0.0,\"#0d0887\"],[0.1111111111111111,\"#46039f\"],[0.2222222222222222,\"#7201a8\"],[0.3333333333333333,\"#9c179e\"],[0.4444444444444444,\"#bd3786\"],[0.5555555555555556,\"#d8576b\"],[0.6666666666666666,\"#ed7953\"],[0.7777777777777778,\"#fb9f3a\"],[0.8888888888888888,\"#fdca26\"],[1.0,\"#f0f921\"]]}],\"contourcarpet\":[{\"type\":\"contourcarpet\",\"colorbar\":{\"outlinewidth\":0,\"ticks\":\"\"}}],\"contour\":[{\"type\":\"contour\",\"colorbar\":{\"outlinewidth\":0,\"ticks\":\"\"},\"colorscale\":[[0.0,\"#0d0887\"],[0.1111111111111111,\"#46039f\"],[0.2222222222222222,\"#7201a8\"],[0.3333333333333333,\"#9c179e\"],[0.4444444444444444,\"#bd3786\"],[0.5555555555555556,\"#d8576b\"],[0.6666666666666666,\"#ed7953\"],[0.7777777777777778,\"#fb9f3a\"],[0.8888888888888888,\"#fdca26\"],[1.0,\"#f0f921\"]]}],\"surface\":[{\"type\":\"surface\",\"colorbar\":{\"outlinewidth\":0,\"ticks\":\"\"},\"colorscale\":[[0.0,\"#0d0887\"],[0.1111111111111111,\"#46039f\"],[0.2222222222222222,\"#7201a8\"],[0.3333333333333333,\"#9c179e\"],[0.4444444444444444,\"#bd3786\"],[0.5555555555555556,\"#d8576b\"],[0.6666666666666666,\"#ed7953\"],[0.7777777777777778,\"#fb9f3a\"],[0.8888888888888888,\"#fdca26\"],[1.0,\"#f0f921\"]]}],\"mesh3d\":[{\"type\":\"mesh3d\",\"colorbar\":{\"outlinewidth\":0,\"ticks\":\"\"}}],\"scatter\":[{\"fillpattern\":{\"fillmode\":\"overlay\",\"size\":10,\"solidity\":0.2},\"type\":\"scatter\"}],\"parcoords\":[{\"type\":\"parcoords\",\"line\":{\"colorbar\":{\"outlinewidth\":0,\"ticks\":\"\"}}}],\"scatterpolargl\":[{\"type\":\"scatterpolargl\",\"marker\":{\"colorbar\":{\"outlinewidth\":0,\"ticks\":\"\"}}}],\"bar\":[{\"error_x\":{\"color\":\"#2a3f5f\"},\"error_y\":{\"color\":\"#2a3f5f\"},\"marker\":{\"line\":{\"color\":\"#E5ECF6\",\"width\":0.5},\"pattern\":{\"fillmode\":\"overlay\",\"size\":10,\"solidity\":0.2}},\"type\":\"bar\"}],\"scattergeo\":[{\"type\":\"scattergeo\",\"marker\":{\"colorbar\":{\"outlinewidth\":0,\"ticks\":\"\"}}}],\"scatterpolar\":[{\"type\":\"scatterpolar\",\"marker\":{\"colorbar\":{\"outlinewidth\":0,\"ticks\":\"\"}}}],\"histogram\":[{\"marker\":{\"pattern\":{\"fillmode\":\"overlay\",\"size\":10,\"solidity\":0.2}},\"type\":\"histogram\"}],\"scattergl\":[{\"type\":\"scattergl\",\"marker\":{\"colorbar\":{\"outlinewidth\":0,\"ticks\":\"\"}}}],\"scatter3d\":[{\"type\":\"scatter3d\",\"line\":{\"colorbar\":{\"outlinewidth\":0,\"ticks\":\"\"}},\"marker\":{\"colorbar\":{\"outlinewidth\":0,\"ticks\":\"\"}}}],\"scattermapbox\":[{\"type\":\"scattermapbox\",\"marker\":{\"colorbar\":{\"outlinewidth\":0,\"ticks\":\"\"}}}],\"scatterternary\":[{\"type\":\"scatterternary\",\"marker\":{\"colorbar\":{\"outlinewidth\":0,\"ticks\":\"\"}}}],\"scattercarpet\":[{\"type\":\"scattercarpet\",\"marker\":{\"colorbar\":{\"outlinewidth\":0,\"ticks\":\"\"}}}],\"carpet\":[{\"aaxis\":{\"endlinecolor\":\"#2a3f5f\",\"gridcolor\":\"white\",\"linecolor\":\"white\",\"minorgridcolor\":\"white\",\"startlinecolor\":\"#2a3f5f\"},\"baxis\":{\"endlinecolor\":\"#2a3f5f\",\"gridcolor\":\"white\",\"linecolor\":\"white\",\"minorgridcolor\":\"white\",\"startlinecolor\":\"#2a3f5f\"},\"type\":\"carpet\"}],\"table\":[{\"cells\":{\"fill\":{\"color\":\"#EBF0F8\"},\"line\":{\"color\":\"white\"}},\"header\":{\"fill\":{\"color\":\"#C8D4E3\"},\"line\":{\"color\":\"white\"}},\"type\":\"table\"}],\"barpolar\":[{\"marker\":{\"line\":{\"color\":\"#E5ECF6\",\"width\":0.5},\"pattern\":{\"fillmode\":\"overlay\",\"size\":10,\"solidity\":0.2}},\"type\":\"barpolar\"}],\"pie\":[{\"automargin\":true,\"type\":\"pie\"}]},\"layout\":{\"autotypenumbers\":\"strict\",\"colorway\":[\"#636efa\",\"#EF553B\",\"#00cc96\",\"#ab63fa\",\"#FFA15A\",\"#19d3f3\",\"#FF6692\",\"#B6E880\",\"#FF97FF\",\"#FECB52\"],\"font\":{\"color\":\"#2a3f5f\"},\"hovermode\":\"closest\",\"hoverlabel\":{\"align\":\"left\"},\"paper_bgcolor\":\"white\",\"plot_bgcolor\":\"#E5ECF6\",\"polar\":{\"bgcolor\":\"#E5ECF6\",\"angularaxis\":{\"gridcolor\":\"white\",\"linecolor\":\"white\",\"ticks\":\"\"},\"radialaxis\":{\"gridcolor\":\"white\",\"linecolor\":\"white\",\"ticks\":\"\"}},\"ternary\":{\"bgcolor\":\"#E5ECF6\",\"aaxis\":{\"gridcolor\":\"white\",\"linecolor\":\"white\",\"ticks\":\"\"},\"baxis\":{\"gridcolor\":\"white\",\"linecolor\":\"white\",\"ticks\":\"\"},\"caxis\":{\"gridcolor\":\"white\",\"linecolor\":\"white\",\"ticks\":\"\"}},\"coloraxis\":{\"colorbar\":{\"outlinewidth\":0,\"ticks\":\"\"}},\"colorscale\":{\"sequential\":[[0.0,\"#0d0887\"],[0.1111111111111111,\"#46039f\"],[0.2222222222222222,\"#7201a8\"],[0.3333333333333333,\"#9c179e\"],[0.4444444444444444,\"#bd3786\"],[0.5555555555555556,\"#d8576b\"],[0.6666666666666666,\"#ed7953\"],[0.7777777777777778,\"#fb9f3a\"],[0.8888888888888888,\"#fdca26\"],[1.0,\"#f0f921\"]],\"sequentialminus\":[[0.0,\"#0d0887\"],[0.1111111111111111,\"#46039f\"],[0.2222222222222222,\"#7201a8\"],[0.3333333333333333,\"#9c179e\"],[0.4444444444444444,\"#bd3786\"],[0.5555555555555556,\"#d8576b\"],[0.6666666666666666,\"#ed7953\"],[0.7777777777777778,\"#fb9f3a\"],[0.8888888888888888,\"#fdca26\"],[1.0,\"#f0f921\"]],\"diverging\":[[0,\"#8e0152\"],[0.1,\"#c51b7d\"],[0.2,\"#de77ae\"],[0.3,\"#f1b6da\"],[0.4,\"#fde0ef\"],[0.5,\"#f7f7f7\"],[0.6,\"#e6f5d0\"],[0.7,\"#b8e186\"],[0.8,\"#7fbc41\"],[0.9,\"#4d9221\"],[1,\"#276419\"]]},\"xaxis\":{\"gridcolor\":\"white\",\"linecolor\":\"white\",\"ticks\":\"\",\"title\":{\"standoff\":15},\"zerolinecolor\":\"white\",\"automargin\":true,\"zerolinewidth\":2},\"yaxis\":{\"gridcolor\":\"white\",\"linecolor\":\"white\",\"ticks\":\"\",\"title\":{\"standoff\":15},\"zerolinecolor\":\"white\",\"automargin\":true,\"zerolinewidth\":2},\"scene\":{\"xaxis\":{\"backgroundcolor\":\"#E5ECF6\",\"gridcolor\":\"white\",\"linecolor\":\"white\",\"showbackground\":true,\"ticks\":\"\",\"zerolinecolor\":\"white\",\"gridwidth\":2},\"yaxis\":{\"backgroundcolor\":\"#E5ECF6\",\"gridcolor\":\"white\",\"linecolor\":\"white\",\"showbackground\":true,\"ticks\":\"\",\"zerolinecolor\":\"white\",\"gridwidth\":2},\"zaxis\":{\"backgroundcolor\":\"#E5ECF6\",\"gridcolor\":\"white\",\"linecolor\":\"white\",\"showbackground\":true,\"ticks\":\"\",\"zerolinecolor\":\"white\",\"gridwidth\":2}},\"shapedefaults\":{\"line\":{\"color\":\"#2a3f5f\"}},\"annotationdefaults\":{\"arrowcolor\":\"#2a3f5f\",\"arrowhead\":0,\"arrowwidth\":1},\"geo\":{\"bgcolor\":\"white\",\"landcolor\":\"#E5ECF6\",\"subunitcolor\":\"white\",\"showland\":true,\"showlakes\":true,\"lakecolor\":\"white\"},\"title\":{\"x\":0.05},\"mapbox\":{\"style\":\"light\"}}},\"xaxis\":{\"anchor\":\"y\",\"domain\":[0.0,1.0],\"title\":{\"text\":\"average_rating\"}},\"yaxis\":{\"anchor\":\"x\",\"domain\":[0.0,1.0],\"title\":{\"text\":\"salary\"}},\"legend\":{\"tracegroupgap\":0},\"margin\":{\"t\":60}},                        {\"responsive\": true}                    ).then(function(){\n",
       "                            \n",
       "var gd = document.getElementById('f69c25a3-e27e-463a-b4fe-30183769c572');\n",
       "var x = new MutationObserver(function (mutations, observer) {{\n",
       "        var display = window.getComputedStyle(gd).display;\n",
       "        if (!display || display === 'none') {{\n",
       "            console.log([gd, 'removed!']);\n",
       "            Plotly.purge(gd);\n",
       "            observer.disconnect();\n",
       "        }}\n",
       "}});\n",
       "\n",
       "// Listen for the removal of the full notebook cells\n",
       "var notebookContainer = gd.closest('#notebook-container');\n",
       "if (notebookContainer) {{\n",
       "    x.observe(notebookContainer, {childList: true});\n",
       "}}\n",
       "\n",
       "// Listen for the clearing of the current output cell\n",
       "var outputEl = gd.closest('.output');\n",
       "if (outputEl) {{\n",
       "    x.observe(outputEl, {childList: true});\n",
       "}}\n",
       "\n",
       "                        })                };                });            </script>        </div>"
      ]
     },
     "metadata": {},
     "output_type": "display_data"
    }
   ],
   "source": [
    "tmp[tmp[\"num_reviews\"] > 10].plot(\n",
    "    kind=\"scatter\",\n",
    "    x=\"average_rating\",\n",
    "    y=\"salary\",\n",
    "    hover_data=['name']\n",
    "    # line_kws={\"color\": \"red\"},\n",
    "    # fit_reg=True\n",
    ")"
   ]
  },
  {
   "cell_type": "code",
   "execution_count": null,
   "metadata": {},
   "outputs": [
    {
     "data": {
      "application/vnd.plotly.v1+json": {
       "config": {
        "plotlyServerURL": "https://plot.ly"
       },
       "data": [
        {
         "customdata": [
          [
           "Adam A. Porter"
          ],
          [
           "Adrianos Papamarcou"
          ],
          [
           "Agisilaos Iliadis"
          ],
          [
           "Alan C Peel"
          ],
          [
           "Alexandra E. Bely"
          ],
          [
           "Alice C. Mignerey"
          ],
          [
           "Alka Gandhi"
          ],
          [
           "Allan Drazen"
          ],
          [
           "Amanda Chicoli"
          ],
          [
           "Amanda J. Schech"
          ],
          [
           "Amin Gholampour"
          ],
          [
           "Amol Deshpande"
          ],
          [
           "Amy S. Mullin"
          ],
          [
           "Andrei Vedernikov"
          ],
          [
           "Andrew Childs"
          ],
          [
           "Andrew Schonebaum"
          ],
          [
           "Andris Skuja"
          ],
          [
           "Ankur Srivastava"
          ],
          [
           "Antoine Mellet"
          ],
          [
           "Archana Khurana"
          ],
          [
           "Benjamin Janus"
          ],
          [
           "Bernard D. Cooperman"
          ],
          [
           "Beth Parent"
          ],
          [
           "Bretton W. Kent"
          ],
          [
           "Carmen Z Cantemir-Stone"
          ],
          [
           "Chandrasekhar Thamire"
          ],
          [
           "Charles D. Levermore"
          ],
          [
           "Charles Lin"
          ],
          [
           "Chelsea G Mays-Williams"
          ],
          [
           "Cliff Bakalian"
          ],
          [
           "Clyde P. Kruskal"
          ],
          [
           "Cortney Fisher"
          ],
          [
           "Craig Ian Schlenoff"
          ],
          [
           "Daniel E. Falvey"
          ],
          [
           "Danilo B. Romero"
          ],
          [
           "Dave Levin"
          ],
          [
           "David B. Sicilia"
          ],
          [
           "David C. Buehrle"
          ],
          [
           "David C. Straney"
          ],
          [
           "David D. Yager"
          ],
          [
           "David Gormong"
          ],
          [
           "David H. Hamilton"
          ],
          [
           "David I. Bigio"
          ],
          [
           "David I. Kass"
          ],
          [
           "David J. Brookshire"
          ],
          [
           "David J. Lovell"
          ],
          [
           "David L. Akin"
          ],
          [
           "David Mount"
          ],
          [
           "Denny Gulick"
          ],
          [
           "Derek Richardson"
          ],
          [
           "Dionisios Margetis"
          ],
          [
           "Dirk Parham"
          ],
          [
           "Donald Yeung"
          ],
          [
           "Donna E Howard"
          ],
          [
           "Dorith Grant-Wisdom"
          ],
          [
           "Douglas A. Julin"
          ],
          [
           "Edgar Moctezuma"
          ],
          [
           "Elinda F Kiss"
          ],
          [
           "Eric S Haag"
          ],
          [
           "Erich Studer-Ellis"
          ],
          [
           "Evan Golub"
          ],
          [
           "Fernando Rios"
          ],
          [
           "Frederick C. Wellstood"
          ],
          [
           "Ganesh Sriram"
          ],
          [
           "Gang Qu"
          ],
          [
           "Gerald Borgia"
          ],
          [
           "Gilmer L. Blankenship"
          ],
          [
           "Giovanni Forni"
          ],
          [
           "Gosia Anna Langa Basit"
          ],
          [
           "Hanan Samet"
          ],
          [
           "Hatice Sahinoglu"
          ],
          [
           "Heather L Tienson-Tseng"
          ],
          [
           "Hossein Abbasi"
          ],
          [
           "Howard Smead"
          ],
          [
           "Ilchul Yoon"
          ],
          [
           "Ingrid I. Satelmajer"
          ],
          [
           "Isabel K. Lloyd"
          ],
          [
           "James A. Reggia"
          ],
          [
           "James J McKinney"
          ],
          [
           "James M. Glass"
          ],
          [
           "James M. Purtilo"
          ],
          [
           "Jason D. Kahn"
          ],
          [
           "Jeff Miller"
          ],
          [
           "Jennifer Ann Golbeck"
          ],
          [
           "Jessica Morabito"
          ],
          [
           "Jim B. Golden"
          ],
          [
           "Joelle C. Presson"
          ],
          [
           "Johanna K Birnir"
          ],
          [
           "John Bono"
          ],
          [
           "John Shea"
          ],
          [
           "Jonathan Katz"
          ],
          [
           "Jonathan M. Rosenberg"
          ],
          [
           "Jose Helim Aranda-Espinoza"
          ],
          [
           "Jose M Calderon"
          ],
          [
           "Joseph Perfetti"
          ],
          [
           "Julius Goldhar"
          ],
          [
           "Jungho Kim"
          ],
          [
           "Justicia Opoku-Edusei"
          ],
          [
           "Justin Olav Wyss-Gallifent"
          ],
          [
           "Karen Angeline"
          ],
          [
           "Karen Carleton"
          ],
          [
           "Karin H. Melnick"
          ],
          [
           "Karol E. Soltan"
          ],
          [
           "Katarina Keane"
          ],
          [
           "Katherine Joshi"
          ],
          [
           "Kathryn E. Truman"
          ],
          [
           "Kazim Ruhi"
          ],
          [
           "Keith Yearwood"
          ],
          [
           "Kenneth Frauwirth"
          ],
          [
           "Kenneth L. Leonard"
          ],
          [
           "Kimberly Paczolt"
          ],
          [
           "Korey R. Rothman"
          ],
          [
           "Kyle Dorsey"
          ],
          [
           "Larry Herman"
          ],
          [
           "Lawrence C. Washington"
          ],
          [
           "Leah G Dodson"
          ],
          [
           "Lee Friedman"
          ],
          [
           "Lei Zhou"
          ],
          [
           "Leo H. Shapiro"
          ],
          [
           "Leonid Koralov"
          ],
          [
           "Leslie A Mostow"
          ],
          [
           "Lillian E. Doherty"
          ],
          [
           "Linda K. Coleman"
          ],
          [
           "Lori A Sefton"
          ],
          [
           "Louiqa Raschid"
          ],
          [
           "Lyle D. Isaacs"
          ],
          [
           "Magdalene N. Ngeve"
          ],
          [
           "Makiko Inoue"
          ],
          [
           "Manoj Franklin"
          ],
          [
           "Manoussos Grillakis"
          ],
          [
           "Marcia A. Shofner"
          ],
          [
           "Margaret J. Antonisse"
          ],
          [
           "Maria K. Cameron"
          ],
          [
           "Mark A. Forrester"
          ],
          [
           "Martina Copelman"
          ],
          [
           "Mary L. Bowden"
          ],
          [
           "Marybeth Shea"
          ],
          [
           "Matei Machedon"
          ],
          [
           "Matt Severson"
          ],
          [
           "Matthew Griffin"
          ],
          [
           "Melissa Carry"
          ],
          [
           "Melissa N Hayes-Gehrke"
          ],
          [
           "Michael Jakobson"
          ],
          [
           "Michael Larson"
          ],
          [
           "Michael Olmert"
          ],
          [
           "Michael P Montague-Smith"
          ],
          [
           "Michael Pacella"
          ],
          [
           "Michael Ross"
          ],
          [
           "Michael S. Winett"
          ],
          [
           "Michel Cukier"
          ],
          [
           "Michelle M. Hugue"
          ],
          [
           "Mohammad Nayeem Teli"
          ],
          [
           "Monique Koppel"
          ],
          [
           "Nam Sun Wang"
          ],
          [
           "Natalia L. White"
          ],
          [
           "Nathan Manning"
          ],
          [
           "Naveen Sarna"
          ],
          [
           "Nazish M. Salahuddin"
          ],
          [
           "Nelson Padua-Perez"
          ],
          [
           "Niranjan Ramachandran"
          ],
          [
           "Patrick Brosnan"
          ],
          [
           "Patrick R. Warfield"
          ],
          [
           "Pedram Sadeghian"
          ],
          [
           "Penny Jacobs"
          ],
          [
           "Peter B. Sunderland"
          ],
          [
           "Peter C. Chang"
          ],
          [
           "Peter J. Coughlin"
          ],
          [
           "Peter Keleher"
          ],
          [
           "Peter Kofinas"
          ],
          [
           "Peter Shawhan"
          ],
          [
           "Piotr T. Swistak"
          ],
          [
           "Progyan Basu"
          ],
          [
           "Rabindra N. Mohapatra"
          ],
          [
           "Rachel Ann VanDaalen"
          ],
          [
           "Radu Lazar"
          ],
          [
           "Raluca I. Rosca"
          ],
          [
           "Raymond J. StLeger"
          ],
          [
           "Regina Ianozi"
          ],
          [
           "Reid S. Compton"
          ],
          [
           "Rex Weil"
          ],
          [
           "Richard A. Hutchins"
          ],
          [
           "Richard Alan Wentworth"
          ],
          [
           "Richard E. Klank"
          ],
          [
           "Robert E. Koulish"
          ],
          [
           "Robert R Lucci"
          ],
          [
           "Rodrigo Trevino"
          ],
          [
           "Roger D. Eastman"
          ],
          [
           "Ronit Eisenbach"
          ],
          [
           "Roohollah Ebrahimian"
          ],
          [
           "Roxanne Lefkoff"
          ],
          [
           "Ryan O'Grady"
          ],
          [
           "Ryan Smith"
          ],
          [
           "Sabrina Leroe"
          ],
          [
           "Samuel J. Kerstein"
          ],
          [
           "Sangeetha Madhavan"
          ],
          [
           "Sara Via"
          ],
          [
           "Scott Kastner"
          ],
          [
           "Sergei I. Sukharev"
          ],
          [
           "Stefan Doboszczak"
          ],
          [
           "Stefania Scandizzo"
          ],
          [
           "Stephen M. Mount"
          ],
          [
           "Steven Mansbach"
          ],
          [
           "Sujith S. Kumar"
          ],
          [
           "Susan D. Moeller"
          ],
          [
           "Swarna Mohan"
          ],
          [
           "Tammatha O'Brien"
          ],
          [
           "Thomas E. Murphy"
          ],
          [
           "Thomas Kaiser"
          ],
          [
           "Timothy Horiuchi"
          ],
          [
           "Timothy John Pilachowski"
          ],
          [
           "Tobias von Petersdorff"
          ],
          [
           "Toby Egan"
          ],
          [
           "Tonia Bleam"
          ],
          [
           "Tracey L. Centorbi"
          ],
          [
           "William Gasarch"
          ],
          [
           "William Hawkins"
          ],
          [
           "William R. Schildknecht"
          ],
          [
           "Wiseley Wong"
          ],
          [
           "Wojciech Czaja"
          ],
          [
           "Yavuz A. Oruc"
          ],
          [
           "Yijing Wu"
          ],
          [
           "Zeinab A Karake"
          ]
         ],
         "hovertemplate": "average_rating=%{x}<br>salary=%{y}<br>name=%{customdata[0]}<extra></extra>",
         "legendgroup": "",
         "marker": {
          "color": "#636efa",
          "symbol": "circle"
         },
         "mode": "markers",
         "name": "",
         "orientation": "v",
         "showlegend": false,
         "type": "scatter",
         "x": [
          2.5455,
          4.1429,
          2.375,
          3.5,
          4,
          2.3415,
          3.7632,
          2,
          3.7857,
          3.7,
          4.6154,
          2.9167,
          1.7273,
          3.4324,
          4.75,
          5,
          1.2857,
          3.9167,
          4.2162,
          4.5385,
          4.7059,
          4,
          3.8182,
          3.6818,
          4.75,
          4.0833,
          3.55,
          2.7576,
          4.0833,
          2.9286,
          2.7794,
          3.8462,
          4.7333,
          4.4286,
          2.5333,
          4.5455,
          4.0909,
          3.6279,
          4.875,
          3.6364,
          2.3636,
          2.5,
          2.4667,
          4.6154,
          5,
          2.1818,
          1.8333,
          4.8333,
          3.8814,
          4.5,
          4.5778,
          5,
          4.8125,
          3.8462,
          2.9583,
          3.8,
          4.0455,
          3.9412,
          2.4545,
          4.3182,
          2.254,
          4.0455,
          4.3333,
          2.8095,
          3.3529,
          1.6875,
          3.1053,
          1.9412,
          2.5455,
          1.5455,
          1.9032,
          1.4286,
          4.1111,
          4.6,
          2.76,
          4.5,
          2.0556,
          4.0909,
          2.9231,
          3.7778,
          2.4167,
          3.25,
          4.0556,
          4,
          3.25,
          3.3636,
          4.1333,
          2.6429,
          4.1429,
          4.2683,
          3.7273,
          2.5714,
          2.0588,
          4.75,
          4.6667,
          2.5,
          3.3889,
          3.8571,
          4.8693,
          3.9091,
          4.5,
          2.7273,
          3.25,
          4.5556,
          3.9091,
          4,
          2.9259,
          2.8333,
          3.6875,
          3.1111,
          2.6364,
          4.02,
          4.8333,
          3.0464,
          4.871,
          1.6667,
          3.4167,
          2.3636,
          3,
          3.1765,
          3.3636,
          3.7059,
          3.4167,
          3.2857,
          2.3571,
          4.0588,
          3.4474,
          3.8333,
          3.6538,
          3.1923,
          4,
          3.7778,
          2.0556,
          4.8824,
          2.625,
          4.85,
          4.2,
          3.7045,
          3,
          3.7037,
          1.8,
          3.4857,
          2.35,
          3.25,
          3.9091,
          4.2368,
          4.7143,
          4.4167,
          2,
          1.4545,
          2.4615,
          3.1892,
          3.0385,
          2.1818,
          2.9167,
          3.2368,
          3.9167,
          4.7333,
          4.1565,
          4.7222,
          3.8125,
          4.125,
          3.5,
          2.0667,
          3.0714,
          1.963,
          2.963,
          2.619,
          4.125,
          3.6842,
          3.4286,
          3.6024,
          3.1667,
          4.0833,
          3.3443,
          2.2258,
          3.875,
          4.2,
          2.7778,
          3.95,
          2.4667,
          3,
          2.6875,
          2.6875,
          5,
          2.2,
          3.913,
          3.2917,
          4.6897,
          3.4643,
          4.7692,
          4.9091,
          4.2308,
          3.5385,
          1.75,
          2.1463,
          4.2857,
          4,
          4.9032,
          2.7391,
          2.5,
          4.7273,
          3.2,
          2.8148,
          2.6667,
          3.7857,
          5,
          4.3158,
          4.3333,
          3.0746,
          3.0625,
          4.75,
          4.5556,
          2.9286,
          4.2353,
          2.0952,
          4.9231,
          4.875,
          4,
          3.1875,
          3.1818,
          3.5385
         ],
         "xaxis": "x",
         "y": [
          165991.71000000002,
          123336.92,
          163382.57,
          81919.04,
          131174.31,
          129185.2,
          92901.82,
          260731.99,
          76953.34,
          65312.78,
          127538.98,
          164304.2,
          179499.1,
          127356.16,
          314001.52,
          93892.58,
          139087.07,
          249314.84,
          189730.77,
          82620.64,
          59119.32,
          110627.88,
          97688.67,
          24171.31,
          71456.47,
          140589.15,
          182740.84,
          112735.11,
          56304.13,
          83325,
          96010.86,
          65220.75,
          12923.96,
          164650.41,
          104894.62,
          189383.35,
          92192.08,
          140307.04,
          121316.09,
          59611.25,
          52520,
          119090.81,
          142669.96,
          138650.73,
          50685.84,
          222098.91,
          225008,
          169005.78999999998,
          151504.67,
          178372.43,
          156925.68,
          10666.2,
          219584.49,
          101588.32,
          69323.45,
          102564.68,
          83989.15,
          80921.41,
          135869.08,
          173715.31,
          126933.43,
          90074.86,
          184118.89,
          127273.25,
          207505.56,
          118546.17,
          148486.36,
          182708.87,
          105547.59,
          343420.83,
          82537.38,
          57570,
          87204.35,
          41423.34,
          110983.06,
          33144.56,
          121629.31,
          187400.91999999998,
          166472.84,
          167976.38,
          224987.06,
          102600.36,
          113911.49,
          150190.84,
          61245.39,
          50685.84,
          128311.53,
          164126.96,
          138768.63,
          145596.66,
          320595.01,
          173584.51,
          116606.35,
          109325.5,
          102334.2,
          204563.38,
          203530.44,
          79697.39,
          104395.75,
          55188.43,
          139040.36,
          186659.93,
          103059.12,
          97254.61,
          55188.43,
          77014.78,
          149333.57,
          63403.75,
          81814.2,
          188269.25,
          71506.24,
          123869.09,
          61245.39,
          125832.48,
          170910.76,
          97906.03,
          90052.15,
          126063.19,
          76451.88,
          158879.15,
          65601.98,
          117495.74,
          88893.31,
          52520,
          196175.72,
          161345.54,
          38821.88,
          46291.49,
          168847.73,
          152961.54,
          78493.59,
          60471.07,
          133948.65,
          61946.54,
          87204.34,
          138654,
          61946.54,
          140549,
          87834.44,
          74620.82,
          47290.87,
          99384,
          138256.49,
          69817.13,
          76125.22,
          133712.95,
          49722.3,
          124714.81,
          55188.43,
          202907.3,
          96894.81,
          116778.25,
          80185,
          104692,
          78043.84,
          85330.04,
          84885.47,
          119903.95,
          132250.23,
          139284.02,
          160969,
          176753.41,
          115713.34,
          119958.12,
          194395.64,
          109887.82,
          91014.26,
          143056.34,
          262377.25,
          166039.38,
          100239.45,
          190505.51,
          222940.79,
          41662.5,
          127334.24,
          67190.42,
          155930.12,
          57974,
          119251.24,
          20625.33,
          16316.07,
          209486.53,
          88152,
          144420.16,
          50685.84,
          114860.42,
          144880.13,
          130083.95,
          85330.04,
          158071.16,
          85004.38,
          16694.58,
          68829.62,
          202216.28,
          207050,
          111324.63,
          136712.07,
          150016.18,
          74249.67,
          84812.91,
          110814.35,
          247245.53,
          29278.15,
          157246.16,
          79988.59,
          98434.14,
          244342.68,
          12209.26,
          152237.24,
          66906.21,
          98378.25,
          136052.19,
          60524.58,
          51885.93,
          150073.28,
          82197.53,
          15004.03,
          85330.04,
          211964.19,
          112881.19,
          67632.63,
          206252.24
         ],
         "yaxis": "y"
        }
       ],
       "layout": {
        "legend": {
         "tracegroupgap": 0
        },
        "margin": {
         "t": 60
        },
        "template": {
         "data": {
          "bar": [
           {
            "error_x": {
             "color": "#2a3f5f"
            },
            "error_y": {
             "color": "#2a3f5f"
            },
            "marker": {
             "line": {
              "color": "#E5ECF6",
              "width": 0.5
             },
             "pattern": {
              "fillmode": "overlay",
              "size": 10,
              "solidity": 0.2
             }
            },
            "type": "bar"
           }
          ],
          "barpolar": [
           {
            "marker": {
             "line": {
              "color": "#E5ECF6",
              "width": 0.5
             },
             "pattern": {
              "fillmode": "overlay",
              "size": 10,
              "solidity": 0.2
             }
            },
            "type": "barpolar"
           }
          ],
          "carpet": [
           {
            "aaxis": {
             "endlinecolor": "#2a3f5f",
             "gridcolor": "white",
             "linecolor": "white",
             "minorgridcolor": "white",
             "startlinecolor": "#2a3f5f"
            },
            "baxis": {
             "endlinecolor": "#2a3f5f",
             "gridcolor": "white",
             "linecolor": "white",
             "minorgridcolor": "white",
             "startlinecolor": "#2a3f5f"
            },
            "type": "carpet"
           }
          ],
          "choropleth": [
           {
            "colorbar": {
             "outlinewidth": 0,
             "ticks": ""
            },
            "type": "choropleth"
           }
          ],
          "contour": [
           {
            "colorbar": {
             "outlinewidth": 0,
             "ticks": ""
            },
            "colorscale": [
             [
              0,
              "#0d0887"
             ],
             [
              0.1111111111111111,
              "#46039f"
             ],
             [
              0.2222222222222222,
              "#7201a8"
             ],
             [
              0.3333333333333333,
              "#9c179e"
             ],
             [
              0.4444444444444444,
              "#bd3786"
             ],
             [
              0.5555555555555556,
              "#d8576b"
             ],
             [
              0.6666666666666666,
              "#ed7953"
             ],
             [
              0.7777777777777778,
              "#fb9f3a"
             ],
             [
              0.8888888888888888,
              "#fdca26"
             ],
             [
              1,
              "#f0f921"
             ]
            ],
            "type": "contour"
           }
          ],
          "contourcarpet": [
           {
            "colorbar": {
             "outlinewidth": 0,
             "ticks": ""
            },
            "type": "contourcarpet"
           }
          ],
          "heatmap": [
           {
            "colorbar": {
             "outlinewidth": 0,
             "ticks": ""
            },
            "colorscale": [
             [
              0,
              "#0d0887"
             ],
             [
              0.1111111111111111,
              "#46039f"
             ],
             [
              0.2222222222222222,
              "#7201a8"
             ],
             [
              0.3333333333333333,
              "#9c179e"
             ],
             [
              0.4444444444444444,
              "#bd3786"
             ],
             [
              0.5555555555555556,
              "#d8576b"
             ],
             [
              0.6666666666666666,
              "#ed7953"
             ],
             [
              0.7777777777777778,
              "#fb9f3a"
             ],
             [
              0.8888888888888888,
              "#fdca26"
             ],
             [
              1,
              "#f0f921"
             ]
            ],
            "type": "heatmap"
           }
          ],
          "heatmapgl": [
           {
            "colorbar": {
             "outlinewidth": 0,
             "ticks": ""
            },
            "colorscale": [
             [
              0,
              "#0d0887"
             ],
             [
              0.1111111111111111,
              "#46039f"
             ],
             [
              0.2222222222222222,
              "#7201a8"
             ],
             [
              0.3333333333333333,
              "#9c179e"
             ],
             [
              0.4444444444444444,
              "#bd3786"
             ],
             [
              0.5555555555555556,
              "#d8576b"
             ],
             [
              0.6666666666666666,
              "#ed7953"
             ],
             [
              0.7777777777777778,
              "#fb9f3a"
             ],
             [
              0.8888888888888888,
              "#fdca26"
             ],
             [
              1,
              "#f0f921"
             ]
            ],
            "type": "heatmapgl"
           }
          ],
          "histogram": [
           {
            "marker": {
             "pattern": {
              "fillmode": "overlay",
              "size": 10,
              "solidity": 0.2
             }
            },
            "type": "histogram"
           }
          ],
          "histogram2d": [
           {
            "colorbar": {
             "outlinewidth": 0,
             "ticks": ""
            },
            "colorscale": [
             [
              0,
              "#0d0887"
             ],
             [
              0.1111111111111111,
              "#46039f"
             ],
             [
              0.2222222222222222,
              "#7201a8"
             ],
             [
              0.3333333333333333,
              "#9c179e"
             ],
             [
              0.4444444444444444,
              "#bd3786"
             ],
             [
              0.5555555555555556,
              "#d8576b"
             ],
             [
              0.6666666666666666,
              "#ed7953"
             ],
             [
              0.7777777777777778,
              "#fb9f3a"
             ],
             [
              0.8888888888888888,
              "#fdca26"
             ],
             [
              1,
              "#f0f921"
             ]
            ],
            "type": "histogram2d"
           }
          ],
          "histogram2dcontour": [
           {
            "colorbar": {
             "outlinewidth": 0,
             "ticks": ""
            },
            "colorscale": [
             [
              0,
              "#0d0887"
             ],
             [
              0.1111111111111111,
              "#46039f"
             ],
             [
              0.2222222222222222,
              "#7201a8"
             ],
             [
              0.3333333333333333,
              "#9c179e"
             ],
             [
              0.4444444444444444,
              "#bd3786"
             ],
             [
              0.5555555555555556,
              "#d8576b"
             ],
             [
              0.6666666666666666,
              "#ed7953"
             ],
             [
              0.7777777777777778,
              "#fb9f3a"
             ],
             [
              0.8888888888888888,
              "#fdca26"
             ],
             [
              1,
              "#f0f921"
             ]
            ],
            "type": "histogram2dcontour"
           }
          ],
          "mesh3d": [
           {
            "colorbar": {
             "outlinewidth": 0,
             "ticks": ""
            },
            "type": "mesh3d"
           }
          ],
          "parcoords": [
           {
            "line": {
             "colorbar": {
              "outlinewidth": 0,
              "ticks": ""
             }
            },
            "type": "parcoords"
           }
          ],
          "pie": [
           {
            "automargin": true,
            "type": "pie"
           }
          ],
          "scatter": [
           {
            "fillpattern": {
             "fillmode": "overlay",
             "size": 10,
             "solidity": 0.2
            },
            "type": "scatter"
           }
          ],
          "scatter3d": [
           {
            "line": {
             "colorbar": {
              "outlinewidth": 0,
              "ticks": ""
             }
            },
            "marker": {
             "colorbar": {
              "outlinewidth": 0,
              "ticks": ""
             }
            },
            "type": "scatter3d"
           }
          ],
          "scattercarpet": [
           {
            "marker": {
             "colorbar": {
              "outlinewidth": 0,
              "ticks": ""
             }
            },
            "type": "scattercarpet"
           }
          ],
          "scattergeo": [
           {
            "marker": {
             "colorbar": {
              "outlinewidth": 0,
              "ticks": ""
             }
            },
            "type": "scattergeo"
           }
          ],
          "scattergl": [
           {
            "marker": {
             "colorbar": {
              "outlinewidth": 0,
              "ticks": ""
             }
            },
            "type": "scattergl"
           }
          ],
          "scattermapbox": [
           {
            "marker": {
             "colorbar": {
              "outlinewidth": 0,
              "ticks": ""
             }
            },
            "type": "scattermapbox"
           }
          ],
          "scatterpolar": [
           {
            "marker": {
             "colorbar": {
              "outlinewidth": 0,
              "ticks": ""
             }
            },
            "type": "scatterpolar"
           }
          ],
          "scatterpolargl": [
           {
            "marker": {
             "colorbar": {
              "outlinewidth": 0,
              "ticks": ""
             }
            },
            "type": "scatterpolargl"
           }
          ],
          "scatterternary": [
           {
            "marker": {
             "colorbar": {
              "outlinewidth": 0,
              "ticks": ""
             }
            },
            "type": "scatterternary"
           }
          ],
          "surface": [
           {
            "colorbar": {
             "outlinewidth": 0,
             "ticks": ""
            },
            "colorscale": [
             [
              0,
              "#0d0887"
             ],
             [
              0.1111111111111111,
              "#46039f"
             ],
             [
              0.2222222222222222,
              "#7201a8"
             ],
             [
              0.3333333333333333,
              "#9c179e"
             ],
             [
              0.4444444444444444,
              "#bd3786"
             ],
             [
              0.5555555555555556,
              "#d8576b"
             ],
             [
              0.6666666666666666,
              "#ed7953"
             ],
             [
              0.7777777777777778,
              "#fb9f3a"
             ],
             [
              0.8888888888888888,
              "#fdca26"
             ],
             [
              1,
              "#f0f921"
             ]
            ],
            "type": "surface"
           }
          ],
          "table": [
           {
            "cells": {
             "fill": {
              "color": "#EBF0F8"
             },
             "line": {
              "color": "white"
             }
            },
            "header": {
             "fill": {
              "color": "#C8D4E3"
             },
             "line": {
              "color": "white"
             }
            },
            "type": "table"
           }
          ]
         },
         "layout": {
          "annotationdefaults": {
           "arrowcolor": "#2a3f5f",
           "arrowhead": 0,
           "arrowwidth": 1
          },
          "autotypenumbers": "strict",
          "coloraxis": {
           "colorbar": {
            "outlinewidth": 0,
            "ticks": ""
           }
          },
          "colorscale": {
           "diverging": [
            [
             0,
             "#8e0152"
            ],
            [
             0.1,
             "#c51b7d"
            ],
            [
             0.2,
             "#de77ae"
            ],
            [
             0.3,
             "#f1b6da"
            ],
            [
             0.4,
             "#fde0ef"
            ],
            [
             0.5,
             "#f7f7f7"
            ],
            [
             0.6,
             "#e6f5d0"
            ],
            [
             0.7,
             "#b8e186"
            ],
            [
             0.8,
             "#7fbc41"
            ],
            [
             0.9,
             "#4d9221"
            ],
            [
             1,
             "#276419"
            ]
           ],
           "sequential": [
            [
             0,
             "#0d0887"
            ],
            [
             0.1111111111111111,
             "#46039f"
            ],
            [
             0.2222222222222222,
             "#7201a8"
            ],
            [
             0.3333333333333333,
             "#9c179e"
            ],
            [
             0.4444444444444444,
             "#bd3786"
            ],
            [
             0.5555555555555556,
             "#d8576b"
            ],
            [
             0.6666666666666666,
             "#ed7953"
            ],
            [
             0.7777777777777778,
             "#fb9f3a"
            ],
            [
             0.8888888888888888,
             "#fdca26"
            ],
            [
             1,
             "#f0f921"
            ]
           ],
           "sequentialminus": [
            [
             0,
             "#0d0887"
            ],
            [
             0.1111111111111111,
             "#46039f"
            ],
            [
             0.2222222222222222,
             "#7201a8"
            ],
            [
             0.3333333333333333,
             "#9c179e"
            ],
            [
             0.4444444444444444,
             "#bd3786"
            ],
            [
             0.5555555555555556,
             "#d8576b"
            ],
            [
             0.6666666666666666,
             "#ed7953"
            ],
            [
             0.7777777777777778,
             "#fb9f3a"
            ],
            [
             0.8888888888888888,
             "#fdca26"
            ],
            [
             1,
             "#f0f921"
            ]
           ]
          },
          "colorway": [
           "#636efa",
           "#EF553B",
           "#00cc96",
           "#ab63fa",
           "#FFA15A",
           "#19d3f3",
           "#FF6692",
           "#B6E880",
           "#FF97FF",
           "#FECB52"
          ],
          "font": {
           "color": "#2a3f5f"
          },
          "geo": {
           "bgcolor": "white",
           "lakecolor": "white",
           "landcolor": "#E5ECF6",
           "showlakes": true,
           "showland": true,
           "subunitcolor": "white"
          },
          "hoverlabel": {
           "align": "left"
          },
          "hovermode": "closest",
          "mapbox": {
           "style": "light"
          },
          "paper_bgcolor": "white",
          "plot_bgcolor": "#E5ECF6",
          "polar": {
           "angularaxis": {
            "gridcolor": "white",
            "linecolor": "white",
            "ticks": ""
           },
           "bgcolor": "#E5ECF6",
           "radialaxis": {
            "gridcolor": "white",
            "linecolor": "white",
            "ticks": ""
           }
          },
          "scene": {
           "xaxis": {
            "backgroundcolor": "#E5ECF6",
            "gridcolor": "white",
            "gridwidth": 2,
            "linecolor": "white",
            "showbackground": true,
            "ticks": "",
            "zerolinecolor": "white"
           },
           "yaxis": {
            "backgroundcolor": "#E5ECF6",
            "gridcolor": "white",
            "gridwidth": 2,
            "linecolor": "white",
            "showbackground": true,
            "ticks": "",
            "zerolinecolor": "white"
           },
           "zaxis": {
            "backgroundcolor": "#E5ECF6",
            "gridcolor": "white",
            "gridwidth": 2,
            "linecolor": "white",
            "showbackground": true,
            "ticks": "",
            "zerolinecolor": "white"
           }
          },
          "shapedefaults": {
           "line": {
            "color": "#2a3f5f"
           }
          },
          "ternary": {
           "aaxis": {
            "gridcolor": "white",
            "linecolor": "white",
            "ticks": ""
           },
           "baxis": {
            "gridcolor": "white",
            "linecolor": "white",
            "ticks": ""
           },
           "bgcolor": "#E5ECF6",
           "caxis": {
            "gridcolor": "white",
            "linecolor": "white",
            "ticks": ""
           }
          },
          "title": {
           "x": 0.05
          },
          "xaxis": {
           "automargin": true,
           "gridcolor": "white",
           "linecolor": "white",
           "ticks": "",
           "title": {
            "standoff": 15
           },
           "zerolinecolor": "white",
           "zerolinewidth": 2
          },
          "yaxis": {
           "automargin": true,
           "gridcolor": "white",
           "linecolor": "white",
           "ticks": "",
           "title": {
            "standoff": 15
           },
           "zerolinecolor": "white",
           "zerolinewidth": 2
          }
         }
        },
        "xaxis": {
         "anchor": "y",
         "domain": [
          0,
          1
         ],
         "title": {
          "text": "average_rating"
         }
        },
        "yaxis": {
         "anchor": "x",
         "domain": [
          0,
          1
         ],
         "title": {
          "text": "salary"
         }
        }
       }
      },
      "text/html": [
       "<div>                            <div id=\"96fdc3f2-196f-44d7-8f77-1ec08e2dd7fa\" class=\"plotly-graph-div\" style=\"height:525px; width:100%;\"></div>            <script type=\"text/javascript\">                require([\"plotly\"], function(Plotly) {                    window.PLOTLYENV=window.PLOTLYENV || {};                                    if (document.getElementById(\"96fdc3f2-196f-44d7-8f77-1ec08e2dd7fa\")) {                    Plotly.newPlot(                        \"96fdc3f2-196f-44d7-8f77-1ec08e2dd7fa\",                        [{\"customdata\":[[\"Adam A. Porter\"],[\"Adrianos Papamarcou\"],[\"Agisilaos Iliadis\"],[\"Alan C Peel\"],[\"Alexandra E. Bely\"],[\"Alice C. Mignerey\"],[\"Alka Gandhi\"],[\"Allan Drazen\"],[\"Amanda Chicoli\"],[\"Amanda J. Schech\"],[\"Amin Gholampour\"],[\"Amol Deshpande\"],[\"Amy S. Mullin\"],[\"Andrei Vedernikov\"],[\"Andrew Childs\"],[\"Andrew Schonebaum\"],[\"Andris Skuja\"],[\"Ankur Srivastava\"],[\"Antoine Mellet\"],[\"Archana Khurana\"],[\"Benjamin Janus\"],[\"Bernard D. Cooperman\"],[\"Beth Parent\"],[\"Bretton W. Kent\"],[\"Carmen Z Cantemir-Stone\"],[\"Chandrasekhar Thamire\"],[\"Charles D. Levermore\"],[\"Charles Lin\"],[\"Chelsea G Mays-Williams\"],[\"Cliff Bakalian\"],[\"Clyde P. Kruskal\"],[\"Cortney Fisher\"],[\"Craig Ian Schlenoff\"],[\"Daniel E. Falvey\"],[\"Danilo B. Romero\"],[\"Dave Levin\"],[\"David B. Sicilia\"],[\"David C. Buehrle\"],[\"David C. Straney\"],[\"David D. Yager\"],[\"David Gormong\"],[\"David H. Hamilton\"],[\"David I. Bigio\"],[\"David I. Kass\"],[\"David J. Brookshire\"],[\"David J. Lovell\"],[\"David L. Akin\"],[\"David Mount\"],[\"Denny Gulick\"],[\"Derek Richardson\"],[\"Dionisios Margetis\"],[\"Dirk Parham\"],[\"Donald Yeung\"],[\"Donna E Howard\"],[\"Dorith Grant-Wisdom\"],[\"Douglas A. Julin\"],[\"Edgar Moctezuma\"],[\"Elinda F Kiss\"],[\"Eric S Haag\"],[\"Erich Studer-Ellis\"],[\"Evan Golub\"],[\"Fernando Rios\"],[\"Frederick C. Wellstood\"],[\"Ganesh Sriram\"],[\"Gang Qu\"],[\"Gerald Borgia\"],[\"Gilmer L. Blankenship\"],[\"Giovanni Forni\"],[\"Gosia Anna Langa Basit\"],[\"Hanan Samet\"],[\"Hatice Sahinoglu\"],[\"Heather L Tienson-Tseng\"],[\"Hossein Abbasi\"],[\"Howard Smead\"],[\"Ilchul Yoon\"],[\"Ingrid I. Satelmajer\"],[\"Isabel K. Lloyd\"],[\"James A. Reggia\"],[\"James J McKinney\"],[\"James M. Glass\"],[\"James M. Purtilo\"],[\"Jason D. Kahn\"],[\"Jeff Miller\"],[\"Jennifer Ann Golbeck\"],[\"Jessica Morabito\"],[\"Jim B. Golden\"],[\"Joelle C. Presson\"],[\"Johanna K Birnir\"],[\"John Bono\"],[\"John Shea\"],[\"Jonathan Katz\"],[\"Jonathan M. Rosenberg\"],[\"Jose Helim Aranda-Espinoza\"],[\"Jose M Calderon\"],[\"Joseph Perfetti\"],[\"Julius Goldhar\"],[\"Jungho Kim\"],[\"Justicia Opoku-Edusei\"],[\"Justin Olav Wyss-Gallifent\"],[\"Karen Angeline\"],[\"Karen Carleton\"],[\"Karin H. Melnick\"],[\"Karol E. Soltan\"],[\"Katarina Keane\"],[\"Katherine Joshi\"],[\"Kathryn E. Truman\"],[\"Kazim Ruhi\"],[\"Keith Yearwood\"],[\"Kenneth Frauwirth\"],[\"Kenneth L. Leonard\"],[\"Kimberly Paczolt\"],[\"Korey R. Rothman\"],[\"Kyle Dorsey\"],[\"Larry Herman\"],[\"Lawrence C. Washington\"],[\"Leah G Dodson\"],[\"Lee Friedman\"],[\"Lei Zhou\"],[\"Leo H. Shapiro\"],[\"Leonid Koralov\"],[\"Leslie A Mostow\"],[\"Lillian E. Doherty\"],[\"Linda K. Coleman\"],[\"Lori A Sefton\"],[\"Louiqa Raschid\"],[\"Lyle D. Isaacs\"],[\"Magdalene N. Ngeve\"],[\"Makiko Inoue\"],[\"Manoj Franklin\"],[\"Manoussos Grillakis\"],[\"Marcia A. Shofner\"],[\"Margaret J. Antonisse\"],[\"Maria K. Cameron\"],[\"Mark A. Forrester\"],[\"Martina Copelman\"],[\"Mary L. Bowden\"],[\"Marybeth Shea\"],[\"Matei Machedon\"],[\"Matt Severson\"],[\"Matthew Griffin\"],[\"Melissa Carry\"],[\"Melissa N Hayes-Gehrke\"],[\"Michael Jakobson\"],[\"Michael Larson\"],[\"Michael Olmert\"],[\"Michael P Montague-Smith\"],[\"Michael Pacella\"],[\"Michael Ross\"],[\"Michael S. Winett\"],[\"Michel Cukier\"],[\"Michelle M. Hugue\"],[\"Mohammad Nayeem Teli\"],[\"Monique Koppel\"],[\"Nam Sun Wang\"],[\"Natalia L. White\"],[\"Nathan Manning\"],[\"Naveen Sarna\"],[\"Nazish M. Salahuddin\"],[\"Nelson Padua-Perez\"],[\"Niranjan Ramachandran\"],[\"Patrick Brosnan\"],[\"Patrick R. Warfield\"],[\"Pedram Sadeghian\"],[\"Penny Jacobs\"],[\"Peter B. Sunderland\"],[\"Peter C. Chang\"],[\"Peter J. Coughlin\"],[\"Peter Keleher\"],[\"Peter Kofinas\"],[\"Peter Shawhan\"],[\"Piotr T. Swistak\"],[\"Progyan Basu\"],[\"Rabindra N. Mohapatra\"],[\"Rachel Ann VanDaalen\"],[\"Radu Lazar\"],[\"Raluca I. Rosca\"],[\"Raymond J. StLeger\"],[\"Regina Ianozi\"],[\"Reid S. Compton\"],[\"Rex Weil\"],[\"Richard A. Hutchins\"],[\"Richard Alan Wentworth\"],[\"Richard E. Klank\"],[\"Robert E. Koulish\"],[\"Robert R Lucci\"],[\"Rodrigo Trevino\"],[\"Roger D. Eastman\"],[\"Ronit Eisenbach\"],[\"Roohollah Ebrahimian\"],[\"Roxanne Lefkoff\"],[\"Ryan O'Grady\"],[\"Ryan Smith\"],[\"Sabrina Leroe\"],[\"Samuel J. Kerstein\"],[\"Sangeetha Madhavan\"],[\"Sara Via\"],[\"Scott Kastner\"],[\"Sergei I. Sukharev\"],[\"Stefan Doboszczak\"],[\"Stefania Scandizzo\"],[\"Stephen M. Mount\"],[\"Steven Mansbach\"],[\"Sujith S. Kumar\"],[\"Susan D. Moeller\"],[\"Swarna Mohan\"],[\"Tammatha O'Brien\"],[\"Thomas E. Murphy\"],[\"Thomas Kaiser\"],[\"Timothy Horiuchi\"],[\"Timothy John Pilachowski\"],[\"Tobias von Petersdorff\"],[\"Toby Egan\"],[\"Tonia Bleam\"],[\"Tracey L. Centorbi\"],[\"William Gasarch\"],[\"William Hawkins\"],[\"William R. Schildknecht\"],[\"Wiseley Wong\"],[\"Wojciech Czaja\"],[\"Yavuz A. Oruc\"],[\"Yijing Wu\"],[\"Zeinab A Karake\"]],\"hovertemplate\":\"average_rating=%{x}<br>salary=%{y}<br>name=%{customdata[0]}<extra></extra>\",\"legendgroup\":\"\",\"marker\":{\"color\":\"#636efa\",\"symbol\":\"circle\"},\"mode\":\"markers\",\"name\":\"\",\"orientation\":\"v\",\"showlegend\":false,\"x\":[2.5455,4.1429,2.375,3.5,4.0,2.3415,3.7632,2.0,3.7857,3.7,4.6154,2.9167,1.7273,3.4324,4.75,5.0,1.2857,3.9167,4.2162,4.5385,4.7059,4.0,3.8182,3.6818,4.75,4.0833,3.55,2.7576,4.0833,2.9286,2.7794,3.8462,4.7333,4.4286,2.5333,4.5455,4.0909,3.6279,4.875,3.6364,2.3636,2.5,2.4667,4.6154,5.0,2.1818,1.8333,4.8333,3.8814,4.5,4.5778,5.0,4.8125,3.8462,2.9583,3.8,4.0455,3.9412,2.4545,4.3182,2.254,4.0455,4.3333,2.8095,3.3529,1.6875,3.1053,1.9412,2.5455,1.5455,1.9032,1.4286,4.1111,4.6,2.76,4.5,2.0556,4.0909,2.9231,3.7778,2.4167,3.25,4.0556,4.0,3.25,3.3636,4.1333,2.6429,4.1429,4.2683,3.7273,2.5714,2.0588,4.75,4.6667,2.5,3.3889,3.8571,4.8693,3.9091,4.5,2.7273,3.25,4.5556,3.9091,4.0,2.9259,2.8333,3.6875,3.1111,2.6364,4.02,4.8333,3.0464,4.871,1.6667,3.4167,2.3636,3.0,3.1765,3.3636,3.7059,3.4167,3.2857,2.3571,4.0588,3.4474,3.8333,3.6538,3.1923,4.0,3.7778,2.0556,4.8824,2.625,4.85,4.2,3.7045,3.0,3.7037,1.8,3.4857,2.35,3.25,3.9091,4.2368,4.7143,4.4167,2.0,1.4545,2.4615,3.1892,3.0385,2.1818,2.9167,3.2368,3.9167,4.7333,4.1565,4.7222,3.8125,4.125,3.5,2.0667,3.0714,1.963,2.963,2.619,4.125,3.6842,3.4286,3.6024,3.1667,4.0833,3.3443,2.2258,3.875,4.2,2.7778,3.95,2.4667,3.0,2.6875,2.6875,5.0,2.2,3.913,3.2917,4.6897,3.4643,4.7692,4.9091,4.2308,3.5385,1.75,2.1463,4.2857,4.0,4.9032,2.7391,2.5,4.7273,3.2,2.8148,2.6667,3.7857,5.0,4.3158,4.3333,3.0746,3.0625,4.75,4.5556,2.9286,4.2353,2.0952,4.9231,4.875,4.0,3.1875,3.1818,3.5385],\"xaxis\":\"x\",\"y\":[165991.71000000002,123336.92,163382.57,81919.04,131174.31,129185.2,92901.82,260731.99,76953.34,65312.78,127538.98,164304.2,179499.1,127356.16,314001.52,93892.58,139087.07,249314.84,189730.77,82620.64,59119.32,110627.88,97688.67,24171.31,71456.47,140589.15,182740.84,112735.11,56304.13,83325.0,96010.86,65220.75,12923.96,164650.41,104894.62,189383.35,92192.08,140307.04,121316.09,59611.25,52520.0,119090.81,142669.96,138650.73,50685.84,222098.91,225008.0,169005.78999999998,151504.67,178372.43,156925.68,10666.2,219584.49,101588.32,69323.45,102564.68,83989.15,80921.41,135869.08,173715.31,126933.43,90074.86,184118.89,127273.25,207505.56,118546.17,148486.36,182708.87,105547.59,343420.83,82537.38,57570.0,87204.35,41423.34,110983.06,33144.56,121629.31,187400.91999999998,166472.84,167976.38,224987.06,102600.36,113911.49,150190.84,61245.39,50685.84,128311.53,164126.96,138768.63,145596.66,320595.01,173584.51,116606.35,109325.5,102334.2,204563.38,203530.44,79697.39,104395.75,55188.43,139040.36,186659.93,103059.12,97254.61,55188.43,77014.78,149333.57,63403.75,81814.2,188269.25,71506.24,123869.09,61245.39,125832.48,170910.76,97906.03,90052.15,126063.19,76451.88,158879.15,65601.98,117495.74,88893.31,52520.0,196175.72,161345.54,38821.88,46291.49,168847.73,152961.54,78493.59,60471.07,133948.65,61946.54,87204.34,138654.0,61946.54,140549.0,87834.44,74620.82,47290.87,99384.0,138256.49,69817.13,76125.22,133712.95,49722.3,124714.81,55188.43,202907.3,96894.81,116778.25,80185.0,104692.0,78043.84,85330.04,84885.47,119903.95,132250.23,139284.02,160969.0,176753.41,115713.34,119958.12,194395.64,109887.82,91014.26,143056.34,262377.25,166039.38,100239.45,190505.51,222940.79,41662.5,127334.24,67190.42,155930.12,57974.0,119251.24,20625.33,16316.07,209486.53,88152.0,144420.16,50685.84,114860.42,144880.13,130083.95,85330.04,158071.16,85004.38,16694.58,68829.62,202216.28,207050.0,111324.63,136712.07,150016.18,74249.67,84812.91,110814.35,247245.53,29278.15,157246.16,79988.59,98434.14,244342.68,12209.26,152237.24,66906.21,98378.25,136052.19,60524.58,51885.93,150073.28,82197.53,15004.03,85330.04,211964.19,112881.19,67632.63,206252.24],\"yaxis\":\"y\",\"type\":\"scatter\"}],                        {\"template\":{\"data\":{\"histogram2dcontour\":[{\"type\":\"histogram2dcontour\",\"colorbar\":{\"outlinewidth\":0,\"ticks\":\"\"},\"colorscale\":[[0.0,\"#0d0887\"],[0.1111111111111111,\"#46039f\"],[0.2222222222222222,\"#7201a8\"],[0.3333333333333333,\"#9c179e\"],[0.4444444444444444,\"#bd3786\"],[0.5555555555555556,\"#d8576b\"],[0.6666666666666666,\"#ed7953\"],[0.7777777777777778,\"#fb9f3a\"],[0.8888888888888888,\"#fdca26\"],[1.0,\"#f0f921\"]]}],\"choropleth\":[{\"type\":\"choropleth\",\"colorbar\":{\"outlinewidth\":0,\"ticks\":\"\"}}],\"histogram2d\":[{\"type\":\"histogram2d\",\"colorbar\":{\"outlinewidth\":0,\"ticks\":\"\"},\"colorscale\":[[0.0,\"#0d0887\"],[0.1111111111111111,\"#46039f\"],[0.2222222222222222,\"#7201a8\"],[0.3333333333333333,\"#9c179e\"],[0.4444444444444444,\"#bd3786\"],[0.5555555555555556,\"#d8576b\"],[0.6666666666666666,\"#ed7953\"],[0.7777777777777778,\"#fb9f3a\"],[0.8888888888888888,\"#fdca26\"],[1.0,\"#f0f921\"]]}],\"heatmap\":[{\"type\":\"heatmap\",\"colorbar\":{\"outlinewidth\":0,\"ticks\":\"\"},\"colorscale\":[[0.0,\"#0d0887\"],[0.1111111111111111,\"#46039f\"],[0.2222222222222222,\"#7201a8\"],[0.3333333333333333,\"#9c179e\"],[0.4444444444444444,\"#bd3786\"],[0.5555555555555556,\"#d8576b\"],[0.6666666666666666,\"#ed7953\"],[0.7777777777777778,\"#fb9f3a\"],[0.8888888888888888,\"#fdca26\"],[1.0,\"#f0f921\"]]}],\"heatmapgl\":[{\"type\":\"heatmapgl\",\"colorbar\":{\"outlinewidth\":0,\"ticks\":\"\"},\"colorscale\":[[0.0,\"#0d0887\"],[0.1111111111111111,\"#46039f\"],[0.2222222222222222,\"#7201a8\"],[0.3333333333333333,\"#9c179e\"],[0.4444444444444444,\"#bd3786\"],[0.5555555555555556,\"#d8576b\"],[0.6666666666666666,\"#ed7953\"],[0.7777777777777778,\"#fb9f3a\"],[0.8888888888888888,\"#fdca26\"],[1.0,\"#f0f921\"]]}],\"contourcarpet\":[{\"type\":\"contourcarpet\",\"colorbar\":{\"outlinewidth\":0,\"ticks\":\"\"}}],\"contour\":[{\"type\":\"contour\",\"colorbar\":{\"outlinewidth\":0,\"ticks\":\"\"},\"colorscale\":[[0.0,\"#0d0887\"],[0.1111111111111111,\"#46039f\"],[0.2222222222222222,\"#7201a8\"],[0.3333333333333333,\"#9c179e\"],[0.4444444444444444,\"#bd3786\"],[0.5555555555555556,\"#d8576b\"],[0.6666666666666666,\"#ed7953\"],[0.7777777777777778,\"#fb9f3a\"],[0.8888888888888888,\"#fdca26\"],[1.0,\"#f0f921\"]]}],\"surface\":[{\"type\":\"surface\",\"colorbar\":{\"outlinewidth\":0,\"ticks\":\"\"},\"colorscale\":[[0.0,\"#0d0887\"],[0.1111111111111111,\"#46039f\"],[0.2222222222222222,\"#7201a8\"],[0.3333333333333333,\"#9c179e\"],[0.4444444444444444,\"#bd3786\"],[0.5555555555555556,\"#d8576b\"],[0.6666666666666666,\"#ed7953\"],[0.7777777777777778,\"#fb9f3a\"],[0.8888888888888888,\"#fdca26\"],[1.0,\"#f0f921\"]]}],\"mesh3d\":[{\"type\":\"mesh3d\",\"colorbar\":{\"outlinewidth\":0,\"ticks\":\"\"}}],\"scatter\":[{\"fillpattern\":{\"fillmode\":\"overlay\",\"size\":10,\"solidity\":0.2},\"type\":\"scatter\"}],\"parcoords\":[{\"type\":\"parcoords\",\"line\":{\"colorbar\":{\"outlinewidth\":0,\"ticks\":\"\"}}}],\"scatterpolargl\":[{\"type\":\"scatterpolargl\",\"marker\":{\"colorbar\":{\"outlinewidth\":0,\"ticks\":\"\"}}}],\"bar\":[{\"error_x\":{\"color\":\"#2a3f5f\"},\"error_y\":{\"color\":\"#2a3f5f\"},\"marker\":{\"line\":{\"color\":\"#E5ECF6\",\"width\":0.5},\"pattern\":{\"fillmode\":\"overlay\",\"size\":10,\"solidity\":0.2}},\"type\":\"bar\"}],\"scattergeo\":[{\"type\":\"scattergeo\",\"marker\":{\"colorbar\":{\"outlinewidth\":0,\"ticks\":\"\"}}}],\"scatterpolar\":[{\"type\":\"scatterpolar\",\"marker\":{\"colorbar\":{\"outlinewidth\":0,\"ticks\":\"\"}}}],\"histogram\":[{\"marker\":{\"pattern\":{\"fillmode\":\"overlay\",\"size\":10,\"solidity\":0.2}},\"type\":\"histogram\"}],\"scattergl\":[{\"type\":\"scattergl\",\"marker\":{\"colorbar\":{\"outlinewidth\":0,\"ticks\":\"\"}}}],\"scatter3d\":[{\"type\":\"scatter3d\",\"line\":{\"colorbar\":{\"outlinewidth\":0,\"ticks\":\"\"}},\"marker\":{\"colorbar\":{\"outlinewidth\":0,\"ticks\":\"\"}}}],\"scattermapbox\":[{\"type\":\"scattermapbox\",\"marker\":{\"colorbar\":{\"outlinewidth\":0,\"ticks\":\"\"}}}],\"scatterternary\":[{\"type\":\"scatterternary\",\"marker\":{\"colorbar\":{\"outlinewidth\":0,\"ticks\":\"\"}}}],\"scattercarpet\":[{\"type\":\"scattercarpet\",\"marker\":{\"colorbar\":{\"outlinewidth\":0,\"ticks\":\"\"}}}],\"carpet\":[{\"aaxis\":{\"endlinecolor\":\"#2a3f5f\",\"gridcolor\":\"white\",\"linecolor\":\"white\",\"minorgridcolor\":\"white\",\"startlinecolor\":\"#2a3f5f\"},\"baxis\":{\"endlinecolor\":\"#2a3f5f\",\"gridcolor\":\"white\",\"linecolor\":\"white\",\"minorgridcolor\":\"white\",\"startlinecolor\":\"#2a3f5f\"},\"type\":\"carpet\"}],\"table\":[{\"cells\":{\"fill\":{\"color\":\"#EBF0F8\"},\"line\":{\"color\":\"white\"}},\"header\":{\"fill\":{\"color\":\"#C8D4E3\"},\"line\":{\"color\":\"white\"}},\"type\":\"table\"}],\"barpolar\":[{\"marker\":{\"line\":{\"color\":\"#E5ECF6\",\"width\":0.5},\"pattern\":{\"fillmode\":\"overlay\",\"size\":10,\"solidity\":0.2}},\"type\":\"barpolar\"}],\"pie\":[{\"automargin\":true,\"type\":\"pie\"}]},\"layout\":{\"autotypenumbers\":\"strict\",\"colorway\":[\"#636efa\",\"#EF553B\",\"#00cc96\",\"#ab63fa\",\"#FFA15A\",\"#19d3f3\",\"#FF6692\",\"#B6E880\",\"#FF97FF\",\"#FECB52\"],\"font\":{\"color\":\"#2a3f5f\"},\"hovermode\":\"closest\",\"hoverlabel\":{\"align\":\"left\"},\"paper_bgcolor\":\"white\",\"plot_bgcolor\":\"#E5ECF6\",\"polar\":{\"bgcolor\":\"#E5ECF6\",\"angularaxis\":{\"gridcolor\":\"white\",\"linecolor\":\"white\",\"ticks\":\"\"},\"radialaxis\":{\"gridcolor\":\"white\",\"linecolor\":\"white\",\"ticks\":\"\"}},\"ternary\":{\"bgcolor\":\"#E5ECF6\",\"aaxis\":{\"gridcolor\":\"white\",\"linecolor\":\"white\",\"ticks\":\"\"},\"baxis\":{\"gridcolor\":\"white\",\"linecolor\":\"white\",\"ticks\":\"\"},\"caxis\":{\"gridcolor\":\"white\",\"linecolor\":\"white\",\"ticks\":\"\"}},\"coloraxis\":{\"colorbar\":{\"outlinewidth\":0,\"ticks\":\"\"}},\"colorscale\":{\"sequential\":[[0.0,\"#0d0887\"],[0.1111111111111111,\"#46039f\"],[0.2222222222222222,\"#7201a8\"],[0.3333333333333333,\"#9c179e\"],[0.4444444444444444,\"#bd3786\"],[0.5555555555555556,\"#d8576b\"],[0.6666666666666666,\"#ed7953\"],[0.7777777777777778,\"#fb9f3a\"],[0.8888888888888888,\"#fdca26\"],[1.0,\"#f0f921\"]],\"sequentialminus\":[[0.0,\"#0d0887\"],[0.1111111111111111,\"#46039f\"],[0.2222222222222222,\"#7201a8\"],[0.3333333333333333,\"#9c179e\"],[0.4444444444444444,\"#bd3786\"],[0.5555555555555556,\"#d8576b\"],[0.6666666666666666,\"#ed7953\"],[0.7777777777777778,\"#fb9f3a\"],[0.8888888888888888,\"#fdca26\"],[1.0,\"#f0f921\"]],\"diverging\":[[0,\"#8e0152\"],[0.1,\"#c51b7d\"],[0.2,\"#de77ae\"],[0.3,\"#f1b6da\"],[0.4,\"#fde0ef\"],[0.5,\"#f7f7f7\"],[0.6,\"#e6f5d0\"],[0.7,\"#b8e186\"],[0.8,\"#7fbc41\"],[0.9,\"#4d9221\"],[1,\"#276419\"]]},\"xaxis\":{\"gridcolor\":\"white\",\"linecolor\":\"white\",\"ticks\":\"\",\"title\":{\"standoff\":15},\"zerolinecolor\":\"white\",\"automargin\":true,\"zerolinewidth\":2},\"yaxis\":{\"gridcolor\":\"white\",\"linecolor\":\"white\",\"ticks\":\"\",\"title\":{\"standoff\":15},\"zerolinecolor\":\"white\",\"automargin\":true,\"zerolinewidth\":2},\"scene\":{\"xaxis\":{\"backgroundcolor\":\"#E5ECF6\",\"gridcolor\":\"white\",\"linecolor\":\"white\",\"showbackground\":true,\"ticks\":\"\",\"zerolinecolor\":\"white\",\"gridwidth\":2},\"yaxis\":{\"backgroundcolor\":\"#E5ECF6\",\"gridcolor\":\"white\",\"linecolor\":\"white\",\"showbackground\":true,\"ticks\":\"\",\"zerolinecolor\":\"white\",\"gridwidth\":2},\"zaxis\":{\"backgroundcolor\":\"#E5ECF6\",\"gridcolor\":\"white\",\"linecolor\":\"white\",\"showbackground\":true,\"ticks\":\"\",\"zerolinecolor\":\"white\",\"gridwidth\":2}},\"shapedefaults\":{\"line\":{\"color\":\"#2a3f5f\"}},\"annotationdefaults\":{\"arrowcolor\":\"#2a3f5f\",\"arrowhead\":0,\"arrowwidth\":1},\"geo\":{\"bgcolor\":\"white\",\"landcolor\":\"#E5ECF6\",\"subunitcolor\":\"white\",\"showland\":true,\"showlakes\":true,\"lakecolor\":\"white\"},\"title\":{\"x\":0.05},\"mapbox\":{\"style\":\"light\"}}},\"xaxis\":{\"anchor\":\"y\",\"domain\":[0.0,1.0],\"title\":{\"text\":\"average_rating\"}},\"yaxis\":{\"anchor\":\"x\",\"domain\":[0.0,1.0],\"title\":{\"text\":\"salary\"}},\"legend\":{\"tracegroupgap\":0},\"margin\":{\"t\":60}},                        {\"responsive\": true}                    ).then(function(){\n",
       "                            \n",
       "var gd = document.getElementById('96fdc3f2-196f-44d7-8f77-1ec08e2dd7fa');\n",
       "var x = new MutationObserver(function (mutations, observer) {{\n",
       "        var display = window.getComputedStyle(gd).display;\n",
       "        if (!display || display === 'none') {{\n",
       "            console.log([gd, 'removed!']);\n",
       "            Plotly.purge(gd);\n",
       "            observer.disconnect();\n",
       "        }}\n",
       "}});\n",
       "\n",
       "// Listen for the removal of the full notebook cells\n",
       "var notebookContainer = gd.closest('#notebook-container');\n",
       "if (notebookContainer) {{\n",
       "    x.observe(notebookContainer, {childList: true});\n",
       "}}\n",
       "\n",
       "// Listen for the clearing of the current output cell\n",
       "var outputEl = gd.closest('.output');\n",
       "if (outputEl) {{\n",
       "    x.observe(outputEl, {childList: true});\n",
       "}}\n",
       "\n",
       "                        })                };                });            </script>        </div>"
      ]
     },
     "metadata": {},
     "output_type": "display_data"
    }
   ],
   "source": [
    "sns.regplot(\n",
    "    data=tmp[tmp[\"num_reviews\"] > 10],\n",
    "    x=\"average_rating\",\n",
    "    y=\"salary\",\n",
    "    line_kws={\"color\": \"red\"},\n",
    "    fit_reg=True\n",
    ")"
   ]
  }
 ],
 "metadata": {
  "kernelspec": {
   "display_name": "Python 3.10.4 ('venv': venv)",
   "language": "python",
   "name": "python3"
  },
  "language_info": {
   "codemirror_mode": {
    "name": "ipython",
    "version": 3
   },
   "file_extension": ".py",
   "mimetype": "text/x-python",
   "name": "python",
   "nbconvert_exporter": "python",
   "pygments_lexer": "ipython3",
   "version": "3.10.4"
  },
  "orig_nbformat": 4,
  "vscode": {
   "interpreter": {
    "hash": "13d129f0529367b43cfbaaa521e817dd7f30709f1b5d389f91861c0b0b5c7710"
   }
  }
 },
 "nbformat": 4,
 "nbformat_minor": 2
}
